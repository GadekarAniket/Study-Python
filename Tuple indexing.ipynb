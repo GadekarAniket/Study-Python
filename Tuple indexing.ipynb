{
 "cells": [
  {
   "cell_type": "markdown",
   "id": "6494a013",
   "metadata": {},
   "source": [
    "# What is tuple?"
   ]
  },
  {
   "cell_type": "markdown",
   "id": "f82583dc",
   "metadata": {},
   "source": [
    "# tuple is the use are only form ( )."
   ]
  },
  {
   "cell_type": "markdown",
   "id": "8cd8a972",
   "metadata": {},
   "source": [
    "Tuple is the seperated quamma."
   ]
  },
  {
   "cell_type": "code",
   "execution_count": 1,
   "id": "a06af250",
   "metadata": {},
   "outputs": [
    {
     "name": "stdout",
     "output_type": "stream",
     "text": [
      "(1, 2, 3, 4, 5, 6, 7, 8)\n"
     ]
    }
   ],
   "source": [
    "my_first_tuple = (1,2,3,4,5,6,7,8)\n",
    "print(my_first_tuple)"
   ]
  },
  {
   "cell_type": "code",
   "execution_count": 2,
   "id": "0acec49c",
   "metadata": {},
   "outputs": [
    {
     "data": {
      "text/plain": [
       "tuple"
      ]
     },
     "execution_count": 2,
     "metadata": {},
     "output_type": "execute_result"
    }
   ],
   "source": [
    "type(my_first_tuple)"
   ]
  },
  {
   "cell_type": "code",
   "execution_count": 3,
   "id": "9a32698d",
   "metadata": {},
   "outputs": [
    {
     "data": {
      "text/plain": [
       "8"
      ]
     },
     "execution_count": 3,
     "metadata": {},
     "output_type": "execute_result"
    }
   ],
   "source": [
    "len(my_first_tuple)"
   ]
  },
  {
   "cell_type": "markdown",
   "id": "8efae37b",
   "metadata": {},
   "source": [
    "# Tuple indexing\n"
   ]
  },
  {
   "cell_type": "markdown",
   "id": "9180d94f",
   "metadata": {},
   "source": [
    "Tuple indexing begins from 0 in python. indexing work just like in lists first elements is assigned an index 0, as second element is assigned index 1 and so on and so further. \n",
    "A tuple index refers to the location of an elements in a tuple."
   ]
  },
  {
   "cell_type": "markdown",
   "id": "ae42448c",
   "metadata": {},
   "source": [
    "forword indexing are mentioning 0\n",
    "\n",
    "\n",
    "\n",
    "reverse indexing are mentioning -1"
   ]
  },
  {
   "cell_type": "markdown",
   "id": "6a8aef1d",
   "metadata": {},
   "source": [
    "    0      1   2  3   4   5    \n",
    "( 'one', 'two',2,4.53,5,'asbc')"
   ]
  },
  {
   "cell_type": "code",
   "execution_count": 7,
   "id": "52bb26e7",
   "metadata": {},
   "outputs": [
    {
     "data": {
      "text/plain": [
       "('one', 'two', 2, 4.53, 5, 'asbc')"
      ]
     },
     "execution_count": 7,
     "metadata": {},
     "output_type": "execute_result"
    }
   ],
   "source": [
    "my_second_tuple = ('one', 'two',2,4.53,5,'asbc')\n",
    "#show\n",
    "my_second_tuple"
   ]
  },
  {
   "cell_type": "code",
   "execution_count": 8,
   "id": "8d78c96b",
   "metadata": {},
   "outputs": [
    {
     "data": {
      "text/plain": [
       "2"
      ]
     },
     "execution_count": 8,
     "metadata": {},
     "output_type": "execute_result"
    }
   ],
   "source": [
    "my_second_tuple[2]"
   ]
  },
  {
   "cell_type": "code",
   "execution_count": 9,
   "id": "36011345",
   "metadata": {},
   "outputs": [
    {
     "data": {
      "text/plain": [
       "4.53"
      ]
     },
     "execution_count": 9,
     "metadata": {},
     "output_type": "execute_result"
    }
   ],
   "source": [
    "my_second_tuple[3]"
   ]
  },
  {
   "cell_type": "code",
   "execution_count": 10,
   "id": "360d713b",
   "metadata": {},
   "outputs": [
    {
     "data": {
      "text/plain": [
       "5"
      ]
     },
     "execution_count": 10,
     "metadata": {},
     "output_type": "execute_result"
    }
   ],
   "source": [
    "my_second_tuple[-2]"
   ]
  },
  {
   "cell_type": "code",
   "execution_count": 11,
   "id": "c26df072",
   "metadata": {},
   "outputs": [
    {
     "data": {
      "text/plain": [
       "'two'"
      ]
     },
     "execution_count": 11,
     "metadata": {},
     "output_type": "execute_result"
    }
   ],
   "source": [
    "my_second_tuple[-5]"
   ]
  },
  {
   "cell_type": "code",
   "execution_count": 12,
   "id": "dcac1b20",
   "metadata": {},
   "outputs": [
    {
     "ename": "IndexError",
     "evalue": "tuple index out of range",
     "output_type": "error",
     "traceback": [
      "\u001b[1;31m---------------------------------------------------------------------------\u001b[0m",
      "\u001b[1;31mIndexError\u001b[0m                                Traceback (most recent call last)",
      "Cell \u001b[1;32mIn[12], line 1\u001b[0m\n\u001b[1;32m----> 1\u001b[0m my_second_tuple[\u001b[38;5;241m-\u001b[39m\u001b[38;5;241m10\u001b[39m]\n",
      "\u001b[1;31mIndexError\u001b[0m: tuple index out of range"
     ]
    }
   ],
   "source": [
    "my_second_tuple[-10]"
   ]
  },
  {
   "cell_type": "markdown",
   "id": "c3f8aafa",
   "metadata": {},
   "source": [
    "# Tuple Slicing"
   ]
  },
  {
   "cell_type": "markdown",
   "id": "a1cb925c",
   "metadata": {},
   "source": [
    "We can use a : to perform slicing which grabs everything up to a designated point"
   ]
  },
  {
   "cell_type": "markdown",
   "id": "d93d6c59",
   "metadata": {},
   "source": [
    "(starting index) left:right(ending index)"
   ]
  },
  {
   "cell_type": "markdown",
   "id": "4d748858",
   "metadata": {},
   "source": [
    "Remember the element located at the right index is not included."
   ]
  },
  {
   "cell_type": "code",
   "execution_count": 13,
   "id": "83a13346",
   "metadata": {},
   "outputs": [
    {
     "name": "stdout",
     "output_type": "stream",
     "text": [
      "('one', 'two', 2, 4.53, 5, 'asbc')\n"
     ]
    }
   ],
   "source": [
    "my_second_tuple = ('one', 'two',2,4.53,5,'asbc')\n",
    "print(my_second_tuple)"
   ]
  },
  {
   "cell_type": "code",
   "execution_count": 14,
   "id": "8eeb409a",
   "metadata": {},
   "outputs": [
    {
     "data": {
      "text/plain": [
       "('two', 2)"
      ]
     },
     "execution_count": 14,
     "metadata": {},
     "output_type": "execute_result"
    }
   ],
   "source": [
    "my_second_tuple[1:3]"
   ]
  },
  {
   "cell_type": "code",
   "execution_count": 15,
   "id": "46d795bf",
   "metadata": {},
   "outputs": [
    {
     "data": {
      "text/plain": [
       "(2, 4.53, 5)"
      ]
     },
     "execution_count": 15,
     "metadata": {},
     "output_type": "execute_result"
    }
   ],
   "source": [
    "my_second_tuple[2:5]"
   ]
  },
  {
   "cell_type": "code",
   "execution_count": 16,
   "id": "43458611",
   "metadata": {},
   "outputs": [
    {
     "data": {
      "text/plain": [
       "('two', 2, 4.53, 5, 'asbc')"
      ]
     },
     "execution_count": 16,
     "metadata": {},
     "output_type": "execute_result"
    }
   ],
   "source": [
    "my_second_tuple[1:]"
   ]
  },
  {
   "cell_type": "code",
   "execution_count": 17,
   "id": "be0761ab",
   "metadata": {},
   "outputs": [
    {
     "data": {
      "text/plain": [
       "('one', 'two', 2, 4.53, 5, 'asbc')"
      ]
     },
     "execution_count": 17,
     "metadata": {},
     "output_type": "execute_result"
    }
   ],
   "source": [
    "my_second_tuple[:6]"
   ]
  },
  {
   "cell_type": "code",
   "execution_count": 18,
   "id": "a2173bea",
   "metadata": {},
   "outputs": [
    {
     "data": {
      "text/plain": [
       "('one', 'two', 2)"
      ]
     },
     "execution_count": 18,
     "metadata": {},
     "output_type": "execute_result"
    }
   ],
   "source": [
    "my_second_tuple[:3]"
   ]
  },
  {
   "cell_type": "code",
   "execution_count": 19,
   "id": "16ad4eff",
   "metadata": {},
   "outputs": [
    {
     "data": {
      "text/plain": [
       "('one', 'two', 2)"
      ]
     },
     "execution_count": 19,
     "metadata": {},
     "output_type": "execute_result"
    }
   ],
   "source": [
    "my_second_tuple[-6:-3]"
   ]
  },
  {
   "cell_type": "code",
   "execution_count": 20,
   "id": "9fe4c441",
   "metadata": {},
   "outputs": [
    {
     "data": {
      "text/plain": [
       "('one', 'two', 2)"
      ]
     },
     "execution_count": 20,
     "metadata": {},
     "output_type": "execute_result"
    }
   ],
   "source": [
    "my_second_tuple[:-3]"
   ]
  },
  {
   "cell_type": "code",
   "execution_count": 21,
   "id": "de901bff",
   "metadata": {},
   "outputs": [
    {
     "data": {
      "text/plain": [
       "('two', 2, 4.53, 5)"
      ]
     },
     "execution_count": 21,
     "metadata": {},
     "output_type": "execute_result"
    }
   ],
   "source": [
    "my_second_tuple[-5:-1]"
   ]
  },
  {
   "cell_type": "code",
   "execution_count": 22,
   "id": "d44bd0b5",
   "metadata": {},
   "outputs": [
    {
     "data": {
      "text/plain": [
       "6"
      ]
     },
     "execution_count": 22,
     "metadata": {},
     "output_type": "execute_result"
    }
   ],
   "source": [
    "len(my_second_tuple)"
   ]
  },
  {
   "cell_type": "markdown",
   "id": "a172de56",
   "metadata": {},
   "source": [
    "# Tuple Methods"
   ]
  },
  {
   "cell_type": "markdown",
   "id": "a024803b",
   "metadata": {},
   "source": [
    "Tuples have built-in methods, but not as many as lists do."
   ]
  },
  {
   "cell_type": "markdown",
   "id": "aca989b0",
   "metadata": {},
   "source": [
    "# Index()"
   ]
  },
  {
   "cell_type": "markdown",
   "id": "231c9171",
   "metadata": {},
   "source": [
    "The index() method returns the index of a specified elements."
   ]
  },
  {
   "cell_type": "code",
   "execution_count": 23,
   "id": "e4714e66",
   "metadata": {},
   "outputs": [
    {
     "name": "stdout",
     "output_type": "stream",
     "text": [
      "(2, 3, 3, 3, 4, 4, 4, 5, 5, 3, 2, 3, 4, 4)\n"
     ]
    }
   ],
   "source": [
    "index_typle = (2,3,3,3,4,4,4,5,5,3,2,3,4,4)\n",
    "print(index_typle)"
   ]
  },
  {
   "cell_type": "code",
   "execution_count": 24,
   "id": "d1d9b6ab",
   "metadata": {},
   "outputs": [
    {
     "data": {
      "text/plain": [
       "4"
      ]
     },
     "execution_count": 24,
     "metadata": {},
     "output_type": "execute_result"
    }
   ],
   "source": [
    "#use. index to enter a value and return the index\n",
    "index_typle.index(4)"
   ]
  },
  {
   "cell_type": "code",
   "execution_count": 25,
   "id": "020456f0",
   "metadata": {},
   "outputs": [
    {
     "data": {
      "text/plain": [
       "1"
      ]
     },
     "execution_count": 25,
     "metadata": {},
     "output_type": "execute_result"
    }
   ],
   "source": [
    "index_typle.index(3)"
   ]
  },
  {
   "cell_type": "markdown",
   "id": "4e73cd00",
   "metadata": {},
   "source": [
    "# Count"
   ]
  },
  {
   "cell_type": "markdown",
   "id": "8f11b40f",
   "metadata": {},
   "source": [
    "The count() method returns the total occurrence of a specified elements in a tuple."
   ]
  },
  {
   "cell_type": "code",
   "execution_count": 27,
   "id": "190d61dd",
   "metadata": {},
   "outputs": [
    {
     "name": "stdout",
     "output_type": "stream",
     "text": [
      "(1, 2, 4, 5, 6, 7, 3, 2, 5, 7, 8, 9, 8, 8)\n"
     ]
    }
   ],
   "source": [
    "index_tuple = (1,2,4,5,6,7,3,2,5,7,8,9,8,8)\n",
    "print(index_tuple)"
   ]
  },
  {
   "cell_type": "code",
   "execution_count": 28,
   "id": "7d31311e",
   "metadata": {},
   "outputs": [
    {
     "data": {
      "text/plain": [
       "2"
      ]
     },
     "execution_count": 28,
     "metadata": {},
     "output_type": "execute_result"
    }
   ],
   "source": [
    "index_tuple.count(2)"
   ]
  },
  {
   "cell_type": "code",
   "execution_count": 29,
   "id": "d074aef2",
   "metadata": {},
   "outputs": [
    {
     "data": {
      "text/plain": [
       "3"
      ]
     },
     "execution_count": 29,
     "metadata": {},
     "output_type": "execute_result"
    }
   ],
   "source": [
    "index_tuple.count(8)"
   ]
  },
  {
   "cell_type": "markdown",
   "id": "dccb00c5",
   "metadata": {},
   "source": [
    "# Immutability"
   ]
  },
  {
   "cell_type": "markdown",
   "id": "dce58089",
   "metadata": {},
   "source": [
    "it can't be stressed enough that tuple are immutable."
   ]
  },
  {
   "cell_type": "code",
   "execution_count": 30,
   "id": "543134cd",
   "metadata": {},
   "outputs": [
    {
     "name": "stdout",
     "output_type": "stream",
     "text": [
      "(1, 2, 4, 5, 6, 7, 3, 2, 5, 7, 8, 9, 8, 8)\n"
     ]
    }
   ],
   "source": [
    "print(index_tuple)"
   ]
  },
  {
   "cell_type": "code",
   "execution_count": 31,
   "id": "b6c0284b",
   "metadata": {},
   "outputs": [
    {
     "data": {
      "text/plain": [
       "7"
      ]
     },
     "execution_count": 31,
     "metadata": {},
     "output_type": "execute_result"
    }
   ],
   "source": [
    "index_tuple[5]"
   ]
  },
  {
   "cell_type": "code",
   "execution_count": 32,
   "id": "fbc70b90",
   "metadata": {},
   "outputs": [
    {
     "ename": "TypeError",
     "evalue": "'tuple' object does not support item assignment",
     "output_type": "error",
     "traceback": [
      "\u001b[1;31m---------------------------------------------------------------------------\u001b[0m",
      "\u001b[1;31mTypeError\u001b[0m                                 Traceback (most recent call last)",
      "Cell \u001b[1;32mIn[32], line 1\u001b[0m\n\u001b[1;32m----> 1\u001b[0m index_tuple[\u001b[38;5;241m0\u001b[39m] \u001b[38;5;241m=\u001b[39m \u001b[38;5;124m'\u001b[39m\u001b[38;5;124mchange\u001b[39m\u001b[38;5;124m'\u001b[39m\n",
      "\u001b[1;31mTypeError\u001b[0m: 'tuple' object does not support item assignment"
     ]
    }
   ],
   "source": [
    "index_tuple[0] = 'change'"
   ]
  },
  {
   "cell_type": "code",
   "execution_count": 33,
   "id": "aad5430f",
   "metadata": {},
   "outputs": [
    {
     "name": "stdout",
     "output_type": "stream",
     "text": [
      "[1, 2, 3, 3, 4, 5, 8]\n"
     ]
    }
   ],
   "source": [
    "my_list = [1,2,3,3,4,5,8]\n",
    "print(my_list)"
   ]
  },
  {
   "cell_type": "code",
   "execution_count": 34,
   "id": "c8962991",
   "metadata": {},
   "outputs": [],
   "source": [
    "#Replace\n",
    "#Replace the FIRST element with the value 1"
   ]
  },
  {
   "cell_type": "code",
   "execution_count": 36,
   "id": "abc4dc88",
   "metadata": {},
   "outputs": [],
   "source": [
    "my_list[0] = 'string'"
   ]
  },
  {
   "cell_type": "code",
   "execution_count": 37,
   "id": "1c94950a",
   "metadata": {},
   "outputs": [
    {
     "data": {
      "text/plain": [
       "['string', 2, 3, 3, 4, 5, 8]"
      ]
     },
     "execution_count": 37,
     "metadata": {},
     "output_type": "execute_result"
    }
   ],
   "source": [
    "#our modified list \n",
    "my_list"
   ]
  },
  {
   "cell_type": "code",
   "execution_count": 43,
   "id": "46697251",
   "metadata": {},
   "outputs": [
    {
     "name": "stdout",
     "output_type": "stream",
     "text": [
      "[12, 3, 4, 5, 6]\n"
     ]
    }
   ],
   "source": [
    "my_list_4 = [12,3,4,5,6]\n",
    "print(my_list_4)"
   ]
  },
  {
   "cell_type": "code",
   "execution_count": 44,
   "id": "f7aff4b4",
   "metadata": {},
   "outputs": [],
   "source": [
    "my_list_4[0] = \"Shubham\""
   ]
  },
  {
   "cell_type": "code",
   "execution_count": 45,
   "id": "372875d2",
   "metadata": {},
   "outputs": [
    {
     "data": {
      "text/plain": [
       "['Shubham', 3, 4, 5, 6]"
      ]
     },
     "execution_count": 45,
     "metadata": {},
     "output_type": "execute_result"
    }
   ],
   "source": [
    "#print our modified list \n",
    "my_list_4"
   ]
  },
  {
   "cell_type": "code",
   "execution_count": 46,
   "id": "c59b5f9c",
   "metadata": {},
   "outputs": [],
   "source": [
    "my_list_4[3] = 'Aniket'"
   ]
  },
  {
   "cell_type": "code",
   "execution_count": 47,
   "id": "c639ca90",
   "metadata": {},
   "outputs": [
    {
     "data": {
      "text/plain": [
       "['Shubham', 3, 4, 'Aniket', 6]"
      ]
     },
     "execution_count": 47,
     "metadata": {},
     "output_type": "execute_result"
    }
   ],
   "source": [
    "#print our modified list \n",
    "my_list_4"
   ]
  },
  {
   "cell_type": "code",
   "execution_count": null,
   "id": "9430bacd",
   "metadata": {},
   "outputs": [],
   "source": []
  }
 ],
 "metadata": {
  "kernelspec": {
   "display_name": "Python 3 (ipykernel)",
   "language": "python",
   "name": "python3"
  },
  "language_info": {
   "codemirror_mode": {
    "name": "ipython",
    "version": 3
   },
   "file_extension": ".py",
   "mimetype": "text/x-python",
   "name": "python",
   "nbconvert_exporter": "python",
   "pygments_lexer": "ipython3",
   "version": "3.11.3"
  }
 },
 "nbformat": 4,
 "nbformat_minor": 5
}
