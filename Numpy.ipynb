{
 "cells": [
  {
   "cell_type": "markdown",
   "id": "a9ea6d64",
   "metadata": {},
   "source": [
    "# Numpy"
   ]
  },
  {
   "cell_type": "markdown",
   "id": "781f5e63",
   "metadata": {},
   "source": [
    "Numpy is the fundamental package for scientific computing in python. it is a python library that provides a multidimensional array object,\n",
    "various derived objects(Such as masked arrays and matrices), and as assortment of routines for fast operations on arrays, including mathematical, \n",
    "logical, shape manipulation , sorting, I/O, discrete fourier transforms, basic linear algrbra, basic statistical operations, random \n",
    "simulation and much more.\n",
    "\n",
    "At the core of the numpy package, is ndarry object. This encapsulates n-dimensional arrays of homogeneous data types, wioth many operations\n",
    "being performed in compiled code for performance. There are homogeneous data types,with many operations being performed in compiled code for \n",
    "performance. There are several differences between numpy arrays and the standard python sequences:\n",
    "    \n",
    "Numpy arrays have a fixed sixe at creation , unlike python lists(Which can grow dynamically). Changingnthe size of an ndarray will create a\n",
    "new array and delete the original. The elements in a numpy array are all required  to be of the same data type.and thus will be the same size in memory. \n",
    "\n",
    "The exception: One can have arrays of (Python, including numpy) objects, there by allowing for arrays of different size elements.\n",
    "    \n",
    "Numpy arrays facilite advanced mathematical can other types of operations on large numbers of data. Typically, such operations are executed \n",
    "more efficiently and with less code than is possible using python's built-in sequences.\n",
    "\n",
    "A growing plethora of scientific and mathematical python - based packages are using numpy arrays through these typically support python - sequence input,\n",
    "they convert such input to numpy arrays prior to processing, and they often output numpy arrays. in other words, in order to efficiently use much (perhaps even most)\n",
    "of today's scientific/mathematical python- based software, just knowing how to use python's built-in sequence types insufficent - one also needs\n",
    "to know how to use numpy arays.\n",
    "\n",
    "The points about sequence size and speed are particularly important in scientific computing. as a simple example, consider the case of multiplying each element in a 1-D sequence with the \n",
    "corresponding elements in another sequence of the same length. If the data are stored in two python lists, a and b, we could iterate \n",
    "over each elements."
   ]
  },
  {
   "cell_type": "markdown",
   "id": "ddeeaa04",
   "metadata": {},
   "source": [
    "**This produces the correct answer, but if a and b each contin millions of numbers, we will pay the price for the ineffeciencies of looping in python. we \n",
    "could accomplish the same task much more quickly in c by writting (for clarity we neglect variable declaration and initializations, memory allocation, etc.)**"
   ]
  },
  {
   "cell_type": "markdown",
   "id": "fa5698fd",
   "metadata": {},
   "source": [
    "numpy is general-purpose array-processing package. it provides a high-performance multi dimensional array object and tools for working \n",
    "with these arrays. it is the fundamental package for scientific computing with python. it is open-source software. it contains various features including these important onces:"
   ]
  },
  {
   "cell_type": "markdown",
   "id": "05ce11e1",
   "metadata": {},
   "source": [
    "# Uses for numpy"
   ]
  },
  {
   "cell_type": "markdown",
   "id": "ee9f269c",
   "metadata": {},
   "source": [
    "1. A powerful N-dimensional array object.\n",
    "\n",
    "2. Sophisticated (broadcasting) funtions.\n",
    "\n",
    "3. Tools for integrating C/C++ and fortran code.\n",
    "\n",
    "4. Useful linear algebra, fourier transform, and random number capabilities.\n",
    "\n"
   ]
  },
  {
   "cell_type": "markdown",
   "id": "8b37b70e",
   "metadata": {},
   "source": [
    "esides its obvious scientific uses, Numpy in python can also be used as an efficient multi-dimentional container of generic data. Aritrary data types can be defined using numpy which allows numpy to seamlessly and speedily integrate with a wide variety of databases."
   ]
  },
  {
   "cell_type": "markdown",
   "id": "e1619557",
   "metadata": {},
   "source": [
    "1.  It is a table of elements (usually numbers), all the same type, indexed by  a tuple of positive integers.\n",
    "\n",
    "2.  In numpy, dimensions are called axes. the number of axes is rank.\n",
    "\n",
    "3.  Numpy's array class is called ndarray. it is also known by the alias array.\n",
    "\n"
   ]
  },
  {
   "cell_type": "markdown",
   "id": "cf8c3d89",
   "metadata": {},
   "source": [
    "**Examples:**\n",
    "\n",
    "In this examples, we are creating a two- dimensional array which has it has 2 axis. The first axis(dimension) is of leangth 2.\n",
    "i.e., the number of row, and the second axis(dimension) is of length 3, i.e., the number of columns. The overall shape of the array can be represented as (2,3). "
   ]
  },
  {
   "cell_type": "markdown",
   "id": "bcf96bd9",
   "metadata": {},
   "source": [
    "**Arrays in Numpy**"
   ]
  },
  {
   "cell_type": "code",
   "execution_count": 22,
   "id": "6b24344b",
   "metadata": {},
   "outputs": [
    {
     "name": "stdout",
     "output_type": "stream",
     "text": [
      "Array is of type: <class 'numpy.ndarray'>\n",
      "No. of dimension: 2\n",
      "Shape of array: (2, 3)\n",
      "Size of array: 6\n",
      "Array stores elements of type: int32\n"
     ]
    }
   ],
   "source": [
    "import numpy as np\n",
    "\n",
    "#creating array object\n",
    "arr = np.array([[1,2,3], [4,2,5]])\n",
    "\n",
    "#print type of arr object\n",
    "print(\"Array is of type:\", type(arr))\n",
    "\n",
    "#print array dimensions (axes)\n",
    "print(\"No. of dimension:\", arr.ndim)\n",
    "\n",
    "#print shape of array\n",
    "print(\"Shape of array:\", arr.shape)\n",
    "\n",
    "#print size (Total number of elements) of array\n",
    "print(\"Size of array:\", arr.size)\n",
    "\n",
    "#printing type of elements in array\n",
    "print(\"Array stores elements of type:\", arr.dtype)"
   ]
  },
  {
   "cell_type": "code",
   "execution_count": 4,
   "id": "e87ffc26",
   "metadata": {},
   "outputs": [
    {
     "name": "stdout",
     "output_type": "stream",
     "text": [
      "Array is of type: <class 'numpy.ndarray'>\n",
      "No. of dimension: 2\n",
      "Shape of array: (2, 4)\n",
      "Size of array: 8\n",
      "Array stores elements of type: int32\n"
     ]
    }
   ],
   "source": [
    "aniket = np.array([[11,22,33,44], [8,64,9,81]])\n",
    "\n",
    "#print type of arr object\n",
    "print(\"Array is of type:\", type(aniket))\n",
    "\n",
    "#print array dimensions (axes)\n",
    "print(\"No. of dimension:\", aniket.ndim)\n",
    "\n",
    "#print shape of array\n",
    "print(\"Shape of array:\", aniket.shape)\n",
    "\n",
    "#print size (Total number of elements) of array\n",
    "print(\"Size of array:\", aniket.size)\n",
    "\n",
    "#printing type of elements in array\n",
    "print(\"Array stores elements of type:\", aniket.dtype)"
   ]
  },
  {
   "cell_type": "code",
   "execution_count": 54,
   "id": "b1e62634",
   "metadata": {},
   "outputs": [
    {
     "name": "stdout",
     "output_type": "stream",
     "text": [
      "Array is of type: <class 'numpy.ndarray'>\n",
      "No. of dimension: 3\n",
      "Shape of array: (2, 2, 5)\n",
      "Size of array: 20\n",
      "Array stores elements of type: int32\n"
     ]
    },
    {
     "data": {
      "text/plain": [
       "array([[[121, 195, 817, 151, 471],\n",
       "        [159, 874, 963, 524, 846]],\n",
       "\n",
       "       [[487, 856, 987, 415, 265],\n",
       "        [456, 854, 957, 115, 765]]])"
      ]
     },
     "execution_count": 54,
     "metadata": {},
     "output_type": "execute_result"
    }
   ],
   "source": [
    "gadekar = np.array([[[121,195,817,151,471],[159,874,963,524,846]],[[487,856,987,415,265],[456,854,957,115,765]]])\n",
    "\n",
    "#print type of arr object\n",
    "print(\"Array is of type:\", type(gadekar))\n",
    "\n",
    "#print array dimensions (axes)\n",
    "print(\"No. of dimension:\", gadekar.ndim)\n",
    "\n",
    "#print shape of array\n",
    "print(\"Shape of array:\", gadekar.shape)\n",
    "\n",
    "#print size (Total number of elements) of array\n",
    "print(\"Size of array:\", gadekar.size)\n",
    "\n",
    "#printing type of elements in array\n",
    "print(\"Array stores elements of type:\", gadekar.dtype)\n",
    "\n",
    "gadekar"
   ]
  },
  {
   "cell_type": "code",
   "execution_count": 25,
   "id": "5e6092c3",
   "metadata": {},
   "outputs": [
    {
     "name": "stdout",
     "output_type": "stream",
     "text": [
      "Array created using passed list:\n",
      " [[1. 2. 4.]\n",
      " [5. 8. 7.]]\n",
      "\n",
      "Array created using passed typle:\n",
      " [1 3 2]\n",
      "\n",
      "An array initialized with all zeros:\n",
      " [[0. 0. 0. 0.]\n",
      " [0. 0. 0. 0.]\n",
      " [0. 0. 0. 0.]]\n",
      "\n",
      "An array initialized with all 6s.Array type is complex:\n",
      " [[6.+0.j 6.+0.j 6.+0.j]\n",
      " [6.+0.j 6.+0.j 6.+0.j]\n",
      " [6.+0.j 6.+0.j 6.+0.j]]\n",
      "\n",
      "A Random array\n",
      ": [[0.91730229 0.89180734]\n",
      " [0.66869466 0.94562681]]\n",
      "\n",
      "A Sequential array with steps of 5\n",
      ": [ 0  5 10 15 20 25]\n",
      "\n",
      "A Sequential array with 10 values between0 to 5\n",
      ": [0.         0.55555556 1.11111111 1.66666667 2.22222222 2.77777778\n",
      " 3.33333333 3.88888889 4.44444444 5.        ]\n",
      "\n",
      "Original array:\n",
      " [[1 2 3 4]\n",
      " [5 2 4 2]\n",
      " [1 2 0 1]]\n",
      "Reshaped array:\n",
      " [[[1 2 3]\n",
      "  [4 5 2]]\n",
      "\n",
      " [[4 2 1]\n",
      "  [2 0 1]]]\n",
      "\n",
      "Original array:\n",
      " [[1 2 3]\n",
      " [4 5 6]]\n",
      "Fattened array:\n",
      " [1 2 3 4 5 6]\n"
     ]
    }
   ],
   "source": [
    "import numpy as np\n",
    "\n",
    "#creating array from list with type float\n",
    "a = np.array([[1,2,4], [5,8,7]],dtype = 'float')\n",
    "print(\"Array created using passed list:\\n\",a)\n",
    "\n",
    "#creating array from tuple\n",
    "b = np.array((1,3,2))\n",
    "print(\"\\nArray created using passed typle:\\n\", b)\n",
    "\n",
    "#creating a 3x4 array with all zeros\n",
    "c = np.zeros((3,4))\n",
    "print(\"\\nAn array initialized with all zeros:\\n\", c)\n",
    "\n",
    "#creating a constant value array of complex type #3 rows and 3 colums (3,3)\n",
    "d = np.full((3,3),6, dtype = 'complex')\n",
    "print(\"\\nAn array initialized with all 6s.\"\n",
    "      \"Array type is complex:\\n\", d)\n",
    "\n",
    "#craete an array with random values \n",
    "e = np.random.random((2,2))\n",
    "print(\"\\nA Random array\\n:\", e)\n",
    "\n",
    "#create a sequence of integers\n",
    "#from 0 to 30 with steps of 5\n",
    "f = np.arange(0,30,5)\n",
    "print(\"\\nA Sequential array with steps of 5\\n:\", f)\n",
    "\n",
    "#create a sequence of 10 values in range of 0 to 5.\n",
    "g = np.linspace(0,5,10)\n",
    "print(\"\\nA Sequential array with 10 values between\"\n",
    "      \"0 to 5\\n:\", g)\n",
    "\n",
    "# Reshaping 3x4 array to 2x2x3 array #2 row 2 row 3 colums\n",
    "arr= np.array([[1,2,3,4],\n",
    "              [5,2,4,2],\n",
    "              [1,2,0,1]])\n",
    "\n",
    "newarr= arr.reshape(2,2,3)\n",
    "\n",
    "print(\"\\nOriginal array:\\n\", arr)\n",
    "print(\"Reshaped array:\\n\", newarr)\n",
    "\n",
    "#Flatten array\n",
    "arr = np.array([[1,2,3],[4,5,6]])\n",
    "flarr = arr.flatten()\n",
    "\n",
    "print(\"\\nOriginal array:\\n\", arr)\n",
    "print(\"Fattened array:\\n\", flarr)\n",
    "\n"
   ]
  },
  {
   "cell_type": "markdown",
   "id": "01880456",
   "metadata": {},
   "source": [
    "# Numpy Array Indexing"
   ]
  },
  {
   "cell_type": "markdown",
   "id": "830a0a5e",
   "metadata": {},
   "source": [
    "Knowing the basics of numpy array in indexing is important for analyzing and manipulating the array objects. Numpy in python offers many ways to do array indexing.\n",
    "\n",
    "Slicing - Just like lists in python. numpy array can be sliced. as arrays can be multidimensional. you need to specify a slice for each dimension of the array.\n",
    "\n",
    "Integer array indexing - In this method, lists are passed for indexing for each dimension. One-to-one mapping of corresponding. elements is done to consutruct a new \n",
    "arbitary array.\n",
    "\n",
    "Boolean array indexing - This method is used when we want to pick elements from the array which satisfy some condition."
   ]
  },
  {
   "cell_type": "code",
   "execution_count": 30,
   "id": "0d6cbbbf",
   "metadata": {},
   "outputs": [
    {
     "name": "stdout",
     "output_type": "stream",
     "text": [
      "Array with first 3 rows and alternatecoloumns(0,3):\n",
      " [[ 5.   9. ]\n",
      " [ 5.   9.8]\n",
      " [ 2.6 86. ]]\n",
      "Array with first 3 rows and alternatecoloumns(0,3):\n",
      " [[ 5. -9.]\n",
      " [ 5. -9.]]\n",
      "\n",
      "Elements at indices (0,3), (1,2),(2,1),(3,0):\n",
      " [-9.   9.8 -9.  -9. ]\n",
      "\n",
      "Elements greater than 0:\n",
      " [ 5.   8.6  9.   5.   6.   9.8  2.6 86.   5.  63.   8.9  7. ]\n"
     ]
    }
   ],
   "source": [
    "#indexing in numpy\n",
    "import numpy as np\n",
    "\n",
    "# An example array\n",
    "arr = np.array([[5,8.6,9,-9],\n",
    "               [5,6,9.8,-9],\n",
    "               [2.6,-9,86,5],\n",
    "               [-9,63,8.9,7]])\n",
    "\n",
    "#slicing array\n",
    "temp = arr[:3,::2]\n",
    "print(\"Array with first 3 rows and alternate\"\n",
    "     \"coloumns(0,3):\\n\", temp)\n",
    "\n",
    "temp = arr[:2,::3]\n",
    "print(\"Array with first 3 rows and alternate\"\n",
    "     \"coloumns(0,3):\\n\", temp)\n",
    "\n",
    "#Integer array indexing example\n",
    "\n",
    "temp = arr[[0,1,2,3],[3,2,1,0]]\n",
    "print(\"\\nElements at indices (0,3), (1,2),(2,1),\"\n",
    "     \"(3,0):\\n\", temp)\n",
    "\n",
    "#boolean array indexing examples\n",
    "cond = arr > 0 #cond is a boolean array\n",
    "temp = arr[cond]\n",
    "print(\"\\nElements greater than 0:\\n\", temp)"
   ]
  },
  {
   "cell_type": "code",
   "execution_count": 49,
   "id": "5721682f",
   "metadata": {},
   "outputs": [
    {
     "name": "stdout",
     "output_type": "stream",
     "text": [
      "Array is of type: <class 'numpy.ndarray'>\n",
      "No. of dimension: 2\n",
      "Shape of array: (4, 5)\n",
      "Size of array: 20\n",
      "Array stores elements of type: int32\n",
      "Array created using passed list:\n",
      " [[ 2.  4.  6.  8. 10.]\n",
      " [ 3.  6.  9. 12. 15.]\n",
      " [ 4.  8. 12. 16. 20.]\n",
      " [ 5. 10. 15. 20. 25.]]\n",
      "\n",
      "Array created using passed typle:\n",
      " [ 6 12 18 24 30]\n",
      "\n",
      "An array initialized with all zeros:\n",
      " [[0. 0. 0. 0. 0.]\n",
      " [0. 0. 0. 0. 0.]\n",
      " [0. 0. 0. 0. 0.]\n",
      " [0. 0. 0. 0. 0.]\n",
      " [0. 0. 0. 0. 0.]]\n",
      "\n",
      "An array initialized with all 6s.Array type is complex:\n",
      " [[2.+0.j 2.+0.j 2.+0.j 2.+0.j 2.+0.j 2.+0.j]\n",
      " [2.+0.j 2.+0.j 2.+0.j 2.+0.j 2.+0.j 2.+0.j]\n",
      " [2.+0.j 2.+0.j 2.+0.j 2.+0.j 2.+0.j 2.+0.j]]\n",
      "\n",
      "A Random array\n",
      ": [[0.93179702 0.64481653 0.74736219 0.11362612 0.0052922 ]\n",
      " [0.71927517 0.75304128 0.57354604 0.32199281 0.08136904]]\n",
      "\n",
      "A Sequential array with steps of 5\n",
      ": [ 0 10 20 30 40 50 60 70 80 90]\n",
      "\n",
      "A Sequential array with 10 values between0 to 5\n",
      ": [ 1. 10.]\n",
      "\n",
      "Original array:\n",
      " [[ 2  4  6  8 10]\n",
      " [ 3  6  9 12 15]\n",
      " [ 4  8 12 16 20]\n",
      " [ 5 10 15 20 25]]\n",
      "Reshaped array:\n",
      " [[[ 2  4  6  8 10]\n",
      "  [ 3  6  9 12 15]]\n",
      "\n",
      " [[ 4  8 12 16 20]\n",
      "  [ 5 10 15 20 25]]]\n",
      "\n",
      "Original array:\n",
      " [[ 2  4  6  8 10]\n",
      " [ 3  6  9 12 15]\n",
      " [ 4  8 12 16 20]\n",
      " [ 5 10 15 20 25]]\n",
      "Fattened array:\n",
      " [ 2  4  6  8 10  3  6  9 12 15  4  8 12 16 20  5 10 15 20 25]\n",
      "Array with first 3 rows and alternatecoloumns(0,3):\n",
      " [[ 2  6 10]\n",
      " [ 3  9 15]\n",
      " [ 4 12 20]]\n",
      "Array with first 3 rows and alternatecoloumns(0,3):\n",
      " [[ 2 10]\n",
      " [ 3 15]\n",
      " [ 4 20]]\n",
      "\n",
      "Elements at indices (0,3), (1,2),(2,1),(3,0):\n",
      " [8 9 8 5]\n",
      "\n",
      "Elements greater than 0:\n",
      " [ 4  6  8 10  3  6  9 12 15  4  8 12 16 20  5 10 15 20 25]\n"
     ]
    }
   ],
   "source": [
    "import numpy as np\n",
    "\n",
    "#creating array object\n",
    "table = np.array([[2,4,6,8,10], [3,6,9,12,15],[4,8,12,16,20],[5,10,15,20,25]])\n",
    "\n",
    "#print type of arr object\n",
    "print(\"Array is of type:\", type(table))\n",
    "\n",
    "#print array dimensions (axes)\n",
    "print(\"No. of dimension:\", table.ndim)\n",
    "\n",
    "#print shape of array\n",
    "print(\"Shape of array:\", table.shape)\n",
    "\n",
    "#print size (Total number of elements) of array\n",
    "print(\"Size of array:\", table.size)\n",
    "\n",
    "#printing type of elements in array\n",
    "print(\"Array stores elements of type:\", table.dtype)\n",
    "\n",
    "#creating array from list with type float\n",
    "\n",
    "a = np.array([[2,4,6,8,10], [3,6,9,12,15],[4,8,12,16,20],[5,10,15,20,25]],dtype = 'float')\n",
    "print(\"Array created using passed list:\\n\",a)\n",
    "\n",
    "#creating array from tuple\n",
    "table_six = np.array((6,12,18,24,30))\n",
    "print(\"\\nArray created using passed typle:\\n\", table_six)\n",
    "\n",
    "#creating a 3x4 array with all zeros\n",
    "zero = np.zeros((5,5))\n",
    "print(\"\\nAn array initialized with all zeros:\\n\", zero)\n",
    "\n",
    "#creating a constant value array of complex type #3 rows and 3 colums (3,3)\n",
    "complex_number = np.full((3,6),2, dtype = 'complex')\n",
    "print(\"\\nAn array initialized with all 6s.\"\n",
    "      \"Array type is complex:\\n\", complex_number)\n",
    "\n",
    "#craete an array with random values \n",
    "random_numbers = np.random.random((2,5))\n",
    "print(\"\\nA Random array\\n:\", random_numbers)\n",
    "\n",
    "#create a sequence of integers\n",
    "#from 0 to 30 with steps of 5\n",
    "f = np.arange(0,100,10)\n",
    "print(\"\\nA Sequential array with steps of 5\\n:\", f)\n",
    "\n",
    "#create a sequence of 10 values in range of 0 to 5.\n",
    "g = np.linspace(1,10,2)\n",
    "print(\"\\nA Sequential array with 10 values between\"\n",
    "      \"0 to 5\\n:\", g)\n",
    "\n",
    "# Reshaping 3x4 array to 2x2x3 array #2 row 2 row 3 colums\n",
    "\n",
    "new_table= table.reshape(2,2,5)\n",
    "\n",
    "print(\"\\nOriginal array:\\n\", table)\n",
    "print(\"Reshaped array:\\n\", new_table)\n",
    "\n",
    "#Flatten array\n",
    "\n",
    "new_flarr = table.flatten()\n",
    "\n",
    "print(\"\\nOriginal array:\\n\", table)\n",
    "print(\"Fattened array:\\n\", new_flarr)\n",
    "\n",
    "# An example array\n",
    "table = np.array([[2,4,6,8,10], [3,6,9,12,15],[4,8,12,16,20],[5,10,15,20,25]])\n",
    "#slicing array\n",
    "temp = table[:3,::2]\n",
    "print(\"Array with first 3 rows and alternate\"\n",
    "     \"coloumns(0,3):\\n\", temp)\n",
    "\n",
    "temp = table[:3,::4]\n",
    "print(\"Array with first 3 rows and alternate\"\n",
    "     \"coloumns(0,3):\\n\", temp)\n",
    "\n",
    "#Integer array indexing example\n",
    "temp = table[[0,1,2,3],[3,2,1,0]]\n",
    "print(\"\\nElements at indices (0,3), (1,2),(2,1),\"\n",
    "     \"(3,0):\\n\", temp)\n",
    "\n",
    "#boolean array indexing examples\n",
    "cond = table > 2 #cond is a boolean array\n",
    "temp = table[cond]\n",
    "print(\"\\nElements greater than 0:\\n\", temp)"
   ]
  },
  {
   "cell_type": "markdown",
   "id": "ac11c551",
   "metadata": {},
   "source": [
    "# What are python modules and packages?"
   ]
  },
  {
   "cell_type": "markdown",
   "id": "24b84270",
   "metadata": {},
   "source": [
    "Modular programming refers to the process of breaking a large, un wieldy programming task into separate, smaller, more manageable subtasks or modules.\n",
    "Individual modules can then be cobbled together like building blocks to create a large applications.\n",
    "\n",
    "There are several advantages to modularizing code in a large applications."
   ]
  },
  {
   "cell_type": "markdown",
   "id": "fbf0764a",
   "metadata": {},
   "source": [
    "**Simplicity :**  Rather than focusing on the entire problems at hand, a module typically focusses on one relatively small portion of the problem.\n",
    "if you are working on a single module. you'll have a smaller problem domain to wrap your head around. This makes developement easier and less error-prone.\n",
    "\n",
    "**Maintainability :**  Modules are typically designed so that enforce logical boundries between different problem domains. If module \n",
    "written in a way that minimizes interdependency, there is decreased likelihood that modifications to a single module will have an impact\n",
    "on other part of the program.(You may even be able to make changes to a module without having any knowledge of the application outside that module.)\n",
    "This makes it more viable for a team of many programmers to work collaboratively on a large appplication.\n",
    "\n",
    "**Reusability :** Functionlity defined in a single module can be easily reused (Through an appropriately defined interface) by other parts\n",
    "of the application. This eleminates the need to duplicate code."
   ]
  },
  {
   "cell_type": "markdown",
   "id": "0e14f55b",
   "metadata": {},
   "source": [
    "Functions, modules and packages are all constructs in python that promote code modularization."
   ]
  },
  {
   "cell_type": "markdown",
   "id": "35492011",
   "metadata": {},
   "source": [
    "Python modules : overview"
   ]
  },
  {
   "cell_type": "markdown",
   "id": "eea943c2",
   "metadata": {},
   "source": [
    "# What are the arrays?"
   ]
  },
  {
   "cell_type": "markdown",
   "id": "c406c8d8",
   "metadata": {},
   "source": [
    "Containers which are able to store more than one item at the same time."
   ]
  },
  {
   "cell_type": "markdown",
   "id": "50cf79e2",
   "metadata": {},
   "source": [
    "# What is python module?"
   ]
  },
  {
   "cell_type": "markdown",
   "id": "49457021",
   "metadata": {},
   "source": [
    "A python module is a file containing python definitions and statements. A module can define functions, classes and variables. A\n",
    "module can also include runnable code. Grouping related code into a module makes easier to understand and use.it also makes the code \n",
    "logically organized.\n",
    "\n",
    "Modules are the pre-defined that contain the python codes which depict the basic functionalities of class, methods, variables, etc.\n",
    "it consists of different functions, classes in a group of files inside a directory. Modules can also be termed as libraries. These are basically\n",
    "the pre-defined methods that can be used to make the code more efficient and reduce redundancy (error). modules bind the code and reduce\n",
    "the repetitions of functions frequently used in the code. Thus, it makes the code much clear and easy to understand.\n",
    "\n",
    "A module's contents are accessed with the import statement. A library is a collection of modules, but the terms are often used interchangeably.\n",
    "especially since many libraries only consist of a single module, so don't worry if you mix them.\n",
    "\n",
    "Examples of some popular python modules are:\n",
    "    "
   ]
  },
  {
   "cell_type": "markdown",
   "id": "7637757a",
   "metadata": {},
   "source": [
    "**OS**\n",
    "\n",
    "**Math**\n",
    "\n",
    "**Time**\n",
    "\n",
    "**Matplotlib**"
   ]
  },
  {
   "cell_type": "markdown",
   "id": "fa12bfa8",
   "metadata": {},
   "source": [
    "On such library in python is numpy "
   ]
  },
  {
   "cell_type": "markdown",
   "id": "cef8a6aa",
   "metadata": {},
   "source": [
    "Numpy is a python package. it stands for 'Numerical python'. it is a library consisting of multidimentional array objects and collection of \n",
    "routines for processing of array. The numpy package is the workhorse of data analysis, machine learining, and scientific computing in the python \n",
    "eco-system. it vastly simplifies manipulating and crunhing vectors and matrices. Some of python's leading package rely on numpy as a \n",
    "fundamental piece of their infrastructure(examples include scikit- learn, scipy, pandas and tensorflow). Beyond the ability to slice \n",
    "and dice numeric data, mastering numpy will give you an edge when dealing and debugging with advanced usecases in these libraries.\n",
    "\n",
    "\n",
    "In that situations would we need to crunch vectors and matrices?\n",
    "\n",
    "Numpy offers ingenious techniques for effectively loading, storing and manipulating in-memory data in python. The topic is very broad:\n",
    "datasets can come from a wide range of sources and a wide range of formate, including be collections of documents, collections of images, collections\n",
    "of sound clips, collections of numerical measurements, or nearly anything else. despite this heterogeneity, it will help us to think  of all \n",
    "data fundamentally as arrays of numbers(vectors and matrices).\n",
    "\n",
    "Images - particularly digital images-can be thought of as simple two dimentional array of numbers\n",
    "\n",
    "representing pixel brightness \n",
    "\n",
    "across the area.\n",
    "\n",
    "sound clips can be thought of as one-dimensional arrays of intensity versus time.\n",
    "\n",
    "text can be converted in various ways into numerical representations, perhaps binary digits represnting the frequency of certain\n",
    "words or pairs of words.\n",
    "\n",
    "No matters what the data are, The first step in making it analyzable will be to transform them into arrays of numbers(vectors and matrices)."
   ]
  },
  {
   "cell_type": "markdown",
   "id": "720e1e22",
   "metadata": {},
   "source": [
    "# Lets import the Numpy library in our environment"
   ]
  },
  {
   "cell_type": "code",
   "execution_count": 36,
   "id": "dfc498f1",
   "metadata": {},
   "outputs": [],
   "source": [
    "#Statement to import the numpy Library.\n",
    "import numpy as np"
   ]
  },
  {
   "cell_type": "markdown",
   "id": "1da2ebbb",
   "metadata": {},
   "source": [
    "     keywords : import\n",
    "                                                                                          as np\n",
    "          |  \n",
    "                                                                                \n",
    "        import                                 numpy                                        |\n",
    "   \n",
    "                                                                                          Alias\n",
    "                                                 |\n",
    "         \n",
    "     \n",
    "                                        module to be imported              \n",
    "     "
   ]
  },
  {
   "cell_type": "markdown",
   "id": "85aa2516",
   "metadata": {},
   "source": [
    "The most important object defined in numpy is an N- dimentional array."
   ]
  },
  {
   "cell_type": "code",
   "execution_count": 39,
   "id": "5fe85366",
   "metadata": {},
   "outputs": [],
   "source": [
    "#Statement to import the numpy library\n",
    "import numpy as np"
   ]
  },
  {
   "cell_type": "code",
   "execution_count": 40,
   "id": "7552d934",
   "metadata": {},
   "outputs": [
    {
     "name": "stdout",
     "output_type": "stream",
     "text": [
      "[ 2  3  5  7 11]\n"
     ]
    },
    {
     "data": {
      "text/plain": [
       "numpy.ndarray"
      ]
     },
     "execution_count": 40,
     "metadata": {},
     "output_type": "execute_result"
    }
   ],
   "source": [
    "#one- dimensional array of some prime numbers\n",
    "prime_array = np.array([2,3,5,7,11])\n",
    "print(prime_array)\n",
    "type(prime_array)"
   ]
  },
  {
   "cell_type": "markdown",
   "id": "c091ada4",
   "metadata": {},
   "source": [
    "            command                                                                Numpy array\n",
    "                                                                                       1\n",
    "          np.array([1,2,3])-------------------------------------------------------     2\n",
    "                                                                                       3"
   ]
  },
  {
   "cell_type": "code",
   "execution_count": 41,
   "id": "0f1de498",
   "metadata": {},
   "outputs": [
    {
     "data": {
      "text/plain": [
       "numpy.ndarray"
      ]
     },
     "execution_count": 41,
     "metadata": {},
     "output_type": "execute_result"
    }
   ],
   "source": [
    "type(prime_array)"
   ]
  },
  {
   "cell_type": "code",
   "execution_count": 42,
   "id": "a1729e2d",
   "metadata": {},
   "outputs": [
    {
     "name": "stdout",
     "output_type": "stream",
     "text": [
      "[[1 2]\n",
      " [3 4]]\n"
     ]
    }
   ],
   "source": [
    "#crate a two- dementional array\n",
    "another_array = np.array([[1,2],[3,4]])\n",
    "print(another_array)"
   ]
  },
  {
   "cell_type": "markdown",
   "id": "5d0fc6e7",
   "metadata": {},
   "source": [
    "           \n",
    "    \n",
    "               np.array([[1,2],[3,4]])------------------------------------------------------- 1  2\n",
    "                                                                                              3  4"
   ]
  },
  {
   "cell_type": "code",
   "execution_count": 45,
   "id": "4bbc815f",
   "metadata": {},
   "outputs": [
    {
     "name": "stdout",
     "output_type": "stream",
     "text": [
      "[[[1 2]\n",
      "  [3 4]]\n",
      "\n",
      " [[5 6]\n",
      "  [7 8]]\n",
      "\n",
      " [[6 7]\n",
      "  [9 0]]]\n",
      "(3, 2, 2)\n",
      "[[1 2 3]\n",
      " [4 5 6]\n",
      " [7 8 9]]\n"
     ]
    },
    {
     "data": {
      "text/plain": [
       "numpy.ndarray"
      ]
     },
     "execution_count": 45,
     "metadata": {},
     "output_type": "execute_result"
    }
   ],
   "source": [
    "#crate a three- dementional array\n",
    "threeD_array = np.array([[[1,2],[3,4]],[[5,6],[7,8]],[[6,7],[9,0]]])\n",
    "print(threeD_array)\n",
    "print(threeD_array.shape)\n",
    "\n",
    "three_array = np.array([[1,2,3],[4,5,6],[7,8,9]])\n",
    "print(three_array)\n",
    "type(three_array)\n",
    "\n"
   ]
  },
  {
   "cell_type": "code",
   "execution_count": 62,
   "id": "8916d93f",
   "metadata": {},
   "outputs": [
    {
     "name": "stdout",
     "output_type": "stream",
     "text": [
      "Array is of type: <class 'numpy.ndarray'>\n",
      "No. of dimension: 3\n",
      "Shape of array: (2, 2, 5)\n",
      "Size of array: 20\n",
      "Array stores elements of type: float64\n",
      "Array created using passed list:\n",
      " [[[ 10.   20.  -30.   40.   50. ]\n",
      "  [  6.   -8.   74.   96.   12.3]]\n",
      "\n",
      " [[ 15.    8.    9.6  -9.   12. ]\n",
      "  [  5.    1.  -15.   20.   25. ]]]\n",
      "\n",
      "Array created using passed typle:\n",
      " [ 10  20  30  40  50  60  70  80  90 100]\n",
      "\n",
      "An array initialized with all zeros:\n",
      " [[0. 0. 0. 0. 0. 0. 0. 0. 0. 0.]\n",
      " [0. 0. 0. 0. 0. 0. 0. 0. 0. 0.]]\n",
      "\n",
      "An array initialized with all 8s.Array type is complex:\n",
      " [[8.+0.j 8.+0.j 8.+0.j 8.+0.j 8.+0.j 8.+0.j 8.+0.j]\n",
      " [8.+0.j 8.+0.j 8.+0.j 8.+0.j 8.+0.j 8.+0.j 8.+0.j]\n",
      " [8.+0.j 8.+0.j 8.+0.j 8.+0.j 8.+0.j 8.+0.j 8.+0.j]]\n",
      "\n",
      "A Random array\n",
      ": [[0.42445156 0.7030477  0.26672637]\n",
      " [0.57242984 0.92283423 0.16934113]\n",
      " [0.61732218 0.11995052 0.36609805]]\n",
      "\n",
      "A Sequential array with steps of 5\n",
      ": [ 1  6 11 16 21 26 31 36 41 46]\n",
      "\n",
      "A Sequential array with 10 values between0 to 5\n",
      ": [ 1.   13.25 25.5  37.75 50.  ]\n",
      "\n",
      "Original array:\n",
      " [[[ 10.   20.  -30.   40.   50. ]\n",
      "  [  6.   -8.   74.   96.   12.3]]\n",
      "\n",
      " [[ 15.    8.    9.6  -9.   12. ]\n",
      "  [  5.    1.  -15.   20.   25. ]]]\n",
      "Reshaped array:\n",
      " [[[ 10.   20.  -30.   40.   50. ]\n",
      "  [  6.   -8.   74.   96.   12.3]]\n",
      "\n",
      " [[ 15.    8.    9.6  -9.   12. ]\n",
      "  [  5.    1.  -15.   20.   25. ]]]\n",
      "\n",
      "Original array:\n",
      " [[[ 10.   20.  -30.   40.   50. ]\n",
      "  [  6.   -8.   74.   96.   12.3]]\n",
      "\n",
      " [[ 15.    8.    9.6  -9.   12. ]\n",
      "  [  5.    1.  -15.   20.   25. ]]]\n",
      "Fattened array:\n",
      " [ 10.   20.  -30.   40.   50.    6.   -8.   74.   96.   12.3  15.    8.\n",
      "   9.6  -9.   12.    5.    1.  -15.   20.   25. ]\n",
      "Array with first 3 rows and alternatecoloumns(0,3):\n",
      " [[[ 10.   20.  -30.   40.   50. ]]\n",
      "\n",
      " [[ 15.    8.    9.6  -9.   12. ]]]\n",
      "Array with first 3 rows and alternatecoloumns(0,3):\n",
      " [[[ 10.  20. -30.  40.  50.]]]\n",
      "\n",
      "Elements at indices (0,0), (1,1),(2,2),(3,3):\n",
      " 1.0\n",
      "\n",
      "Elements greater than 0:\n",
      " [10.  20.  40.  50.   6.  74.  96.  12.3 15.   8.   9.6 12.   5.   1.\n",
      " 20.  25. ]\n"
     ]
    }
   ],
   "source": [
    "import numpy as np\n",
    "\n",
    "#creating array object\n",
    "mix = np.array([[[10,20,-30,40,50], [6,-8,74,96,12.3]],[[15,8,9.6,-9,12],[5,1.0,-15,20,25]]])\n",
    "\n",
    "#print type of arr object\n",
    "print(\"Array is of type:\", type(mix))\n",
    "\n",
    "#print array dimensions (axes)\n",
    "print(\"No. of dimension:\", mix.ndim)\n",
    "\n",
    "#print shape of array\n",
    "print(\"Shape of array:\", mix.shape)\n",
    "\n",
    "#print size (Total number of elements) of array\n",
    "print(\"Size of array:\", mix.size)\n",
    "\n",
    "#printing type of elements in array\n",
    "print(\"Array stores elements of type:\", mix.dtype)\n",
    "\n",
    "#creating array from list with type float\n",
    "\n",
    "a = np.array([[[10,20,-30,40,50], [6,-8,74,96,12.3]],[[15,8,9.6,-9,12],[5,1.0,-15,20,25]]],dtype = 'float')\n",
    "print(\"Array created using passed list:\\n\",a)\n",
    "\n",
    "#creating array from tuple\n",
    "table_ten = np.array((10,20,30,40,50,60,70,80,90,100))\n",
    "print(\"\\nArray created using passed typle:\\n\", table_ten)\n",
    "\n",
    "#creating a 3x4 array with all zeros\n",
    "zeros = np.zeros((2,10))\n",
    "print(\"\\nAn array initialized with all zeros:\\n\", zeros)\n",
    "\n",
    "#creating a constant value array of complex type #3 rows and 3 colums (3,3)\n",
    "complex_number = np.full((3,7),8, dtype = 'complex')\n",
    "print(\"\\nAn array initialized with all 8s.\"\n",
    "      \"Array type is complex:\\n\", complex_number)\n",
    "\n",
    "#craete an array with random values \n",
    "random_numbers = np.random.random((3,3))\n",
    "print(\"\\nA Random array\\n:\", random_numbers)\n",
    "\n",
    "#create a sequence of integers\n",
    "#from 0 to 30 with steps of 5\n",
    "f = np.arange(1,50,5)\n",
    "print(\"\\nA Sequential array with steps of 5\\n:\", f)\n",
    "\n",
    "#create a sequence of 10 values in range of 0 to 5.\n",
    "g = np.linspace(1,50,5)\n",
    "print(\"\\nA Sequential array with 10 values between\"\n",
    "      \"0 to 5\\n:\", g)\n",
    "\n",
    "# Reshaping 3x4 array to 2x2x3 array #2 row 2 row 3 colums\n",
    "\n",
    "new_table= mix.reshape(2,2,5)\n",
    "\n",
    "print(\"\\nOriginal array:\\n\", mix)\n",
    "print(\"Reshaped array:\\n\", new_table)\n",
    "\n",
    "#Flatten array\n",
    "\n",
    "new_flarr = mix.flatten()\n",
    "\n",
    "print(\"\\nOriginal array:\\n\", mix)\n",
    "print(\"Fattened array:\\n\", new_flarr)\n",
    "\n",
    "# An example array\n",
    "\n",
    "#slicing array\n",
    "temp = mix[:2,::4]\n",
    "print(\"Array with first 3 rows and alternate\"\n",
    "     \"coloumns(0,3):\\n\", temp)\n",
    "\n",
    "temp = mix[:1,::2]\n",
    "print(\"Array with first 3 rows and alternate\"\n",
    "     \"coloumns(0,3):\\n\", temp)\n",
    "\n",
    "#Integer array indexing example\n",
    "temp = mix[1][1][1]\n",
    "print(\"\\nElements at indices (0,0), (1,1),(2,2),\"\n",
    "     \"(3,3):\\n\", temp)\n",
    "\n",
    "#boolean array indexing examples\n",
    "cond = mix > 0 #cond is a boolean array\n",
    "temp = mix[cond]\n",
    "print(\"\\nElements greater than 0:\\n\", temp)"
   ]
  },
  {
   "cell_type": "code",
   "execution_count": 63,
   "id": "3abc6241",
   "metadata": {},
   "outputs": [],
   "source": [
    "#Statement to import the numpy library\n",
    "import numpy as np"
   ]
  },
  {
   "cell_type": "markdown",
   "id": "51d7a3a7",
   "metadata": {},
   "source": [
    "# Array Inspection"
   ]
  },
  {
   "cell_type": "markdown",
   "id": "860db27f",
   "metadata": {},
   "source": [
    "A numpy array has following attributes \n",
    "\n",
    "1. ndarray.shape\n",
    "\n",
    "2. ndarray.ndim\n",
    "\n",
    "3. ndarray.size\n",
    "\n",
    "4. ndarray.dtype\n",
    "\n",
    "5. ndarray.astype\n"
   ]
  },
  {
   "cell_type": "markdown",
   "id": "bba14656",
   "metadata": {},
   "source": [
    "# 1. ndarray.shape"
   ]
  },
  {
   "cell_type": "markdown",
   "id": "cc61cc42",
   "metadata": {},
   "source": [
    "This return a typle consisting of array dimensions and can be used to resize the array"
   ]
  },
  {
   "cell_type": "code",
   "execution_count": 64,
   "id": "25b4da38",
   "metadata": {},
   "outputs": [
    {
     "name": "stdout",
     "output_type": "stream",
     "text": [
      "(2, 3)\n"
     ]
    }
   ],
   "source": [
    "alma_array = np.array([[1,2,3],[4,5,6]])\n",
    "print(alma_array.shape)"
   ]
  },
  {
   "cell_type": "code",
   "execution_count": 65,
   "id": "9b503d73",
   "metadata": {},
   "outputs": [
    {
     "name": "stdout",
     "output_type": "stream",
     "text": [
      "(2, 4)\n"
     ]
    }
   ],
   "source": [
    "alma_array = np.array([[1,2,3,4],[4,5,9,10]])\n",
    "print(alma_array.shape)"
   ]
  },
  {
   "cell_type": "code",
   "execution_count": 66,
   "id": "4a300218",
   "metadata": {},
   "outputs": [
    {
     "name": "stdout",
     "output_type": "stream",
     "text": [
      "(4, 2, 3)\n"
     ]
    }
   ],
   "source": [
    "alma_array = np.array([[[1,2,3],[4,5,6]],\n",
    "                      [[1,2,3],[4,5,6]],\n",
    "                      [[1,2,3],[4,5,6]],\n",
    "                      [[1,2,3],[4,5,6]]])\n",
    "#print(alma_array)\n",
    "print(alma_array.shape)"
   ]
  },
  {
   "cell_type": "code",
   "execution_count": 67,
   "id": "87e13602",
   "metadata": {},
   "outputs": [],
   "source": [
    "#statement to import the numpy library\n",
    "import numpy as np"
   ]
  },
  {
   "cell_type": "code",
   "execution_count": 68,
   "id": "800f3282",
   "metadata": {},
   "outputs": [
    {
     "name": "stdout",
     "output_type": "stream",
     "text": [
      "[[[1 2 3]\n",
      "  [4 5 6]]\n",
      "\n",
      " [[1 2 3]\n",
      "  [4 5 6]]\n",
      "\n",
      " [[1 2 3]\n",
      "  [4 5 6]]\n",
      "\n",
      " [[1 2 3]\n",
      "  [4 5 6]]]\n",
      "(4, 2, 3)\n"
     ]
    }
   ],
   "source": [
    "alma_array = np.array([[[1,2,3],[4,5,6]],\n",
    "                      [[1,2,3],[4,5,6]],\n",
    "                      [[1,2,3],[4,5,6]],\n",
    "                      [[1,2,3],[4,5,6]]])\n",
    "print(alma_array)\n",
    "print(alma_array.shape)"
   ]
  },
  {
   "cell_type": "code",
   "execution_count": 69,
   "id": "1d21f44f",
   "metadata": {},
   "outputs": [
    {
     "data": {
      "text/plain": [
       "array([[[1, 2, 3],\n",
       "        [4, 5, 6]],\n",
       "\n",
       "       [[1, 2, 3],\n",
       "        [4, 5, 6]],\n",
       "\n",
       "       [[1, 2, 3],\n",
       "        [4, 5, 6]],\n",
       "\n",
       "       [[1, 2, 3],\n",
       "        [4, 5, 6]]])"
      ]
     },
     "execution_count": 69,
     "metadata": {},
     "output_type": "execute_result"
    }
   ],
   "source": [
    "alma_array"
   ]
  },
  {
   "cell_type": "markdown",
   "id": "72ca7c87",
   "metadata": {},
   "source": [
    "# 2. ndarray.ndim"
   ]
  },
  {
   "cell_type": "markdown",
   "id": "55f33404",
   "metadata": {},
   "source": [
    "**This returns the number of array dimensions**"
   ]
  },
  {
   "cell_type": "code",
   "execution_count": 70,
   "id": "f00df79f",
   "metadata": {},
   "outputs": [
    {
     "name": "stdout",
     "output_type": "stream",
     "text": [
      "Dimensions of 'array_of_integers'= 1\n",
      "Dimensions of 'simple_2D_array'= 2\n"
     ]
    }
   ],
   "source": [
    "array_of_integers = np.array([0,1,2,3,4,5,6,7,8,9])\n",
    "print(\"Dimensions of 'array_of_integers'=\",array_of_integers.ndim)\n",
    "\n",
    "simple_2D_array = np.array([[1,2,3],[4,5,6]])\n",
    "print(\"Dimensions of 'simple_2D_array'=\",simple_2D_array.ndim)"
   ]
  },
  {
   "cell_type": "markdown",
   "id": "6747562e",
   "metadata": {},
   "source": [
    "**This returns the total number of elements in the array**"
   ]
  },
  {
   "cell_type": "code",
   "execution_count": 72,
   "id": "10ae814c",
   "metadata": {},
   "outputs": [
    {
     "name": "stdout",
     "output_type": "stream",
     "text": [
      "The total number of elemets in our array'array_of_integers'= [0 1 2 3 4 5 6 7 8 9]\n",
      "The total number of elemets in our array'simple_2D_array'= [[1 2 3]\n",
      " [4 5 6]]\n"
     ]
    }
   ],
   "source": [
    "#print the size of array\n",
    "array_of_integers = np.array([0,1,2,3,4,5,6,7,8,9])\n",
    "print(f\"The total number of elemets in our array'array_of_integers'= {array_of_integers}\")\n",
    "\n",
    "simple_2D_array = np.array([[1,2,3],[4,5,6]])\n",
    "print(f\"The total number of elemets in our array'simple_2D_array'= {simple_2D_array}\")"
   ]
  },
  {
   "cell_type": "markdown",
   "id": "f05bf306",
   "metadata": {},
   "source": [
    "# 3. size"
   ]
  },
  {
   "cell_type": "code",
   "execution_count": 74,
   "id": "45709943",
   "metadata": {},
   "outputs": [
    {
     "name": "stdout",
     "output_type": "stream",
     "text": [
      "size of array: 6\n"
     ]
    }
   ],
   "source": [
    "import numpy as np\n",
    "#creating array object\n",
    "arr = np.array([[1,2,3],\n",
    "               [4,2,5]])\n",
    "#printing size (total number of elements) of array\n",
    "print(\"size of array:\", arr.size)"
   ]
  },
  {
   "cell_type": "markdown",
   "id": "076433f0",
   "metadata": {},
   "source": [
    "# 4. ndarray.dtype"
   ]
  },
  {
   "cell_type": "markdown",
   "id": "e46f3135",
   "metadata": {},
   "source": [
    "**This returns the data type of the array**"
   ]
  },
  {
   "cell_type": "code",
   "execution_count": 75,
   "id": "e55f5908",
   "metadata": {},
   "outputs": [],
   "source": [
    "#statement to import the numpy library\n",
    "import numpy as np\n"
   ]
  },
  {
   "cell_type": "code",
   "execution_count": 76,
   "id": "bdbd608f",
   "metadata": {},
   "outputs": [
    {
     "name": "stdout",
     "output_type": "stream",
     "text": [
      "int32\n"
     ]
    }
   ],
   "source": [
    "#print the dtype of array\n",
    "my_array = np.array([1,2,3,4,5])\n",
    "print(my_array.dtype)\n"
   ]
  },
  {
   "cell_type": "code",
   "execution_count": 77,
   "id": "800571f4",
   "metadata": {},
   "outputs": [
    {
     "name": "stdout",
     "output_type": "stream",
     "text": [
      "int32\n"
     ]
    }
   ],
   "source": [
    "#print the dtype of another array\n",
    "my_array = np.array([1,2,0,3,4,5])\n",
    "print(my_array.dtype)\n"
   ]
  },
  {
   "cell_type": "markdown",
   "id": "55a520ed",
   "metadata": {},
   "source": [
    "# 5. ndarray.astype"
   ]
  },
  {
   "cell_type": "markdown",
   "id": "366889b3",
   "metadata": {},
   "source": [
    "**This changes the data type of an array**"
   ]
  },
  {
   "cell_type": "code",
   "execution_count": 78,
   "id": "04e78e15",
   "metadata": {},
   "outputs": [
    {
     "name": "stdout",
     "output_type": "stream",
     "text": [
      "[2 3 4]\n",
      "int32\n",
      "[2. 3. 4.]\n",
      "float64\n",
      "[b'2' b'3' b'4']\n",
      "|S11\n"
     ]
    }
   ],
   "source": [
    "#Create an array\n",
    "arravali = np.array([2,3,4])\n",
    "print(arravali)\n",
    "print(arravali.dtype)\n",
    "\n",
    "# change the data type of the array to float\n",
    "arravali_ = arravali.astype('float64')\n",
    "print(arravali_)\n",
    "print(arravali_.dtype)\n",
    "\n",
    "#change the datatype of the array to string\n",
    "arravali_as = arravali.astype('string_')\n",
    "print(arravali_as)\n",
    "print(arravali_as.dtype)"
   ]
  },
  {
   "cell_type": "markdown",
   "id": "7f39f5dd",
   "metadata": {},
   "source": [
    "# Why numpy?"
   ]
  },
  {
   "cell_type": "markdown",
   "id": "9df11b34",
   "metadata": {},
   "source": [
    "Numpy data structures perform better in:"
   ]
  },
  {
   "cell_type": "markdown",
   "id": "948c0a89",
   "metadata": {},
   "source": [
    "**Memory** = Numpy data structures take up less space.\n",
    "\n",
    "**Performance** = they have need for speed and are faster than lists.\n",
    "\n",
    "**Functionality** = Scipy and numpy have optimized functions such as linear algebra operations built in."
   ]
  },
  {
   "cell_type": "markdown",
   "id": "e8307bbf",
   "metadata": {},
   "source": [
    "# Memory"
   ]
  },
  {
   "cell_type": "code",
   "execution_count": 82,
   "id": "a3301b9d",
   "metadata": {},
   "outputs": [
    {
     "name": "stdout",
     "output_type": "stream",
     "text": [
      "Size if the array: 6\n",
      "Memory size of one element in bytes: 4\n",
      "Memory size of numpy array in bytes: 24\n"
     ]
    }
   ],
   "source": [
    "#import library\n",
    "import numpy as np\n",
    "#create a numpy 1d-array\n",
    "x = np.array([100,20,34,7,79,67])\n",
    "print(\"Size if the array:\", x.size)\n",
    "print(\"Memory size of one element in bytes:\",x.itemsize)\n",
    "#memory size of numpy array in bytes\n",
    "print(\"Memory size of numpy array in bytes:\", x.size* x.itemsize)"
   ]
  },
  {
   "cell_type": "code",
   "execution_count": 83,
   "id": "9425bf9e",
   "metadata": {},
   "outputs": [
    {
     "name": "stdout",
     "output_type": "stream",
     "text": [
      "size of the array : 6\n",
      "Memory size of one element in bytes: 4\n",
      "Memory size of numpy array in bytes: 24\n"
     ]
    }
   ],
   "source": [
    "#import library\n",
    "import numpy as np\n",
    "\n",
    "#create a numpy 2d-array\n",
    "x = np.array([[100,20,34],\n",
    "             [300,400,600]])\n",
    "print(\"size of the array :\", x.size)\n",
    "print(\"Memory size of one element in bytes:\",x.itemsize)\n",
    "#memory size of numpy array in bytes\n",
    "print(\"Memory size of numpy array in bytes:\", x.size* x.itemsize)"
   ]
  },
  {
   "cell_type": "code",
   "execution_count": 84,
   "id": "c1888e50",
   "metadata": {},
   "outputs": [
    {
     "name": "stdout",
     "output_type": "stream",
     "text": [
      "Size of each element of list in bytes: 136\n",
      "Size of whole list is bytes: 1360\n",
      "Size of each element of list in bytes: 4\n",
      "Size of whole list is bytes: 40\n"
     ]
    }
   ],
   "source": [
    "import sys\n",
    "#declaring a list of 10 elements\n",
    "s = [0,1,2,3,4,5,6,7,8,9]\n",
    "print(\"Size of each element of list in bytes:\",sys.getsizeof(s))\n",
    "print(\"Size of whole list is bytes:\", sys.getsizeof(s)* len(s))   # 136*10\n",
    "\n",
    "#declaring a Numpy array of 10 elements\n",
    "D = np.array([0,1,2,3,4,5,6,7,8,9])\n",
    "print(\"Size of each element of list in bytes:\",D.itemsize)\n",
    "print(\"Size of whole list is bytes:\", D.itemsize* D.size)   "
   ]
  },
  {
   "cell_type": "markdown",
   "id": "f4624618",
   "metadata": {},
   "source": [
    "# Performance"
   ]
  },
  {
   "cell_type": "code",
   "execution_count": 86,
   "id": "6d1584ab",
   "metadata": {},
   "outputs": [
    {
     "name": "stdout",
     "output_type": "stream",
     "text": [
      "Time taken by lists to perform multiplication: 0.011216878890991211 seconds\n",
      "Time taken by arrays to perform multiplication: 0.0 second\n"
     ]
    }
   ],
   "source": [
    "import numpy as np\n",
    "import time\n",
    "\n",
    "#size of array and lists.\n",
    "size = 100000\n",
    "\n",
    "#declaring lists\n",
    "list1 = range(size)\n",
    "list2 = range(size)\n",
    "\n",
    "#declaring arrays\n",
    "array1 = np.arange(size)\n",
    "array2 = np.arange(size)\n",
    "\n",
    "#capturing time before the mulitiplication of python lists\n",
    "initailTime =time.time()\n",
    "\n",
    "#multiplying elements of both the lists and stored in another list\n",
    "resultantlist = [(a*b) for a, b  in zip(list1,list2)]\n",
    "\n",
    "#calculating execution time \n",
    "print(\"Time taken by lists to perform multiplication:\",\n",
    "     (time.time() - initailTime), \"seconds\")\n",
    "\n",
    "#capturing time before the multiplication of numpy arrays\n",
    "initailTime = time.time()\n",
    "\n",
    "#multiplying elements of both the numpy arrays and stored in another numpy are \n",
    "resultantArray = array1 *array2\n",
    "\n",
    "#calculating execution time\n",
    "print(\"Time taken by arrays to perform multiplication:\", \n",
    "     (time.time() - initailTime), \"second\")"
   ]
  },
  {
   "cell_type": "markdown",
   "id": "f45523fe",
   "metadata": {},
   "source": [
    "# Functionality "
   ]
  },
  {
   "cell_type": "code",
   "execution_count": 88,
   "id": "f9640b90",
   "metadata": {},
   "outputs": [
    {
     "name": "stdout",
     "output_type": "stream",
     "text": [
      "Lists don't support list+ int\n",
      "Modified numpy array: [5 6 7]\n"
     ]
    }
   ],
   "source": [
    "import numpy as np\n",
    "#declaring a list \n",
    "ls = [1,2,3]\n",
    "\n",
    "#converting the list into a numpy array\n",
    "arr = np.array(ls)\n",
    "\n",
    "try:\n",
    "    #adding 4 to each elements of list\n",
    "    ls = ls+4\n",
    "    \n",
    "except(TypeError):\n",
    "    print(\"Lists don't support list+ int\")\n",
    "    \n",
    "#now on array\n",
    "\n",
    "try :\n",
    "    #adding 4 to each numpy array\n",
    "    arr =arr+4\n",
    "    \n",
    "    #print the numpy array\n",
    "    print(\"Modified numpy array:\", arr)\n",
    "    \n",
    "except(TypeError):\n",
    "    print(\"Numpy array don't support list+ int\")"
   ]
  },
  {
   "cell_type": "markdown",
   "id": "3b6b25ff",
   "metadata": {},
   "source": [
    "# Different ways of creating an adarray"
   ]
  },
  {
   "cell_type": "markdown",
   "id": "e1c4a5b8",
   "metadata": {},
   "source": [
    "# Uninitialized "
   ]
  },
  {
   "cell_type": "code",
   "execution_count": 89,
   "id": "2d0721fa",
   "metadata": {},
   "outputs": [],
   "source": [
    "#Statement to import the numpy library \n",
    "import numpy as np"
   ]
  },
  {
   "cell_type": "code",
   "execution_count": 90,
   "id": "4e6e95d0",
   "metadata": {},
   "outputs": [
    {
     "name": "stdout",
     "output_type": "stream",
     "text": [
      "[[121 195 817]\n",
      " [151 471 159]\n",
      " [874 963 524]\n",
      " [846 487 856]\n",
      " [987 415 265]]\n"
     ]
    }
   ],
   "source": [
    "#creating an uninitialized array of a specified shape \n",
    "uninitailized_array = np.empty([5,3], dtype=int)\n",
    "print(uninitailized_array)"
   ]
  },
  {
   "cell_type": "code",
   "execution_count": 91,
   "id": "d8c823b6",
   "metadata": {},
   "outputs": [
    {
     "name": "stdout",
     "output_type": "stream",
     "text": [
      "[[0. 0. 0.]\n",
      " [0. 0. 0.]\n",
      " [0. 0. 0.]]\n",
      "[[0 0 0]\n",
      " [0 0 0]\n",
      " [0 0 0]\n",
      " [0 0 0]]\n"
     ]
    }
   ],
   "source": [
    "#Intializing the array with zeros\n",
    "zeros_array = np.zeros((3,3))    #Default dtype = float\n",
    "another_zeros_array = np.zeros((4,3), dtype=int)\n",
    "print(zeros_array)\n",
    "print(another_zeros_array)"
   ]
  },
  {
   "cell_type": "code",
   "execution_count": 92,
   "id": "a8c3f9de",
   "metadata": {},
   "outputs": [
    {
     "name": "stdout",
     "output_type": "stream",
     "text": [
      "[[0. 0. 0. 0.]\n",
      " [0. 0. 0. 0.]\n",
      " [0. 0. 0. 0.]\n",
      " [0. 0. 0. 0.]]\n",
      "[[0 0 0 0]\n",
      " [0 0 0 0]\n",
      " [0 0 0 0]\n",
      " [0 0 0 0]]\n"
     ]
    }
   ],
   "source": [
    "#Intializing the array with zeros\n",
    "zeros_array = np.zeros((4,4))    #Default dtype = float\n",
    "another_zeros_array = np.zeros((4,4), dtype=int)\n",
    "print(zeros_array)\n",
    "print(another_zeros_array)"
   ]
  },
  {
   "cell_type": "markdown",
   "id": "63f12666",
   "metadata": {},
   "source": [
    "# Initailized with ones"
   ]
  },
  {
   "cell_type": "code",
   "execution_count": 93,
   "id": "10487f07",
   "metadata": {},
   "outputs": [
    {
     "name": "stdout",
     "output_type": "stream",
     "text": [
      "[[1. 1. 1.]\n",
      " [1. 1. 1.]\n",
      " [1. 1. 1.]]\n",
      "[[1 1 1]\n",
      " [1 1 1]\n",
      " [1 1 1]\n",
      " [1 1 1]]\n"
     ]
    }
   ],
   "source": [
    "#Intializing the array with ones\n",
    "ones_array = np.ones((3,3))    #Default dtype = float\n",
    "another_ones_array = np.ones((4,3), dtype=int)\n",
    "print(ones_array)\n",
    "print(another_ones_array)"
   ]
  },
  {
   "cell_type": "code",
   "execution_count": 94,
   "id": "54a0f70c",
   "metadata": {},
   "outputs": [
    {
     "data": {
      "text/plain": [
       "array([[1., 1., 1.],\n",
       "       [1., 1., 1.],\n",
       "       [1., 1., 1.],\n",
       "       [1., 1., 1.]])"
      ]
     },
     "execution_count": 94,
     "metadata": {},
     "output_type": "execute_result"
    }
   ],
   "source": [
    "bunch_of_ones = np.ones((4,3))\n",
    "bunch_of_ones"
   ]
  },
  {
   "cell_type": "code",
   "execution_count": 95,
   "id": "aac4bcc9",
   "metadata": {},
   "outputs": [
    {
     "data": {
      "text/plain": [
       "array([[1., 1., 1., 1., 1., 1.],\n",
       "       [1., 1., 1., 1., 1., 1.]])"
      ]
     },
     "execution_count": 95,
     "metadata": {},
     "output_type": "execute_result"
    }
   ],
   "source": [
    "#Trying to change the shape of our array\n",
    "bunch_of_ones.shape = (2,6)\n",
    "bunch_of_ones"
   ]
  },
  {
   "cell_type": "markdown",
   "id": "0daf5264",
   "metadata": {},
   "source": [
    "# Array from numerical ranges"
   ]
  },
  {
   "cell_type": "code",
   "execution_count": 96,
   "id": "1b74cc3c",
   "metadata": {},
   "outputs": [
    {
     "data": {
      "text/plain": [
       "array([0, 1, 2, 3, 4])"
      ]
     },
     "execution_count": 96,
     "metadata": {},
     "output_type": "execute_result"
    }
   ],
   "source": [
    "#Array with values from 0 to N\n",
    "array_with_range = np.arange(5)\n",
    "array_with_range"
   ]
  },
  {
   "cell_type": "code",
   "execution_count": 97,
   "id": "41a62ff5",
   "metadata": {},
   "outputs": [
    {
     "data": {
      "text/plain": [
       "array([10, 12, 14, 16, 18])"
      ]
     },
     "execution_count": 97,
     "metadata": {},
     "output_type": "execute_result"
    }
   ],
   "source": [
    "#set start and stop parameters\n",
    "#parameters for the function - np.arange(start, stop, step,dtype)\n",
    "#Default dtype is that o fthe input given\n",
    "another_array_with_range = np.arange(10,20,2)\n",
    "another_array_with_range"
   ]
  },
  {
   "cell_type": "code",
   "execution_count": null,
   "id": "6ff76e37",
   "metadata": {},
   "outputs": [],
   "source": []
  }
 ],
 "metadata": {
  "kernelspec": {
   "display_name": "Python 3 (ipykernel)",
   "language": "python",
   "name": "python3"
  },
  "language_info": {
   "codemirror_mode": {
    "name": "ipython",
    "version": 3
   },
   "file_extension": ".py",
   "mimetype": "text/x-python",
   "name": "python",
   "nbconvert_exporter": "python",
   "pygments_lexer": "ipython3",
   "version": "3.11.3"
  }
 },
 "nbformat": 4,
 "nbformat_minor": 5
}
