{
 "cells": [
  {
   "cell_type": "markdown",
   "id": "d0f13b84",
   "metadata": {},
   "source": [
    "# Understanding the different between"
   ]
  },
  {
   "cell_type": "markdown",
   "id": "8fb3b9e0",
   "metadata": {},
   "source": [
    "Statements and expression\n"
   ]
  },
  {
   "cell_type": "markdown",
   "id": "aafb0cb2",
   "metadata": {},
   "source": [
    "A statement is an instruction that python interpreter can execute. Examples of statements are assignment statements, while statements, for statements, if statements and import statements etc.\n",
    "\n",
    "\n",
    "An expression is a combination of values, variables, operators  and calls to functions. Expression need to be evaluated. If you ask python to print an expression, the interpreter evaluates the expression and displays the results."
   ]
  },
  {
   "cell_type": "code",
   "execution_count": 1,
   "id": "2c297ca1",
   "metadata": {},
   "outputs": [
    {
     "name": "stdout",
     "output_type": "stream",
     "text": [
      "3\n"
     ]
    }
   ],
   "source": [
    "#Examples of assignments staement.\n",
    "a = 3\n",
    "print(a)"
   ]
  },
  {
   "cell_type": "code",
   "execution_count": 2,
   "id": "9c05d4df",
   "metadata": {},
   "outputs": [
    {
     "name": "stdout",
     "output_type": "stream",
     "text": [
      "3\n"
     ]
    }
   ],
   "source": [
    "print(1+2)"
   ]
  },
  {
   "cell_type": "code",
   "execution_count": 3,
   "id": "f7111b4d",
   "metadata": {},
   "outputs": [
    {
     "name": "stdout",
     "output_type": "stream",
     "text": [
      "13\n"
     ]
    }
   ],
   "source": [
    "print(len('shubhamsanket'))"
   ]
  },
  {
   "cell_type": "code",
   "execution_count": 4,
   "id": "c8f0bf71",
   "metadata": {},
   "outputs": [
    {
     "name": "stdout",
     "output_type": "stream",
     "text": [
      "2\n",
      "10\n"
     ]
    }
   ],
   "source": [
    "print(1+1)\n",
    "print(len(\"Helloworld\"))"
   ]
  },
  {
   "cell_type": "markdown",
   "id": "0cca735a",
   "metadata": {},
   "source": [
    "In this examples len() is a built-in python function that returns the number of characters in a strings.\n",
    "we've previously seen the print() and the type() functons, so this is an example of another function.\n",
    "\n",
    "The evaluation of an expression produces a value =, which is why expressions can appears on the right hand side of \n",
    "assignment statements. A value all by itself is a simple expression, and so is a variable. evaluating a variable gives the value that the variable refers to."
   ]
  },
  {
   "cell_type": "code",
   "execution_count": 5,
   "id": "490198f9",
   "metadata": {},
   "outputs": [],
   "source": [
    "y = 3.14"
   ]
  },
  {
   "cell_type": "code",
   "execution_count": 6,
   "id": "03d6caae",
   "metadata": {},
   "outputs": [
    {
     "data": {
      "text/plain": [
       "3.14"
      ]
     },
     "execution_count": 6,
     "metadata": {},
     "output_type": "execute_result"
    }
   ],
   "source": [
    "y"
   ]
  },
  {
   "cell_type": "code",
   "execution_count": 7,
   "id": "a4fe37fb",
   "metadata": {},
   "outputs": [
    {
     "data": {
      "text/plain": [
       "7"
      ]
     },
     "execution_count": 7,
     "metadata": {},
     "output_type": "execute_result"
    }
   ],
   "source": [
    "sam=7\n",
    "sam"
   ]
  },
  {
   "cell_type": "code",
   "execution_count": 8,
   "id": "f0a73352",
   "metadata": {},
   "outputs": [],
   "source": [
    "a = 'Mighty'\n",
    "# b=a == True"
   ]
  },
  {
   "cell_type": "code",
   "execution_count": 9,
   "id": "2d7329a7",
   "metadata": {},
   "outputs": [
    {
     "data": {
      "text/plain": [
       "False"
      ]
     },
     "execution_count": 9,
     "metadata": {},
     "output_type": "execute_result"
    }
   ],
   "source": [
    "a == True"
   ]
  },
  {
   "cell_type": "markdown",
   "id": "2c16d47c",
   "metadata": {},
   "source": [
    "Note that when we enter the assignment statement, y = 3.14, only the prompt is returned. there id no value. this is due the fact that statements, such as the assignment statements, do not return a value. They are simply executed."
   ]
  },
  {
   "cell_type": "code",
   "execution_count": 10,
   "id": "6209b07d",
   "metadata": {},
   "outputs": [],
   "source": [
    "#Import statement\n",
    "import numpy as np"
   ]
  },
  {
   "cell_type": "code",
   "execution_count": 11,
   "id": "1307d474",
   "metadata": {},
   "outputs": [
    {
     "name": "stdout",
     "output_type": "stream",
     "text": [
      "3.14\n"
     ]
    }
   ],
   "source": [
    "print(y)"
   ]
  },
  {
   "cell_type": "code",
   "execution_count": 12,
   "id": "389469f8",
   "metadata": {},
   "outputs": [
    {
     "data": {
      "text/plain": [
       "3.14"
      ]
     },
     "execution_count": 12,
     "metadata": {},
     "output_type": "execute_result"
    }
   ],
   "source": [
    "y"
   ]
  },
  {
   "cell_type": "markdown",
   "id": "0f12fc37",
   "metadata": {},
   "source": [
    "On the other hand, the result of executing the assignment statement is the creation of a reference from a variable, y, to a value, 3.14.\n",
    "When we execute the print() function wprking on y, we see the value that y is referring to. In fect, Evaluating y by itself results in the same response.\n",
    "\n"
   ]
  },
  {
   "cell_type": "markdown",
   "id": "f02583d3",
   "metadata": {},
   "source": [
    "Instructions that a python interpreter can execute are called statements. for example, a=1  is an assignemnt staements.\n",
    "if statements, for statemnts, while staements etc. are other kinds of statements which will be discussed later."
   ]
  },
  {
   "cell_type": "markdown",
   "id": "4d68f54d",
   "metadata": {},
   "source": [
    "# Multi-line statements"
   ]
  },
  {
   "cell_type": "markdown",
   "id": "c2898726",
   "metadata": {},
   "source": [
    "In python, the end of a statement is marked by a newline character. But we can make a staement extend ober multiple lines with  the continuation character()."
   ]
  },
  {
   "cell_type": "code",
   "execution_count": 13,
   "id": "4392041f",
   "metadata": {},
   "outputs": [
    {
     "data": {
      "text/plain": [
       "12"
      ]
     },
     "execution_count": 13,
     "metadata": {},
     "output_type": "execute_result"
    }
   ],
   "source": [
    "x = 7\n",
    "y = 2\n",
    "-6\n",
    "+ 5\n",
    "z = 3\n",
    "x+y+z"
   ]
  },
  {
   "cell_type": "code",
   "execution_count": 14,
   "id": "20c0bac4",
   "metadata": {},
   "outputs": [
    {
     "data": {
      "text/plain": [
       "7"
      ]
     },
     "execution_count": 14,
     "metadata": {},
     "output_type": "execute_result"
    }
   ],
   "source": [
    "x"
   ]
  },
  {
   "cell_type": "code",
   "execution_count": 15,
   "id": "76aa56c6",
   "metadata": {},
   "outputs": [],
   "source": [
    "a = ( 1+2+3+4\n",
    "+5+6+7+8+\n",
    "9+10)\n"
   ]
  },
  {
   "cell_type": "code",
   "execution_count": 16,
   "id": "02a7078f",
   "metadata": {},
   "outputs": [
    {
     "data": {
      "text/plain": [
       "55"
      ]
     },
     "execution_count": 16,
     "metadata": {},
     "output_type": "execute_result"
    }
   ],
   "source": [
    "a"
   ]
  },
  {
   "cell_type": "markdown",
   "id": "641c6260",
   "metadata": {},
   "source": [
    "This is an explicit line continuation. Tn python, line continuation is implied inside parentheses( ), brackets [ ], and braces{ }\n",
    "for instance, we can implement the above multi-line statement as:"
   ]
  },
  {
   "cell_type": "code",
   "execution_count": 17,
   "id": "42c62291",
   "metadata": {},
   "outputs": [],
   "source": [
    "my_list = [1]\n",
    "my_tuple = (1)"
   ]
  },
  {
   "cell_type": "code",
   "execution_count": 18,
   "id": "72670ae8",
   "metadata": {},
   "outputs": [
    {
     "data": {
      "text/plain": [
       "([1], 1)"
      ]
     },
     "execution_count": 18,
     "metadata": {},
     "output_type": "execute_result"
    }
   ],
   "source": [
    "my_list, my_tuple"
   ]
  },
  {
   "cell_type": "code",
   "execution_count": 19,
   "id": "27a6635c",
   "metadata": {},
   "outputs": [],
   "source": [
    "a = (1+2+3+4+\n",
    "5+6+7.6+\n",
    "8+9+10)"
   ]
  },
  {
   "cell_type": "code",
   "execution_count": 20,
   "id": "97f86ae0",
   "metadata": {},
   "outputs": [
    {
     "data": {
      "text/plain": [
       "55.6"
      ]
     },
     "execution_count": 20,
     "metadata": {},
     "output_type": "execute_result"
    }
   ],
   "source": [
    "a"
   ]
  },
  {
   "cell_type": "code",
   "execution_count": 21,
   "id": "9654c01b",
   "metadata": {},
   "outputs": [
    {
     "data": {
      "text/plain": [
       "float"
      ]
     },
     "execution_count": 21,
     "metadata": {},
     "output_type": "execute_result"
    }
   ],
   "source": [
    "type(a)"
   ]
  },
  {
   "cell_type": "markdown",
   "id": "d85093c2",
   "metadata": {},
   "source": [
    "Here, the surrounding parentheses ( ) do the line continuation implicitly. same is the case with [ ] and{ }. for example:"
   ]
  },
  {
   "cell_type": "code",
   "execution_count": 23,
   "id": "80f68a4f",
   "metadata": {},
   "outputs": [
    {
     "data": {
      "text/plain": [
       "3"
      ]
     },
     "execution_count": 23,
     "metadata": {},
     "output_type": "execute_result"
    }
   ],
   "source": [
    "a = 1\n",
    "b = 2 \n",
    "a+b"
   ]
  },
  {
   "cell_type": "code",
   "execution_count": 24,
   "id": "41ff0fa7",
   "metadata": {},
   "outputs": [],
   "source": [
    "a= 5\n",
    "b = 9\n",
    "c = 10\n"
   ]
  },
  {
   "cell_type": "code",
   "execution_count": 25,
   "id": "7a27836e",
   "metadata": {},
   "outputs": [
    {
     "data": {
      "text/plain": [
       "24"
      ]
     },
     "execution_count": 25,
     "metadata": {},
     "output_type": "execute_result"
    }
   ],
   "source": [
    "a = 5 ; b = 9; c =10\n",
    "a+b+c"
   ]
  },
  {
   "cell_type": "code",
   "execution_count": 26,
   "id": "16c59fcc",
   "metadata": {},
   "outputs": [
    {
     "data": {
      "text/plain": [
       "10"
      ]
     },
     "execution_count": 26,
     "metadata": {},
     "output_type": "execute_result"
    }
   ],
   "source": [
    "c"
   ]
  },
  {
   "cell_type": "code",
   "execution_count": 27,
   "id": "c1ad05fb",
   "metadata": {},
   "outputs": [],
   "source": [
    "a = 1\n",
    "b = 2\n",
    "c = 3"
   ]
  },
  {
   "cell_type": "code",
   "execution_count": 29,
   "id": "8d699251",
   "metadata": {},
   "outputs": [],
   "source": [
    "a,b,c = [1,'a', True],(45,67), {'name': 'Ritik', 'age':27}"
   ]
  },
  {
   "cell_type": "code",
   "execution_count": 30,
   "id": "a63bc01c",
   "metadata": {},
   "outputs": [
    {
     "data": {
      "text/plain": [
       "{'name': 'Ritik', 'age': 27}"
      ]
     },
     "execution_count": 30,
     "metadata": {},
     "output_type": "execute_result"
    }
   ],
   "source": [
    "c"
   ]
  },
  {
   "cell_type": "code",
   "execution_count": 31,
   "id": "aa6f8739",
   "metadata": {},
   "outputs": [
    {
     "data": {
      "text/plain": [
       "(45, 67)"
      ]
     },
     "execution_count": 31,
     "metadata": {},
     "output_type": "execute_result"
    }
   ],
   "source": [
    "b"
   ]
  },
  {
   "cell_type": "code",
   "execution_count": 32,
   "id": "583ebcd6",
   "metadata": {},
   "outputs": [],
   "source": [
    "a , b = b, a"
   ]
  },
  {
   "cell_type": "code",
   "execution_count": 33,
   "id": "398a08ae",
   "metadata": {},
   "outputs": [
    {
     "data": {
      "text/plain": [
       "(45, 67)"
      ]
     },
     "execution_count": 33,
     "metadata": {},
     "output_type": "execute_result"
    }
   ],
   "source": [
    "a"
   ]
  },
  {
   "cell_type": "code",
   "execution_count": 34,
   "id": "8f9aa8a6",
   "metadata": {},
   "outputs": [
    {
     "data": {
      "text/plain": [
       "[1, 'a', True]"
      ]
     },
     "execution_count": 34,
     "metadata": {},
     "output_type": "execute_result"
    }
   ],
   "source": [
    "b"
   ]
  },
  {
   "cell_type": "markdown",
   "id": "de739ed6",
   "metadata": {},
   "source": [
    "# Python comments"
   ]
  },
  {
   "cell_type": "markdown",
   "id": "ee1f147b",
   "metadata": {},
   "source": [
    "Comments are very important while writing a program. They describe what is going on inside  a program, so that a person looking at the source code does not have a hard time \n",
    "figuring it out.\n",
    "\n",
    "\n",
    "In python , We use the hash (#) symbol to start writting a comment.\n",
    "    \n",
    "    \n",
    "It extends up to the newline character. comments are for programmers to better understand a program. python interpreter ignores comments."
   ]
  },
  {
   "cell_type": "code",
   "execution_count": 2,
   "id": "608855c4",
   "metadata": {},
   "outputs": [
    {
     "name": "stdout",
     "output_type": "stream",
     "text": [
      "prasad\n"
     ]
    }
   ],
   "source": [
    "#this statement are \n",
    "print(\"prasad\")"
   ]
  },
  {
   "cell_type": "code",
   "execution_count": 3,
   "id": "1737eacc",
   "metadata": {},
   "outputs": [
    {
     "name": "stdout",
     "output_type": "stream",
     "text": [
      "Hello\n"
     ]
    }
   ],
   "source": [
    "#This is comment\n",
    "#print('Hello')\n",
    "print('Hello')"
   ]
  },
  {
   "cell_type": "markdown",
   "id": "16f45360",
   "metadata": {},
   "source": [
    "We can have comments that extend up to multiple lines. On the way is to use the hash(#) symbol at the beginning of each line. For example:"
   ]
  },
  {
   "cell_type": "code",
   "execution_count": 4,
   "id": "68ed3c12",
   "metadata": {},
   "outputs": [],
   "source": [
    "# This is a long comment\n",
    "# and it extends\n",
    "# to multiple lines"
   ]
  },
  {
   "cell_type": "markdown",
   "id": "44f7a94f",
   "metadata": {},
   "source": [
    "Another way of doing this is to use triple quotes, either '''or'''.\n",
    "#These triple quotes are generally used for multi-line strings. but they can be used as a multi -line comment as well. \n",
    "Unless they are not docstrings,\n",
    "they do not generate any extra code."
   ]
  },
  {
   "cell_type": "code",
   "execution_count": 6,
   "id": "88a30195",
   "metadata": {},
   "outputs": [
    {
     "name": "stdout",
     "output_type": "stream",
     "text": [
      "3\n"
     ]
    }
   ],
   "source": [
    "'''This is also a \n",
    "perfect example of\n",
    "ahjcdjh\n",
    "sdjbdkjas\n",
    "mnbscjsab\n",
    "multi - line comments'''\n",
    "\n",
    "a= 3\n",
    "print(a)"
   ]
  },
  {
   "cell_type": "markdown",
   "id": "59a0b17c",
   "metadata": {},
   "source": [
    "# Indentation in python"
   ]
  },
  {
   "cell_type": "markdown",
   "id": "0bfc19ab",
   "metadata": {},
   "source": [
    "Indentation refers to the spaces at the beginning of the code line.\n",
    "Where in other programming languages the indentation in code is for readebility only, the indentation in python is very important.\n",
    "python uses indentation to indicate a block of code.\n",
    "\n",
    "let's create a simple statement that says:\n",
    "\n",
    "Take a look at how to write a simple if statement"
   ]
  },
  {
   "cell_type": "code",
   "execution_count": 7,
   "id": "33fddbb8",
   "metadata": {},
   "outputs": [],
   "source": [
    "a = 2\n",
    "b = 3\n",
    "if b > a:\n",
    "    a=2\n",
    "    b=5\n",
    "    "
   ]
  },
  {
   "cell_type": "code",
   "execution_count": 8,
   "id": "daf39d69",
   "metadata": {},
   "outputs": [
    {
     "data": {
      "text/plain": [
       "2"
      ]
     },
     "execution_count": 8,
     "metadata": {},
     "output_type": "execute_result"
    }
   ],
   "source": [
    "a\n"
   ]
  },
  {
   "cell_type": "code",
   "execution_count": 9,
   "id": "c43d141f",
   "metadata": {},
   "outputs": [
    {
     "data": {
      "text/plain": [
       "5"
      ]
     },
     "execution_count": 9,
     "metadata": {},
     "output_type": "execute_result"
    }
   ],
   "source": [
    "b\n"
   ]
  },
  {
   "cell_type": "code",
   "execution_count": 10,
   "id": "04883958",
   "metadata": {},
   "outputs": [],
   "source": [
    "a,b=1,2"
   ]
  },
  {
   "cell_type": "code",
   "execution_count": 11,
   "id": "6f10b227",
   "metadata": {},
   "outputs": [
    {
     "data": {
      "text/plain": [
       "1"
      ]
     },
     "execution_count": 11,
     "metadata": {},
     "output_type": "execute_result"
    }
   ],
   "source": [
    "a"
   ]
  },
  {
   "cell_type": "code",
   "execution_count": 12,
   "id": "70582aed",
   "metadata": {},
   "outputs": [
    {
     "data": {
      "text/plain": [
       "2"
      ]
     },
     "execution_count": 12,
     "metadata": {},
     "output_type": "execute_result"
    }
   ],
   "source": [
    "b"
   ]
  },
  {
   "cell_type": "code",
   "execution_count": 13,
   "id": "6f515191",
   "metadata": {},
   "outputs": [
    {
     "ename": "SyntaxError",
     "evalue": "incomplete input (2199404268.py, line 1)",
     "output_type": "error",
     "traceback": [
      "\u001b[1;36m  Cell \u001b[1;32mIn[13], line 1\u001b[1;36m\u001b[0m\n\u001b[1;33m    if a<b:\u001b[0m\n\u001b[1;37m           ^\u001b[0m\n\u001b[1;31mSyntaxError\u001b[0m\u001b[1;31m:\u001b[0m incomplete input\n"
     ]
    }
   ],
   "source": [
    "if a<b:"
   ]
  },
  {
   "cell_type": "markdown",
   "id": "f5a770de",
   "metadata": {},
   "source": [
    "Python is less cluttered and much more readable than other languages liken C or Java. How does python manage this?\n",
    "\n",
    "Semicolons are used to denote statements endings in many other languages, but in python, the end of a line is the same as the end of the statement.\n",
    "\n",
    "Let's take a closer look at indentation syntax in python vs other langauges."
   ]
  },
  {
   "cell_type": "markdown",
   "id": "3e2f3d08",
   "metadata": {},
   "source": [
    "# Conditional Statements"
   ]
  },
  {
   "cell_type": "markdown",
   "id": "721b4d37",
   "metadata": {},
   "source": [
    "if statements in python allows us to tell the computer to perform alternative actions based on certain set of results.\n",
    "\n",
    "verbally, we can imagine we are telling the computer : \"Hey if this case happens, perform some action\"\n",
    "    \n",
    "We can then expend the idea further with elif and else statements, which allow us to tell the computer : \"Hey if this case happens, perform some action.\n",
    "Else, if another case happens, perform some other action. Else, if none of the above cases happend, perform this action.\n",
    "\n",
    "let's go ahead and look at the syntax format for if statements to get a better idea of this:\n",
    "    \n",
    "    "
   ]
  },
  {
   "cell_type": "markdown",
   "id": "08c55e35",
   "metadata": {},
   "source": [
    "if case1 :\n",
    "    \n",
    "    perform action1\n",
    "\n",
    "elif case2 :\n",
    "\n",
    "    perform action2\n",
    "    \n",
    "else :\n",
    "    \n",
    "    perform action3"
   ]
  },
  {
   "cell_type": "markdown",
   "id": "621b1dd1",
   "metadata": {},
   "source": [
    "if case1:\n",
    "    \n",
    "    #do some action\n",
    "    \n",
    "elif case2:\n",
    "    \n",
    "    #another action\n",
    "    \n",
    "elif case3:\n",
    "    \n",
    "    #do some another action\n",
    "    \n",
    "else:\n",
    "    \n",
    "    #do some yet another action"
   ]
  },
  {
   "cell_type": "code",
   "execution_count": 17,
   "id": "f678f5f0",
   "metadata": {},
   "outputs": [],
   "source": [
    "x = 20 # Statement 1 - Assignment statements\n",
    "if x == 30:\n",
    "    print('X is greater than 10!')\n",
    "    print(f'x is {x}')"
   ]
  },
  {
   "cell_type": "markdown",
   "id": "f8be2508",
   "metadata": {},
   "source": [
    "If statements evaluates the true condition"
   ]
  },
  {
   "cell_type": "code",
   "execution_count": 18,
   "id": "16d2582e",
   "metadata": {},
   "outputs": [
    {
     "data": {
      "text/plain": [
       "True"
      ]
     },
     "execution_count": 18,
     "metadata": {},
     "output_type": "execute_result"
    }
   ],
   "source": [
    "x==20"
   ]
  },
  {
   "cell_type": "code",
   "execution_count": 19,
   "id": "0188af7e",
   "metadata": {},
   "outputs": [
    {
     "data": {
      "text/plain": [
       "False"
      ]
     },
     "execution_count": 19,
     "metadata": {},
     "output_type": "execute_result"
    }
   ],
   "source": [
    "x==30"
   ]
  },
  {
   "cell_type": "code",
   "execution_count": 1,
   "id": "9e411cb7",
   "metadata": {},
   "outputs": [
    {
     "name": "stdout",
     "output_type": "stream",
     "text": [
      "It was true!\n"
     ]
    }
   ],
   "source": [
    "if True:\n",
    "    print('It was true!')"
   ]
  },
  {
   "cell_type": "code",
   "execution_count": 3,
   "id": "d5e7c985",
   "metadata": {},
   "outputs": [],
   "source": [
    "if False:\n",
    "    print('it was true!')"
   ]
  },
  {
   "cell_type": "markdown",
   "id": "33beb872",
   "metadata": {},
   "source": [
    "Let's add in some else logic:"
   ]
  },
  {
   "cell_type": "code",
   "execution_count": 5,
   "id": "4f5c8c1f",
   "metadata": {},
   "outputs": [
    {
     "name": "stdout",
     "output_type": "stream",
     "text": [
      "I will be printed in any case where\n"
     ]
    }
   ],
   "source": [
    "x = False \n",
    "y = True \n",
    "\n",
    "if x:\n",
    "    print('y was true!')\n",
    "else:\n",
    "    print('I will be printed in any case where')"
   ]
  },
  {
   "cell_type": "markdown",
   "id": "118fd569",
   "metadata": {},
   "source": [
    "Lets's  get a fuller pitcher of how far if , elif and else can take us.\n",
    "\n",
    "We write this out in a structure. Take note of how the if, elif and else line up in the code. This can help you see what if is related to what elif or else statements."
   ]
  },
  {
   "cell_type": "code",
   "execution_count": 7,
   "id": "f1a3ef4b",
   "metadata": {},
   "outputs": [
    {
     "name": "stdout",
     "output_type": "stream",
     "text": [
      "Welcome to the indian capital\n"
     ]
    }
   ],
   "source": [
    "city = 'New delhi'\n",
    "\n",
    "if city == 'New delhi':\n",
    "    print ('Welcome to the indian capital')\n",
    "elif city == 'Mumbai':\n",
    "    print(' Welcome to the financail capital of india!')\n",
    "else:\n",
    "    print('Where are you?')"
   ]
  },
  {
   "cell_type": "code",
   "execution_count": 9,
   "id": "d1fb7063",
   "metadata": {},
   "outputs": [
    {
     "name": "stdout",
     "output_type": "stream",
     "text": [
      " Welcome to the financail capital of india!\n"
     ]
    }
   ],
   "source": [
    "city = 'Mumbai'\n",
    "\n",
    "if city == 'New delhi':\n",
    "    print ('Welcome to the indian capital')\n",
    "elif city == 'Mumbai':\n",
    "    print(' Welcome to the financail capital of india!')\n",
    "else:\n",
    "    print('Where are you?')"
   ]
  },
  {
   "cell_type": "code",
   "execution_count": 10,
   "id": "7e503f73",
   "metadata": {},
   "outputs": [
    {
     "name": "stdout",
     "output_type": "stream",
     "text": [
      "Where are you?\n"
     ]
    }
   ],
   "source": [
    "city = 'Pune'\n",
    "\n",
    "if city == 'New delhi':\n",
    "    print ('Welcome to the indian capital')\n",
    "elif city == 'Mumbai':\n",
    "    print(' Welcome to the financail capital of india!')\n",
    "else:\n",
    "    print('Where are you?')"
   ]
  },
  {
   "cell_type": "code",
   "execution_count": 11,
   "id": "d753e020",
   "metadata": {},
   "outputs": [
    {
     "name": "stdout",
     "output_type": "stream",
     "text": [
      " Welcome Johnny!\n"
     ]
    }
   ],
   "source": [
    "person = 'Johnny'\n",
    "if person == 'Johnny':\n",
    "    print(f' Welcome {person}!')\n",
    "else :\n",
    "    print(\"Welcome, what's your name?\")"
   ]
  },
  {
   "cell_type": "code",
   "execution_count": 12,
   "id": "755f278c",
   "metadata": {},
   "outputs": [
    {
     "name": "stdout",
     "output_type": "stream",
     "text": [
      "Welcome, what's your name?\n"
     ]
    }
   ],
   "source": [
    "person = 'John'\n",
    "if person == 'Johnny':\n",
    "    print(f' Welcome {person}!')\n",
    "else :\n",
    "    print(\"Welcome, what's your name?\")"
   ]
  },
  {
   "cell_type": "code",
   "execution_count": 13,
   "id": "99986d40",
   "metadata": {},
   "outputs": [
    {
     "name": "stdout",
     "output_type": "stream",
     "text": [
      "Should be greater than 10\n"
     ]
    }
   ],
   "source": [
    "number1 = 5\n",
    "number2 = 12\n",
    "if number1 > 0:\n",
    "    if number2< 10:\n",
    "        print(number2 +number1)\n",
    "    else :\n",
    "        print(\"Should be greater than 10\")\n",
    "elif number1 < 0:\n",
    "    print (\"Ah, that's a negative number \")\n",
    "else:\n",
    "    print(\"The number is Zero!\")"
   ]
  },
  {
   "cell_type": "code",
   "execution_count": 14,
   "id": "b18167b5",
   "metadata": {},
   "outputs": [
    {
     "name": "stdout",
     "output_type": "stream",
     "text": [
      "I have nothing to say\n"
     ]
    }
   ],
   "source": [
    "if False :\n",
    "    print(\"What do you say?\")\n",
    "else:\n",
    "    print(\"I have nothing to say\")"
   ]
  },
  {
   "cell_type": "code",
   "execution_count": 17,
   "id": "080fe804",
   "metadata": {},
   "outputs": [
    {
     "name": "stdout",
     "output_type": "stream",
     "text": [
      "This is True\n"
     ]
    }
   ],
   "source": [
    "if {1:2,3:3}:\n",
    "    print (\"This is True\")\n",
    "else :\n",
    "    print(\"This is false\")"
   ]
  },
  {
   "cell_type": "code",
   "execution_count": 18,
   "id": "d852c144",
   "metadata": {},
   "outputs": [
    {
     "name": "stdout",
     "output_type": "stream",
     "text": [
      "This is True\n"
     ]
    }
   ],
   "source": [
    "if { }:\n",
    "    print(\"This is false\")\n",
    "else:\n",
    "    print(\"This is True\")"
   ]
  },
  {
   "cell_type": "code",
   "execution_count": 19,
   "id": "d991af04",
   "metadata": {},
   "outputs": [
    {
     "name": "stdout",
     "output_type": "stream",
     "text": [
      "This condition are false\n"
     ]
    }
   ],
   "source": [
    "if { }:\n",
    "    print(\"This is an empty braket\")\n",
    "else :\n",
    "    print(\"This condition are false\")"
   ]
  },
  {
   "cell_type": "code",
   "execution_count": 20,
   "id": "a3732044",
   "metadata": {},
   "outputs": [
    {
     "name": "stdout",
     "output_type": "stream",
     "text": [
      "False\n"
     ]
    }
   ],
   "source": [
    "# Expression 5<3\n",
    "if 5<3:\n",
    "    print(\"True\")\n",
    "else:\n",
    "    print(\"False\")"
   ]
  },
  {
   "cell_type": "code",
   "execution_count": 22,
   "id": "b18076e9",
   "metadata": {},
   "outputs": [
    {
     "name": "stdout",
     "output_type": "stream",
     "text": [
      "True\n"
     ]
    }
   ],
   "source": [
    "if 3<5:\n",
    "    print(\"True\")\n",
    "else:\n",
    "    print(\"False\")"
   ]
  },
  {
   "cell_type": "code",
   "execution_count": 23,
   "id": "6c8af219",
   "metadata": {},
   "outputs": [
    {
     "name": "stdout",
     "output_type": "stream",
     "text": [
      "True\n"
     ]
    }
   ],
   "source": [
    "if[ ]:\n",
    "    print(\"False\")\n",
    "else:\n",
    "    print(\"True\")"
   ]
  },
  {
   "cell_type": "code",
   "execution_count": 24,
   "id": "386d45ae",
   "metadata": {},
   "outputs": [
    {
     "name": "stdout",
     "output_type": "stream",
     "text": [
      "Welcome, what's your name?\n"
     ]
    }
   ],
   "source": [
    "person = 'Aniket'\n",
    "if person == 'Johnny':\n",
    "    print(f' Welcome {person}!')\n",
    "else :\n",
    "    print(\"Welcome, what's your name?\")"
   ]
  },
  {
   "cell_type": "code",
   "execution_count": 25,
   "id": "b9ebec1c",
   "metadata": {},
   "outputs": [
    {
     "name": "stdout",
     "output_type": "stream",
     "text": [
      " Welcome Aniket!\n"
     ]
    }
   ],
   "source": [
    "person = 'Aniket'\n",
    "if person == 'Aniket':\n",
    "    print(f' Welcome {person}!')\n",
    "else :\n",
    "    print(\"Welcome, what's your name?\")"
   ]
  },
  {
   "cell_type": "markdown",
   "id": "9b7de068",
   "metadata": {},
   "source": [
    "# Truely and Falsy statement"
   ]
  },
  {
   "cell_type": "markdown",
   "id": "8fa6ea67",
   "metadata": {},
   "source": [
    "A \"Truely\" value will satisfy the check performed by  if or else statements. We use \"Truely\" and \"Falsy\" to differentiate from the boolean values True and False.\n",
    "\n",
    "All values are considered \"Truly\" except for the following, which are \"Falsy\"."
   ]
  },
  {
   "cell_type": "markdown",
   "id": "bbfaf7fe",
   "metadata": {},
   "source": [
    "None\n",
    "\n",
    "False\n",
    "\n",
    "0\n",
    "\n",
    "0.0\n",
    "\n",
    "[]- an enpty list\n",
    "\n",
    "{}- an empty dict\n",
    "\n",
    "()- an empty tuple\n",
    "\n",
    "'' - an empty str"
   ]
  },
  {
   "cell_type": "code",
   "execution_count": 27,
   "id": "7e2b30ca",
   "metadata": {},
   "outputs": [
    {
     "name": "stdout",
     "output_type": "stream",
     "text": [
      "This statement is True\n"
     ]
    }
   ],
   "source": [
    "if False:\n",
    "    print(\"This statement is False\")\n",
    "else:\n",
    "    print(\"This statement is True\")"
   ]
  },
  {
   "cell_type": "code",
   "execution_count": 28,
   "id": "782813e0",
   "metadata": {},
   "outputs": [
    {
     "name": "stdout",
     "output_type": "stream",
     "text": [
      "This statement is False\n"
     ]
    }
   ],
   "source": [
    "if True:\n",
    "    print(\"This statement is False\")\n",
    "else:\n",
    "    print(\"This statement is True\")"
   ]
  },
  {
   "cell_type": "code",
   "execution_count": 32,
   "id": "74f1ee12",
   "metadata": {},
   "outputs": [
    {
     "name": "stdout",
     "output_type": "stream",
     "text": [
      "set\n"
     ]
    }
   ],
   "source": [
    "if [ ]:\n",
    "    print(\"Empty set\")\n",
    "else:\n",
    "    print(\"set\")"
   ]
  },
  {
   "cell_type": "code",
   "execution_count": 33,
   "id": "9949ee80",
   "metadata": {},
   "outputs": [
    {
     "name": "stdout",
     "output_type": "stream",
     "text": [
      "Empty set\n"
     ]
    }
   ],
   "source": [
    "if [12,58,96]:\n",
    "    print(\"Empty set\")\n",
    "else:\n",
    "    print(\"set\")\n",
    "    "
   ]
  },
  {
   "cell_type": "code",
   "execution_count": 34,
   "id": "7e70ba57",
   "metadata": {},
   "outputs": [
    {
     "name": "stdout",
     "output_type": "stream",
     "text": [
      "dict\n"
     ]
    }
   ],
   "source": [
    "if { }:\n",
    "    print(\"Empty dict\")\n",
    "else:\n",
    "    print(\"dict\")"
   ]
  },
  {
   "cell_type": "code",
   "execution_count": 35,
   "id": "ddb71d7a",
   "metadata": {},
   "outputs": [
    {
     "name": "stdout",
     "output_type": "stream",
     "text": [
      "Empty dict\n"
     ]
    }
   ],
   "source": [
    "if { 12:15, 85:96}:\n",
    "    print(\"Empty dict\")\n",
    "else:\n",
    "    print(\"dict\")"
   ]
  },
  {
   "cell_type": "code",
   "execution_count": 36,
   "id": "ded1559b",
   "metadata": {},
   "outputs": [
    {
     "name": "stdout",
     "output_type": "stream",
     "text": [
      "Empty string\n"
     ]
    }
   ],
   "source": [
    "if ' ':\n",
    "    print(\"Empty string\")\n",
    "else:\n",
    "    print(\"str\")"
   ]
  },
  {
   "cell_type": "code",
   "execution_count": 37,
   "id": "e96677ab",
   "metadata": {},
   "outputs": [
    {
     "name": "stdout",
     "output_type": "stream",
     "text": [
      "Empty string\n"
     ]
    }
   ],
   "source": [
    "if 'aniket':\n",
    "    print(\"Empty string\")\n",
    "else:\n",
    "    print(\"str\")"
   ]
  },
  {
   "cell_type": "code",
   "execution_count": 38,
   "id": "1e6c6528",
   "metadata": {},
   "outputs": [
    {
     "name": "stdout",
     "output_type": "stream",
     "text": [
      "tuple\n"
     ]
    }
   ],
   "source": [
    "if ( ):\n",
    "    print(\"Empty tuple\")\n",
    "else:\n",
    "    print(\"tuple\")"
   ]
  },
  {
   "cell_type": "code",
   "execution_count": 39,
   "id": "d69f0290",
   "metadata": {},
   "outputs": [
    {
     "name": "stdout",
     "output_type": "stream",
     "text": [
      "Empty tuple\n"
     ]
    }
   ],
   "source": [
    "if ( 15,89,866,26):\n",
    "    print(\"Empty tuple\")\n",
    "else:\n",
    "    print(\"tuple\")"
   ]
  },
  {
   "cell_type": "code",
   "execution_count": 42,
   "id": "7c85cdf1",
   "metadata": {},
   "outputs": [
    {
     "name": "stdout",
     "output_type": "stream",
     "text": [
      "Empty string\n"
     ]
    }
   ],
   "source": [
    "if (\" \"):\n",
    "    print(\"Empty string\")\n",
    "else:\n",
    "    print(\"Only string\")"
   ]
  },
  {
   "cell_type": "code",
   "execution_count": 43,
   "id": "eab7cc96",
   "metadata": {},
   "outputs": [
    {
     "name": "stdout",
     "output_type": "stream",
     "text": [
      "Empty string\n"
     ]
    }
   ],
   "source": [
    "a = ' '\n",
    "if a == ' ':\n",
    "    print(\"Empty string\")\n",
    "else:\n",
    "    print(\"Only string\")"
   ]
  },
  {
   "cell_type": "code",
   "execution_count": 44,
   "id": "b85f3ab4",
   "metadata": {},
   "outputs": [
    {
     "name": "stdout",
     "output_type": "stream",
     "text": [
      "Only string\n"
     ]
    }
   ],
   "source": [
    "a = 'Aniket'\n",
    "if a == ' ':\n",
    "    print(\"Empty string\")\n",
    "else:\n",
    "    print(\"Only string\")"
   ]
  },
  {
   "cell_type": "code",
   "execution_count": 45,
   "id": "864ddfbd",
   "metadata": {},
   "outputs": [
    {
     "name": "stdout",
     "output_type": "stream",
     "text": [
      "Condition is False because it's empty str\n"
     ]
    }
   ],
   "source": [
    "a = ' '\n",
    "if a == ' ':\n",
    "    print(\"Condition is False because it's empty str\")\n",
    "else:\n",
    "    print(\"Condition is True\")"
   ]
  },
  {
   "cell_type": "code",
   "execution_count": 46,
   "id": "92f0b488",
   "metadata": {},
   "outputs": [
    {
     "name": "stdout",
     "output_type": "stream",
     "text": [
      "Condition is True\n"
     ]
    }
   ],
   "source": [
    "a = 'Aniket'\n",
    "if a == ' ':\n",
    "    print(\"Condition is False because it's empty str\")\n",
    "else:\n",
    "    print(\"Condition is True\")"
   ]
  },
  {
   "cell_type": "code",
   "execution_count": 47,
   "id": "ab4144b2",
   "metadata": {},
   "outputs": [
    {
     "name": "stdout",
     "output_type": "stream",
     "text": [
      "Condition is False\n"
     ]
    }
   ],
   "source": [
    "if \"True\":\n",
    "    print(\"Condition is False\")\n",
    "else:\n",
    "    print(\"Condition is true\")"
   ]
  },
  {
   "cell_type": "code",
   "execution_count": null,
   "id": "96f41a4b",
   "metadata": {},
   "outputs": [],
   "source": []
  }
 ],
 "metadata": {
  "kernelspec": {
   "display_name": "Python 3 (ipykernel)",
   "language": "python",
   "name": "python3"
  },
  "language_info": {
   "codemirror_mode": {
    "name": "ipython",
    "version": 3
   },
   "file_extension": ".py",
   "mimetype": "text/x-python",
   "name": "python",
   "nbconvert_exporter": "python",
   "pygments_lexer": "ipython3",
   "version": "3.11.3"
  }
 },
 "nbformat": 4,
 "nbformat_minor": 5
}
