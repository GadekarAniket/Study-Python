{
 "cells": [
  {
   "cell_type": "markdown",
   "id": "0f3f3671",
   "metadata": {},
   "source": [
    "# Set"
   ]
  },
  {
   "cell_type": "markdown",
   "id": "3d680a46",
   "metadata": {},
   "source": [
    "Sets are unordered collection of unique elements, we can construct them by using the set() function.\n",
    "sets connect have duplicates.\n",
    "sets are mutable just like list.\n",
    "you can a non-empty set with curly braces by specifying elemets seprated by a comma."
   ]
  },
  {
   "cell_type": "code",
   "execution_count": 1,
   "id": "e3577719",
   "metadata": {},
   "outputs": [],
   "source": [
    "# create an empty set \n",
    "empty_set = set()"
   ]
  },
  {
   "cell_type": "code",
   "execution_count": 3,
   "id": "9502486d",
   "metadata": {},
   "outputs": [
    {
     "data": {
      "text/plain": [
       "set"
      ]
     },
     "execution_count": 3,
     "metadata": {},
     "output_type": "execute_result"
    }
   ],
   "source": [
    "type(empty_set)"
   ]
  },
  {
   "cell_type": "code",
   "execution_count": 4,
   "id": "c4f43a72",
   "metadata": {},
   "outputs": [],
   "source": [
    "#create a non_empty set whitin curly braces.\n",
    "non_empty_set = {1,6,4,'abc',5}"
   ]
  },
  {
   "cell_type": "code",
   "execution_count": 5,
   "id": "411214f7",
   "metadata": {},
   "outputs": [
    {
     "name": "stdout",
     "output_type": "stream",
     "text": [
      "{1, 4, 5, 6, 'abc'}\n"
     ]
    }
   ],
   "source": [
    "print(non_empty_set)"
   ]
  },
  {
   "cell_type": "code",
   "execution_count": 6,
   "id": "838c49c0",
   "metadata": {},
   "outputs": [
    {
     "data": {
      "text/plain": [
       "set"
      ]
     },
     "execution_count": 6,
     "metadata": {},
     "output_type": "execute_result"
    }
   ],
   "source": [
    "type(non_empty_set)"
   ]
  },
  {
   "cell_type": "markdown",
   "id": "2bcad037",
   "metadata": {},
   "source": [
    "# We cannot create a set whose any of the elements is a list"
   ]
  },
  {
   "cell_type": "markdown",
   "id": "53d8b421",
   "metadata": {},
   "source": [
    "We can cast a list with mulitple repeat elements to a set to get the unique elements."
   ]
  },
  {
   "cell_type": "code",
   "execution_count": 8,
   "id": "654d301c",
   "metadata": {},
   "outputs": [
    {
     "name": "stdout",
     "output_type": "stream",
     "text": [
      "[1, 1, 2, 2, 3, 5, 6, 1, 1, 1]\n"
     ]
    }
   ],
   "source": [
    "#create a list with repeate.\n",
    "my_list = [1,1,2,2,3,5,6,1,1,1]\n",
    "print(my_list)"
   ]
  },
  {
   "cell_type": "code",
   "execution_count": 9,
   "id": "f419d4d3",
   "metadata": {},
   "outputs": [],
   "source": [
    "# Cast as set to get unique values.\n",
    "my_set = set(my_list)"
   ]
  },
  {
   "cell_type": "code",
   "execution_count": 10,
   "id": "8ccad80e",
   "metadata": {},
   "outputs": [
    {
     "data": {
      "text/plain": [
       "{1, 2, 3, 5, 6}"
      ]
     },
     "execution_count": 10,
     "metadata": {},
     "output_type": "execute_result"
    }
   ],
   "source": [
    "my_set"
   ]
  },
  {
   "cell_type": "markdown",
   "id": "2a7ef116",
   "metadata": {},
   "source": [
    "# A set cannot have mutable items"
   ]
  },
  {
   "cell_type": "code",
   "execution_count": 11,
   "id": "553c6c6c",
   "metadata": {},
   "outputs": [
    {
     "name": "stdout",
     "output_type": "stream",
     "text": [
      "{1, 2, (3, 4)}\n"
     ]
    }
   ],
   "source": [
    "my_set = {1,2,(3,4)}\n",
    "print(my_set)"
   ]
  },
  {
   "cell_type": "markdown",
   "id": "fed60930",
   "metadata": {},
   "source": [
    "# ADD Method"
   ]
  },
  {
   "cell_type": "markdown",
   "id": "83442356",
   "metadata": {},
   "source": [
    "add () method adds an elements to a set.\n",
    "\n",
    "\n",
    "this method takes the elemnts to be added as an arguments."
   ]
  },
  {
   "cell_type": "code",
   "execution_count": 12,
   "id": "e0d562b9",
   "metadata": {},
   "outputs": [],
   "source": [
    "#we add to sets with the add( )method\n",
    "my_set = set()   #empty set\n",
    "my_set.add('b')"
   ]
  },
  {
   "cell_type": "code",
   "execution_count": 13,
   "id": "d511a734",
   "metadata": {},
   "outputs": [
    {
     "data": {
      "text/plain": [
       "{'b'}"
      ]
     },
     "execution_count": 13,
     "metadata": {},
     "output_type": "execute_result"
    }
   ],
   "source": [
    "#show\n",
    "my_set"
   ]
  },
  {
   "cell_type": "code",
   "execution_count": 17,
   "id": "efe1d842",
   "metadata": {},
   "outputs": [
    {
     "data": {
      "text/plain": [
       "{'prasad'}"
      ]
     },
     "execution_count": 17,
     "metadata": {},
     "output_type": "execute_result"
    }
   ],
   "source": [
    "my_set2 = set()\n",
    "my_set2.add('prasad')\n",
    "#show \n",
    "my_set2"
   ]
  },
  {
   "cell_type": "code",
   "execution_count": 18,
   "id": "eab38889",
   "metadata": {},
   "outputs": [
    {
     "data": {
      "text/plain": [
       "{'a', 'b', 'jen'}"
      ]
     },
     "execution_count": 18,
     "metadata": {},
     "output_type": "execute_result"
    }
   ],
   "source": [
    "# we add to sets with the add() method\n",
    "my_set = set()\n",
    "my_set.add('jen')\n",
    "#show\n",
    "my_set\n",
    "my_set.add('a')\n",
    "#show\n",
    "my_set.add('b')\n",
    "#show\n",
    "my_set"
   ]
  },
  {
   "cell_type": "code",
   "execution_count": 20,
   "id": "c3567ac9",
   "metadata": {},
   "outputs": [
    {
     "data": {
      "text/plain": [
       "{'Mark:95%', 'Name:prasad', 'Roll number : 25', 'Std:12'}"
      ]
     },
     "execution_count": 20,
     "metadata": {},
     "output_type": "execute_result"
    }
   ],
   "source": [
    "student = set()\n",
    "student.add(\"Name:prasad\")\n",
    "#show \n",
    "student\n",
    "student.add(\"Roll number : 25\")\n",
    "#show\n",
    "student\n",
    "student.add(\"Std:12\")\n",
    "#show\n",
    "student\n",
    "student.add(\"Mark:95%\")\n",
    "#show\n",
    "student"
   ]
  },
  {
   "cell_type": "markdown",
   "id": "4a87eb0f",
   "metadata": {},
   "source": [
    "# Remove method"
   ]
  },
  {
   "cell_type": "markdown",
   "id": "c4fa3257",
   "metadata": {},
   "source": [
    "Use remove() ro remove an items elements from the set by default remove() to specified elements the specified elements the set remove( ) takes the elements as an arguments."
   ]
  },
  {
   "cell_type": "markdown",
   "id": "cb83b1d3",
   "metadata": {},
   "source": []
  },
  {
   "cell_type": "code",
   "execution_count": 23,
   "id": "f0dc6880",
   "metadata": {},
   "outputs": [
    {
     "name": "stdout",
     "output_type": "stream",
     "text": [
      "{1, 2, 5, 6, 73}\n"
     ]
    }
   ],
   "source": [
    "non_empty_set = {1,5,6,73,2}\n",
    "print(non_empty_set)"
   ]
  },
  {
   "cell_type": "code",
   "execution_count": 24,
   "id": "2915c197",
   "metadata": {},
   "outputs": [
    {
     "name": "stdout",
     "output_type": "stream",
     "text": [
      "{65, 2, 3, 4, 5, 45}\n",
      "{2, 3, 4, 5, 45}\n"
     ]
    }
   ],
   "source": [
    "set_2 = {2,3,4,5,65,45}\n",
    "print(set_2)\n",
    "set_2.remove(65)\n",
    "print(set_2)"
   ]
  },
  {
   "cell_type": "markdown",
   "id": "93017194",
   "metadata": {},
   "source": [
    "# Union()"
   ]
  },
  {
   "cell_type": "markdown",
   "id": "6374da80",
   "metadata": {},
   "source": [
    "Union() method returns the union of two set also denoted by the operator"
   ]
  },
  {
   "cell_type": "markdown",
   "id": "1ccc6537",
   "metadata": {},
   "source": [
    "union = add two sets"
   ]
  },
  {
   "cell_type": "code",
   "execution_count": 26,
   "id": "4ba16f2d",
   "metadata": {},
   "outputs": [],
   "source": [
    "#initialize sets A and B\n",
    "A ={1,2,3,4,5}\n",
    "B = {4,5,6,7,8}"
   ]
  },
  {
   "cell_type": "code",
   "execution_count": 27,
   "id": "a85c704c",
   "metadata": {},
   "outputs": [
    {
     "data": {
      "text/plain": [
       "{1, 2, 3, 4, 5, 6, 7, 8}"
      ]
     },
     "execution_count": 27,
     "metadata": {},
     "output_type": "execute_result"
    }
   ],
   "source": [
    "A.union(B)"
   ]
  },
  {
   "cell_type": "code",
   "execution_count": 28,
   "id": "1cf4e8aa",
   "metadata": {},
   "outputs": [
    {
     "data": {
      "text/plain": [
       "{1, 2, 3, 4, 5, 6, 7, 8}"
      ]
     },
     "execution_count": 28,
     "metadata": {},
     "output_type": "execute_result"
    }
   ],
   "source": [
    "B.union(A)"
   ]
  },
  {
   "cell_type": "code",
   "execution_count": 29,
   "id": "9aaf0259",
   "metadata": {},
   "outputs": [
    {
     "data": {
      "text/plain": [
       "{1, 2, 3, 4, 5}"
      ]
     },
     "execution_count": 29,
     "metadata": {},
     "output_type": "execute_result"
    }
   ],
   "source": [
    "A"
   ]
  },
  {
   "cell_type": "code",
   "execution_count": 30,
   "id": "f5855d71",
   "metadata": {},
   "outputs": [
    {
     "data": {
      "text/plain": [
       "{4, 5, 6, 7, 8}"
      ]
     },
     "execution_count": 30,
     "metadata": {},
     "output_type": "execute_result"
    }
   ],
   "source": [
    "B"
   ]
  },
  {
   "cell_type": "code",
   "execution_count": 31,
   "id": "868d3b07",
   "metadata": {},
   "outputs": [
    {
     "data": {
      "text/plain": [
       "{1, 2, 3, 4, 5, 6, 7, 8}"
      ]
     },
     "execution_count": 31,
     "metadata": {},
     "output_type": "execute_result"
    }
   ],
   "source": [
    "A|B"
   ]
  },
  {
   "cell_type": "code",
   "execution_count": 32,
   "id": "09679690",
   "metadata": {},
   "outputs": [
    {
     "data": {
      "text/plain": [
       "{'Madhuri', 'Prasad', 'Sam', 'jack', 'mesh', 'neek', 'van'}"
      ]
     },
     "execution_count": 32,
     "metadata": {},
     "output_type": "execute_result"
    }
   ],
   "source": [
    "#Intialize sets A and B\n",
    "A = {'Prasad', 'Madhuri','van', 'jack'}\n",
    "B = {'Sam', 'mesh', 'neek'}\n",
    "A|B"
   ]
  },
  {
   "cell_type": "markdown",
   "id": "05952b2a",
   "metadata": {},
   "source": [
    "# Intersection()"
   ]
  },
  {
   "cell_type": "markdown",
   "id": "1b6f090b",
   "metadata": {},
   "source": [
    "Intersection( ) method returns the intersection of two sets also denoted by the operaters and types."
   ]
  },
  {
   "cell_type": "code",
   "execution_count": 33,
   "id": "dc203878",
   "metadata": {},
   "outputs": [
    {
     "data": {
      "text/plain": [
       "{4, 5}"
      ]
     },
     "execution_count": 33,
     "metadata": {},
     "output_type": "execute_result"
    }
   ],
   "source": [
    "A = {1,2,3,4,5}\n",
    "B = {4,5,6,7,8}\n",
    "A.intersection(B)"
   ]
  },
  {
   "cell_type": "code",
   "execution_count": 34,
   "id": "9d92b922",
   "metadata": {},
   "outputs": [
    {
     "data": {
      "text/plain": [
       "{4, 5}"
      ]
     },
     "execution_count": 34,
     "metadata": {},
     "output_type": "execute_result"
    }
   ],
   "source": [
    "A = {1,2,3,4,5}\n",
    "B = {4,5,6,7,8}\n",
    "A&B"
   ]
  },
  {
   "cell_type": "code",
   "execution_count": 35,
   "id": "1958b763",
   "metadata": {},
   "outputs": [
    {
     "data": {
      "text/plain": [
       "{4, 5}"
      ]
     },
     "execution_count": 35,
     "metadata": {},
     "output_type": "execute_result"
    }
   ],
   "source": [
    "A&B"
   ]
  },
  {
   "cell_type": "code",
   "execution_count": null,
   "id": "7de0f243",
   "metadata": {},
   "outputs": [],
   "source": []
  }
 ],
 "metadata": {
  "kernelspec": {
   "display_name": "Python 3 (ipykernel)",
   "language": "python",
   "name": "python3"
  },
  "language_info": {
   "codemirror_mode": {
    "name": "ipython",
    "version": 3
   },
   "file_extension": ".py",
   "mimetype": "text/x-python",
   "name": "python",
   "nbconvert_exporter": "python",
   "pygments_lexer": "ipython3",
   "version": "3.11.3"
  }
 },
 "nbformat": 4,
 "nbformat_minor": 5
}
