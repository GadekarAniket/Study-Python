{
 "cells": [
  {
   "cell_type": "markdown",
   "id": "32ff52ce",
   "metadata": {},
   "source": [
    "# Dict"
   ]
  },
  {
   "cell_type": "markdown",
   "id": "b9334f87",
   "metadata": {},
   "source": [
    "It is always use in curly brakets{}.\n",
    "It is use with key and values pairs."
   ]
  },
  {
   "cell_type": "code",
   "execution_count": null,
   "id": "2e4fb2c3",
   "metadata": {},
   "outputs": [],
   "source": [
    "{key : values}"
   ]
  },
  {
   "cell_type": "code",
   "execution_count": null,
   "id": "29e5cef8",
   "metadata": {},
   "outputs": [],
   "source": [
    "keys = ram , sanket, shubham\n",
    "values = 12,22,23"
   ]
  },
  {
   "cell_type": "code",
   "execution_count": 2,
   "id": "d22f6bf2",
   "metadata": {},
   "outputs": [
    {
     "name": "stdout",
     "output_type": "stream",
     "text": [
      "{'ram': 12, 'sanket': 22, 'shubham': 23}\n"
     ]
    }
   ],
   "source": [
    "dict_1 = {'ram':12, 'sanket':22, 'shubham':23}\n",
    "print(dict_1)"
   ]
  },
  {
   "cell_type": "code",
   "execution_count": 3,
   "id": "8c33bc7b",
   "metadata": {},
   "outputs": [
    {
     "data": {
      "text/plain": [
       "dict"
      ]
     },
     "execution_count": 3,
     "metadata": {},
     "output_type": "execute_result"
    }
   ],
   "source": [
    "type(dict_1)"
   ]
  },
  {
   "cell_type": "code",
   "execution_count": 4,
   "id": "e80cae00",
   "metadata": {},
   "outputs": [
    {
     "data": {
      "text/plain": [
       "3"
      ]
     },
     "execution_count": 4,
     "metadata": {},
     "output_type": "execute_result"
    }
   ],
   "source": [
    "len(dict_1)"
   ]
  },
  {
   "cell_type": "markdown",
   "id": "6076909f",
   "metadata": {},
   "source": [
    "# Items"
   ]
  },
  {
   "cell_type": "markdown",
   "id": "48b7e651",
   "metadata": {},
   "source": [
    "Items (method) returns the list of the keys and values"
   ]
  },
  {
   "cell_type": "code",
   "execution_count": 5,
   "id": "1c8ab9fb",
   "metadata": {},
   "outputs": [
    {
     "name": "stdout",
     "output_type": "stream",
     "text": [
      "{'name': 'raj', 'place': 'mumbai', 'weapon': 'hameer', '1': '2'}\n"
     ]
    }
   ],
   "source": [
    "Items = {'name':'raj', 'place':'mumbai', 'weapon':'hameer', '1':'2'}\n",
    "print(Items)"
   ]
  },
  {
   "cell_type": "code",
   "execution_count": 7,
   "id": "eca603c6",
   "metadata": {},
   "outputs": [
    {
     "data": {
      "text/plain": [
       "[('name', 'raj'), ('place', 'mumbai'), ('weapon', 'hameer'), ('1', '2')]"
      ]
     },
     "execution_count": 7,
     "metadata": {},
     "output_type": "execute_result"
    }
   ],
   "source": [
    "#Get the keys and their corresponding values\n",
    "list(Items.items())"
   ]
  },
  {
   "cell_type": "markdown",
   "id": "9debdbf8",
   "metadata": {},
   "source": [
    "We can also use the get() method to extract a particular value of key- values pair."
   ]
  },
  {
   "cell_type": "code",
   "execution_count": 8,
   "id": "fb5ecd0f",
   "metadata": {},
   "outputs": [
    {
     "name": "stdout",
     "output_type": "stream",
     "text": [
      "{'name': 'raj', 'place': 'mumbai', 'weapon': 'hameer', '1': '2'}\n"
     ]
    },
    {
     "data": {
      "text/plain": [
       "'raj'"
      ]
     },
     "execution_count": 8,
     "metadata": {},
     "output_type": "execute_result"
    }
   ],
   "source": [
    "items = {'name':'raj', 'place':'mumbai', 'weapon':'hameer', '1':'2'}\n",
    "print(items)\n",
    "items.get('name')"
   ]
  },
  {
   "cell_type": "markdown",
   "id": "995cd9b8",
   "metadata": {},
   "source": [
    "# Get()"
   ]
  },
  {
   "cell_type": "markdown",
   "id": "9272b9f1",
   "metadata": {},
   "source": [
    "get()method takes the key as an arguments andreturs None if the key is not found in the dictionary."
   ]
  },
  {
   "cell_type": "markdown",
   "id": "18d9a929",
   "metadata": {},
   "source": [
    "We can also set the value to return if a key is not found, This will be passed as the second arguments."
   ]
  },
  {
   "cell_type": "code",
   "execution_count": 1,
   "id": "f1f036bf",
   "metadata": {},
   "outputs": [
    {
     "name": "stdout",
     "output_type": "stream",
     "text": [
      "{'name': 'raj', 'place': 'mumbai', 'weapon': 'hameer', '1': '2'}\n"
     ]
    }
   ],
   "source": [
    "dict_1 = {'name':'raj', 'place':'mumbai', 'weapon':'hameer', '1':'2'}\n",
    "print(dict_1)"
   ]
  },
  {
   "cell_type": "code",
   "execution_count": 2,
   "id": "64a7185b",
   "metadata": {},
   "outputs": [
    {
     "data": {
      "text/plain": [
       "'mumbai'"
      ]
     },
     "execution_count": 2,
     "metadata": {},
     "output_type": "execute_result"
    }
   ],
   "source": [
    "dict_1.get('place')"
   ]
  },
  {
   "cell_type": "code",
   "execution_count": 8,
   "id": "d1e2e2c3",
   "metadata": {},
   "outputs": [],
   "source": [
    "dict_1.get('pune')"
   ]
  },
  {
   "cell_type": "code",
   "execution_count": 10,
   "id": "0baa97c0",
   "metadata": {},
   "outputs": [
    {
     "data": {
      "text/plain": [
       "'ihjkl'"
      ]
     },
     "execution_count": 10,
     "metadata": {},
     "output_type": "execute_result"
    }
   ],
   "source": [
    "dict_1.get('pune','ihjkl')"
   ]
  },
  {
   "cell_type": "code",
   "execution_count": 4,
   "id": "2f1d47dc",
   "metadata": {},
   "outputs": [],
   "source": [
    "dict_1.get('12')"
   ]
  },
  {
   "cell_type": "code",
   "execution_count": 15,
   "id": "1144c3ff",
   "metadata": {},
   "outputs": [
    {
     "name": "stdout",
     "output_type": "stream",
     "text": [
      "{'name': 'pooja', 'skills': ['python', 'ML', 'Deep learning'], 'age': '23'}\n"
     ]
    }
   ],
   "source": [
    "dict_2 = {'name':'pooja', 'skills' : ['python','ML', 'Deep learning'], 'age':'23'}\n",
    "print(dict_2)"
   ]
  },
  {
   "cell_type": "code",
   "execution_count": 16,
   "id": "03ca870f",
   "metadata": {},
   "outputs": [
    {
     "data": {
      "text/plain": [
       "3"
      ]
     },
     "execution_count": 16,
     "metadata": {},
     "output_type": "execute_result"
    }
   ],
   "source": [
    "len(dict_2)"
   ]
  },
  {
   "cell_type": "markdown",
   "id": "46e6d2bc",
   "metadata": {},
   "source": [
    "# Update"
   ]
  },
  {
   "cell_type": "markdown",
   "id": "09113b4d",
   "metadata": {},
   "source": [
    "You can add an elements which is a key-value pair using the updates()method."
   ]
  },
  {
   "cell_type": "markdown",
   "id": "f1082311",
   "metadata": {},
   "source": [
    "This method takes a dict as an arguments."
   ]
  },
  {
   "cell_type": "markdown",
   "id": "b2043e48",
   "metadata": {},
   "source": [
    "employee.update({'salary':20000})"
   ]
  },
  {
   "cell_type": "code",
   "execution_count": 17,
   "id": "52b9e4f4",
   "metadata": {},
   "outputs": [
    {
     "name": "stdout",
     "output_type": "stream",
     "text": [
      "{'Name': 'sanket', 'skills': ['python', 'ML', 'Deep learning'], 'age': '23', 'bond': 6, 'promotion': '[2016,2018,2019]'}\n"
     ]
    }
   ],
   "source": [
    "employee = {'Name':'sanket','skills':['python','ML', 'Deep learning'],'age':'23','bond':6,'promotion':'[2016,2018,2019]'}\n",
    "print(employee)"
   ]
  },
  {
   "cell_type": "code",
   "execution_count": 19,
   "id": "16a2ab55",
   "metadata": {},
   "outputs": [
    {
     "name": "stdout",
     "output_type": "stream",
     "text": [
      "{'name': 'sanket', 'skills': ['python', 'ML', 'Deep learning'], 'age': '23', 'bond': 6, 'promotion': '[2016,2018,2019]', 'salary': 20000}\n"
     ]
    }
   ],
   "source": [
    "employee.update({'salary':20000})\n",
    "print(employee)"
   ]
  },
  {
   "cell_type": "markdown",
   "id": "17c1f7c5",
   "metadata": {},
   "source": [
    "We can also use the update()method to upate the existing value for a key."
   ]
  },
  {
   "cell_type": "code",
   "execution_count": 20,
   "id": "96a499de",
   "metadata": {},
   "outputs": [
    {
     "data": {
      "text/plain": [
       "'sanket'"
      ]
     },
     "execution_count": 20,
     "metadata": {},
     "output_type": "execute_result"
    }
   ],
   "source": [
    "employee['name']"
   ]
  },
  {
   "cell_type": "markdown",
   "id": "a3ca6559",
   "metadata": {},
   "source": [
    "# DICT Method"
   ]
  },
  {
   "cell_type": "markdown",
   "id": "9b3ab40b",
   "metadata": {},
   "source": [
    "a dict store key-value pairs of data.\n",
    "a dict is the objects type for a dict, and can be created using curly braces{ } or the dict( ) functionthere are several useful dict operation."
   ]
  },
  {
   "cell_type": "code",
   "execution_count": null,
   "id": "194a8b79",
   "metadata": {},
   "outputs": [],
   "source": [
    "my_dict[key] = gets the value associated with specified key.\n",
    "my_dict[key](value) = adds an entry dose not exist, els modifieds the existing entry \n",
    "del my_dict[key] = deletes the key drom dict.\n",
    "let in my_dict = checks if the key exists in my_dict"
   ]
  },
  {
   "cell_type": "code",
   "execution_count": 30,
   "id": "31a06e57",
   "metadata": {},
   "outputs": [
    {
     "name": "stdout",
     "output_type": "stream",
     "text": [
      "Nav = Aniket\n",
      "Age = 28\n",
      "skills = ['python', 'AI', 'Deep learning']\n",
      "city = Mumbai\n"
     ]
    }
   ],
   "source": [
    "Stud = {'Nav':'Aniket','Age':'28','skills':['python','AI','Deep learning'],'city':'Mumbai'}\n",
    "for m in Stud:\n",
    "    print(m,'=',Stud[m])"
   ]
  },
  {
   "cell_type": "code",
   "execution_count": 31,
   "id": "fe5fb4c5",
   "metadata": {},
   "outputs": [
    {
     "name": "stdout",
     "output_type": "stream",
     "text": [
      "{'CA': 'california', 'MI': 'Michigan', 'FL': 'Flodida'}\n",
      "CA = california\n",
      "MI = Michigan\n",
      "FL = Flodida\n"
     ]
    }
   ],
   "source": [
    "State = {'CA': 'california', 'MI':'Michigan','FL':'Flodida'}\n",
    "print(State)\n",
    "for city in State:\n",
    "    print(city, '=', State[city])"
   ]
  },
  {
   "cell_type": "markdown",
   "id": "30ec0ea4",
   "metadata": {},
   "source": [
    "dict = {'name':'raj', 'village':'pairari', 'post office': 'piraridih', 'dict':'saran', 'pincode':'841222', 'phone no':'123'}\n",
    "for a in dict:\n",
    "    print(a,'=',dict[a])\n",
    "    \n"
   ]
  },
  {
   "cell_type": "code",
   "execution_count": 32,
   "id": "76beed66",
   "metadata": {},
   "outputs": [
    {
     "name": "stdout",
     "output_type": "stream",
     "text": [
      "name --- raj\n",
      "village --- pairari\n",
      "post office --- piraridih\n",
      "dict --- saran\n",
      "pincode --- 841222\n",
      "phone no --- 123\n"
     ]
    }
   ],
   "source": [
    "Base = {'name':'raj', 'village':'pairari', 'post office': 'piraridih', 'dict':'saran', 'pincode':'841222', 'phone no':'123'}\n",
    "for a in Base:\n",
    "    print(a,'---',Base[a])"
   ]
  },
  {
   "cell_type": "markdown",
   "id": "a7eeb33e",
   "metadata": {},
   "source": [
    "# POP()"
   ]
  },
  {
   "cell_type": "markdown",
   "id": "69340441",
   "metadata": {},
   "source": [
    "Python pop() method can be use to delete a key and a values asociated with it. pop() method removes and returns  an elements from a dict.\n",
    "having the given key. this method takes two arguments/ parameter(1).\n",
    "Syntax:\n",
    "    Dict_name.pop(key,value if key not found)\n",
    "    1. key is a mandatory arguments.\n",
    "    2. if key is not found is a optional argument."
   ]
  },
  {
   "cell_type": "code",
   "execution_count": 7,
   "id": "2e6569ef",
   "metadata": {},
   "outputs": [
    {
     "name": "stdout",
     "output_type": "stream",
     "text": [
      "{'prasad': 'madhuri', 'pune': 'mumbai', '28': '24', '85%': '82%'}\n",
      "Before deletion: {'prasad': 'madhuri', 'pune': 'mumbai', '28': '24', '85%': '82%'}\n"
     ]
    }
   ],
   "source": [
    "dict_11 = {'prasad':'madhuri', 'pune':'mumbai', '28':'24','85%':'82%'}\n",
    "print(dict_11)\n",
    "print('Before deletion:',dict_11)"
   ]
  },
  {
   "cell_type": "code",
   "execution_count": 8,
   "id": "536e3d1e",
   "metadata": {},
   "outputs": [
    {
     "name": "stdout",
     "output_type": "stream",
     "text": [
      "After deletion: {'prasad': 'madhuri', 'pune': 'mumbai', '28': '24'}\n"
     ]
    }
   ],
   "source": [
    "deleted_value = dict_11.pop('85%')\n",
    "print('After deletion:', dict_11)"
   ]
  },
  {
   "cell_type": "code",
   "execution_count": 9,
   "id": "49036514",
   "metadata": {},
   "outputs": [
    {
     "name": "stdout",
     "output_type": "stream",
     "text": [
      "The deleted value is: 82%\n"
     ]
    }
   ],
   "source": [
    "print('The deleted value is:',deleted_value)"
   ]
  },
  {
   "cell_type": "code",
   "execution_count": 11,
   "id": "21e88046",
   "metadata": {},
   "outputs": [
    {
     "name": "stdout",
     "output_type": "stream",
     "text": [
      "Before deletion: {'Ram': 23, 'seeta': 24, 'jeevan': 25}\n",
      "After deletion: {'seeta': 24, 'jeevan': 25}\n",
      "deleted value is: 23\n"
     ]
    }
   ],
   "source": [
    "dict_7 = {\"Ram\":23 , \"seeta\":24, \"jeevan\":25}\n",
    "print('Before deletion:', dict_7)\n",
    "deleted_value = dict_7.pop('Ram')\n",
    "print('After deletion:', dict_7)\n",
    "print('deleted value is:',deleted_value)"
   ]
  },
  {
   "cell_type": "code",
   "execution_count": 12,
   "id": "edd1b17a",
   "metadata": {},
   "outputs": [
    {
     "name": "stdout",
     "output_type": "stream",
     "text": [
      "{'raj': 101, 'jay': 104, 'mahesh': 110}\n"
     ]
    }
   ],
   "source": [
    "lottery = {'raj':101,'jay':104,'mahesh':110}\n",
    "print(lottery)"
   ]
  },
  {
   "cell_type": "code",
   "execution_count": 14,
   "id": "ff67985c",
   "metadata": {},
   "outputs": [
    {
     "name": "stdout",
     "output_type": "stream",
     "text": [
      "Before deletion: {'raj': 101, 'jay': 104, 'mahesh': 110}\n",
      "After deletion: {'raj': 101, 'mahesh': 110}\n",
      "deleted value is: 104\n"
     ]
    }
   ],
   "source": [
    "print('Before deletion:', lottery)\n",
    "deleted_value = lottery.pop('jay','not found')\n",
    "print('After deletion:', lottery)\n",
    "print('deleted value is:',deleted_value)"
   ]
  },
  {
   "cell_type": "code",
   "execution_count": 15,
   "id": "e3a9e856",
   "metadata": {},
   "outputs": [
    {
     "name": "stdout",
     "output_type": "stream",
     "text": [
      "Before deletion: {'jerry': 208, 'rock': 666, 'sam': 999, 'michel': 888}\n",
      "After deletion: {'jerry': 208, 'sam': 999, 'michel': 888}\n",
      "deleted value is: 666\n"
     ]
    }
   ],
   "source": [
    "lottery_1 = {'jerry':208,'rock':666,'sam':999, 'michel':888}\n",
    "print('Before deletion:', lottery_1)\n",
    "deleted_value = lottery_1.pop('rock','not found')\n",
    "print('After deletion:', lottery_1)\n",
    "print('deleted value is:',deleted_value)"
   ]
  },
  {
   "cell_type": "code",
   "execution_count": null,
   "id": "1d20b71c",
   "metadata": {},
   "outputs": [],
   "source": []
  }
 ],
 "metadata": {
  "kernelspec": {
   "display_name": "Python 3 (ipykernel)",
   "language": "python",
   "name": "python3"
  },
  "language_info": {
   "codemirror_mode": {
    "name": "ipython",
    "version": 3
   },
   "file_extension": ".py",
   "mimetype": "text/x-python",
   "name": "python",
   "nbconvert_exporter": "python",
   "pygments_lexer": "ipython3",
   "version": "3.11.3"
  }
 },
 "nbformat": 4,
 "nbformat_minor": 5
}
