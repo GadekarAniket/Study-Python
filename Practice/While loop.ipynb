{
 "cells": [
  {
   "cell_type": "markdown",
   "id": "9b8bd191",
   "metadata": {},
   "source": [
    "# While loop "
   ]
  },
  {
   "cell_type": "markdown",
   "id": "258b66de",
   "metadata": {},
   "source": [
    "The while loop statement in python is one of the most general ways to perform iteration. A while statements will repeadtedly execute \n",
    "a single statements or group of statements as long as the condition is true. The reason it is called a 'loop' is because the code statements are looped through\n",
    "over and over again until the condition is no longer met."
   ]
  },
  {
   "cell_type": "markdown",
   "id": "f8439f46",
   "metadata": {},
   "source": [
    "The general format while loop is:\n",
    "    \n",
    "    while test:\n",
    "        \n",
    "        code statements\n",
    "        \n",
    "    else:\n",
    "        \n",
    "        final code statements"
   ]
  },
  {
   "cell_type": "markdown",
   "id": "bd80bbc5",
   "metadata": {},
   "source": [
    "Let's look at a few sample while loops in action."
   ]
  },
  {
   "cell_type": "code",
   "execution_count": 13,
   "id": "643959e1",
   "metadata": {},
   "outputs": [
    {
     "name": "stdout",
     "output_type": "stream",
     "text": [
      "1\n",
      "2\n",
      "3\n",
      "4\n",
      "5\n",
      "6\n",
      "7\n",
      "8\n",
      "9\n",
      "10\n"
     ]
    }
   ],
   "source": [
    "i = 1\n",
    "while i<=10:\n",
    "    print(i)\n",
    "    i=i+1"
   ]
  },
  {
   "cell_type": "code",
   "execution_count": 2,
   "id": "f7d0902a",
   "metadata": {},
   "outputs": [
    {
     "name": "stdout",
     "output_type": "stream",
     "text": [
      "99\n"
     ]
    }
   ],
   "source": [
    "i=99\n",
    "while i<=100:\n",
    "    print(i)\n",
    "    i=i+2"
   ]
  },
  {
   "cell_type": "code",
   "execution_count": 5,
   "id": "b2c6a0b7",
   "metadata": {},
   "outputs": [
    {
     "name": "stdout",
     "output_type": "stream",
     "text": [
      "1\n"
     ]
    }
   ],
   "source": [
    "i=1\n",
    "while i<=10:\n",
    "    print(i)\n",
    "    if i<= 5:\n",
    "        break\n",
    "    print(\"Data science\")\n",
    "    i=i+1"
   ]
  },
  {
   "cell_type": "code",
   "execution_count": 8,
   "id": "3dc82743",
   "metadata": {},
   "outputs": [
    {
     "name": "stdout",
     "output_type": "stream",
     "text": [
      "x is currecntly: 0\n",
      "x is still less than 10, adding 1 to x\n",
      "x is currecntly: 1\n",
      "x is still less than 10, adding 1 to x\n",
      "x is currecntly: 2\n",
      "x is still less than 10, adding 1 to x\n",
      "x is currecntly: 3\n",
      "x is still less than 10, adding 1 to x\n",
      "x is currecntly: 4\n",
      "x is still less than 10, adding 1 to x\n",
      "x is currecntly: 5\n",
      "x is still less than 10, adding 1 to x\n",
      "x is currecntly: 6\n",
      "x is still less than 10, adding 1 to x\n",
      "x is currecntly: 7\n",
      "x is still less than 10, adding 1 to x\n",
      "x is currecntly: 8\n",
      "x is still less than 10, adding 1 to x\n",
      "x is currecntly: 9\n",
      "x is still less than 10, adding 1 to x\n"
     ]
    }
   ],
   "source": [
    "x = 0\n",
    "while x < 10:\n",
    "    print('x is currecntly:',x)\n",
    "    print('x is still less than 10, adding 1 to x')\n",
    "    x=x+1"
   ]
  },
  {
   "cell_type": "markdown",
   "id": "fa2539f4",
   "metadata": {},
   "source": [
    "Notice : How many times the print statements occured and how the while loop keep going the false condition was met, which occurred once \n",
    "    x==10. it's important to note that once this occurred the code stopped. Let's see how we could add an else statement:"
   ]
  },
  {
   "cell_type": "code",
   "execution_count": 9,
   "id": "aa4d34f0",
   "metadata": {},
   "outputs": [
    {
     "name": "stdout",
     "output_type": "stream",
     "text": [
      "x is currently: 0\n",
      "x is still less than 10, adding 1 to x\n",
      "x is currently: 1\n",
      "x is still less than 10, adding 1 to x\n",
      "x is currently: 2\n",
      "x is still less than 10, adding 1 to x\n",
      "x is currently: 3\n",
      "x is still less than 10, adding 1 to x\n",
      "x is currently: 4\n",
      "x is still less than 10, adding 1 to x\n",
      "All done\n",
      "I am done with the iterations\n"
     ]
    }
   ],
   "source": [
    "x = 0\n",
    "while x < 5:\n",
    "    print('x is currently:', x)\n",
    "    print('x is still less than 10, adding 1 to x')\n",
    "    x+=1\n",
    "    \n",
    "print(\"All done\")\n",
    "print(\"I am done with the iterations\")"
   ]
  },
  {
   "cell_type": "code",
   "execution_count": 10,
   "id": "212838c3",
   "metadata": {},
   "outputs": [
    {
     "name": "stdout",
     "output_type": "stream",
     "text": [
      "1\n",
      "2\n",
      "3\n",
      "4\n",
      "5\n",
      "6\n",
      "7\n",
      "8\n",
      "9\n",
      "10\n"
     ]
    }
   ],
   "source": [
    "i = 1\n",
    "while i<=10:\n",
    "    print(i)\n",
    "    i+=1"
   ]
  },
  {
   "cell_type": "code",
   "execution_count": 12,
   "id": "6abf561e",
   "metadata": {},
   "outputs": [
    {
     "name": "stdout",
     "output_type": "stream",
     "text": [
      "1\n",
      "2\n",
      "3\n",
      "4\n"
     ]
    }
   ],
   "source": [
    "i=1\n",
    "while i<=10:\n",
    "    print(i)\n",
    "    i+=1\n",
    "    if i==5:\n",
    "        break"
   ]
  },
  {
   "cell_type": "markdown",
   "id": "c59a61f0",
   "metadata": {},
   "source": [
    "# break, continue, pass"
   ]
  },
  {
   "cell_type": "markdown",
   "id": "0f67c953",
   "metadata": {},
   "source": [
    "We can use break, continue and pass statements in our loops to add additional functionality for various cases. the three statements\n",
    "are defined by:\n",
    "    \n",
    "    break : Breaks out of the current closest enclosing loop.\n",
    "    continue: goes to the top of the closest enclosing loop.\n",
    "    pass: Does nothing at all.\n",
    "\n",
    "Thing about break and continue statements, the general format of the while loop looks like this:\n",
    "    \n",
    "    while test:\n",
    "        \n",
    "        code statement\n",
    "        \n",
    "        if test:\n",
    "            \n",
    "            break\n",
    "            \n",
    "        if test:\n",
    "            \n",
    "            continue\n",
    "            \n",
    "        else:"
   ]
  },
  {
   "cell_type": "markdown",
   "id": "8c05a7da",
   "metadata": {},
   "source": [
    "break and continue statements can appear anywhere inside the loop's body, but we will usually put them further nested in conjuction with \n",
    "an if statement to perform an action based on some condition."
   ]
  },
  {
   "cell_type": "code",
   "execution_count": 23,
   "id": "b34eb7af",
   "metadata": {},
   "outputs": [
    {
     "name": "stdout",
     "output_type": "stream",
     "text": [
      "x is currently: 0\n",
      "x is still less than 10, adding 1 to x\n",
      "continue.....\n",
      "x is currently: 1\n",
      "x is still less than 10, adding 1 to x\n",
      "continue.....\n",
      "x is currently: 2\n",
      "x is still less than 10, adding 1 to x\n",
      "x==3\n"
     ]
    }
   ],
   "source": [
    "x = 0\n",
    "\n",
    "while x<=5:\n",
    "    print('x is currently:', x)\n",
    "    print('x is still less than 10, adding 1 to x')\n",
    "    x+=1\n",
    "    if x==3:\n",
    "        print(\"x==3\")\n",
    "        break\n",
    "    else:\n",
    "        print(\"continue.....\")\n",
    "        continue"
   ]
  },
  {
   "cell_type": "markdown",
   "id": "2aca6134",
   "metadata": {},
   "source": [
    "***Note how we have a printed statement when x==3, and a continue being printed out as we continue through the outer while loop.\n",
    "Let's put in a break once x==3 and see if the result maked sence:***"
   ]
  },
  {
   "cell_type": "code",
   "execution_count": 22,
   "id": "1dac61ca",
   "metadata": {},
   "outputs": [
    {
     "name": "stdout",
     "output_type": "stream",
     "text": [
      "x is currently: 0\n",
      "x is still less than 10, adding 1 to x\n"
     ]
    }
   ],
   "source": [
    "x = 0\n",
    "\n",
    "while x<10:\n",
    "    print('x is currently:', x)\n",
    "    print('x is still less than 10, adding 1 to x')\n",
    "    x+=1\n",
    "    break\n",
    "else:\n",
    "    print(\"continue.....\")"
   ]
  },
  {
   "cell_type": "code",
   "execution_count": 15,
   "id": "3e6f41ad",
   "metadata": {},
   "outputs": [
    {
     "name": "stdout",
     "output_type": "stream",
     "text": [
      "x is currently: 0\n",
      "x is still less than 10, adding 1 to x\n",
      "x is currently: 1\n",
      "x is still less than 10, adding 1 to x\n",
      "x is currently: 2\n",
      "x is still less than 10, adding 1 to x\n",
      "x is currently: 3\n",
      "x is still less than 10, adding 1 to x\n",
      "x is currently: 4\n",
      "x is still less than 10, adding 1 to x\n",
      "x is currently: 5\n",
      "x is still less than 10, adding 1 to x\n",
      "x is currently: 6\n",
      "x is still less than 10, adding 1 to x\n",
      "x is currently: 7\n",
      "x is still less than 10, adding 1 to x\n",
      "x is currently: 8\n",
      "x is still less than 10, adding 1 to x\n",
      "x is currently: 9\n",
      "x is still less than 10, adding 1 to x\n",
      "continue.....\n"
     ]
    }
   ],
   "source": [
    "x = 0\n",
    "\n",
    "while x<10:\n",
    "    print('x is currently:', x)\n",
    "    print('x is still less than 10, adding 1 to x')\n",
    "    x+=1\n",
    "    pass\n",
    "else:\n",
    "    print(\"continue.....\")\n"
   ]
  },
  {
   "cell_type": "code",
   "execution_count": 16,
   "id": "345bd276",
   "metadata": {},
   "outputs": [
    {
     "name": "stdout",
     "output_type": "stream",
     "text": [
      "1\n",
      "python\n",
      "2\n",
      "python\n",
      "3\n",
      "python\n",
      "4\n"
     ]
    }
   ],
   "source": [
    "i = 1\n",
    "while i<=10:\n",
    "    print(i)\n",
    "    i+=1\n",
    "    if i==5:\n",
    "        break\n",
    "    print(\"python\")"
   ]
  },
  {
   "cell_type": "code",
   "execution_count": 17,
   "id": "5a7d3d88",
   "metadata": {},
   "outputs": [
    {
     "name": "stdout",
     "output_type": "stream",
     "text": [
      "1\n",
      "python\n",
      "\n",
      "\n",
      "2\n",
      "python\n",
      "\n",
      "\n",
      "3\n",
      "python\n",
      "\n",
      "\n",
      "4\n",
      "python\n",
      "\n",
      "\n",
      "5\n",
      "6\n",
      "python\n",
      "\n",
      "\n",
      "7\n",
      "python\n",
      "\n",
      "\n",
      "8\n",
      "python\n",
      "\n",
      "\n",
      "9\n",
      "python\n",
      "\n",
      "\n",
      "10\n",
      "python\n",
      "\n",
      "\n"
     ]
    }
   ],
   "source": [
    "i = 1\n",
    "while i<=10:\n",
    "    print(i)\n",
    "    i+=1\n",
    "    if i==6:\n",
    "        continue\n",
    "    print(\"python\")\n",
    "    print(\"\\n\")"
   ]
  },
  {
   "cell_type": "code",
   "execution_count": null,
   "id": "b380c39e",
   "metadata": {},
   "outputs": [],
   "source": []
  }
 ],
 "metadata": {
  "kernelspec": {
   "display_name": "Python 3 (ipykernel)",
   "language": "python",
   "name": "python3"
  },
  "language_info": {
   "codemirror_mode": {
    "name": "ipython",
    "version": 3
   },
   "file_extension": ".py",
   "mimetype": "text/x-python",
   "name": "python",
   "nbconvert_exporter": "python",
   "pygments_lexer": "ipython3",
   "version": "3.11.3"
  }
 },
 "nbformat": 4,
 "nbformat_minor": 5
}
