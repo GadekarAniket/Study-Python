{
 "cells": [
  {
   "cell_type": "markdown",
   "id": "1427911c",
   "metadata": {},
   "source": [
    "# Pandas"
   ]
  },
  {
   "cell_type": "markdown",
   "id": "80fe8df3",
   "metadata": {},
   "source": [
    "Pandas is a python package providing fast, flexible and expressive data structures designed to make working with structured \n",
    "(tabular, multidimensional, potentially heterogenous) and time series data both easy and intuitive. it aims to be the fundamental high-level\n",
    "building block for doing practical, real world data analysis in python.\n",
    "\n",
    "Pandas is designed to make it easier to work with structured data. most of the analysis you might perform will likely involve using tabular data,\n",
    "e.g., from .cvc files or relational databases(e.g., SQL). The dataframe object in pandas is \"Two-dimensional tabular, column- oriented data structure\n",
    "with both row and columns labels.\""
   ]
  },
  {
   "cell_type": "markdown",
   "id": "c32aa114",
   "metadata": {},
   "source": [
    "Here are just a few of the things that pandas does well:"
   ]
  },
  {
   "cell_type": "markdown",
   "id": "2f379299",
   "metadata": {},
   "source": [
    "Robust IO Tools for loading data from flat files (CVC and delimited), Excel files, data bases, and saving/loading data from the ultrafast \n",
    "HDF5 format Easy handaling of missing data (represented as NaN) in floating point as well as non-floating point data.\n",
    "\n",
    "**Size mutability:** columns can be inserted and deleted from data frame and higher dimentional objects automatic and explicit.\n",
    "    \n",
    "**Data alignment:** Object can be explicitly  aligned to a set of labels o the user can simply ignore the labels and leyt series,\n",
    "    dataframe etc. automatically align the data for you in computation powerful, flexible group by functionlity to perform split-apply-combine\n",
    "    operations on data sets, for aggregating and transforming data make it easy to convert ragged, differently- indexed data in other python and numpy data \n",
    "    structures into dataframe objects intelligent label-based slicing, fancy indexing and subsetting of large data set intuitive  merging and \n",
    "    joining data sets flexible re-shaping and pivoting of data sets Hierarchical labeling of axes (possible to have multiple lables per tick)\n",
    "    \n",
    "**Tine series- specific functionality:** Data  range generation and frequency conversion, moving window statistics, moving window linear regression,\n",
    "    data shifting and lagging."
   ]
  },
  {
   "cell_type": "markdown",
   "id": "dc85f810",
   "metadata": {},
   "source": [
    "# If you're curious:"
   ]
  },
  {
   "cell_type": "markdown",
   "id": "5b51b66e",
   "metadata": {},
   "source": [
    "Thw pandas name itself is derived from panel data, an econometrics term for multidemensional structured data sets, and python data \n",
    "analysis itself. After getting introduced, you consult the full pandas documentation."
   ]
  },
  {
   "cell_type": "code",
   "execution_count": 12,
   "id": "911df4b4",
   "metadata": {},
   "outputs": [],
   "source": [
    "#Import package \n",
    "import pandas as pd\n",
    "import numpy as np"
   ]
  },
  {
   "cell_type": "code",
   "execution_count": 13,
   "id": "e280e365",
   "metadata": {},
   "outputs": [
    {
     "data": {
      "text/plain": [
       "'1.5.3'"
      ]
     },
     "execution_count": 13,
     "metadata": {},
     "output_type": "execute_result"
    }
   ],
   "source": [
    "#Version of pandas\n",
    "pd.__version__"
   ]
  },
  {
   "cell_type": "markdown",
   "id": "a753cbc1",
   "metadata": {},
   "source": [
    "# What are pandas Dataframes?"
   ]
  },
  {
   "cell_type": "markdown",
   "id": "d15f7956",
   "metadata": {},
   "source": [
    "In the chapters introducing python lists and numpy arrays, ypu learn the both of these data structures can store collections of values, instead of just single\n",
    "values. You also learned that while python lists are flexible and can store data items of various types (e.g. intergers, floats, text strings), numpy arrays require all data elements to be of the same type.\n",
    "Because of this requirement, numpy arrays can provide more functionality for running calculating such as element-by-element arithmetic operations (e.g. multiplication of each element in the numpy array \n",
    "by the same value) that python lists do not support . You may now be noticing that each data structure provides different functionality that can be useful in different workflows. .\n",
    "In this chapter, you will learn about pandas dataframes, a data structure in python that provides the ability to work with tabular data.\n",
    "pandas dataframes are composed of rows and columns that can have header names. and the columns in pandas dataframes can be different types \n",
    "(e.g. the first columns containing integers and the second columns containing text strings). Each value in pandas data frame is \n",
    "referred to as a cell that has a specific row and column index within  the tabular structure."
   ]
  },
  {
   "cell_type": "markdown",
   "id": "f90191bc",
   "metadata": {},
   "source": [
    "# There are two central concepts which you should know about:"
   ]
  },
  {
   "cell_type": "markdown",
   "id": "2c30dc12",
   "metadata": {},
   "source": [
    "**Series :** A series is essentially a column\n",
    "    \n",
    "**Data frame:** A dataframe is a two-dimensional data structure, i.e., data is aligned in a tabular fashion in rows and columns.\n",
    "    Pandas dataframe consists of three principal components, the data, rows, and columns."
   ]
  },
  {
   "cell_type": "markdown",
   "id": "4a106291",
   "metadata": {},
   "source": [
    "# Distingushing characteristic of Pandas Dataframe"
   ]
  },
  {
   "cell_type": "markdown",
   "id": "41392e0f",
   "metadata": {},
   "source": [
    "These characteristics(i.e tabular format with rows and columns that can have headers) make pandas dataframes very versatile for not only storing different\n",
    "types, but for maintaining the relationship between cells across the same row and/ or column.\n",
    "\n",
    "Recall that in the chapter on numpy arrays, you could not easily connect the values across two numpy arrays. such as thosefor precip and months.\n",
    "Using a pandas dataframe, the relationship between the value january in the month column and the value 0.70 in the precip column in mantained.\n",
    "\n",
    "These two values (Apples and 3) are considered part of the same record, representing the same observation in the pandas data frame. In addition, pandas \n",
    "dataframe have other unique characteristics that differentiate them from other data structures:\n",
    "    \n",
    "Each column in a pandas dataframe can have a  lable name (i.e. header name such as Oranges) and can contain a different type of data \n",
    "from its neighboring columns. By default, each row  has an index within a range of values beginning at [0]. However, the row index in pandas dataframes \n",
    "can also be set as labels(e.g. a location name data). All cells in a pandas data frame have  both a row index and a column index (i.e. two-dimensional table structure).\n",
    "even if there is only ome cell(i.e. value) in the python dataframe. In addition to selecting cells through location-based indexing \n",
    "(e.g. cell at row1, column1),  you can also query for data within pandas dataframes based on specific values (e.g. querying for text strings or \n",
    "numeric values). Because of the tabular structure, you can work with cells in pandas dataframes.\n",
    "\n",
    "across an entire row \n",
    "\n",
    "across an entire column (or series, a one- dimentional array in pandas)\n",
    "\n",
    "by selecting cells based on location or spectific values."
   ]
  },
  {
   "cell_type": "markdown",
   "id": "3eb7d572",
   "metadata": {},
   "source": [
    "# Let us go ahead and create our first pandas series"
   ]
  },
  {
   "cell_type": "code",
   "execution_count": 2,
   "id": "b743db1d",
   "metadata": {},
   "outputs": [
    {
     "name": "stdout",
     "output_type": "stream",
     "text": [
      "0    2\n",
      "1    3\n",
      "2    5\n",
      "3    6\n",
      "4    8\n",
      "dtype: int64\n"
     ]
    }
   ],
   "source": [
    "import pandas as pd\n",
    "#our first series\n",
    "\n",
    "number_series = pd.Series([2,3,5,6,8])\n",
    "print(number_series)"
   ]
  },
  {
   "cell_type": "code",
   "execution_count": 5,
   "id": "c0fe6de1",
   "metadata": {},
   "outputs": [
    {
     "name": "stdout",
     "output_type": "stream",
     "text": [
      "a    2\n",
      "b    3\n",
      "c    5\n",
      "d    6\n",
      "e    8\n",
      "Name: Number, dtype: int64\n"
     ]
    }
   ],
   "source": [
    "# same series but with different indices\n",
    "number_series = pd.Series([2,3,5,6,8], index = ['a','b','c','d','e'], name = 'Number')\n",
    "print(number_series)"
   ]
  },
  {
   "cell_type": "code",
   "execution_count": 6,
   "id": "5fd88a07",
   "metadata": {},
   "outputs": [
    {
     "name": "stdout",
     "output_type": "stream",
     "text": [
      "2\n",
      "2\n"
     ]
    }
   ],
   "source": [
    "print(number_series[0])\n",
    "print(number_series['a'])"
   ]
  },
  {
   "cell_type": "markdown",
   "id": "78045ac1",
   "metadata": {},
   "source": [
    "# Let us go ahead and create our first pandas"
   ]
  },
  {
   "cell_type": "markdown",
   "id": "7bb9ef80",
   "metadata": {},
   "source": [
    "**Data frame**"
   ]
  },
  {
   "cell_type": "markdown",
   "id": "eca8d027",
   "metadata": {},
   "source": [
    "# Using a 2-D NumPy array"
   ]
  },
  {
   "cell_type": "code",
   "execution_count": 7,
   "id": "8f04b8e0",
   "metadata": {},
   "outputs": [
    {
     "name": "stdout",
     "output_type": "stream",
     "text": [
      "[[ 2 18  8  9 11 20 25 26 13  5]\n",
      " [ 9  2 29  9 34 16  8 30  8 18]\n",
      " [32 20 27 10 11  7  7 22  9 15]]\n"
     ]
    }
   ],
   "source": [
    "import numpy as np\n",
    "import pandas as pd\n",
    "some_2D_array = np.random.randint(2,35,(3,10))\n",
    "print(some_2D_array)"
   ]
  },
  {
   "cell_type": "code",
   "execution_count": 8,
   "id": "e93e1ee1",
   "metadata": {},
   "outputs": [
    {
     "data": {
      "text/html": [
       "<div>\n",
       "<style scoped>\n",
       "    .dataframe tbody tr th:only-of-type {\n",
       "        vertical-align: middle;\n",
       "    }\n",
       "\n",
       "    .dataframe tbody tr th {\n",
       "        vertical-align: top;\n",
       "    }\n",
       "\n",
       "    .dataframe thead th {\n",
       "        text-align: right;\n",
       "    }\n",
       "</style>\n",
       "<table border=\"1\" class=\"dataframe\">\n",
       "  <thead>\n",
       "    <tr style=\"text-align: right;\">\n",
       "      <th></th>\n",
       "      <th>Aniket</th>\n",
       "      <th>Akshay</th>\n",
       "      <th>Eknath</th>\n",
       "      <th>Ashwini</th>\n",
       "    </tr>\n",
       "  </thead>\n",
       "  <tbody>\n",
       "    <tr>\n",
       "      <th>0</th>\n",
       "      <td>3</td>\n",
       "      <td>2</td>\n",
       "      <td>5</td>\n",
       "      <td>4</td>\n",
       "    </tr>\n",
       "    <tr>\n",
       "      <th>1</th>\n",
       "      <td>5</td>\n",
       "      <td>3</td>\n",
       "      <td>5</td>\n",
       "      <td>4</td>\n",
       "    </tr>\n",
       "    <tr>\n",
       "      <th>2</th>\n",
       "      <td>5</td>\n",
       "      <td>2</td>\n",
       "      <td>3</td>\n",
       "      <td>3</td>\n",
       "    </tr>\n",
       "  </tbody>\n",
       "</table>\n",
       "</div>"
      ],
      "text/plain": [
       "   Aniket  Akshay  Eknath  Ashwini\n",
       "0       3       2       5        4\n",
       "1       5       3       5        4\n",
       "2       5       2       3        3"
      ]
     },
     "execution_count": 8,
     "metadata": {},
     "output_type": "execute_result"
    }
   ],
   "source": [
    "#creating our first dataframe\n",
    "some_2D_array = np.random.randint(2,6,(3,4))\n",
    "first_dataframe = pd.DataFrame(some_2D_array, columns= ['Aniket', 'Akshay', 'Eknath', 'Ashwini'])\n",
    "first_dataframe"
   ]
  },
  {
   "cell_type": "markdown",
   "id": "365157f9",
   "metadata": {},
   "source": [
    "# Using a conventional list of lists"
   ]
  },
  {
   "cell_type": "code",
   "execution_count": 4,
   "id": "95245275",
   "metadata": {},
   "outputs": [
    {
     "data": {
      "text/html": [
       "<div>\n",
       "<style scoped>\n",
       "    .dataframe tbody tr th:only-of-type {\n",
       "        vertical-align: middle;\n",
       "    }\n",
       "\n",
       "    .dataframe tbody tr th {\n",
       "        vertical-align: top;\n",
       "    }\n",
       "\n",
       "    .dataframe thead th {\n",
       "        text-align: right;\n",
       "    }\n",
       "</style>\n",
       "<table border=\"1\" class=\"dataframe\">\n",
       "  <thead>\n",
       "    <tr style=\"text-align: right;\">\n",
       "      <th></th>\n",
       "      <th>Name</th>\n",
       "      <th>Age</th>\n",
       "      <th>city</th>\n",
       "    </tr>\n",
       "  </thead>\n",
       "  <tbody>\n",
       "    <tr>\n",
       "      <th>a</th>\n",
       "      <td>Amar</td>\n",
       "      <td>10</td>\n",
       "      <td>Pune</td>\n",
       "    </tr>\n",
       "    <tr>\n",
       "      <th>b</th>\n",
       "      <td>Akbar</td>\n",
       "      <td>15</td>\n",
       "      <td>mumbai</td>\n",
       "    </tr>\n",
       "    <tr>\n",
       "      <th>c</th>\n",
       "      <td>Anthony</td>\n",
       "      <td>14</td>\n",
       "      <td>Delhi</td>\n",
       "    </tr>\n",
       "  </tbody>\n",
       "</table>\n",
       "</div>"
      ],
      "text/plain": [
       "      Name  Age    city\n",
       "a     Amar   10    Pune\n",
       "b    Akbar   15  mumbai\n",
       "c  Anthony   14   Delhi"
      ]
     },
     "execution_count": 4,
     "metadata": {},
     "output_type": "execute_result"
    }
   ],
   "source": [
    "#Initialize list of lists\n",
    "import pandas as pd\n",
    "list_of_lists = [['Amar',10, 'Pune'], ['Akbar',15,'mumbai'],['Anthony',14, 'Delhi']]\n",
    "#create the pandas dataframe\n",
    "df = pd.DataFrame(list_of_lists, columns = ['Name', 'Age', 'city'], index = ['a','b','c'])\n",
    "#print dataframe\n",
    "df"
   ]
  },
  {
   "cell_type": "markdown",
   "id": "e07f00ca",
   "metadata": {},
   "source": [
    "# Using a dictionary"
   ]
  },
  {
   "cell_type": "code",
   "execution_count": 5,
   "id": "a1acaeb6",
   "metadata": {},
   "outputs": [
    {
     "data": {
      "text/html": [
       "<div>\n",
       "<style scoped>\n",
       "    .dataframe tbody tr th:only-of-type {\n",
       "        vertical-align: middle;\n",
       "    }\n",
       "\n",
       "    .dataframe tbody tr th {\n",
       "        vertical-align: top;\n",
       "    }\n",
       "\n",
       "    .dataframe thead th {\n",
       "        text-align: right;\n",
       "    }\n",
       "</style>\n",
       "<table border=\"1\" class=\"dataframe\">\n",
       "  <thead>\n",
       "    <tr style=\"text-align: right;\">\n",
       "      <th></th>\n",
       "      <th>Employee Name</th>\n",
       "      <th>Income</th>\n",
       "      <th>Package</th>\n",
       "    </tr>\n",
       "  </thead>\n",
       "  <tbody>\n",
       "    <tr>\n",
       "      <th>0</th>\n",
       "      <td>Rajeev</td>\n",
       "      <td>200000</td>\n",
       "      <td>9</td>\n",
       "    </tr>\n",
       "    <tr>\n",
       "      <th>1</th>\n",
       "      <td>Sumit</td>\n",
       "      <td>100000</td>\n",
       "      <td>10</td>\n",
       "    </tr>\n",
       "    <tr>\n",
       "      <th>2</th>\n",
       "      <td>Aviral</td>\n",
       "      <td>90000</td>\n",
       "      <td>11</td>\n",
       "    </tr>\n",
       "  </tbody>\n",
       "</table>\n",
       "</div>"
      ],
      "text/plain": [
       "  Employee Name  Income  Package\n",
       "0        Rajeev  200000        9\n",
       "1         Sumit  100000       10\n",
       "2        Aviral   90000       11"
      ]
     },
     "execution_count": 5,
     "metadata": {},
     "output_type": "execute_result"
    }
   ],
   "source": [
    "#STore the data in a dictionary\n",
    "employee_dict = {'Employee Name':['Rajeev', 'Sumit','Aviral'], 'Income':[200000,100000,90000],'Package':[9,10,11]}\n",
    "\n",
    "#Create Dataframe\n",
    "employee_df = pd.DataFrame(employee_dict)\n",
    "#print the dataframe\n",
    "employee_df"
   ]
  },
  {
   "cell_type": "code",
   "execution_count": 6,
   "id": "068bd4f7",
   "metadata": {},
   "outputs": [
    {
     "data": {
      "text/html": [
       "<div>\n",
       "<style scoped>\n",
       "    .dataframe tbody tr th:only-of-type {\n",
       "        vertical-align: middle;\n",
       "    }\n",
       "\n",
       "    .dataframe tbody tr th {\n",
       "        vertical-align: top;\n",
       "    }\n",
       "\n",
       "    .dataframe thead th {\n",
       "        text-align: right;\n",
       "    }\n",
       "</style>\n",
       "<table border=\"1\" class=\"dataframe\">\n",
       "  <thead>\n",
       "    <tr style=\"text-align: right;\">\n",
       "      <th></th>\n",
       "      <th>First Series</th>\n",
       "      <th>Second Series</th>\n",
       "    </tr>\n",
       "  </thead>\n",
       "  <tbody>\n",
       "    <tr>\n",
       "      <th>0</th>\n",
       "      <td>10</td>\n",
       "      <td>100</td>\n",
       "    </tr>\n",
       "    <tr>\n",
       "      <th>1</th>\n",
       "      <td>20</td>\n",
       "      <td>200</td>\n",
       "    </tr>\n",
       "    <tr>\n",
       "      <th>2</th>\n",
       "      <td>30</td>\n",
       "      <td>300</td>\n",
       "    </tr>\n",
       "    <tr>\n",
       "      <th>3</th>\n",
       "      <td>40</td>\n",
       "      <td>400</td>\n",
       "    </tr>\n",
       "  </tbody>\n",
       "</table>\n",
       "</div>"
      ],
      "text/plain": [
       "   First Series  Second Series\n",
       "0            10            100\n",
       "1            20            200\n",
       "2            30            300\n",
       "3            40            400"
      ]
     },
     "execution_count": 6,
     "metadata": {},
     "output_type": "execute_result"
    }
   ],
   "source": [
    "#Store the date in a dictionary\n",
    "series_dict = {'First Series': pd.Series([10,20,30,40]), 'Second Series':pd.Series([100,200,300,400])}\n",
    "#Create the Dataframe using the dictionary\n",
    "df = pd.DataFrame(series_dict)\n",
    "#print the dataframe\n",
    "df"
   ]
  },
  {
   "cell_type": "markdown",
   "id": "34ca9f64",
   "metadata": {},
   "source": [
    "# Using a list of dictionaries"
   ]
  },
  {
   "cell_type": "code",
   "execution_count": 7,
   "id": "77bc4279",
   "metadata": {},
   "outputs": [],
   "source": [
    "import pandas as pd"
   ]
  },
  {
   "cell_type": "code",
   "execution_count": 8,
   "id": "cab9ab49",
   "metadata": {},
   "outputs": [
    {
     "data": {
      "text/html": [
       "<div>\n",
       "<style scoped>\n",
       "    .dataframe tbody tr th:only-of-type {\n",
       "        vertical-align: middle;\n",
       "    }\n",
       "\n",
       "    .dataframe tbody tr th {\n",
       "        vertical-align: top;\n",
       "    }\n",
       "\n",
       "    .dataframe thead th {\n",
       "        text-align: right;\n",
       "    }\n",
       "</style>\n",
       "<table border=\"1\" class=\"dataframe\">\n",
       "  <thead>\n",
       "    <tr style=\"text-align: right;\">\n",
       "      <th></th>\n",
       "      <th>a</th>\n",
       "      <th>b</th>\n",
       "      <th>c</th>\n",
       "    </tr>\n",
       "  </thead>\n",
       "  <tbody>\n",
       "    <tr>\n",
       "      <th>0</th>\n",
       "      <td>1</td>\n",
       "      <td>2</td>\n",
       "      <td>3.0</td>\n",
       "    </tr>\n",
       "    <tr>\n",
       "      <th>1</th>\n",
       "      <td>10</td>\n",
       "      <td>20</td>\n",
       "      <td>30.0</td>\n",
       "    </tr>\n",
       "    <tr>\n",
       "      <th>2</th>\n",
       "      <td>Ganesh</td>\n",
       "      <td>Supriya</td>\n",
       "      <td>NaN</td>\n",
       "    </tr>\n",
       "  </tbody>\n",
       "</table>\n",
       "</div>"
      ],
      "text/plain": [
       "        a        b     c\n",
       "0       1        2   3.0\n",
       "1      10       20  30.0\n",
       "2  Ganesh  Supriya   NaN"
      ]
     },
     "execution_count": 8,
     "metadata": {},
     "output_type": "execute_result"
    }
   ],
   "source": [
    "#Initialise the list of dictionaries\n",
    "list_of_dicts = [ {'a':1,'b':2,'c':3},{'a':10, 'b':20,'c':30},{'a':'Ganesh','b':'Supriya'}]\n",
    "df = pd.DataFrame(list_of_dicts)\n",
    "df"
   ]
  },
  {
   "cell_type": "code",
   "execution_count": 9,
   "id": "d454b71c",
   "metadata": {},
   "outputs": [
    {
     "data": {
      "text/html": [
       "<div>\n",
       "<style scoped>\n",
       "    .dataframe tbody tr th:only-of-type {\n",
       "        vertical-align: middle;\n",
       "    }\n",
       "\n",
       "    .dataframe tbody tr th {\n",
       "        vertical-align: top;\n",
       "    }\n",
       "\n",
       "    .dataframe thead th {\n",
       "        text-align: right;\n",
       "    }\n",
       "</style>\n",
       "<table border=\"1\" class=\"dataframe\">\n",
       "  <thead>\n",
       "    <tr style=\"text-align: right;\">\n",
       "      <th></th>\n",
       "      <th>a</th>\n",
       "      <th>b</th>\n",
       "      <th>c</th>\n",
       "    </tr>\n",
       "  </thead>\n",
       "  <tbody>\n",
       "    <tr>\n",
       "      <th>First</th>\n",
       "      <td>2</td>\n",
       "      <td>3</td>\n",
       "      <td>NaN</td>\n",
       "    </tr>\n",
       "    <tr>\n",
       "      <th>Second</th>\n",
       "      <td>10</td>\n",
       "      <td>20</td>\n",
       "      <td>30.0</td>\n",
       "    </tr>\n",
       "  </tbody>\n",
       "</table>\n",
       "</div>"
      ],
      "text/plain": [
       "         a   b     c\n",
       "First    2   3   NaN\n",
       "Second  10  20  30.0"
      ]
     },
     "execution_count": 9,
     "metadata": {},
     "output_type": "execute_result"
    }
   ],
   "source": [
    "#What happens if the number of keys are different in the Two dictioneries \n",
    "list_of_dicts = [{'a':2,'b':3}, {'a':10, 'b':20, 'c':30}, ]\n",
    "df = pd.DataFrame(list_of_dicts, index = ['First', 'Second'])\n",
    "df"
   ]
  },
  {
   "cell_type": "markdown",
   "id": "271f3ddb",
   "metadata": {},
   "source": [
    "# There are other ways too"
   ]
  },
  {
   "cell_type": "code",
   "execution_count": 10,
   "id": "772d89d9",
   "metadata": {},
   "outputs": [
    {
     "name": "stdout",
     "output_type": "stream",
     "text": [
      "[('Ryan Reynolds', 48), ('Benedict Cumberbatch', 62), ('Robert Downey Jr.', 54), ('Chris Evans', nan)]\n"
     ]
    },
    {
     "data": {
      "text/html": [
       "<div>\n",
       "<style scoped>\n",
       "    .dataframe tbody tr th:only-of-type {\n",
       "        vertical-align: middle;\n",
       "    }\n",
       "\n",
       "    .dataframe tbody tr th {\n",
       "        vertical-align: top;\n",
       "    }\n",
       "\n",
       "    .dataframe thead th {\n",
       "        text-align: right;\n",
       "    }\n",
       "</style>\n",
       "<table border=\"1\" class=\"dataframe\">\n",
       "  <thead>\n",
       "    <tr style=\"text-align: right;\">\n",
       "      <th></th>\n",
       "      <th>Name</th>\n",
       "      <th>Age</th>\n",
       "    </tr>\n",
       "  </thead>\n",
       "  <tbody>\n",
       "    <tr>\n",
       "      <th>0</th>\n",
       "      <td>Ryan Reynolds</td>\n",
       "      <td>48.0</td>\n",
       "    </tr>\n",
       "    <tr>\n",
       "      <th>1</th>\n",
       "      <td>Benedict Cumberbatch</td>\n",
       "      <td>62.0</td>\n",
       "    </tr>\n",
       "    <tr>\n",
       "      <th>2</th>\n",
       "      <td>Robert Downey Jr.</td>\n",
       "      <td>54.0</td>\n",
       "    </tr>\n",
       "    <tr>\n",
       "      <th>3</th>\n",
       "      <td>Chris Evans</td>\n",
       "      <td>NaN</td>\n",
       "    </tr>\n",
       "  </tbody>\n",
       "</table>\n",
       "</div>"
      ],
      "text/plain": [
       "                   Name   Age\n",
       "0         Ryan Reynolds  48.0\n",
       "1  Benedict Cumberbatch  62.0\n",
       "2     Robert Downey Jr.  54.0\n",
       "3           Chris Evans   NaN"
      ]
     },
     "execution_count": 10,
     "metadata": {},
     "output_type": "execute_result"
    }
   ],
   "source": [
    "import numpy as np\n",
    "#list of names\n",
    "actor_names = ['Ryan Reynolds', 'Benedict Cumberbatch', 'Robert Downey Jr.', 'Chris Evans']\n",
    "#List of their ages\n",
    "actor_age = [48,62,54,np.nan]\n",
    "#Get the lsit of tuples by zipping the two lists together\n",
    "list_of_tuples = list(zip(actor_names, actor_age))\n",
    "print(list_of_tuples)\n",
    "#Converting the listof tuples into pandas Dataframe\n",
    "actor_df = pd.DataFrame(list_of_tuples, columns = ['Name','Age'])\n",
    "#print the dataframe\n",
    "actor_df"
   ]
  },
  {
   "cell_type": "markdown",
   "id": "b5ac944c",
   "metadata": {},
   "source": [
    "**So we have seen a variety of ways in which we can create simple dataframes. Now let us explore few methods and associated with the pandas dataframes in python**"
   ]
  },
  {
   "cell_type": "markdown",
   "id": "66af14eb",
   "metadata": {},
   "source": [
    "# We can print the indices of our dataframe using the index attribute"
   ]
  },
  {
   "cell_type": "code",
   "execution_count": 11,
   "id": "890d714e",
   "metadata": {},
   "outputs": [
    {
     "data": {
      "text/plain": [
       "[0, 1, 2, 3]"
      ]
     },
     "execution_count": 11,
     "metadata": {},
     "output_type": "execute_result"
    }
   ],
   "source": [
    "list(actor_df.index)"
   ]
  },
  {
   "cell_type": "markdown",
   "id": "738d606b",
   "metadata": {},
   "source": [
    "# Let us create a dataframe with 100 rows and 5 columns"
   ]
  },
  {
   "cell_type": "code",
   "execution_count": 12,
   "id": "a66e97e5",
   "metadata": {},
   "outputs": [],
   "source": [
    "import numpy as np"
   ]
  },
  {
   "cell_type": "code",
   "execution_count": 13,
   "id": "4c97d126",
   "metadata": {},
   "outputs": [
    {
     "data": {
      "text/html": [
       "<div>\n",
       "<style scoped>\n",
       "    .dataframe tbody tr th:only-of-type {\n",
       "        vertical-align: middle;\n",
       "    }\n",
       "\n",
       "    .dataframe tbody tr th {\n",
       "        vertical-align: top;\n",
       "    }\n",
       "\n",
       "    .dataframe thead th {\n",
       "        text-align: right;\n",
       "    }\n",
       "</style>\n",
       "<table border=\"1\" class=\"dataframe\">\n",
       "  <thead>\n",
       "    <tr style=\"text-align: right;\">\n",
       "      <th></th>\n",
       "      <th>A</th>\n",
       "      <th>B</th>\n",
       "      <th>C</th>\n",
       "      <th>D</th>\n",
       "      <th>E</th>\n",
       "      <th>F</th>\n",
       "      <th>G</th>\n",
       "    </tr>\n",
       "  </thead>\n",
       "  <tbody>\n",
       "    <tr>\n",
       "      <th>0</th>\n",
       "      <td>1.312613</td>\n",
       "      <td>0.256295</td>\n",
       "      <td>0.679862</td>\n",
       "      <td>0.369337</td>\n",
       "      <td>0.810532</td>\n",
       "      <td>-0.992385</td>\n",
       "      <td>-0.557960</td>\n",
       "    </tr>\n",
       "    <tr>\n",
       "      <th>1</th>\n",
       "      <td>-0.748546</td>\n",
       "      <td>0.181505</td>\n",
       "      <td>-1.482877</td>\n",
       "      <td>-1.164180</td>\n",
       "      <td>1.397296</td>\n",
       "      <td>-0.793839</td>\n",
       "      <td>-1.399992</td>\n",
       "    </tr>\n",
       "    <tr>\n",
       "      <th>2</th>\n",
       "      <td>-0.907437</td>\n",
       "      <td>-0.288978</td>\n",
       "      <td>-0.231920</td>\n",
       "      <td>0.052950</td>\n",
       "      <td>-1.190213</td>\n",
       "      <td>0.113190</td>\n",
       "      <td>1.256856</td>\n",
       "    </tr>\n",
       "    <tr>\n",
       "      <th>3</th>\n",
       "      <td>-0.642497</td>\n",
       "      <td>-0.775272</td>\n",
       "      <td>0.351090</td>\n",
       "      <td>0.351538</td>\n",
       "      <td>0.323957</td>\n",
       "      <td>-1.811922</td>\n",
       "      <td>0.672874</td>\n",
       "    </tr>\n",
       "    <tr>\n",
       "      <th>4</th>\n",
       "      <td>-0.599299</td>\n",
       "      <td>1.772703</td>\n",
       "      <td>-1.766785</td>\n",
       "      <td>-0.442878</td>\n",
       "      <td>1.121333</td>\n",
       "      <td>0.225415</td>\n",
       "      <td>0.122346</td>\n",
       "    </tr>\n",
       "    <tr>\n",
       "      <th>5</th>\n",
       "      <td>-1.605533</td>\n",
       "      <td>0.267894</td>\n",
       "      <td>0.624044</td>\n",
       "      <td>0.671828</td>\n",
       "      <td>-0.580772</td>\n",
       "      <td>0.329491</td>\n",
       "      <td>-0.428911</td>\n",
       "    </tr>\n",
       "    <tr>\n",
       "      <th>6</th>\n",
       "      <td>0.326315</td>\n",
       "      <td>0.849488</td>\n",
       "      <td>0.116211</td>\n",
       "      <td>1.473569</td>\n",
       "      <td>0.021822</td>\n",
       "      <td>-0.254924</td>\n",
       "      <td>0.236418</td>\n",
       "    </tr>\n",
       "    <tr>\n",
       "      <th>7</th>\n",
       "      <td>0.332224</td>\n",
       "      <td>0.498889</td>\n",
       "      <td>-0.486641</td>\n",
       "      <td>-1.825576</td>\n",
       "      <td>0.705958</td>\n",
       "      <td>0.082606</td>\n",
       "      <td>1.647303</td>\n",
       "    </tr>\n",
       "    <tr>\n",
       "      <th>8</th>\n",
       "      <td>1.405373</td>\n",
       "      <td>-1.230798</td>\n",
       "      <td>0.574237</td>\n",
       "      <td>1.188308</td>\n",
       "      <td>-0.201690</td>\n",
       "      <td>0.393854</td>\n",
       "      <td>0.232206</td>\n",
       "    </tr>\n",
       "    <tr>\n",
       "      <th>9</th>\n",
       "      <td>-0.588025</td>\n",
       "      <td>-0.360470</td>\n",
       "      <td>-0.205031</td>\n",
       "      <td>-0.472429</td>\n",
       "      <td>-0.408599</td>\n",
       "      <td>-1.419269</td>\n",
       "      <td>-0.755120</td>\n",
       "    </tr>\n",
       "    <tr>\n",
       "      <th>10</th>\n",
       "      <td>1.425973</td>\n",
       "      <td>0.747717</td>\n",
       "      <td>0.860560</td>\n",
       "      <td>-1.646824</td>\n",
       "      <td>2.065448</td>\n",
       "      <td>0.516605</td>\n",
       "      <td>-0.702591</td>\n",
       "    </tr>\n",
       "    <tr>\n",
       "      <th>11</th>\n",
       "      <td>-0.106732</td>\n",
       "      <td>0.620934</td>\n",
       "      <td>0.192952</td>\n",
       "      <td>-0.585881</td>\n",
       "      <td>0.352738</td>\n",
       "      <td>0.497645</td>\n",
       "      <td>0.628057</td>\n",
       "    </tr>\n",
       "    <tr>\n",
       "      <th>12</th>\n",
       "      <td>0.567326</td>\n",
       "      <td>0.118687</td>\n",
       "      <td>-0.382285</td>\n",
       "      <td>0.983909</td>\n",
       "      <td>0.265141</td>\n",
       "      <td>1.469460</td>\n",
       "      <td>1.221340</td>\n",
       "    </tr>\n",
       "    <tr>\n",
       "      <th>13</th>\n",
       "      <td>-0.162303</td>\n",
       "      <td>-1.324181</td>\n",
       "      <td>-0.657143</td>\n",
       "      <td>0.566680</td>\n",
       "      <td>1.294652</td>\n",
       "      <td>0.810198</td>\n",
       "      <td>0.697288</td>\n",
       "    </tr>\n",
       "    <tr>\n",
       "      <th>14</th>\n",
       "      <td>1.823496</td>\n",
       "      <td>-0.052316</td>\n",
       "      <td>-0.074647</td>\n",
       "      <td>-0.068028</td>\n",
       "      <td>-0.268900</td>\n",
       "      <td>-1.374613</td>\n",
       "      <td>-0.107463</td>\n",
       "    </tr>\n",
       "    <tr>\n",
       "      <th>15</th>\n",
       "      <td>-0.019184</td>\n",
       "      <td>0.626065</td>\n",
       "      <td>0.754302</td>\n",
       "      <td>1.097239</td>\n",
       "      <td>1.384631</td>\n",
       "      <td>1.129968</td>\n",
       "      <td>-1.564641</td>\n",
       "    </tr>\n",
       "    <tr>\n",
       "      <th>16</th>\n",
       "      <td>0.858501</td>\n",
       "      <td>0.166828</td>\n",
       "      <td>-0.704568</td>\n",
       "      <td>0.532731</td>\n",
       "      <td>0.331164</td>\n",
       "      <td>1.299236</td>\n",
       "      <td>-0.890783</td>\n",
       "    </tr>\n",
       "    <tr>\n",
       "      <th>17</th>\n",
       "      <td>0.146092</td>\n",
       "      <td>-0.810906</td>\n",
       "      <td>0.076413</td>\n",
       "      <td>-1.357905</td>\n",
       "      <td>1.179224</td>\n",
       "      <td>-0.613416</td>\n",
       "      <td>1.627701</td>\n",
       "    </tr>\n",
       "    <tr>\n",
       "      <th>18</th>\n",
       "      <td>0.792602</td>\n",
       "      <td>1.988414</td>\n",
       "      <td>0.270013</td>\n",
       "      <td>0.251558</td>\n",
       "      <td>0.682612</td>\n",
       "      <td>-0.123467</td>\n",
       "      <td>0.786318</td>\n",
       "    </tr>\n",
       "    <tr>\n",
       "      <th>19</th>\n",
       "      <td>0.988810</td>\n",
       "      <td>-1.395923</td>\n",
       "      <td>-1.018949</td>\n",
       "      <td>-0.480577</td>\n",
       "      <td>0.638101</td>\n",
       "      <td>0.726811</td>\n",
       "      <td>0.489536</td>\n",
       "    </tr>\n",
       "  </tbody>\n",
       "</table>\n",
       "</div>"
      ],
      "text/plain": [
       "           A         B         C         D         E         F         G\n",
       "0   1.312613  0.256295  0.679862  0.369337  0.810532 -0.992385 -0.557960\n",
       "1  -0.748546  0.181505 -1.482877 -1.164180  1.397296 -0.793839 -1.399992\n",
       "2  -0.907437 -0.288978 -0.231920  0.052950 -1.190213  0.113190  1.256856\n",
       "3  -0.642497 -0.775272  0.351090  0.351538  0.323957 -1.811922  0.672874\n",
       "4  -0.599299  1.772703 -1.766785 -0.442878  1.121333  0.225415  0.122346\n",
       "5  -1.605533  0.267894  0.624044  0.671828 -0.580772  0.329491 -0.428911\n",
       "6   0.326315  0.849488  0.116211  1.473569  0.021822 -0.254924  0.236418\n",
       "7   0.332224  0.498889 -0.486641 -1.825576  0.705958  0.082606  1.647303\n",
       "8   1.405373 -1.230798  0.574237  1.188308 -0.201690  0.393854  0.232206\n",
       "9  -0.588025 -0.360470 -0.205031 -0.472429 -0.408599 -1.419269 -0.755120\n",
       "10  1.425973  0.747717  0.860560 -1.646824  2.065448  0.516605 -0.702591\n",
       "11 -0.106732  0.620934  0.192952 -0.585881  0.352738  0.497645  0.628057\n",
       "12  0.567326  0.118687 -0.382285  0.983909  0.265141  1.469460  1.221340\n",
       "13 -0.162303 -1.324181 -0.657143  0.566680  1.294652  0.810198  0.697288\n",
       "14  1.823496 -0.052316 -0.074647 -0.068028 -0.268900 -1.374613 -0.107463\n",
       "15 -0.019184  0.626065  0.754302  1.097239  1.384631  1.129968 -1.564641\n",
       "16  0.858501  0.166828 -0.704568  0.532731  0.331164  1.299236 -0.890783\n",
       "17  0.146092 -0.810906  0.076413 -1.357905  1.179224 -0.613416  1.627701\n",
       "18  0.792602  1.988414  0.270013  0.251558  0.682612 -0.123467  0.786318\n",
       "19  0.988810 -1.395923 -1.018949 -0.480577  0.638101  0.726811  0.489536"
      ]
     },
     "execution_count": 13,
     "metadata": {},
     "output_type": "execute_result"
    }
   ],
   "source": [
    "#Create an array of shape(20,7)\n",
    "our_array = np.random.randn(20,7)\n",
    "df = pd.DataFrame(our_array, columns = ['A','B','C','D','E','F','G'])\n",
    "df"
   ]
  },
  {
   "cell_type": "code",
   "execution_count": 28,
   "id": "b7905363",
   "metadata": {},
   "outputs": [
    {
     "data": {
      "text/html": [
       "<div>\n",
       "<style scoped>\n",
       "    .dataframe tbody tr th:only-of-type {\n",
       "        vertical-align: middle;\n",
       "    }\n",
       "\n",
       "    .dataframe tbody tr th {\n",
       "        vertical-align: top;\n",
       "    }\n",
       "\n",
       "    .dataframe thead th {\n",
       "        text-align: right;\n",
       "    }\n",
       "</style>\n",
       "<table border=\"1\" class=\"dataframe\">\n",
       "  <thead>\n",
       "    <tr style=\"text-align: right;\">\n",
       "      <th></th>\n",
       "      <th>Name</th>\n",
       "      <th>Age</th>\n",
       "      <th>Gender</th>\n",
       "    </tr>\n",
       "  </thead>\n",
       "  <tbody>\n",
       "    <tr>\n",
       "      <th>1</th>\n",
       "      <td>Aniket</td>\n",
       "      <td>26</td>\n",
       "      <td>Male</td>\n",
       "    </tr>\n",
       "    <tr>\n",
       "      <th>2</th>\n",
       "      <td>Prasad</td>\n",
       "      <td>27</td>\n",
       "      <td>Male</td>\n",
       "    </tr>\n",
       "    <tr>\n",
       "      <th>3</th>\n",
       "      <td>Anjali</td>\n",
       "      <td>25</td>\n",
       "      <td>Female</td>\n",
       "    </tr>\n",
       "    <tr>\n",
       "      <th>4</th>\n",
       "      <td>Shraddha</td>\n",
       "      <td>24</td>\n",
       "      <td>Female</td>\n",
       "    </tr>\n",
       "  </tbody>\n",
       "</table>\n",
       "</div>"
      ],
      "text/plain": [
       "       Name  Age  Gender\n",
       "1    Aniket   26    Male\n",
       "2    Prasad   27    Male\n",
       "3    Anjali   25  Female\n",
       "4  Shraddha   24  Female"
      ]
     },
     "execution_count": 28,
     "metadata": {},
     "output_type": "execute_result"
    }
   ],
   "source": [
    "list_of_dicts = [{'Name':'Aniket','Age':26, 'Gender':'Male'}, {'Name':'Prasad','Age':27, 'Gender':'Male'}, \n",
    "                 {'Name':'Anjali','Age':25, 'Gender':'Female'},{'Name':'Shraddha','Age':24, 'Gender':'Female'}]\n",
    "actor_df = pd.DataFrame(list_of_dicts, index = ['1','2','3','4'])\n",
    "actor_df"
   ]
  },
  {
   "cell_type": "code",
   "execution_count": 26,
   "id": "bb138598",
   "metadata": {},
   "outputs": [
    {
     "data": {
      "text/html": [
       "<div>\n",
       "<style scoped>\n",
       "    .dataframe tbody tr th:only-of-type {\n",
       "        vertical-align: middle;\n",
       "    }\n",
       "\n",
       "    .dataframe tbody tr th {\n",
       "        vertical-align: top;\n",
       "    }\n",
       "\n",
       "    .dataframe thead th {\n",
       "        text-align: right;\n",
       "    }\n",
       "</style>\n",
       "<table border=\"1\" class=\"dataframe\">\n",
       "  <thead>\n",
       "    <tr style=\"text-align: right;\">\n",
       "      <th></th>\n",
       "      <th>Name</th>\n",
       "      <th>Rank</th>\n",
       "    </tr>\n",
       "  </thead>\n",
       "  <tbody>\n",
       "    <tr>\n",
       "      <th>0</th>\n",
       "      <td>Aniket</td>\n",
       "      <td>1</td>\n",
       "    </tr>\n",
       "    <tr>\n",
       "      <th>1</th>\n",
       "      <td>Eknath</td>\n",
       "      <td>2</td>\n",
       "    </tr>\n",
       "    <tr>\n",
       "      <th>2</th>\n",
       "      <td>Keshav</td>\n",
       "      <td>3</td>\n",
       "    </tr>\n",
       "    <tr>\n",
       "      <th>3</th>\n",
       "      <td>Nehal</td>\n",
       "      <td>4</td>\n",
       "    </tr>\n",
       "  </tbody>\n",
       "</table>\n",
       "</div>"
      ],
      "text/plain": [
       "     Name  Rank\n",
       "0  Aniket     1\n",
       "1  Eknath     2\n",
       "2  Keshav     3\n",
       "3   Nehal     4"
      ]
     },
     "execution_count": 26,
     "metadata": {},
     "output_type": "execute_result"
    }
   ],
   "source": [
    "series_dict = {'Name': pd.Series(['Aniket','Eknath','Keshav','Nehal']), 'Rank':pd.Series([1,2,3,4])}\n",
    "#Create the Dataframe using the dictionary\n",
    "df = pd.DataFrame(series_dict)\n",
    "#print the dataframe\n",
    "df"
   ]
  },
  {
   "cell_type": "code",
   "execution_count": 34,
   "id": "23bcffd3",
   "metadata": {},
   "outputs": [
    {
     "data": {
      "text/html": [
       "<div>\n",
       "<style scoped>\n",
       "    .dataframe tbody tr th:only-of-type {\n",
       "        vertical-align: middle;\n",
       "    }\n",
       "\n",
       "    .dataframe tbody tr th {\n",
       "        vertical-align: top;\n",
       "    }\n",
       "\n",
       "    .dataframe thead th {\n",
       "        text-align: right;\n",
       "    }\n",
       "</style>\n",
       "<table border=\"1\" class=\"dataframe\">\n",
       "  <thead>\n",
       "    <tr style=\"text-align: right;\">\n",
       "      <th></th>\n",
       "      <th>Name</th>\n",
       "      <th>Age</th>\n",
       "    </tr>\n",
       "  </thead>\n",
       "  <tbody>\n",
       "    <tr>\n",
       "      <th>0</th>\n",
       "      <td>Aniket</td>\n",
       "      <td>26</td>\n",
       "    </tr>\n",
       "    <tr>\n",
       "      <th>1</th>\n",
       "      <td>Ajay</td>\n",
       "      <td>25</td>\n",
       "    </tr>\n",
       "    <tr>\n",
       "      <th>2</th>\n",
       "      <td>Amit</td>\n",
       "      <td>26</td>\n",
       "    </tr>\n",
       "    <tr>\n",
       "      <th>3</th>\n",
       "      <td>Mohit</td>\n",
       "      <td>25</td>\n",
       "    </tr>\n",
       "  </tbody>\n",
       "</table>\n",
       "</div>"
      ],
      "text/plain": [
       "     Name  Age\n",
       "0  Aniket   26\n",
       "1    Ajay   25\n",
       "2    Amit   26\n",
       "3   Mohit   25"
      ]
     },
     "execution_count": 34,
     "metadata": {},
     "output_type": "execute_result"
    }
   ],
   "source": [
    "series_dict = {\"Name\":['Aniket', 'Ajay', 'Amit', 'Mohit'], \"Age\":[26,25,26,25]}\n",
    "df = pd.DataFrame(series_dict)\n",
    "df"
   ]
  },
  {
   "cell_type": "code",
   "execution_count": 38,
   "id": "1ce2df1a",
   "metadata": {},
   "outputs": [
    {
     "data": {
      "text/html": [
       "<div>\n",
       "<style scoped>\n",
       "    .dataframe tbody tr th:only-of-type {\n",
       "        vertical-align: middle;\n",
       "    }\n",
       "\n",
       "    .dataframe tbody tr th {\n",
       "        vertical-align: top;\n",
       "    }\n",
       "\n",
       "    .dataframe thead th {\n",
       "        text-align: right;\n",
       "    }\n",
       "</style>\n",
       "<table border=\"1\" class=\"dataframe\">\n",
       "  <thead>\n",
       "    <tr style=\"text-align: right;\">\n",
       "      <th></th>\n",
       "      <th>Age</th>\n",
       "    </tr>\n",
       "  </thead>\n",
       "  <tbody>\n",
       "    <tr>\n",
       "      <th>count</th>\n",
       "      <td>4.00000</td>\n",
       "    </tr>\n",
       "    <tr>\n",
       "      <th>mean</th>\n",
       "      <td>25.50000</td>\n",
       "    </tr>\n",
       "    <tr>\n",
       "      <th>std</th>\n",
       "      <td>0.57735</td>\n",
       "    </tr>\n",
       "    <tr>\n",
       "      <th>min</th>\n",
       "      <td>25.00000</td>\n",
       "    </tr>\n",
       "    <tr>\n",
       "      <th>25%</th>\n",
       "      <td>25.00000</td>\n",
       "    </tr>\n",
       "    <tr>\n",
       "      <th>50%</th>\n",
       "      <td>25.50000</td>\n",
       "    </tr>\n",
       "    <tr>\n",
       "      <th>75%</th>\n",
       "      <td>26.00000</td>\n",
       "    </tr>\n",
       "    <tr>\n",
       "      <th>max</th>\n",
       "      <td>26.00000</td>\n",
       "    </tr>\n",
       "  </tbody>\n",
       "</table>\n",
       "</div>"
      ],
      "text/plain": [
       "            Age\n",
       "count   4.00000\n",
       "mean   25.50000\n",
       "std     0.57735\n",
       "min    25.00000\n",
       "25%    25.00000\n",
       "50%    25.50000\n",
       "75%    26.00000\n",
       "max    26.00000"
      ]
     },
     "execution_count": 38,
     "metadata": {},
     "output_type": "execute_result"
    }
   ],
   "source": [
    "df.describe()"
   ]
  },
  {
   "cell_type": "code",
   "execution_count": null,
   "id": "d7daf6e9",
   "metadata": {},
   "outputs": [],
   "source": []
  }
 ],
 "metadata": {
  "kernelspec": {
   "display_name": "Python 3 (ipykernel)",
   "language": "python",
   "name": "python3"
  },
  "language_info": {
   "codemirror_mode": {
    "name": "ipython",
    "version": 3
   },
   "file_extension": ".py",
   "mimetype": "text/x-python",
   "name": "python",
   "nbconvert_exporter": "python",
   "pygments_lexer": "ipython3",
   "version": "3.11.3"
  }
 },
 "nbformat": 4,
 "nbformat_minor": 5
}
