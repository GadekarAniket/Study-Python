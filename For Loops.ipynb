{
 "cells": [
  {
   "cell_type": "markdown",
   "id": "a3ee3378",
   "metadata": {},
   "source": [
    "# Loops"
   ]
  },
  {
   "cell_type": "markdown",
   "id": "eb7c2b9d",
   "metadata": {},
   "source": [
    "# In python we have mainly two different types of loops:"
   ]
  },
  {
   "cell_type": "markdown",
   "id": "73457614",
   "metadata": {},
   "source": [
    "for loop: In the context of most data science work, python for loops are used to loop through an iterable object (like a list, tuple, set,etc)and perform the same action for each entry, for example, a for loop would allow us to iterate through a list, performing the same action on each item in the list.\n",
    "    \n",
    "while loop: The while loop is somewhat similar to an if statement, it executes the code inside, if the condition is true.\n",
    "However, as opposed to the if statement, the while loop continues to execute the code repeatedly as long as the condition is true."
   ]
  },
  {
   "cell_type": "markdown",
   "id": "d200f9f8",
   "metadata": {},
   "source": [
    "# For loops"
   ]
  },
  {
   "cell_type": "markdown",
   "id": "5c0ac2dd",
   "metadata": {},
   "source": [
    "A for loop acts as an iterator in python; it goes through items that are in a sequence or any other iterable item. iterable is an object, which one can iterate over. Objects that we've learned about that we can iterate over include strings, lists, tuples and even built-in iterables for dictionaries, such as key or values."
   ]
  },
  {
   "cell_type": "markdown",
   "id": "9ad2d66b",
   "metadata": {},
   "source": [
    "# For loop"
   ]
  },
  {
   "cell_type": "code",
   "execution_count": 32,
   "id": "f5bc5dfc",
   "metadata": {},
   "outputs": [
    {
     "name": "stdout",
     "output_type": "stream",
     "text": [
      "['A', 'B', 'C', 'D', 'E', 'F']\n"
     ]
    }
   ],
   "source": [
    "duck_house = ['A', 'B','C','D','E','F']\n",
    "print(duck_house)"
   ]
  },
  {
   "cell_type": "code",
   "execution_count": 33,
   "id": "715a2293",
   "metadata": {},
   "outputs": [
    {
     "name": "stdout",
     "output_type": "stream",
     "text": [
      " the all ducks are black = F.\n",
      " the all ducks are black = E.\n",
      " the all ducks are black = D.\n",
      " the all ducks are black = C.\n",
      " the all ducks are black = B.\n",
      " the all ducks are black = A.\n"
     ]
    }
   ],
   "source": [
    "# the all items call black\n",
    "for black in duck_house[::-1]:\n",
    "    print(f\" the all ducks are black = {black}.\")"
   ]
  },
  {
   "cell_type": "code",
   "execution_count": 34,
   "id": "e697a27b",
   "metadata": {},
   "outputs": [
    {
     "name": "stdout",
     "output_type": "stream",
     "text": [
      "the all ducks are black. = A\n",
      "the all ducks are black. = B\n",
      "the all ducks are black. = C\n",
      "the all ducks are black. = D\n",
      "the all ducks are black. = E\n",
      "the all ducks are black. = F\n"
     ]
    }
   ],
   "source": [
    "#the all items call black.\n",
    "for black in duck_house[0::]:\n",
    "    print(f\"the all ducks are black. = {black}\")"
   ]
  },
  {
   "cell_type": "code",
   "execution_count": 35,
   "id": "1028bd9e",
   "metadata": {},
   "outputs": [
    {
     "name": "stdout",
     "output_type": "stream",
     "text": [
      "A = the all ducks are black.\n",
      "B = the all ducks are black.\n",
      "C = the all ducks are black.\n",
      "D = the all ducks are black.\n",
      "E = the all ducks are black.\n",
      "F = the all ducks are black.\n"
     ]
    }
   ],
   "source": [
    "# the all items call black\n",
    "for black in duck_house[0::]:\n",
    "    print(f\"{black} = the all ducks are black.\")"
   ]
  },
  {
   "cell_type": "code",
   "execution_count": 79,
   "id": "317cb82f",
   "metadata": {},
   "outputs": [
    {
     "name": "stdout",
     "output_type": "stream",
     "text": [
      "['stark', 'arryn', 'baratheon', 'tully', 'greyjoy', 'lannister']\n"
     ]
    }
   ],
   "source": [
    "# Consider a list of strings.\n",
    "got_house = ['stark', 'arryn', 'baratheon','tully','greyjoy', 'lannister']\n",
    "print(got_house)"
   ]
  },
  {
   "cell_type": "code",
   "execution_count": 80,
   "id": "eebed77c",
   "metadata": {},
   "outputs": [
    {
     "name": "stdout",
     "output_type": "stream",
     "text": [
      "house lannister\n",
      "house greyjoy\n",
      "house tully\n",
      "house baratheon\n",
      "house arryn\n",
      "house stark\n"
     ]
    }
   ],
   "source": [
    "#A simple for loop to print the houses of GOT universe\n",
    "for house in got_house[::-1]:\n",
    "    print(f\"house {house}\")"
   ]
  },
  {
   "cell_type": "code",
   "execution_count": 88,
   "id": "a58133d6",
   "metadata": {},
   "outputs": [
    {
     "name": "stdout",
     "output_type": "stream",
     "text": [
      "the got house stark is 1\n",
      "the got house arryn is 1\n",
      "the got house baratheon is 1\n",
      "the got house tully is 1\n",
      "the got house greyjoy is 1\n",
      "the got house lannister is 1\n"
     ]
    }
   ],
   "source": [
    "for home in got_house[0::]:\n",
    "    print(f\"the got house {home} is {number+1}\")    #pending doubt "
   ]
  },
  {
   "cell_type": "code",
   "execution_count": 74,
   "id": "1596c017",
   "metadata": {},
   "outputs": [
    {
     "name": "stdout",
     "output_type": "stream",
     "text": [
      "the got house stark is 1\n",
      "the got house arryn is 2\n",
      "the got house baratheon is 3\n",
      "the got house tully is 4\n",
      "the got house greyjoy is 5\n",
      "the got house lannister is 6\n"
     ]
    }
   ],
   "source": [
    "for number, home in enumerate(got_house):\n",
    "    print(f\"the got house {home} is {number+1}\")"
   ]
  },
  {
   "cell_type": "markdown",
   "id": "b1ec03bf",
   "metadata": {},
   "source": [
    "number + 1  is the enmerating method in python"
   ]
  },
  {
   "cell_type": "markdown",
   "id": "a4a717ee",
   "metadata": {},
   "source": [
    "Enmerate method in python \n",
    "\n",
    "a built in function that allows you to iterate through a sequence and keep track of the index of each element."
   ]
  },
  {
   "cell_type": "code",
   "execution_count": 15,
   "id": "e7c006ba",
   "metadata": {},
   "outputs": [
    {
     "data": {
      "text/plain": [
       "['stark', 'arryn', 'baratheon', 'tully', 'greyjoy', 'lannister']"
      ]
     },
     "execution_count": 15,
     "metadata": {},
     "output_type": "execute_result"
    }
   ],
   "source": [
    "got_house"
   ]
  },
  {
   "cell_type": "code",
   "execution_count": 21,
   "id": "b3d3774c",
   "metadata": {},
   "outputs": [
    {
     "name": "stdout",
     "output_type": "stream",
     "text": [
      "The house no of house starkis = 1\n",
      "The house no of house arrynis = 2\n",
      "The house no of house baratheonis = 3\n",
      "The house no of house tullyis = 4\n",
      "The house no of house greyjoyis = 5\n",
      "The house no of house lannisteris = 6\n"
     ]
    }
   ],
   "source": [
    "# using enumerate function to loop through the elements of the list\n",
    "for number, house in enumerate(got_house):\n",
    "    print(f\"The house no of house {house}is = {number+1}\")"
   ]
  },
  {
   "cell_type": "code",
   "execution_count": 22,
   "id": "81ee591a",
   "metadata": {},
   "outputs": [
    {
     "name": "stdout",
     "output_type": "stream",
     "text": [
      "2 = The house no of house stark \n",
      "3 = The house no of house arryn \n",
      "4 = The house no of house baratheon \n",
      "5 = The house no of house tully \n",
      "6 = The house no of house greyjoy \n",
      "7 = The house no of house lannister \n"
     ]
    }
   ],
   "source": [
    "for number, house in enumerate(got_house):\n",
    "    print(f\"{number+2} = The house no of house {house} \")"
   ]
  },
  {
   "cell_type": "markdown",
   "id": "5e0f90dc",
   "metadata": {},
   "source": [
    "Another intersting way to loop through the elements of a list is to the enumerate () function.\n",
    "using enumerate requries us twoo interators index and elements."
   ]
  },
  {
   "cell_type": "code",
   "execution_count": 23,
   "id": "d3896346",
   "metadata": {},
   "outputs": [],
   "source": [
    "x = 1,2"
   ]
  },
  {
   "cell_type": "code",
   "execution_count": 24,
   "id": "f0739bb3",
   "metadata": {},
   "outputs": [
    {
     "data": {
      "text/plain": [
       "(1, 2)"
      ]
     },
     "execution_count": 24,
     "metadata": {},
     "output_type": "execute_result"
    }
   ],
   "source": [
    "x"
   ]
  },
  {
   "cell_type": "code",
   "execution_count": 25,
   "id": "ed8c4439",
   "metadata": {},
   "outputs": [
    {
     "data": {
      "text/plain": [
       "[(0, 'stark'),\n",
       " (1, 'arryn'),\n",
       " (2, 'baratheon'),\n",
       " (3, 'tully'),\n",
       " (4, 'greyjoy'),\n",
       " (5, 'lannister')]"
      ]
     },
     "execution_count": 25,
     "metadata": {},
     "output_type": "execute_result"
    }
   ],
   "source": [
    "list(enumerate(got_house))"
   ]
  },
  {
   "cell_type": "code",
   "execution_count": 26,
   "id": "b1859e23",
   "metadata": {},
   "outputs": [
    {
     "name": "stdout",
     "output_type": "stream",
     "text": [
      "Lower range value:0\n",
      "Upper range value:10\n",
      "The numbers\n",
      "1 = all the numbers are 0\n",
      "2 = all the numbers are 1\n",
      "3 = all the numbers are 2\n",
      "4 = all the numbers are 3\n",
      "5 = all the numbers are 4\n",
      "6 = all the numbers are 5\n",
      "7 = all the numbers are 6\n",
      "8 = all the numbers are 7\n",
      "9 = all the numbers are 8\n",
      "10 = all the numbers are 9\n",
      "11 = all the numbers are 10\n"
     ]
    }
   ],
   "source": [
    "lower_range = int(input('Lower range value:'))\n",
    "upper_range = int(input('Upper range value:'))\n",
    "print(\"The numbers\")\n",
    "for numbers in range (lower_range,upper_range+1):\n",
    "    print(f\"{numbers+1} = all the numbers are {numbers}\")"
   ]
  },
  {
   "cell_type": "code",
   "execution_count": 27,
   "id": "66becf39",
   "metadata": {},
   "outputs": [
    {
     "name": "stdout",
     "output_type": "stream",
     "text": [
      "Lower range value:0\n",
      "Upper range value:20\n",
      "The numbers\n",
      "1 = all the numbers are 0\n",
      "2 = all the numbers are 1\n",
      "3 = all the numbers are 2\n",
      "4 = all the numbers are 3\n",
      "5 = all the numbers are 4\n",
      "6 = all the numbers are 5\n",
      "7 = all the numbers are 6\n",
      "8 = all the numbers are 7\n",
      "9 = all the numbers are 8\n",
      "10 = all the numbers are 9\n",
      "11 = all the numbers are 10\n",
      "12 = all the numbers are 11\n",
      "13 = all the numbers are 12\n",
      "14 = all the numbers are 13\n",
      "15 = all the numbers are 14\n",
      "16 = all the numbers are 15\n",
      "17 = all the numbers are 16\n",
      "18 = all the numbers are 17\n",
      "19 = all the numbers are 18\n",
      "20 = all the numbers are 19\n",
      "21 = all the numbers are 20\n"
     ]
    }
   ],
   "source": [
    "#Write a program to display numbers within a range \n",
    "lower_range = int(input('Lower range value:'))\n",
    "upper_range = int(input('Upper range value:'))\n",
    "print(\"The numbers\")\n",
    "for numbers in range (lower_range,upper_range+1):\n",
    "    print(f\"{numbers+1} = all the numbers are {numbers}\")"
   ]
  },
  {
   "cell_type": "code",
   "execution_count": 28,
   "id": "a4b654fc",
   "metadata": {},
   "outputs": [
    {
     "name": "stdout",
     "output_type": "stream",
     "text": [
      "Lower range value:0\n",
      "Upper range value:30\n",
      "The prime numbers are\n",
      "2\n",
      "3\n",
      "5\n",
      "7\n",
      "11\n",
      "13\n",
      "17\n",
      "19\n",
      "23\n",
      "29\n"
     ]
    }
   ],
   "source": [
    "#Write a program to display print numbers within a range \n",
    "lower_range = int(input('Lower range value:'))\n",
    "upper_range = int(input('Upper range value:'))\n",
    "print(\"The prime numbers are\")\n",
    "for numbers in range (lower_range,upper_range+1):\n",
    "    if numbers > 1:\n",
    "        for i in range (2,numbers):\n",
    "            if (numbers%i) == 0:\n",
    "                break\n",
    "        else:\n",
    "            print(numbers)"
   ]
  },
  {
   "cell_type": "code",
   "execution_count": 2,
   "id": "915ec726",
   "metadata": {},
   "outputs": [
    {
     "name": "stdout",
     "output_type": "stream",
     "text": [
      "[1, 2, 4, 6, 11, 14, 17, 20]\n"
     ]
    }
   ],
   "source": [
    "# The list of the numbers\n",
    "list_of_numbers = [1,2,4,6,11,14,17,20]\n",
    "print(list_of_numbers)"
   ]
  },
  {
   "cell_type": "code",
   "execution_count": 3,
   "id": "37aeff5b",
   "metadata": {},
   "outputs": [
    {
     "name": "stdout",
     "output_type": "stream",
     "text": [
      "The square of 1 is 1.\n",
      "The square of 2 is 4.\n",
      "The square of 4 is 16.\n",
      "The square of 6 is 36.\n",
      "The square of 11 is 121.\n",
      "The square of 14 is 196.\n",
      "The square of 17 is 289.\n",
      "The square of 20 is 400.\n"
     ]
    }
   ],
   "source": [
    "#Let us first print the squares\n",
    "for number in list_of_numbers:\n",
    "    squared_number = number**2\n",
    "    print(f\"The square of {number} is {squared_number}.\")"
   ]
  },
  {
   "cell_type": "code",
   "execution_count": 4,
   "id": "eacbb3be",
   "metadata": {},
   "outputs": [
    {
     "data": {
      "text/plain": [
       "[1, 2, 4, 6, 11, 14, 17, 20]"
      ]
     },
     "execution_count": 4,
     "metadata": {},
     "output_type": "execute_result"
    }
   ],
   "source": [
    "list_of_numbers"
   ]
  },
  {
   "cell_type": "code",
   "execution_count": 5,
   "id": "5fdad5d3",
   "metadata": {},
   "outputs": [
    {
     "name": "stdout",
     "output_type": "stream",
     "text": [
      "[1]\n",
      "[1, 4]\n",
      "[1, 4, 16]\n",
      "[1, 4, 16, 36]\n",
      "[1, 4, 16, 36, 121]\n",
      "[1, 4, 16, 36, 121, 196]\n",
      "[1, 4, 16, 36, 121, 196, 289]\n",
      "[1, 4, 16, 36, 121, 196, 289, 400]\n",
      "The list of squared numbers is [1, 4, 16, 36, 121, 196, 289, 400]\n"
     ]
    }
   ],
   "source": [
    "#let us first initialize a list where we will be aappending the square in each \n",
    "squared_numbers = []\n",
    "\n",
    "for number in list_of_numbers:\n",
    "    square = number**2\n",
    "    #use the append method to add the numbers one by one to our list.\n",
    "    squared_numbers.append(square)\n",
    "    print(squared_numbers)\n",
    "print(f\"The list of squared numbers is {squared_numbers}\")\n",
    "    "
   ]
  },
  {
   "cell_type": "code",
   "execution_count": 6,
   "id": "7aade773",
   "metadata": {},
   "outputs": [
    {
     "name": "stdout",
     "output_type": "stream",
     "text": [
      "[1, 2, 4, 6, 11, 14, 17, 20]\n",
      "[1, 4, 16, 36, 121, 196, 289, 400]\n"
     ]
    }
   ],
   "source": [
    "print(list_of_numbers)\n",
    "print(squared_numbers)"
   ]
  },
  {
   "cell_type": "code",
   "execution_count": 7,
   "id": "3747f3c9",
   "metadata": {},
   "outputs": [
    {
     "name": "stdout",
     "output_type": "stream",
     "text": [
      "[1, 2, 4, 6, 11, 14, 17, 20]\n",
      "[400]\n",
      "[400, 4]\n",
      "[400, 4, 16]\n",
      "[400, 4, 16, 36]\n",
      "[400, 4, 16, 36, 36]\n",
      "[400, 4, 16, 36, 36, 196]\n",
      "[400, 4, 16, 36, 36, 196, 196]\n",
      "[400, 4, 16, 36, 36, 196, 196, 400]\n"
     ]
    }
   ],
   "source": [
    "list_of_numbers = [1, 2, 4, 6, 11, 14, 17, 20]\n",
    "print(list_of_numbers)\n",
    "squared_numbers = []\n",
    "\n",
    "for number in list_of_numbers:\n",
    "    if number%2 ==0:\n",
    "        square = number**2\n",
    "        squared_numbers.append(square)\n",
    "    else:\n",
    "        square ==\" \"\n",
    "        squared_numbers.append(square)\n",
    "    print(squared_numbers)"
   ]
  },
  {
   "cell_type": "code",
   "execution_count": 8,
   "id": "2cf033fa",
   "metadata": {},
   "outputs": [
    {
     "name": "stdout",
     "output_type": "stream",
     "text": [
      "{1: 400, 2: 4, 4: 16, 6: 36, 11: 36, 14: 196, 17: 196, 20: 400}\n"
     ]
    }
   ],
   "source": [
    "#let us zip the original numbers and squares together and get the dictionary\n",
    "zipped_dict = dict(zip(list_of_numbers,squared_numbers))\n",
    "\n",
    "#let us print the dictionary where the key is the number and \n",
    "print(zipped_dict)"
   ]
  },
  {
   "cell_type": "markdown",
   "id": "486edb13",
   "metadata": {},
   "source": [
    "We only want to print the square of those numbers which are even.\n",
    "Let us see how we can do this "
   ]
  },
  {
   "cell_type": "markdown",
   "id": "3ff3914a",
   "metadata": {},
   "source": [
    "# What is module? in range function. %"
   ]
  },
  {
   "cell_type": "markdown",
   "id": "4e6e3400",
   "metadata": {},
   "source": [
    "The % symbol in python is called the modulo operator. it returns the reminder of dividing the left hand operand by right hand operand. it's used to get the remainder of a division problem."
   ]
  },
  {
   "cell_type": "code",
   "execution_count": 1,
   "id": "578ade8f",
   "metadata": {},
   "outputs": [
    {
     "name": "stdout",
     "output_type": "stream",
     "text": [
      "1\n",
      "3\n",
      "5\n",
      "7\n",
      "9\n"
     ]
    }
   ],
   "source": [
    "for number in range (1,10):\n",
    "    if (number%2 !=0):\n",
    "        print(number)"
   ]
  },
  {
   "cell_type": "code",
   "execution_count": 40,
   "id": "1c89a701",
   "metadata": {},
   "outputs": [
    {
     "name": "stdout",
     "output_type": "stream",
     "text": [
      "1\n",
      "3\n",
      "5\n",
      "7\n",
      "9\n",
      "11\n",
      "13\n",
      "15\n",
      "17\n",
      "19\n",
      "21\n",
      "23\n",
      "25\n",
      "27\n",
      "29\n"
     ]
    }
   ],
   "source": [
    "for number in range (1,30):\n",
    "    if (number%2 !=0):\n",
    "        print(number)"
   ]
  },
  {
   "cell_type": "code",
   "execution_count": 41,
   "id": "08246bed",
   "metadata": {},
   "outputs": [
    {
     "name": "stdout",
     "output_type": "stream",
     "text": [
      "1\n",
      "2\n",
      "4\n",
      "5\n",
      "7\n",
      "8\n",
      "10\n",
      "11\n",
      "13\n",
      "14\n",
      "16\n",
      "17\n",
      "19\n"
     ]
    }
   ],
   "source": [
    "for number in range (1,20):\n",
    "    if (number%3 !=0):\n",
    "        print(number)"
   ]
  },
  {
   "cell_type": "code",
   "execution_count": 3,
   "id": "faee3839",
   "metadata": {},
   "outputs": [
    {
     "name": "stdout",
     "output_type": "stream",
     "text": [
      "7\n",
      "14\n",
      "21\n",
      "28\n",
      "35\n",
      "42\n",
      "49\n",
      "56\n",
      "63\n",
      "70\n",
      "77\n",
      "84\n",
      "91\n",
      "98\n"
     ]
    }
   ],
   "source": [
    "for number in range (1,100):\n",
    "    if (number%7 ==0):\n",
    "        print(number)"
   ]
  },
  {
   "cell_type": "code",
   "execution_count": 4,
   "id": "05a68796",
   "metadata": {},
   "outputs": [
    {
     "name": "stdout",
     "output_type": "stream",
     "text": [
      "5\n",
      "10\n",
      "15\n",
      "20\n",
      "25\n",
      "30\n",
      "35\n",
      "40\n",
      "45\n"
     ]
    }
   ],
   "source": [
    "for number in range (1,50):\n",
    "    if (number%5 ==0):\n",
    "        print(number)"
   ]
  },
  {
   "cell_type": "code",
   "execution_count": 5,
   "id": "c5a5ab2a",
   "metadata": {},
   "outputs": [
    {
     "name": "stdout",
     "output_type": "stream",
     "text": [
      "10\n",
      "20\n",
      "30\n",
      "40\n",
      "50\n",
      "60\n",
      "70\n"
     ]
    }
   ],
   "source": [
    "for number in range (1,75):\n",
    "    if (number%10 ==0):\n",
    "        print(number)"
   ]
  },
  {
   "cell_type": "code",
   "execution_count": 11,
   "id": "40bce1e8",
   "metadata": {},
   "outputs": [
    {
     "name": "stdout",
     "output_type": "stream",
     "text": [
      "15\n",
      "30\n",
      "45\n",
      "60\n",
      "75\n",
      "90\n"
     ]
    }
   ],
   "source": [
    "for number in range (1,100):\n",
    "    if (number%15 ==0):\n",
    "        print(number)"
   ]
  },
  {
   "cell_type": "code",
   "execution_count": 14,
   "id": "999009de",
   "metadata": {},
   "outputs": [
    {
     "name": "stdout",
     "output_type": "stream",
     "text": [
      "1\n",
      "2\n",
      "3\n",
      "4\n",
      "6\n",
      "7\n",
      "8\n",
      "9\n",
      "11\n",
      "12\n",
      "13\n",
      "14\n"
     ]
    }
   ],
   "source": [
    "for number in range (1,15):\n",
    "    if (number%5 >0):\n",
    "        print(number)"
   ]
  },
  {
   "cell_type": "code",
   "execution_count": 22,
   "id": "5a726fa9",
   "metadata": {},
   "outputs": [
    {
     "name": "stdout",
     "output_type": "stream",
     "text": [
      "50\n",
      "51\n",
      "52\n",
      "53\n",
      "54\n",
      "55\n",
      "56\n",
      "57\n",
      "58\n",
      "59\n",
      "60\n",
      "61\n",
      "62\n",
      "63\n",
      "64\n",
      "65\n",
      "66\n",
      "67\n",
      "68\n",
      "69\n",
      "70\n",
      "71\n",
      "72\n",
      "73\n",
      "74\n",
      "75\n",
      "76\n",
      "77\n",
      "78\n",
      "79\n",
      "80\n",
      "81\n",
      "82\n",
      "83\n",
      "84\n",
      "85\n",
      "86\n",
      "87\n",
      "88\n",
      "89\n",
      "90\n",
      "91\n",
      "92\n",
      "93\n",
      "94\n",
      "95\n",
      "96\n",
      "97\n",
      "98\n",
      "99\n",
      "100\n"
     ]
    }
   ],
   "source": [
    "for number in range (50,76):\n",
    "    if (number%5 >= 0):\n",
    "        print(number)"
   ]
  },
  {
   "cell_type": "code",
   "execution_count": 23,
   "id": "15ad66e8",
   "metadata": {},
   "outputs": [
    {
     "name": "stdout",
     "output_type": "stream",
     "text": [
      "1\n",
      "2\n",
      "3\n",
      "4\n",
      "5\n",
      "6\n",
      "7\n",
      "8\n",
      "9\n",
      "10\n",
      "11\n",
      "12\n",
      "13\n",
      "14\n",
      "15\n",
      "16\n",
      "17\n",
      "18\n",
      "19\n"
     ]
    }
   ],
   "source": [
    "for number in range (1,20):\n",
    "    if (number%2 1= 0):\n",
    "        print(number)"
   ]
  },
  {
   "cell_type": "code",
   "execution_count": 42,
   "id": "1f40422d",
   "metadata": {},
   "outputs": [
    {
     "name": "stdout",
     "output_type": "stream",
     "text": [
      "2\n",
      "4\n",
      "6\n",
      "8\n"
     ]
    }
   ],
   "source": [
    "for number in range (1,10):\n",
    "    if (number%2 ==0):\n",
    "        print(number)"
   ]
  },
  {
   "cell_type": "code",
   "execution_count": 43,
   "id": "4b9c7e19",
   "metadata": {},
   "outputs": [
    {
     "name": "stdout",
     "output_type": "stream",
     "text": [
      "1\n",
      "2\n",
      "4\n",
      "5\n",
      "7\n",
      "8\n"
     ]
    }
   ],
   "source": [
    "for number in range (1,10):\n",
    "    if (number%3 >0):\n",
    "        print(number)"
   ]
  },
  {
   "cell_type": "code",
   "execution_count": 44,
   "id": "8fc940e2",
   "metadata": {},
   "outputs": [
    {
     "name": "stdout",
     "output_type": "stream",
     "text": [
      "1\n",
      "2\n",
      "3\n",
      "5\n",
      "6\n",
      "7\n",
      "9\n",
      "10\n",
      "11\n",
      "13\n",
      "14\n",
      "15\n",
      "17\n",
      "18\n",
      "19\n",
      "21\n",
      "22\n",
      "23\n",
      "25\n",
      "26\n",
      "27\n",
      "29\n",
      "30\n",
      "31\n",
      "33\n",
      "34\n",
      "35\n",
      "37\n",
      "38\n",
      "39\n"
     ]
    }
   ],
   "source": [
    "for number in range (1,41):\n",
    "    if (number% 4>0):\n",
    "        print(number)"
   ]
  },
  {
   "cell_type": "code",
   "execution_count": 45,
   "id": "dcf0b628",
   "metadata": {},
   "outputs": [
    {
     "name": "stdout",
     "output_type": "stream",
     "text": [
      "[1, 2, 4, 6, 11, 14, 17, 20]\n"
     ]
    }
   ],
   "source": [
    "print(list_of_numbers)"
   ]
  },
  {
   "cell_type": "code",
   "execution_count": 9,
   "id": "4980ea4c",
   "metadata": {},
   "outputs": [
    {
     "name": "stdout",
     "output_type": "stream",
     "text": [
      " I am an odd number1. My master projibits me from printing.\n",
      "The square of 2 is 4\n",
      "The square of 4 is 16\n",
      "The square of 6 is 36\n",
      " I am an odd number11. My master projibits me from printing.\n",
      "The square of 14 is 196\n",
      " I am an odd number17. My master projibits me from printing.\n",
      "The square of 20 is 400\n"
     ]
    }
   ],
   "source": [
    "#Let us first print the squares\n",
    "for number in list_of_numbers:\n",
    "    if number%2 ==0:\n",
    "        squared_number = number**2\n",
    "        print(f\"The square of {number} is {squared_number}\")\n",
    "    else:\n",
    "        print(f\" I am an odd number{number}. My master projibits me from printing.\")"
   ]
  },
  {
   "cell_type": "code",
   "execution_count": 10,
   "id": "6203db32",
   "metadata": {},
   "outputs": [
    {
     "name": "stdout",
     "output_type": "stream",
     "text": [
      " I am an odd number1. My master projibits me from printing.\n",
      " I am an odd number2. My master projibits me from printing.\n",
      " I am an odd number4. My master projibits me from printing.\n",
      "The square of 6 is 36\n",
      " I am an odd number11. My master projibits me from printing.\n",
      " I am an odd number14. My master projibits me from printing.\n",
      " I am an odd number17. My master projibits me from printing.\n",
      " I am an odd number20. My master projibits me from printing.\n"
     ]
    }
   ],
   "source": [
    "for number in list_of_numbers:\n",
    "    if number%3 ==0:\n",
    "        squared_number = number**2\n",
    "        print(f\"The square of {number} is {squared_number}\")\n",
    "    else:\n",
    "        print(f\" I am an odd number{number}. My master projibits me from printing.\")"
   ]
  },
  {
   "cell_type": "code",
   "execution_count": 11,
   "id": "6f5212f7",
   "metadata": {},
   "outputs": [
    {
     "data": {
      "text/plain": [
       "[0, 1, 2, 3, 4, 5, 6, 7, 8, 9, 10]"
      ]
     },
     "execution_count": 11,
     "metadata": {},
     "output_type": "execute_result"
    }
   ],
   "source": [
    "list(range(11))"
   ]
  },
  {
   "cell_type": "code",
   "execution_count": 12,
   "id": "a502f4e1",
   "metadata": {},
   "outputs": [
    {
     "name": "stdout",
     "output_type": "stream",
     "text": [
      "2 *  1 = 2\n",
      "2 *  2 = 4\n",
      "2 *  3 = 6\n",
      "2 *  4 = 8\n",
      "2 *  5 = 10\n",
      "2 *  6 = 12\n",
      "2 *  7 = 14\n",
      "2 *  8 = 16\n",
      "2 *  9 = 18\n",
      "2 *  10 = 20\n"
     ]
    }
   ],
   "source": [
    "#print table of two using for loop\n",
    "for a in range(1,11):\n",
    "    #print(\"2 * \",a,\"=\",2*a)\n",
    "    print(f'2 *  {a} = {2*a}')"
   ]
  },
  {
   "cell_type": "code",
   "execution_count": 13,
   "id": "a666bd1e",
   "metadata": {},
   "outputs": [
    {
     "name": "stdout",
     "output_type": "stream",
     "text": [
      "15 *  1 = 15\n",
      "15 *  2 = 30\n",
      "15 *  3 = 45\n",
      "15 *  4 = 60\n",
      "15 *  5 = 75\n",
      "15 *  6 = 90\n",
      "15 *  7 = 105\n",
      "15 *  8 = 120\n",
      "15 *  9 = 135\n",
      "15 *  10 = 150\n"
     ]
    }
   ],
   "source": [
    "for a in range(1,11):\n",
    "    print(f'15 *  {a} = {15*a}')"
   ]
  },
  {
   "cell_type": "code",
   "execution_count": 54,
   "id": "68dd88b6",
   "metadata": {},
   "outputs": [
    {
     "name": "stdout",
     "output_type": "stream",
     "text": [
      "Square of 1 = 1\n",
      "Square of 2 = 4\n",
      "Square of 3 = 9\n",
      "Square of 4 = 16\n",
      "Square of 5 = 25\n",
      "Square of 6 = 36\n",
      "Square of 7 = 49\n",
      "Square of 8 = 64\n",
      "Square of 9 = 81\n",
      "Square of 10 = 100\n"
     ]
    }
   ],
   "source": [
    "#print square of numbers between 1 to 10 using for loop\n",
    "for a in range(1,11):\n",
    "    print(f'Square of {a} = {a**2}')"
   ]
  },
  {
   "cell_type": "code",
   "execution_count": 14,
   "id": "e6671287",
   "metadata": {},
   "outputs": [
    {
     "name": "stdout",
     "output_type": "stream",
     "text": [
      "Square of 1 = 1\n",
      "Square of 2 = 8\n",
      "Square of 3 = 27\n",
      "Square of 4 = 64\n",
      "Square of 5 = 125\n",
      "Square of 6 = 216\n",
      "Square of 7 = 343\n",
      "Square of 8 = 512\n",
      "Square of 9 = 729\n",
      "Square of 10 = 1000\n"
     ]
    }
   ],
   "source": [
    "for a in range(1,11):\n",
    "    print(f'Square of {a} = {a**3}')"
   ]
  },
  {
   "cell_type": "code",
   "execution_count": 56,
   "id": "015543f6",
   "metadata": {},
   "outputs": [
    {
     "name": "stdout",
     "output_type": "stream",
     "text": [
      "=\n",
      "==\n",
      "===\n",
      "====\n",
      "=====\n",
      "======\n",
      "=======\n",
      "========\n",
      "=========\n",
      "==========\n",
      "===========\n",
      "============\n",
      "=============\n",
      "==============\n",
      "===============\n",
      "================\n",
      "=================\n",
      "==================\n",
      "===================\n",
      "====================\n",
      "=====================\n",
      "======================\n",
      "=======================\n",
      "========================\n",
      "=========================\n",
      "==========================\n",
      "===========================\n",
      "============================\n",
      "=============================\n",
      "==============================\n",
      "===============================\n",
      "================================\n",
      "=================================\n",
      "==================================\n",
      "===================================\n",
      "====================================\n",
      "=====================================\n",
      "======================================\n",
      "=======================================\n",
      "========================================\n",
      "=========================================\n",
      "==========================================\n",
      "===========================================\n",
      "============================================\n",
      "=============================================\n",
      "==============================================\n",
      "===============================================\n",
      "================================================\n",
      "=================================================\n"
     ]
    }
   ],
   "source": [
    "#print square of numbers between 1 to 10 using for loop \n",
    "for a in range(1,50):\n",
    "    print(a* '=')"
   ]
  },
  {
   "cell_type": "code",
   "execution_count": 15,
   "id": "0883c3f8",
   "metadata": {},
   "outputs": [
    {
     "name": "stdout",
     "output_type": "stream",
     "text": [
      "3\n",
      "33\n",
      "333\n",
      "3333\n",
      "33333\n",
      "333333\n",
      "3333333\n",
      "33333333\n",
      "333333333\n"
     ]
    }
   ],
   "source": [
    "for a in range(1,10):\n",
    "    print(a* '3')"
   ]
  },
  {
   "cell_type": "code",
   "execution_count": 57,
   "id": "f79d0b30",
   "metadata": {},
   "outputs": [
    {
     "name": "stdout",
     "output_type": "stream",
     "text": [
      "The square of 0 is 0\n",
      "The square of 2 is 4\n",
      "The square of 4 is 16\n",
      "The square of 6 is 36\n",
      "The square of 8 is 64\n"
     ]
    }
   ],
   "source": [
    "#Let us first print the squares\n",
    "for number in range (0,10,2):\n",
    "    squared_number = number**2\n",
    "    print(f'The square of {number} is {squared_number}')"
   ]
  },
  {
   "cell_type": "code",
   "execution_count": 58,
   "id": "ede2c898",
   "metadata": {},
   "outputs": [
    {
     "name": "stdout",
     "output_type": "stream",
     "text": [
      "3\n",
      "6\n",
      "9\n",
      "12\n",
      "15\n",
      "18\n",
      "21\n",
      "24\n",
      "27\n",
      "30\n",
      "4\n",
      "8\n",
      "12\n",
      "16\n",
      "20\n",
      "24\n",
      "28\n",
      "32\n",
      "36\n",
      "40\n",
      "5\n",
      "10\n",
      "15\n",
      "20\n",
      "25\n",
      "30\n",
      "35\n",
      "40\n",
      "45\n",
      "50\n"
     ]
    }
   ],
   "source": [
    "for i in range(3,31,3):\n",
    "    print(i)\n",
    "for i in range(4,41,4):\n",
    "    print(i)\n",
    "for i in range(5,51,5):\n",
    "    print(i)"
   ]
  },
  {
   "cell_type": "markdown",
   "id": "d42b35fc",
   "metadata": {},
   "source": [
    "# Suppose we wanted to find the sum of the squares of our numbers in the list"
   ]
  },
  {
   "cell_type": "code",
   "execution_count": 16,
   "id": "e30b4dbd",
   "metadata": {},
   "outputs": [
    {
     "name": "stdout",
     "output_type": "stream",
     "text": [
      "[1, 2, 4, 6, 11, 14, 17, 20]\n"
     ]
    }
   ],
   "source": [
    "#print our list\n",
    "print(list_of_numbers)"
   ]
  },
  {
   "cell_type": "code",
   "execution_count": 60,
   "id": "198aa6f2",
   "metadata": {},
   "outputs": [
    {
     "name": "stdout",
     "output_type": "stream",
     "text": [
      "1\n",
      "3\n",
      "6\n",
      "10\n",
      "15\n",
      "21\n",
      "28\n",
      "36\n",
      "45\n",
      "55\n",
      "The sum of the squares of our list of numbers is 55\n"
     ]
    }
   ],
   "source": [
    "#Let us the initialize the sum of the squares with 0.This makes sense right!\n",
    "sum_squares = 0\n",
    "for number in range(1,11):\n",
    "    sum_squares = sum_squares + number\n",
    "    print(sum_squares)    #1+2 =3, 3+3 =4=6, 6+4 =10\n",
    "# now we have added the squares of all numbers in our list\n",
    "print(f\"The sum of the squares of our list of numbers is {sum_squares}\")"
   ]
  },
  {
   "cell_type": "markdown",
   "id": "0636bae4",
   "metadata": {},
   "source": [
    "In python which are sequence of elements such as strings, tuples etc.\n",
    "\n",
    "Let us try and apply for loop to iterate over their elemets.\n"
   ]
  },
  {
   "cell_type": "code",
   "execution_count": 61,
   "id": "81f17473",
   "metadata": {},
   "outputs": [],
   "source": [
    "#Let us first store the sequence of elemets such as strings variable\n",
    "sentence = \"Every sction has an equal and opposite reaction!\""
   ]
  },
  {
   "cell_type": "code",
   "execution_count": 62,
   "id": "c04958ae",
   "metadata": {},
   "outputs": [
    {
     "name": "stdout",
     "output_type": "stream",
     "text": [
      "My alphabets is E\n",
      "My alphabets is v\n",
      "My alphabets is e\n",
      "My alphabets is r\n",
      "My alphabets is y\n",
      "My alphabets is  \n",
      "My alphabets is s\n",
      "My alphabets is c\n",
      "My alphabets is t\n",
      "My alphabets is i\n",
      "My alphabets is o\n",
      "My alphabets is n\n",
      "My alphabets is  \n",
      "My alphabets is h\n",
      "My alphabets is a\n",
      "My alphabets is s\n",
      "My alphabets is  \n",
      "My alphabets is a\n",
      "My alphabets is n\n",
      "My alphabets is  \n",
      "My alphabets is e\n",
      "My alphabets is q\n",
      "My alphabets is u\n",
      "My alphabets is a\n",
      "My alphabets is l\n",
      "My alphabets is  \n",
      "My alphabets is a\n",
      "My alphabets is n\n",
      "My alphabets is d\n",
      "My alphabets is  \n",
      "My alphabets is o\n",
      "My alphabets is p\n",
      "My alphabets is p\n",
      "My alphabets is o\n",
      "My alphabets is s\n",
      "My alphabets is i\n",
      "My alphabets is t\n",
      "My alphabets is e\n",
      "My alphabets is  \n",
      "My alphabets is r\n",
      "My alphabets is e\n",
      "My alphabets is a\n",
      "My alphabets is c\n",
      "My alphabets is t\n",
      "My alphabets is i\n",
      "My alphabets is o\n",
      "My alphabets is n\n",
      "My alphabets is !\n"
     ]
    }
   ],
   "source": [
    "for char in sentence:\n",
    "    print(f\"My alphabets is {char}\")"
   ]
  },
  {
   "cell_type": "code",
   "execution_count": 63,
   "id": "7c8bef4f",
   "metadata": {},
   "outputs": [
    {
     "name": "stdout",
     "output_type": "stream",
     "text": [
      "The index is 0 and the character is E\n",
      "The index is 1 and the character is v\n",
      "The index is 2 and the character is e\n",
      "The index is 3 and the character is r\n",
      "The index is 4 and the character is y\n",
      "The index is 5 and the character is  \n",
      "The index is 6 and the character is s\n",
      "The index is 7 and the character is c\n",
      "The index is 8 and the character is t\n",
      "The index is 9 and the character is i\n",
      "The index is 10 and the character is o\n",
      "The index is 11 and the character is n\n",
      "The index is 12 and the character is  \n",
      "The index is 13 and the character is h\n",
      "The index is 14 and the character is a\n",
      "The index is 15 and the character is s\n",
      "The index is 16 and the character is  \n",
      "The index is 17 and the character is a\n",
      "The index is 18 and the character is n\n",
      "The index is 19 and the character is  \n",
      "The index is 20 and the character is e\n",
      "The index is 21 and the character is q\n",
      "The index is 22 and the character is u\n",
      "The index is 23 and the character is a\n",
      "The index is 24 and the character is l\n",
      "The index is 25 and the character is  \n",
      "The index is 26 and the character is a\n",
      "The index is 27 and the character is n\n",
      "The index is 28 and the character is d\n",
      "The index is 29 and the character is  \n",
      "The index is 30 and the character is o\n",
      "The index is 31 and the character is p\n",
      "The index is 32 and the character is p\n",
      "The index is 33 and the character is o\n",
      "The index is 34 and the character is s\n",
      "The index is 35 and the character is i\n",
      "The index is 36 and the character is t\n",
      "The index is 37 and the character is e\n",
      "The index is 38 and the character is  \n",
      "The index is 39 and the character is r\n",
      "The index is 40 and the character is e\n",
      "The index is 41 and the character is a\n",
      "The index is 42 and the character is c\n",
      "The index is 43 and the character is t\n",
      "The index is 44 and the character is i\n",
      "The index is 45 and the character is o\n",
      "The index is 46 and the character is n\n",
      "The index is 47 and the character is !\n"
     ]
    }
   ],
   "source": [
    "#let apply a for loop to do the above task\n",
    "for index,char in enumerate(sentence):\n",
    "    print(f\"The index is {index} and the character is {char}\")"
   ]
  },
  {
   "cell_type": "code",
   "execution_count": 68,
   "id": "d3265504",
   "metadata": {},
   "outputs": [
    {
     "name": "stdout",
     "output_type": "stream",
     "text": [
      "Life is too short to waste time on things that dosen't matters. Ifyou want to be sucessful, you must be willing to do the things that other won't.Belive in yourself and all that you are. know that there is something inside you that is graeter than any obstacle\n"
     ]
    }
   ],
   "source": [
    "Best_quotes = \"Life is too short to waste time on things that dosen't matters. Ifyou want to be sucessful, you must be willing to do the things that other won't.\" \"Belive in yourself and all that you are. know that there is something inside you that is graeter than any obstacle\"\n",
    "print(Best_quotes)"
   ]
  },
  {
   "cell_type": "code",
   "execution_count": 69,
   "id": "1aad94b0",
   "metadata": {},
   "outputs": [
    {
     "name": "stdout",
     "output_type": "stream",
     "text": [
      "['Life', 'is', 'too', 'short', 'to', 'waste', 'time', 'on', 'things', 'that', \"dosen't\", 'matters.', 'Ifyou', 'want', 'to', 'be', 'sucessful,', 'you', 'must', 'be', 'willing', 'to', 'do', 'the', 'things', 'that', 'other', \"won't.Belive\", 'in', 'yourself', 'and', 'all', 'that', 'you', 'are.', 'know', 'that', 'there', 'is', 'something', 'inside', 'you', 'that', 'is', 'graeter', 'than', 'any', 'obstacle']\n"
     ]
    }
   ],
   "source": [
    "words_by_quotes = Best_quotes.split(\" \")\n",
    "print(words_by_quotes)"
   ]
  },
  {
   "cell_type": "code",
   "execution_count": 70,
   "id": "c4579766",
   "metadata": {},
   "outputs": [
    {
     "name": "stdout",
     "output_type": "stream",
     "text": [
      "The word is Life\n",
      "The word is is\n",
      "The word is too\n",
      "The word is short\n",
      "The word is to\n",
      "The word is waste\n",
      "The word is time\n",
      "The word is on\n",
      "The word is things\n",
      "The word is that\n",
      "The word is dosen't\n",
      "The word is matters.\n",
      "The word is Ifyou\n",
      "The word is want\n",
      "The word is to\n",
      "The word is be\n",
      "The word is sucessful,\n",
      "The word is must\n",
      "The word is be\n",
      "The word is willing\n",
      "The word is to\n",
      "The word is do\n",
      "The word is things\n",
      "The word is that\n",
      "The word is other\n",
      "The word is won't.Belive\n",
      "The word is in\n",
      "The word is yourself\n",
      "The word is and\n",
      "The word is all\n",
      "The word is that\n",
      "The word is are.\n",
      "The word is know\n",
      "The word is that\n",
      "The word is there\n",
      "The word is is\n",
      "The word is something\n",
      "The word is inside\n",
      "The word is that\n",
      "The word is is\n",
      "The word is graeter\n",
      "The word is than\n",
      "The word is any\n",
      "The word is obstacle\n"
     ]
    }
   ],
   "source": [
    "#now we can print each word by iterating through this list\n",
    "for word in words_by_quotes:\n",
    "    if word not in ['the', 'you']:\n",
    "        print(f\"The word is {word}\")"
   ]
  },
  {
   "cell_type": "code",
   "execution_count": 22,
   "id": "2dd274c5",
   "metadata": {},
   "outputs": [
    {
     "name": "stdout",
     "output_type": "stream",
     "text": [
      "Need to learn python, SQL, PowerBI, Tableau, Advance excel\n",
      "['Need', 'to', 'learn', 'python,', 'SQL,', 'PowerBI,', 'Tableau,', 'Advance', 'excel']\n",
      "My alphabets is Need\n",
      "My alphabets is to\n",
      "My alphabets is learn\n",
      "My alphabets is python,\n",
      "My alphabets is SQL,\n",
      "My alphabets is PowerBI,\n",
      "My alphabets is Tableau,\n",
      "My alphabets is Advance\n",
      "My alphabets is excel\n",
      "The word is Need\n",
      "The word is learn\n",
      "The word is python,\n",
      "The word is SQL,\n",
      "The word is PowerBI,\n",
      "The word is Tableau,\n",
      "The word is Advance\n",
      "The word is excel\n"
     ]
    }
   ],
   "source": [
    "data_science = \"Need to learn python, SQL, PowerBI, Tableau, Advance excel\"\n",
    "print(data_science)\n",
    "designation = data_science.split(\" \")\n",
    "print(designation)\n",
    "for char in designation:\n",
    "    print(f\"My alphabets is {char}\")\n",
    "for word in designation:\n",
    "    if word not in ['to', 'SQL']:\n",
    "        print(f\"The word is {word}\")"
   ]
  },
  {
   "cell_type": "markdown",
   "id": "42e7cc9d",
   "metadata": {},
   "source": [
    "# We can also iterate through each element of tuple as well."
   ]
  },
  {
   "cell_type": "code",
   "execution_count": 71,
   "id": "74cf5c3e",
   "metadata": {},
   "outputs": [
    {
     "name": "stdout",
     "output_type": "stream",
     "text": [
      "Today is Monday.\n",
      "Today is Tuesday.\n",
      "Today is Wednesday.\n",
      "Today is Thrusday.\n",
      "Today is Friday.\n",
      "Today is Saturday.\n",
      "Today is Sunday.\n"
     ]
    }
   ],
   "source": [
    "# suppose we have a tuple of days\n",
    "days=('Monday','Tuesday','Wednesday','Thrusday','Friday','Saturday','Sunday')\n",
    "for day in days:\n",
    "    print(f\"Today is {day}.\")"
   ]
  },
  {
   "cell_type": "code",
   "execution_count": 74,
   "id": "da6ee39a",
   "metadata": {},
   "outputs": [
    {
     "name": "stdout",
     "output_type": "stream",
     "text": [
      "[('India', 'New delhi', 'Ganga'), ('Hamburg', 'Germany', 'Eibe'), ('UK', 'Bristol', 'avon'), ('Japan', 'Arakava', 'Tokyo')]\n"
     ]
    }
   ],
   "source": [
    "country_city_river_list = [('India','New delhi','Ganga'), ('Hamburg','Germany','Eibe'),('UK','Bristol','avon'),('Japan','Arakava','Tokyo')]\n",
    "print(country_city_river_list)"
   ]
  },
  {
   "cell_type": "code",
   "execution_count": 77,
   "id": "494cb8a8",
   "metadata": {},
   "outputs": [
    {
     "name": "stdout",
     "output_type": "stream",
     "text": [
      "The capital of the country India is New delhi and it also has time the river Ganga.\n",
      "The capital of the country Hamburg is Germany and it also has time the river Eibe.\n",
      "The capital of the country UK is Bristol and it also has time the river avon.\n",
      "The capital of the country Japan is Arakava and it also has time the river Tokyo.\n"
     ]
    }
   ],
   "source": [
    "#Let us itearte through each tuple elements of this list and unpack each item\n",
    "for country,city,river in country_city_river_list:\n",
    "    #print (country_city)\n",
    "    print(f\"The capital of the country {country} is {city} and it also has time the river {river}.\")"
   ]
  },
  {
   "cell_type": "code",
   "execution_count": 17,
   "id": "c4b15bc1",
   "metadata": {},
   "outputs": [
    {
     "name": "stdout",
     "output_type": "stream",
     "text": [
      "[('India', 'New delhi', 'Aniket'), ('Hamburg', 'Germany', 'Romeo'), ('UK', 'Bristol', 'Christopher'), ('Japan', 'Arakava', 'naruto')]\n"
     ]
    }
   ],
   "source": [
    "country_city_name_list = [('India','New delhi','Aniket'), ('Hamburg','Germany','Romeo'),('UK','Bristol','Christopher'),('Japan','Arakava','naruto')]\n",
    "print(country_city_name_list)"
   ]
  },
  {
   "cell_type": "code",
   "execution_count": 18,
   "id": "aa4436a4",
   "metadata": {},
   "outputs": [
    {
     "name": "stdout",
     "output_type": "stream",
     "text": [
      "The capital of the country India is New delhi and it also has time the name Aniket.\n",
      "The capital of the country Hamburg is Germany and it also has time the name Romeo.\n",
      "The capital of the country UK is Bristol and it also has time the name Christopher.\n",
      "The capital of the country Japan is Arakava and it also has time the name naruto.\n"
     ]
    }
   ],
   "source": [
    "for country,city,name in country_city_name_list:\n",
    "    #print (country_city)\n",
    "    print(f\"The capital of the country {country} is {city} and it also has time the name {name}.\")"
   ]
  },
  {
   "cell_type": "code",
   "execution_count": null,
   "id": "e2397fee",
   "metadata": {},
   "outputs": [],
   "source": []
  }
 ],
 "metadata": {
  "kernelspec": {
   "display_name": "Python 3 (ipykernel)",
   "language": "python",
   "name": "python3"
  },
  "language_info": {
   "codemirror_mode": {
    "name": "ipython",
    "version": 3
   },
   "file_extension": ".py",
   "mimetype": "text/x-python",
   "name": "python",
   "nbconvert_exporter": "python",
   "pygments_lexer": "ipython3",
   "version": "3.11.3"
  }
 },
 "nbformat": 4,
 "nbformat_minor": 5
}
