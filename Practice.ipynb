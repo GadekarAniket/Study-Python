{
 "cells": [
  {
   "cell_type": "code",
   "execution_count": 2,
   "id": "2c311fa1",
   "metadata": {},
   "outputs": [
    {
     "name": "stdout",
     "output_type": "stream",
     "text": [
      "Enter first number : 10\n",
      "Enter second number : 10\n",
      "20\n"
     ]
    }
   ],
   "source": [
    "#input \n",
    "a = int(input(\"Enter first number : \"))\n",
    "b = int(input(\"Enter second number : \"))\n",
    "print(a+b)"
   ]
  },
  {
   "cell_type": "code",
   "execution_count": 3,
   "id": "19ea6367",
   "metadata": {},
   "outputs": [
    {
     "name": "stdout",
     "output_type": "stream",
     "text": [
      "Aniket\n",
      "Aniket\n"
     ]
    }
   ],
   "source": [
    "a = input()\n",
    "print(a)"
   ]
  },
  {
   "cell_type": "code",
   "execution_count": 3,
   "id": "94506af0",
   "metadata": {},
   "outputs": [
    {
     "ename": "SyntaxError",
     "evalue": "unterminated string literal (detected at line 2) (503076305.py, line 2)",
     "output_type": "error",
     "traceback": [
      "\u001b[1;36m  Cell \u001b[1;32mIn[3], line 2\u001b[1;36m\u001b[0m\n\u001b[1;33m    print(\"City name  + a + \" Main\")\u001b[0m\n\u001b[1;37m                                  ^\u001b[0m\n\u001b[1;31mSyntaxError\u001b[0m\u001b[1;31m:\u001b[0m unterminated string literal (detected at line 2)\n"
     ]
    }
   ],
   "source": [
    "a = input(\"City = \")\n",
    "print(\"City name \" + a + \" Main\")\n"
   ]
  },
  {
   "cell_type": "code",
   "execution_count": 3,
   "id": "7df62a38",
   "metadata": {},
   "outputs": [
    {
     "name": "stdout",
     "output_type": "stream",
     "text": [
      "Temperature in degree : 45\n",
      "your city temperature is : 45\n",
      "High\n"
     ]
    }
   ],
   "source": [
    "#If elif and else statements.\n",
    "a = int(input(\"Temperature in degree : \"))\n",
    "print(\"your city temperature is :\", a)\n",
    "if (a>18):\n",
    "    print(\"High\")\n",
    "elif (a>12):\n",
    "    print(\"Normal\")\n",
    "else:\n",
    "    print(\"Low\")"
   ]
  },
  {
   "cell_type": "code",
   "execution_count": 4,
   "id": "fca143b5",
   "metadata": {},
   "outputs": [
    {
     "name": "stdout",
     "output_type": "stream",
     "text": [
      "Aniket\n"
     ]
    }
   ],
   "source": [
    "print(\"Aniket\")"
   ]
  },
  {
   "cell_type": "code",
   "execution_count": 5,
   "id": "0008b080",
   "metadata": {},
   "outputs": [
    {
     "name": "stdout",
     "output_type": "stream",
     "text": [
      "A\n",
      "n\n",
      "i\n",
      "k\n",
      "e\n",
      "t\n"
     ]
    }
   ],
   "source": [
    "name = \"Aniket\"\n",
    "for i in name:\n",
    "    print(i)"
   ]
  },
  {
   "cell_type": "code",
   "execution_count": 6,
   "id": "2fc3d239",
   "metadata": {},
   "outputs": [
    {
     "name": "stdout",
     "output_type": "stream",
     "text": [
      "A,n,i,k,e,t,"
     ]
    }
   ],
   "source": [
    "name = \"Aniket\"\n",
    "for i in name:\n",
    "    print(i,end=\",\")"
   ]
  },
  {
   "cell_type": "code",
   "execution_count": 7,
   "id": "4f25fcbe",
   "metadata": {},
   "outputs": [
    {
     "name": "stdout",
     "output_type": "stream",
     "text": [
      "1\n",
      "2\n",
      "3\n",
      "4\n",
      "5\n",
      "6\n",
      "7\n",
      "8\n",
      "9\n",
      "10\n"
     ]
    }
   ],
   "source": [
    "for i in range(1,11):\n",
    "    print(i)"
   ]
  },
  {
   "cell_type": "code",
   "execution_count": 23,
   "id": "3b79d409",
   "metadata": {},
   "outputs": [],
   "source": [
    "for i in range(10,0):\n",
    "    print(i)\n",
    "    i = i - 1"
   ]
  },
  {
   "cell_type": "code",
   "execution_count": 22,
   "id": "a13719e9",
   "metadata": {},
   "outputs": [
    {
     "name": "stdout",
     "output_type": "stream",
     "text": [
      "0\n",
      "20\n",
      "40\n",
      "60\n",
      "80\n"
     ]
    }
   ],
   "source": [
    "for i in range(0,100,20):\n",
    "    print(i)"
   ]
  },
  {
   "cell_type": "code",
   "execution_count": 15,
   "id": "f71d930d",
   "metadata": {},
   "outputs": [
    {
     "name": "stdout",
     "output_type": "stream",
     "text": [
      "1\n",
      "2\n",
      "3\n",
      "4\n",
      "5\n",
      "6\n",
      "7\n",
      "8\n",
      "9\n",
      "10\n"
     ]
    }
   ],
   "source": [
    "i = 1\n",
    "while (i<=10):\n",
    "    print(i)\n",
    "    i = i+1"
   ]
  },
  {
   "cell_type": "code",
   "execution_count": 16,
   "id": "9b2e5bf4",
   "metadata": {},
   "outputs": [
    {
     "name": "stdout",
     "output_type": "stream",
     "text": [
      "10\n",
      "9\n",
      "8\n",
      "7\n",
      "6\n",
      "5\n",
      "4\n",
      "3\n",
      "2\n",
      "1\n"
     ]
    }
   ],
   "source": [
    "i = 10\n",
    "while (i>0):\n",
    "    print(i)\n",
    "    i=i-1"
   ]
  },
  {
   "cell_type": "code",
   "execution_count": 20,
   "id": "27198d09",
   "metadata": {},
   "outputs": [
    {
     "name": "stdout",
     "output_type": "stream",
     "text": [
      "Aniket\n"
     ]
    }
   ],
   "source": [
    "print(\"Aniket\")"
   ]
  },
  {
   "cell_type": "code",
   "execution_count": 1,
   "id": "8c4ff260",
   "metadata": {},
   "outputs": [
    {
     "name": "stdout",
     "output_type": "stream",
     "text": [
      "Aniket\n"
     ]
    }
   ],
   "source": [
    "Name = \"Aniket\"\n",
    "print(Name)"
   ]
  },
  {
   "cell_type": "code",
   "execution_count": 2,
   "id": "0b763f5c",
   "metadata": {},
   "outputs": [
    {
     "data": {
      "text/plain": [
       "str"
      ]
     },
     "execution_count": 2,
     "metadata": {},
     "output_type": "execute_result"
    }
   ],
   "source": [
    "type(Name)"
   ]
  },
  {
   "cell_type": "code",
   "execution_count": 3,
   "id": "923f9cde",
   "metadata": {},
   "outputs": [
    {
     "name": "stdout",
     "output_type": "stream",
     "text": [
      "([1, 15, 6, 9, 7, 5], (15, 85, 96, 15), {18, 75, 98, 15})\n"
     ]
    }
   ],
   "source": [
    "Aniket = [1,15,6,9,7,5]\n",
    "Mohit = (15,85,96,15)\n",
    "Nehal = {15,18,98,75}\n",
    "Friend = (Aniket,Mohit,Nehal)\n",
    "print(Friend)"
   ]
  },
  {
   "cell_type": "code",
   "execution_count": 4,
   "id": "463a4de6",
   "metadata": {},
   "outputs": [],
   "source": [
    "Friend = (*Aniket,*Mohit,*Nehal)"
   ]
  },
  {
   "cell_type": "code",
   "execution_count": 5,
   "id": "5c6da9ee",
   "metadata": {},
   "outputs": [
    {
     "name": "stdout",
     "output_type": "stream",
     "text": [
      "(1, 15, 6, 9, 7, 5, 15, 85, 96, 15, 18, 75, 98, 15)\n"
     ]
    }
   ],
   "source": [
    "print(Friend)"
   ]
  },
  {
   "cell_type": "code",
   "execution_count": 12,
   "id": "ef5363a6",
   "metadata": {},
   "outputs": [
    {
     "name": "stdout",
     "output_type": "stream",
     "text": [
      "0,3,2,5,4,7,6,9,8,11,10,13,12,15,14,17,16,19,18,21,20,23,22,25,24,27,26,29,28,31,30,33,32,35,34,37,36,39,38,41,40,43,42,45,44,47,46,49,48,51,"
     ]
    }
   ],
   "source": [
    "for i in range(1,51):\n",
    "    if i % 2  == 0:\n",
    "        print(i+1, end= ','\n",
    "     else:\n",
    "        print(i-1, end=',')\n"
   ]
  },
  {
   "cell_type": "code",
   "execution_count": 14,
   "id": "0284f9a4",
   "metadata": {},
   "outputs": [
    {
     "name": "stdout",
     "output_type": "stream",
     "text": [
      "2,7,10,63,26,215,50,511,82,999,"
     ]
    }
   ],
   "source": [
    "for i in range(1,11):\n",
    "    if i % 2  == 0:\n",
    "        print((i*i*i)-1 , end= ',')\n",
    "    else:\n",
    "        print((i*i)+1, end=',')"
   ]
  },
  {
   "cell_type": "code",
   "execution_count": 17,
   "id": "5125a43e",
   "metadata": {},
   "outputs": [
    {
     "name": "stdout",
     "output_type": "stream",
     "text": [
      "2,7,8,13,14,19,20,25,26,31,"
     ]
    }
   ],
   "source": [
    "for i in range(1,11):\n",
    "    if i % 2  == 0:\n",
    "        print((i*3)+1 , end= ',')\n",
    "    else:\n",
    "        print((i*3)-1, end=',')"
   ]
  },
  {
   "cell_type": "code",
   "execution_count": 62,
   "id": "de006a7b",
   "metadata": {},
   "outputs": [
    {
     "name": "stdout",
     "output_type": "stream",
     "text": [
      "1\n",
      "3\n",
      "6\n",
      "10\n",
      "15\n",
      "21\n",
      "28\n",
      "36\n",
      "45\n",
      "55\n"
     ]
    }
   ],
   "source": [
    "previous_value = 0\n",
    "for i in range(1,11):\n",
    "    sum =(i+previous_value)\n",
    "    previous_value = sum\n",
    "    print(sum)\n",
    "        "
   ]
  },
  {
   "cell_type": "code",
   "execution_count": 66,
   "id": "1049e2bb",
   "metadata": {},
   "outputs": [
    {
     "name": "stdout",
     "output_type": "stream",
     "text": [
      "Enter Number:10\n",
      "1\n",
      "11\n",
      "111\n",
      "1111\n",
      "11111\n",
      "111111\n",
      "1111111\n",
      "11111111\n",
      "111111111\n",
      "1111111111\n"
     ]
    }
   ],
   "source": [
    "n = input('Enter Number:')\n",
    "a = int(n)\n",
    "sum_1 =0\n",
    "for i in range(1,a+1):\n",
    "    sum_1 = sum_1*10+1\n",
    "    print(sum_1)\n",
    "    "
   ]
  },
  {
   "cell_type": "code",
   "execution_count": 69,
   "id": "90de27fe",
   "metadata": {},
   "outputs": [
    {
     "name": "stdout",
     "output_type": "stream",
     "text": [
      "Enter Number:20\n",
      "1,3,5,7,9,11,13,15,17,19,"
     ]
    }
   ],
   "source": [
    "#Take a number from user & print all odd natural numbers till N.\n",
    "n = int(input('Enter Number:'))\n",
    "for i in range (1,n+1):\n",
    "    if i % 2  == 1:\n",
    "        print(i, end= ',')\n"
   ]
  },
  {
   "cell_type": "code",
   "execution_count": 1,
   "id": "c6cd381d",
   "metadata": {},
   "outputs": [
    {
     "name": "stdout",
     "output_type": "stream",
     "text": [
      "Enter 1st value:10\n",
      "Enter 2nd value:20\n",
      "Enter 3rd value:30\n",
      "C is greater then A and B\n"
     ]
    }
   ],
   "source": [
    "#Take 3 integer from user & find the greatest.\n",
    "a = int(input(\"Enter 1st value:\"))\n",
    "b = int(input(\"Enter 2nd value:\"))\n",
    "c = int(input(\"Enter 3rd value:\"))\n",
    "if  (a>b)&(a>c):\n",
    "    print(\"A is greater then B and C\")\n",
    "elif (b>a)&(b>c):\n",
    "    print(\"B is greater then A and C\")\n",
    "else:\n",
    "    print(\"C is greater then A and B\")"
   ]
  },
  {
   "cell_type": "code",
   "execution_count": 3,
   "id": "1622ca6c",
   "metadata": {},
   "outputs": [
    {
     "name": "stdout",
     "output_type": "stream",
     "text": [
      "Enter Number:-183\n",
      "This is hundred\n"
     ]
    }
   ],
   "source": [
    "#take any integers from user and check if it's unit, tens or hundered.\n",
    "n = int(input('Enter Number:'))\n",
    "if (n <= 9)&(n >= -9):\n",
    "    print(\"This is unit\")\n",
    "elif (n <=99)&(n >= -99):\n",
    "    print(\"This is tens\")\n",
    "else :\n",
    "    print(\"This is hundred\")"
   ]
  },
  {
   "cell_type": "code",
   "execution_count": 1,
   "id": "1ce34c90",
   "metadata": {},
   "outputs": [
    {
     "name": "stdout",
     "output_type": "stream",
     "text": [
      "Enter Number:10\n",
      "Addition of all odd number is: 25\n",
      "Addition of all even number is: 30\n"
     ]
    }
   ],
   "source": [
    "n = int(input('Enter Number:'))\n",
    "sum = 0 \n",
    "sum_1 = 0\n",
    "for i in range(1,n+1):\n",
    "    if i % 2  == 1:\n",
    "        sum+=i\n",
    "    else :\n",
    "        sum_1+=i\n",
    "print('Addition of all odd number is:', sum )\n",
    "print('Addition of all even number is:', sum_1)"
   ]
  },
  {
   "cell_type": "code",
   "execution_count": 8,
   "id": "23c40535",
   "metadata": {},
   "outputs": [
    {
     "name": "stdout",
     "output_type": "stream",
     "text": [
      "Enter Number:7\n",
      "5040\n"
     ]
    }
   ],
   "source": [
    "n = int(input('Enter Number:')) \n",
    "Factorial = 1\n",
    "for i in range(1,n+1):\n",
    "    Factorial=Factorial*i\n",
    "print(Factorial)"
   ]
  },
  {
   "cell_type": "code",
   "execution_count": 36,
   "id": "ea310b05",
   "metadata": {},
   "outputs": [
    {
     "name": "stdout",
     "output_type": "stream",
     "text": [
      "Number of elements:5\n",
      "Enter element:9\n",
      "Enter element:8\n",
      "Enter element:0\n",
      "Enter element:-9\n",
      "Enter element:-8\n",
      "9\n",
      "8\n",
      "0\n",
      "-9\n",
      "-8\n",
      "positive numbers : 2\n",
      "negative numbers: 2\n",
      "zero: 1\n"
     ]
    }
   ],
   "source": [
    "from array import*\n",
    "new_array = array('i',[])\n",
    "n = int(input(\"Number of elements:\"))\n",
    "pCount = 0\n",
    "nCount = 0\n",
    "zCount = 0\n",
    "for i in range(n):\n",
    "    new_array.append(int(input(\"Enter element:\")))\n",
    "for i in range(len(new_array)):\n",
    "    print(new_array[i])\n",
    "    if (new_array[i] > 0):\n",
    "        pCount +=1\n",
    "    elif (new_array[i] < 0):\n",
    "        nCount +=1\n",
    "    else:\n",
    "        zCount +=1\n",
    "print(\"positive numbers :\",pCount)\n",
    "print(\"negative numbers:\",nCount)\n",
    "print(\"zero:\",zCount)\n"
   ]
  },
  {
   "cell_type": "code",
   "execution_count": 37,
   "id": "f1a22cdc",
   "metadata": {},
   "outputs": [
    {
     "name": "stdout",
     "output_type": "stream",
     "text": [
      "Number of elements:10\n",
      "Enter element:7\n",
      "Enter element:65\n",
      "Enter element:49\n",
      "Enter element:3\n",
      "Enter element:21\n",
      "Enter element:97\n",
      "Enter element:63\n",
      "Enter element:8\n",
      "Enter element:6\n",
      "Enter element:9\n",
      "7\n",
      "65\n",
      "49\n",
      "3\n",
      "21\n",
      "97\n",
      "63\n",
      "8\n",
      "6\n",
      "9\n",
      "numbers divisible by 7 are : 4\n"
     ]
    }
   ],
   "source": [
    "from array import*\n",
    "new_array = array('i',[])\n",
    "n = int(input(\"Number of elements:\"))\n",
    "pCount = 0\n",
    "for i in range(n):\n",
    "    new_array.append(int(input(\"Enter element:\")))\n",
    "for i in range(len(new_array)):\n",
    "    print(new_array[i])\n",
    "    if (new_array[i] %7 == 0):\n",
    "        pCount +=1\n",
    "print(\"numbers divisible by 7 are :\",pCount)\n"
   ]
  },
  {
   "cell_type": "code",
   "execution_count": 2,
   "id": "265b0aa2",
   "metadata": {},
   "outputs": [
    {
     "name": "stdout",
     "output_type": "stream",
     "text": [
      "Enter a number: -1234\n",
      "0\n"
     ]
    }
   ],
   "source": [
    "x = int(input(\"Enter a number: \"))\n",
    "reverse = 0 \n",
    "while (x >0):\n",
    "    remainder = x % 10\n",
    "    reverse = (reverse*10) + remainder\n",
    "    x = x // 10\n",
    "print(reverse)"
   ]
  },
  {
   "cell_type": "code",
   "execution_count": 46,
   "id": "2154e146",
   "metadata": {},
   "outputs": [
    {
     "name": "stdout",
     "output_type": "stream",
     "text": [
      "23\n"
     ]
    }
   ],
   "source": [
    "print('23')"
   ]
  },
  {
   "cell_type": "code",
   "execution_count": 1,
   "id": "90546349",
   "metadata": {},
   "outputs": [
    {
     "name": "stdout",
     "output_type": "stream",
     "text": [
      "Enter a number: 259\n",
      "16\n"
     ]
    }
   ],
   "source": [
    "x = int(input(\"Enter a number: \"))\n",
    "plus = 0 \n",
    "while (x >0):\n",
    "    plus = plus + x % 10\n",
    "    x = x//10\n",
    "print(plus)"
   ]
  },
  {
   "cell_type": "code",
   "execution_count": 6,
   "id": "5d41b5e3",
   "metadata": {},
   "outputs": [
    {
     "name": "stdout",
     "output_type": "stream",
     "text": [
      "Enter a number: 4898746\n",
      "16\n"
     ]
    }
   ],
   "source": [
    "x = int(input(\"Enter a number: \"))\n",
    "odd_numbers = 0 \n",
    "number = 0\n",
    "while (x >0):\n",
    "    odd_numbers = x % 10\n",
    "    x = x//10\n",
    "    if (odd_numbers % 2  == 1):\n",
    "        number = number +odd_numbers\n",
    "print(number)"
   ]
  },
  {
   "cell_type": "code",
   "execution_count": 1,
   "id": "4397dba2",
   "metadata": {},
   "outputs": [
    {
     "name": "stdout",
     "output_type": "stream",
     "text": [
      "aniket\n"
     ]
    }
   ],
   "source": [
    "print(\"aniket\")"
   ]
  },
  {
   "cell_type": "code",
   "execution_count": 10,
   "id": "b8557714",
   "metadata": {},
   "outputs": [
    {
     "name": "stdout",
     "output_type": "stream",
     "text": [
      "Enter a number: 156849\n",
      "it's not a palindrome\n"
     ]
    }
   ],
   "source": [
    "x = int(input(\"Enter a number: \"))\n",
    "reverse = 0 \n",
    "palin = x\n",
    "while (x >0):\n",
    "    remainder = x % 10\n",
    "    reverse = (reverse*10) + remainder\n",
    "    x = x // 10\n",
    "if (palin==reverse):\n",
    "    print(\"it's a palindrome\")\n",
    "else :\n",
    "    print(\"it's not a palindrome\")"
   ]
  },
  {
   "cell_type": "code",
   "execution_count": 1,
   "id": "884603e5",
   "metadata": {},
   "outputs": [],
   "source": [
    "import numpy as np"
   ]
  },
  {
   "cell_type": "code",
   "execution_count": 16,
   "id": "9fc89e4e",
   "metadata": {},
   "outputs": [],
   "source": [
    "myarr = np.array([[3,6,85,9]], np.int64)"
   ]
  },
  {
   "cell_type": "code",
   "execution_count": 17,
   "id": "f59ec6bd",
   "metadata": {},
   "outputs": [
    {
     "name": "stdout",
     "output_type": "stream",
     "text": [
      "[[ 3  6 85  9]]\n"
     ]
    }
   ],
   "source": [
    "print(myarr)"
   ]
  },
  {
   "cell_type": "code",
   "execution_count": 18,
   "id": "5eb01829",
   "metadata": {},
   "outputs": [
    {
     "data": {
      "text/plain": [
       "(1, 4)"
      ]
     },
     "execution_count": 18,
     "metadata": {},
     "output_type": "execute_result"
    }
   ],
   "source": [
    "myarr.shape"
   ]
  },
  {
   "cell_type": "code",
   "execution_count": 19,
   "id": "3dbe6f0d",
   "metadata": {},
   "outputs": [
    {
     "data": {
      "text/plain": [
       "9"
      ]
     },
     "execution_count": 19,
     "metadata": {},
     "output_type": "execute_result"
    }
   ],
   "source": [
    "myarr[0,3]"
   ]
  },
  {
   "cell_type": "code",
   "execution_count": 26,
   "id": "db354aca",
   "metadata": {},
   "outputs": [
    {
     "data": {
      "text/plain": [
       "6"
      ]
     },
     "execution_count": 26,
     "metadata": {},
     "output_type": "execute_result"
    }
   ],
   "source": [
    "myarr[0,1]"
   ]
  },
  {
   "cell_type": "code",
   "execution_count": 27,
   "id": "4ff4f1f6",
   "metadata": {},
   "outputs": [
    {
     "data": {
      "text/plain": [
       "dtype('int64')"
      ]
     },
     "execution_count": 27,
     "metadata": {},
     "output_type": "execute_result"
    }
   ],
   "source": [
    "myarr.dtype"
   ]
  },
  {
   "cell_type": "code",
   "execution_count": 28,
   "id": "e0c9eb04",
   "metadata": {},
   "outputs": [
    {
     "data": {
      "text/plain": [
       "array([[ 3,  6, 85,  9]], dtype=int64)"
      ]
     },
     "execution_count": 28,
     "metadata": {},
     "output_type": "execute_result"
    }
   ],
   "source": [
    "myarr"
   ]
  },
  {
   "cell_type": "code",
   "execution_count": 29,
   "id": "1ed9de80",
   "metadata": {},
   "outputs": [],
   "source": [
    "myarr[0,3] = 45"
   ]
  },
  {
   "cell_type": "code",
   "execution_count": 30,
   "id": "56a6d703",
   "metadata": {},
   "outputs": [
    {
     "data": {
      "text/plain": [
       "array([[ 3,  6, 85, 45]], dtype=int64)"
      ]
     },
     "execution_count": 30,
     "metadata": {},
     "output_type": "execute_result"
    }
   ],
   "source": [
    "myarr"
   ]
  },
  {
   "cell_type": "code",
   "execution_count": 8,
   "id": "d1240ce2",
   "metadata": {},
   "outputs": [
    {
     "name": "stdout",
     "output_type": "stream",
     "text": [
      "Enter a number: 21\n",
      "10.5\n"
     ]
    }
   ],
   "source": [
    "# Write a program were we need to take a input from user and print the remainder for divisible by 2\n",
    "# Input: 34\n",
    "# Output: 0\n",
    "\n",
    "x = int(input(\"Enter a number: \"))\n",
    "print(x/2)\n",
    "    "
   ]
  },
  {
   "cell_type": "code",
   "execution_count": null,
   "id": "d44fc7de",
   "metadata": {},
   "outputs": [],
   "source": []
  }
 ],
 "metadata": {
  "kernelspec": {
   "display_name": "Python 3 (ipykernel)",
   "language": "python",
   "name": "python3"
  },
  "language_info": {
   "codemirror_mode": {
    "name": "ipython",
    "version": 3
   },
   "file_extension": ".py",
   "mimetype": "text/x-python",
   "name": "python",
   "nbconvert_exporter": "python",
   "pygments_lexer": "ipython3",
   "version": "3.11.3"
  }
 },
 "nbformat": 4,
 "nbformat_minor": 5
}
