{
 "cells": [
  {
   "cell_type": "markdown",
   "id": "60b65e35",
   "metadata": {},
   "source": [
    "# What is production Enviroment?"
   ]
  },
  {
   "cell_type": "markdown",
   "id": "16edbbec",
   "metadata": {},
   "source": [
    "Production environment is a term used mostly by developers to describe the setting where software and other products are actually put into operation for their intended uses by end usres."
   ]
  },
  {
   "cell_type": "markdown",
   "id": "4e307d79",
   "metadata": {},
   "source": [
    "Concepts that will be usefull in writting production grade code."
   ]
  },
  {
   "cell_type": "markdown",
   "id": "1e0e42dc",
   "metadata": {},
   "source": [
    "Object orianted programming \n",
    "\n",
    "Handling errors and Exceptions."
   ]
  },
  {
   "cell_type": "markdown",
   "id": "a11f556c",
   "metadata": {},
   "source": [
    "# Object oriented programming"
   ]
  },
  {
   "cell_type": "markdown",
   "id": "15975748",
   "metadata": {},
   "source": [
    "Object oriented programming (OOP) tends to be one of the most interesting concepts to learn python."
   ]
  },
  {
   "cell_type": "markdown",
   "id": "2da7b4f4",
   "metadata": {},
   "source": [
    "For this lesson we will construct our knowledge of OOP in python by building on the following topics:"
   ]
  },
  {
   "cell_type": "markdown",
   "id": "3cf93736",
   "metadata": {},
   "source": [
    "objects\n",
    "\n",
    "using the class keyword\n",
    "\n",
    "cresting class attributes\n",
    "\n",
    "creating methods in a class\n",
    "\n",
    "Learing about polymorphism"
   ]
  },
  {
   "cell_type": "code",
   "execution_count": 1,
   "id": "b9d2e8f9",
   "metadata": {},
   "outputs": [],
   "source": [
    "empty_list =[]"
   ]
  },
  {
   "cell_type": "code",
   "execution_count": 2,
   "id": "8c0ff243",
   "metadata": {},
   "outputs": [
    {
     "data": {
      "text/plain": [
       "[]"
      ]
     },
     "execution_count": 2,
     "metadata": {},
     "output_type": "execute_result"
    }
   ],
   "source": [
    "empty_list"
   ]
  },
  {
   "cell_type": "code",
   "execution_count": 3,
   "id": "2e4cb0e7",
   "metadata": {},
   "outputs": [],
   "source": [
    "another_empty_list = list()"
   ]
  },
  {
   "cell_type": "code",
   "execution_count": 4,
   "id": "6cdee833",
   "metadata": {},
   "outputs": [
    {
     "data": {
      "text/plain": [
       "[]"
      ]
     },
     "execution_count": 4,
     "metadata": {},
     "output_type": "execute_result"
    }
   ],
   "source": [
    "another_empty_list"
   ]
  },
  {
   "cell_type": "markdown",
   "id": "9f0e71a1",
   "metadata": {},
   "source": [
    "# Remember how we could call methods on a list?"
   ]
  },
  {
   "cell_type": "code",
   "execution_count": 5,
   "id": "2e280268",
   "metadata": {},
   "outputs": [],
   "source": [
    "another_empty_list.append(2)"
   ]
  },
  {
   "cell_type": "code",
   "execution_count": 6,
   "id": "0ca8b2d7",
   "metadata": {},
   "outputs": [
    {
     "data": {
      "text/plain": [
       "[2]"
      ]
     },
     "execution_count": 6,
     "metadata": {},
     "output_type": "execute_result"
    }
   ],
   "source": [
    "another_empty_list"
   ]
  },
  {
   "cell_type": "code",
   "execution_count": 7,
   "id": "5108b3e7",
   "metadata": {},
   "outputs": [],
   "source": [
    "another_empty_list.append(1)\n",
    "another_empty_list.append(3)"
   ]
  },
  {
   "cell_type": "code",
   "execution_count": 8,
   "id": "8d67d204",
   "metadata": {},
   "outputs": [
    {
     "data": {
      "text/plain": [
       "[2, 1, 3]"
      ]
     },
     "execution_count": 8,
     "metadata": {},
     "output_type": "execute_result"
    }
   ],
   "source": [
    "another_empty_list"
   ]
  },
  {
   "cell_type": "code",
   "execution_count": 9,
   "id": "c841f39f",
   "metadata": {},
   "outputs": [
    {
     "data": {
      "text/plain": [
       "0"
      ]
     },
     "execution_count": 9,
     "metadata": {},
     "output_type": "execute_result"
    }
   ],
   "source": [
    "another_empty_list.index(2)"
   ]
  },
  {
   "cell_type": "markdown",
   "id": "19d22a17",
   "metadata": {},
   "source": [
    "What we will basically be doing in this lecture is exploring how we could create an object type like a list. we've already learned about how to create functions. so let's explore Objects in general."
   ]
  },
  {
   "cell_type": "markdown",
   "id": "62387a02",
   "metadata": {},
   "source": [
    "# Objects"
   ]
  },
  {
   "cell_type": "markdown",
   "id": "f22f2679",
   "metadata": {},
   "source": [
    "In python, Everything is an object. Remember from previous leactures we can use type()to check the object something is :"
   ]
  },
  {
   "cell_type": "code",
   "execution_count": 10,
   "id": "49048ead",
   "metadata": {},
   "outputs": [
    {
     "name": "stdout",
     "output_type": "stream",
     "text": [
      "<class 'int'>\n"
     ]
    }
   ],
   "source": [
    "number = 6 \n",
    "print(type(number))"
   ]
  },
  {
   "cell_type": "code",
   "execution_count": 11,
   "id": "76c35c4b",
   "metadata": {},
   "outputs": [
    {
     "name": "stdout",
     "output_type": "stream",
     "text": [
      "<class 'float'>\n"
     ]
    }
   ],
   "source": [
    "two_and_a_half_men = 2.5\n",
    "print(type(two_and_a_half_men))"
   ]
  },
  {
   "cell_type": "code",
   "execution_count": 12,
   "id": "d8188f18",
   "metadata": {},
   "outputs": [
    {
     "name": "stdout",
     "output_type": "stream",
     "text": [
      "<class 'list'>\n"
     ]
    }
   ],
   "source": [
    "schindlers_list = list()\n",
    "print(type(schindlers_list))"
   ]
  },
  {
   "cell_type": "code",
   "execution_count": 13,
   "id": "a2ba735e",
   "metadata": {},
   "outputs": [],
   "source": [
    "another_list = list()"
   ]
  },
  {
   "cell_type": "code",
   "execution_count": 14,
   "id": "57c10321",
   "metadata": {},
   "outputs": [
    {
     "name": "stdout",
     "output_type": "stream",
     "text": [
      "<class 'dict'>\n"
     ]
    }
   ],
   "source": [
    "tharoor = {'farrago':'a confused mixture'}\n",
    "print(type(tharoor))"
   ]
  },
  {
   "cell_type": "markdown",
   "id": "05ae30f9",
   "metadata": {},
   "source": [
    "So we know all these things are objects, so how we create  our own object types? That is class keyword comes in "
   ]
  },
  {
   "cell_type": "markdown",
   "id": "3ca25d95",
   "metadata": {},
   "source": [
    "# Class"
   ]
  },
  {
   "cell_type": "markdown",
   "id": "e297e280",
   "metadata": {},
   "source": [
    "User defined objects are created using the class keyword. The class is a blueprint that defines the nature of a future object. From classes we can construct instances. An instance is a specific objects created from a particular class. For example, above we create the object let see how we can use class:"
   ]
  },
  {
   "cell_type": "code",
   "execution_count": 20,
   "id": "66ae09e1",
   "metadata": {},
   "outputs": [],
   "source": [
    "# Create a new object type called Firstclass\n",
    "class FirstClass:\n",
    "    pass"
   ]
  },
  {
   "cell_type": "code",
   "execution_count": 21,
   "id": "323d6551",
   "metadata": {},
   "outputs": [
    {
     "name": "stdout",
     "output_type": "stream",
     "text": [
      "<class '__main__.FirstClass'>\n"
     ]
    }
   ],
   "source": [
    "#Instance of Fisrtclass\n",
    "x = FirstClass()\n",
    "print(type(x))"
   ]
  },
  {
   "cell_type": "code",
   "execution_count": 23,
   "id": "39b2b12e",
   "metadata": {},
   "outputs": [
    {
     "name": "stdout",
     "output_type": "stream",
     "text": [
      "<class '__main__.FirstClass'>\n"
     ]
    }
   ],
   "source": [
    "y = FirstClass()\n",
    "print(type(y))"
   ]
  },
  {
   "cell_type": "code",
   "execution_count": 24,
   "id": "976e9d2b",
   "metadata": {},
   "outputs": [
    {
     "name": "stdout",
     "output_type": "stream",
     "text": [
      "<class '__main__.FirstClass'>\n"
     ]
    }
   ],
   "source": [
    "z = FirstClass()\n",
    "print(type(z))"
   ]
  },
  {
   "cell_type": "markdown",
   "id": "2bb0c6a0",
   "metadata": {},
   "source": [
    "y convention we give classes a name that starts with a captial letter.\n",
    "Note how x is now the reference to our new instance of a Firstclass class.\n",
    "\n",
    "In other  words, we instantiate the Firstclass class.\n",
    "\n",
    "Inside of the class we currently just have pass. but we can define class attributes and methods.\n",
    "\n",
    "An attributs is a characterstics of an object. A method is an operations we can perform with the object.\n",
    "\n",
    "For example, we can create a class called Dog. An attribute of a dog may be its breed or its name, while a method of a dog\n",
    "may be defined by a.bark() method which returns a sound.\n",
    "Let's get a better understanding of attributes through an example"
   ]
  },
  {
   "cell_type": "markdown",
   "id": "14b188cc",
   "metadata": {},
   "source": [
    "# What is function?"
   ]
  },
  {
   "cell_type": "markdown",
   "id": "43d7804c",
   "metadata": {},
   "source": [
    "In python a function is defined using the def keyword\n",
    "\n",
    "def my_function( ):\n",
    "    print(\"Hello from a function\")"
   ]
  },
  {
   "cell_type": "markdown",
   "id": "8f0e1d0c",
   "metadata": {},
   "source": [
    "# Calling a function"
   ]
  },
  {
   "cell_type": "markdown",
   "id": "ffe4d0d0",
   "metadata": {},
   "source": [
    "To call a function, use the function name followed by paranthesis:\n"
   ]
  },
  {
   "cell_type": "code",
   "execution_count": 4,
   "id": "0fd0e700",
   "metadata": {},
   "outputs": [
    {
     "name": "stdout",
     "output_type": "stream",
     "text": [
      "Hello from a function\n"
     ]
    }
   ],
   "source": [
    "def my_function():\n",
    "    print(\"Hello from a function\")\n",
    "    \n",
    "my_function()"
   ]
  },
  {
   "cell_type": "markdown",
   "id": "a9a8fb04",
   "metadata": {},
   "source": [
    "Function arguments\n",
    "Information can be passed into functions as arguments.\n",
    "Arguments are specified after the function name, inside the parantheses. you can add as many arguments as you want, just seperate them with a comma."
   ]
  },
  {
   "cell_type": "markdown",
   "id": "1f57dd02",
   "metadata": {},
   "source": [
    "The following examples. has a function with one arrgument (fname). when the function is called, we pass along a first name. when the \n",
    "function name. when the function is call, we pass along a first name, which is used inside the fucntionto print the full name."
   ]
  },
  {
   "cell_type": "code",
   "execution_count": 5,
   "id": "6c7287b0",
   "metadata": {},
   "outputs": [
    {
     "name": "stdout",
     "output_type": "stream",
     "text": [
      "Emailrefsenes\n",
      "Tobiasrefsenes\n",
      "Linusrefsenes\n"
     ]
    }
   ],
   "source": [
    "def my_function(fname):\n",
    "    print(fname + \"refsenes\")\n",
    "\n",
    "my_function(\"Email\")\n",
    "my_function(\"Tobias\")\n",
    "my_function(\"Linus\")"
   ]
  },
  {
   "cell_type": "markdown",
   "id": "274e7277",
   "metadata": {},
   "source": [
    "# Number of arrguments"
   ]
  },
  {
   "cell_type": "markdown",
   "id": "cbee9f9c",
   "metadata": {},
   "source": [
    "By default a function must be called with the correct number of arrguments meaning that if your function expects 2 arguments, you have to call the function with 2 arrguments, not more, not less."
   ]
  },
  {
   "cell_type": "markdown",
   "id": "317b8153",
   "metadata": {},
   "source": [
    "This function expects 2 arrguments and gets 2 arrguments."
   ]
  },
  {
   "cell_type": "code",
   "execution_count": 7,
   "id": "7ad2301a",
   "metadata": {},
   "outputs": [
    {
     "name": "stdout",
     "output_type": "stream",
     "text": [
      "Email Refsnes\n"
     ]
    }
   ],
   "source": [
    "def my_function (fname, lname):\n",
    "    print (fname +\" \" + lname)\n",
    "my_function(\"Email\", \"Refsnes\")"
   ]
  },
  {
   "cell_type": "markdown",
   "id": "984aadd7",
   "metadata": {},
   "source": [
    "If you try to call the function with 1 or 3 arrguments, you will get in error"
   ]
  },
  {
   "cell_type": "code",
   "execution_count": 8,
   "id": "02d428b9",
   "metadata": {},
   "outputs": [
    {
     "ename": "TypeError",
     "evalue": "my_function() missing 1 required positional argument: 'lname'",
     "output_type": "error",
     "traceback": [
      "\u001b[1;31m---------------------------------------------------------------------------\u001b[0m",
      "\u001b[1;31mTypeError\u001b[0m                                 Traceback (most recent call last)",
      "Cell \u001b[1;32mIn[8], line 3\u001b[0m\n\u001b[0;32m      1\u001b[0m \u001b[38;5;28;01mdef\u001b[39;00m \u001b[38;5;21mmy_fucntion\u001b[39m(fname, lname):\n\u001b[0;32m      2\u001b[0m     \u001b[38;5;28mprint\u001b[39m(fname \u001b[38;5;241m+\u001b[39m \u001b[38;5;124m\"\u001b[39m\u001b[38;5;124m \u001b[39m\u001b[38;5;124m\"\u001b[39m\u001b[38;5;241m+\u001b[39m lname)\n\u001b[1;32m----> 3\u001b[0m my_function(\u001b[38;5;124m\"\u001b[39m\u001b[38;5;124mEmail\u001b[39m\u001b[38;5;124m\"\u001b[39m)\n",
      "\u001b[1;31mTypeError\u001b[0m: my_function() missing 1 required positional argument: 'lname'"
     ]
    }
   ],
   "source": [
    "def my_fucntion(fname, lname):\n",
    "    print(fname + \" \"+ lname)\n",
    "my_function(\"Email\")"
   ]
  },
  {
   "cell_type": "markdown",
   "id": "fa78d912",
   "metadata": {},
   "source": [
    "# The syntax for creating an attribute is:"
   ]
  },
  {
   "cell_type": "markdown",
   "id": "079edef6",
   "metadata": {},
   "source": [
    "self.attribute = something\n",
    "\n",
    "There is a special method called : init()\n",
    "    \n",
    "This method is used to initialize the attributes of an object.\n",
    "\n",
    "For example:"
   ]
  },
  {
   "cell_type": "code",
   "execution_count": 3,
   "id": "06a895e0",
   "metadata": {},
   "outputs": [
    {
     "name": "stdout",
     "output_type": "stream",
     "text": [
      "Lab Sam white 5\n",
      "Huskie frank black 2\n",
      "German-shepherd Jacky golden brown 3\n"
     ]
    }
   ],
   "source": [
    "class Dog:\n",
    "    def __init__(self, breed, name, color,age):     #init = initialisation\n",
    "        self.breed_attribute = breed\n",
    "        self.name_attribute = name\n",
    "        self.color_attribute = color       #dog name=sam, frank, jacky\n",
    "        self.age_attribute = age\n",
    "sam_object = Dog(breed='Lab', name = 'Sam', color = 'white', age = 5)\n",
    "frank_object = Dog(breed='Huskie', name = 'frank', color = 'black',age =2)\n",
    "jacky_object = Dog(breed='German-shepherd', name = 'Jacky', color = 'golden brown',age =3)\n",
    "print(sam_object.breed_attribute,sam_object.name_attribute,sam_object.color_attribute,sam_object.age_attribute)\n",
    "print(frank_object.breed_attribute,frank_object.name_attribute,frank_object.color_attribute,frank_object.age_attribute)\n",
    "print(jacky_object.breed_attribute,jacky_object.name_attribute,jacky_object.color_attribute,jacky_object.age_attribute)\n",
    "\n"
   ]
  },
  {
   "cell_type": "code",
   "execution_count": null,
   "id": "35ed18a3",
   "metadata": {},
   "outputs": [],
   "source": []
  },
  {
   "cell_type": "markdown",
   "id": "a282b8f9",
   "metadata": {},
   "source": [
    "# Methods"
   ]
  },
  {
   "cell_type": "markdown",
   "id": "f00d311a",
   "metadata": {},
   "source": [
    "Methods are functions defined inside the body of a class. They are used to perform operations with the attributes of our objects.\n",
    "Methods are a key concept of the OOP paradigm. They are essential to dividing responsibilities in programming, especially in lasge\n",
    "applications. you can basically think of methods as functions acting on an object that take the object itself into account through its\n",
    "self argument.\n",
    "\n",
    "Let's go through an example of creating a circle class:"
   ]
  },
  {
   "cell_type": "code",
   "execution_count": 24,
   "id": "0623179a",
   "metadata": {},
   "outputs": [],
   "source": [
    "class Circle:\n",
    "    \n",
    " def __int__(self, radius=1):\n",
    "    self.radius = radius\n",
    "    self.area = 3.14 *radius*radius  #pi*r^2\n",
    "\n",
    " def setRadius(self, new_radius):\n",
    "    self.radius = new_radius\n",
    "    self.area = 3.14 *new_radius*new_radius\n",
    "    \n",
    " def getCircumference(self):\n",
    "    return 2 * 3.14 *self.radius  #2piR"
   ]
  },
  {
   "cell_type": "code",
   "execution_count": 20,
   "id": "6e904d65",
   "metadata": {},
   "outputs": [],
   "source": [
    "class Circle:\n",
    "    \n",
    "    def __init_(self, radius) :\n",
    "        self.radius = radius\n",
    "        self.area = 3.14* radius *radius\n",
    "        \n",
    "    def setRadius (self, new_radius):\n",
    "        self.radius = new_radius\n",
    "        self.area = 3.14* new_radius * new_radius\n",
    "        \n",
    "    def getCircumference(self):\n",
    "        return 2 * 3.14 *self.radius  "
   ]
  },
  {
   "cell_type": "code",
   "execution_count": 25,
   "id": "a1455a44",
   "metadata": {},
   "outputs": [
    {
     "name": "stdout",
     "output_type": "stream",
     "text": [
      "<class '__main__.Circle'>\n"
     ]
    }
   ],
   "source": [
    "c = Circle()\n",
    "print(type(c))"
   ]
  },
  {
   "cell_type": "code",
   "execution_count": 28,
   "id": "395d621b",
   "metadata": {},
   "outputs": [
    {
     "name": "stdout",
     "output_type": "stream",
     "text": [
      "Radius is: 4\n",
      "Area is : 50.24\n",
      "Circumference is: 25.12\n"
     ]
    }
   ],
   "source": [
    "print('Radius is:', c.radius)\n",
    "print('Area is :', c.area)\n",
    "print('Circumference is:', c.getCircumference())"
   ]
  },
  {
   "cell_type": "code",
   "execution_count": 30,
   "id": "06b726f4",
   "metadata": {},
   "outputs": [
    {
     "name": "stdout",
     "output_type": "stream",
     "text": [
      "Radius is: 4\n",
      "Area is: 50.24\n",
      "Circumference is: 25.12\n"
     ]
    }
   ],
   "source": [
    "c.setRadius(4)\n",
    "print('Radius is:', c.radius)\n",
    "print('Area is:', c.area)\n",
    "print('Circumference is:', c.getCircumference())"
   ]
  },
  {
   "cell_type": "markdown",
   "id": "1648adc1",
   "metadata": {},
   "source": [
    "Great notice how we used notation to reference attributes of the class within the method calls. Review how the code above works and try creating your own method."
   ]
  },
  {
   "cell_type": "markdown",
   "id": "ed35a5ac",
   "metadata": {},
   "source": [
    "# Polymorphism"
   ]
  },
  {
   "cell_type": "markdown",
   "id": "5f683723",
   "metadata": {},
   "source": [
    "We've learned that while function can take in different arrgument, methods belong to the objects they act on. In python, polymorphism referes to the way in which different object\n",
    "classes can share the same method name, and those methods can be called from the same place even though a varity of different objects might be passed in the best way to explain this is by\n",
    "examples:\n",
    "    \n",
    "This means that polymorphism is the method in an object oriented programming language that does different things depending on the calss on the object which calls it \n",
    "For example : square --> area () will return the area of a square , but \n",
    "    traingle --> area( ) might return the area of a tringle \n",
    "on the other hand \n",
    "object --> area() would have to callculate the area according to which class object was called. polymorphism can be best explained with the\n",
    "help of the following example:"
   ]
  },
  {
   "cell_type": "code",
   "execution_count": 1,
   "id": "2daa2766",
   "metadata": {},
   "outputs": [
    {
     "name": "stdout",
     "output_type": "stream",
     "text": [
      "(1, 5, 45, 78, 4, 2, 'iugdwdd')\n",
      "<class 'tuple'>\n"
     ]
    },
    {
     "data": {
      "text/plain": [
       "7"
      ]
     },
     "execution_count": 1,
     "metadata": {},
     "output_type": "execute_result"
    }
   ],
   "source": [
    "a = (1,5,45,78,4,2,'iugdwdd')\n",
    "print(a)\n",
    "print(type(a))\n",
    "len(a)"
   ]
  },
  {
   "cell_type": "code",
   "execution_count": 2,
   "id": "c5817ca7",
   "metadata": {},
   "outputs": [
    {
     "name": "stdout",
     "output_type": "stream",
     "text": [
      "{2, 5, 7, 8, 9}\n",
      "<class 'set'>\n"
     ]
    },
    {
     "data": {
      "text/plain": [
       "5"
      ]
     },
     "execution_count": 2,
     "metadata": {},
     "output_type": "execute_result"
    }
   ],
   "source": [
    "b= {5,7,9,8,2}\n",
    "print(b)\n",
    "print(type(b))\n",
    "len(b)"
   ]
  },
  {
   "cell_type": "code",
   "execution_count": 3,
   "id": "4faf24e9",
   "metadata": {},
   "outputs": [],
   "source": [
    "class std1:\n",
    "    def __init__(name,std):\n",
    "        name.std = std\n",
    "    def days(name):\n",
    "        return \"the all std student\"+ name.std+\"has the most important 'part in these class'\""
   ]
  },
  {
   "cell_type": "code",
   "execution_count": 4,
   "id": "b2bc3462",
   "metadata": {},
   "outputs": [],
   "source": [
    "prasad = std1('std is')"
   ]
  },
  {
   "cell_type": "code",
   "execution_count": 23,
   "id": "244846d0",
   "metadata": {},
   "outputs": [],
   "source": [
    "class groom1:\n",
    "    def __init__(student,roll_no):\n",
    "        student.roll_no = roll_no\n",
    "    def year (student):\n",
    "        return \"class room with student\"+ student.roll_no +\"has the year 'student in first yaer'\""
   ]
  },
  {
   "cell_type": "code",
   "execution_count": 24,
   "id": "c7f4c7e1",
   "metadata": {},
   "outputs": [],
   "source": [
    "class groom2:\n",
    "    def __init__(student,roll_no):\n",
    "        student.roll_no = roll_no\n",
    "    def year (student):\n",
    "        return \"class room with student\"+ student.roll_no +\"has the year 'student in third yaer'\""
   ]
  },
  {
   "cell_type": "code",
   "execution_count": 25,
   "id": "f485d7a3",
   "metadata": {},
   "outputs": [],
   "source": [
    "class groom3:\n",
    "    def __init__(student,roll_no):\n",
    "        student.roll_no = roll_no\n",
    "    def year (student):\n",
    "        return \"class room with student\"+ student.roll_no +\"has the year 'student in last year'\""
   ]
  },
  {
   "cell_type": "code",
   "execution_count": 26,
   "id": "ebbfd302",
   "metadata": {},
   "outputs": [],
   "source": [
    "shubham = groom1('roll number is')\n",
    "ram = groom2('batch number is ')\n",
    "prasad = groom3('class number is ')"
   ]
  },
  {
   "cell_type": "code",
   "execution_count": 27,
   "id": "9eda5348",
   "metadata": {},
   "outputs": [
    {
     "name": "stdout",
     "output_type": "stream",
     "text": [
      "class room with studentroll number ishas the year 'student in first yaer'\n"
     ]
    }
   ],
   "source": [
    "print(shubham.year())"
   ]
  },
  {
   "cell_type": "code",
   "execution_count": 28,
   "id": "da560739",
   "metadata": {},
   "outputs": [
    {
     "name": "stdout",
     "output_type": "stream",
     "text": [
      "class room with studentbatch number is has the year 'student in third yaer'\n"
     ]
    }
   ],
   "source": [
    "print(ram.year())"
   ]
  },
  {
   "cell_type": "code",
   "execution_count": 29,
   "id": "eb839f76",
   "metadata": {},
   "outputs": [
    {
     "name": "stdout",
     "output_type": "stream",
     "text": [
      "class room with studentclass number is has the year 'student in last year'\n"
     ]
    }
   ],
   "source": [
    "print(prasad.year())"
   ]
  },
  {
   "cell_type": "code",
   "execution_count": 26,
   "id": "922eb136",
   "metadata": {},
   "outputs": [],
   "source": [
    "class HouseStark:\n",
    "    def __init__(ram,shyam):\n",
    "        ram.shyam = shyam\n",
    "    def clas (ram):\n",
    "        return \"House Stark with sigil\" + ram.shyam +\"has the motto Winter is coming\""
   ]
  },
  {
   "cell_type": "code",
   "execution_count": 27,
   "id": "3cece864",
   "metadata": {},
   "outputs": [],
   "source": [
    "class HouseLannister:\n",
    "    def __init__(self, sigil):\n",
    "        self.sigil = sigil\n",
    "    def clas(self):\n",
    "        return \"House Lannister with sigil\" + self.sigil +\"has the motto hear me roar\""
   ]
  },
  {
   "cell_type": "code",
   "execution_count": 28,
   "id": "f6670d20",
   "metadata": {},
   "outputs": [],
   "source": [
    "seeta = HouseStark('housekepper')\n",
    "tyrion = HouseLannister('golden lion')"
   ]
  },
  {
   "cell_type": "code",
   "execution_count": 29,
   "id": "cb8820c7",
   "metadata": {},
   "outputs": [
    {
     "name": "stdout",
     "output_type": "stream",
     "text": [
      "House Stark with sigilhousekepperhas the motto Winter is coming\n"
     ]
    }
   ],
   "source": [
    "print(seeta.clas())"
   ]
  },
  {
   "cell_type": "code",
   "execution_count": 30,
   "id": "759c8003",
   "metadata": {},
   "outputs": [
    {
     "name": "stdout",
     "output_type": "stream",
     "text": [
      "House Lannister with sigilgolden lionhas the motto hear me roar\n"
     ]
    }
   ],
   "source": [
    "print(tyrion.clas())"
   ]
  },
  {
   "cell_type": "markdown",
   "id": "d2c22b5c",
   "metadata": {},
   "source": [
    "Here we have a HouseStark Class and a HouseLannister class, and each has a motto() method. when called, each object's motto() returns a results a result uniquw to the object."
   ]
  },
  {
   "cell_type": "markdown",
   "id": "20093bff",
   "metadata": {},
   "source": [
    "There a few different ways to demonstrate polymorphism. First , with a for loop:"
   ]
  },
  {
   "cell_type": "code",
   "execution_count": 35,
   "id": "9b3bcebf",
   "metadata": {},
   "outputs": [
    {
     "name": "stdout",
     "output_type": "stream",
     "text": [
      "House Stark with sigilhousekepperhas the motto Winter is coming\n",
      "House Lannister with sigilgolden lionhas the motto hear me roar\n"
     ]
    }
   ],
   "source": [
    "for warrior in [seeta,tyrion]:\n",
    "    print(warrior.clas())"
   ]
  },
  {
   "cell_type": "code",
   "execution_count": 38,
   "id": "eacc5ec6",
   "metadata": {},
   "outputs": [
    {
     "name": "stdout",
     "output_type": "stream",
     "text": [
      "House Stark with sigilhousekepperhas the motto Winter is coming\n",
      "House Lannister with sigilgolden lionhas the motto hear me roar\n"
     ]
    }
   ],
   "source": [
    "def get_clas(warrior):\n",
    "    print(warrior.clas())\n",
    "get_clas(seeta)\n",
    "get_clas(tyrion)"
   ]
  },
  {
   "cell_type": "markdown",
   "id": "429ca9ef",
   "metadata": {},
   "source": [
    "In both cases we were able to pass in different object types. and we obtained object types. and we obtained object-specific results from the same mechanism.\n",
    "\n",
    "Great! By now you should have a basic understanding of how to create your own objects with class in python."
   ]
  },
  {
   "cell_type": "markdown",
   "id": "f45bda6e",
   "metadata": {},
   "source": [
    "# 2. Errors and Exception Handling "
   ]
  },
  {
   "cell_type": "markdown",
   "id": "f3cb90dd",
   "metadata": {},
   "source": [
    "Now we will learn about Errors and Exception Handling in python. You've definitely already encountered errors by this point in the course.\n",
    "For example:"
   ]
  },
  {
   "cell_type": "code",
   "execution_count": 39,
   "id": "6ae1f1bf",
   "metadata": {},
   "outputs": [
    {
     "ename": "SyntaxError",
     "evalue": "unterminated string literal (detected at line 1) (3983375872.py, line 1)",
     "output_type": "error",
     "traceback": [
      "\u001b[1;36m  Cell \u001b[1;32mIn[39], line 1\u001b[1;36m\u001b[0m\n\u001b[1;33m    print('XGBost)\u001b[0m\n\u001b[1;37m          ^\u001b[0m\n\u001b[1;31mSyntaxError\u001b[0m\u001b[1;31m:\u001b[0m unterminated string literal (detected at line 1)\n"
     ]
    }
   ],
   "source": [
    "print('XGBost)"
   ]
  },
  {
   "cell_type": "markdown",
   "id": "0035ee17",
   "metadata": {},
   "source": [
    "Note how we get a syntax error, with the futher description that it was an EOL (End of line error) while scanning the string literal.\n",
    "This is specific enough for us to see that we forgot a single quote at the end of the line. Understanding these various error type will help you debug your\n",
    "code much faster.\n",
    "\n",
    "This type of errors and description is known as an Exception. Even if a statement or sxpression is syntactically correct, it may cause an \n",
    "error when an attempt is made to execute it. Errors detected during execution are called exceptions and are not unconditionally fatal.\n",
    "\n",
    "You can check out the full list of built-in exceptions here\n",
    "(https://docs.python,org/3/library/exceptions.html). Now let's learn how to handle errors and exceptions in our own code."
   ]
  },
  {
   "cell_type": "markdown",
   "id": "c6d155c0",
   "metadata": {},
   "source": [
    "# Try and except"
   ]
  },
  {
   "cell_type": "markdown",
   "id": "d5bef5e3",
   "metadata": {},
   "source": [
    "The basic terminology and syntax used to handle errors in python are the try and except statements.\n",
    "The code which can cause an exception to occur is put in the try block and the handlimg of the exception is \n",
    "then implemented in the except block of code.\n",
    "\n",
    "The syntax follows:"
   ]
  },
  {
   "cell_type": "markdown",
   "id": "3852684b",
   "metadata": {},
   "source": [
    "try:\n",
    "    \n",
    "    you do your operations here...\n",
    "    \n",
    "    ...\n",
    "    \n",
    "except:\n",
    "    \n",
    "    If there is an exception, then execute this block.\n",
    "    \n",
    "else:\n",
    "    \n",
    "    If there is no exception then execute this block.\n",
    "    \n",
    "    \n",
    "To get a better understanding of this let's check out an example."
   ]
  },
  {
   "cell_type": "code",
   "execution_count": 40,
   "id": "53bdd2d6",
   "metadata": {},
   "outputs": [
    {
     "name": "stdout",
     "output_type": "stream",
     "text": [
      "Good to go!\n",
      "a fghfgh\n",
      "b\n",
      "No errors encountered!\n",
      "e\n",
      "f\n"
     ]
    }
   ],
   "source": [
    "try:\n",
    "    print(\"Good to go!\")\n",
    "    print('a', 'fghfgh')\n",
    "    print('b')\n",
    "except:\n",
    "    #This will check for any exception and then execute this print statement.\n",
    "    print(\"Oops!\")\n",
    "    print('c')\n",
    "    print('d')\n",
    "else:\n",
    "    print(\"No errors encountered!\")\n",
    "    print('e')\n",
    "    print('f')\n",
    "    \n",
    "    "
   ]
  },
  {
   "cell_type": "code",
   "execution_count": 41,
   "id": "5d175a8e",
   "metadata": {},
   "outputs": [
    {
     "name": "stdout",
     "output_type": "stream",
     "text": [
      "Good to go!\n",
      "Oops!\n",
      "c\n",
      "d\n"
     ]
    }
   ],
   "source": [
    "try:\n",
    "    print(\"Good to go!\")\n",
    "    print('a',fgfh)\n",
    "    print('b')\n",
    "except:\n",
    "    #This will check for any exception and then execute this print statement.\n",
    "    print(\"Oops!\")\n",
    "    print('c')\n",
    "    print('d')\n",
    "else:\n",
    "    print(\"No errors encountered!\")\n",
    "    print('e')\n",
    "    print('f')"
   ]
  },
  {
   "cell_type": "markdown",
   "id": "0bdd92b7",
   "metadata": {},
   "source": [
    "Great! Now  we don't actually need to memporize that list of exception types! Now what if we kept wanting to run code after the exception occurred?\n",
    "This is where finally cones in."
   ]
  },
  {
   "cell_type": "markdown",
   "id": "c46aaf2b",
   "metadata": {},
   "source": [
    "# Finally"
   ]
  },
  {
   "cell_type": "markdown",
   "id": "43485efd",
   "metadata": {},
   "source": [
    "The finally: block of code will always be run regardless if there was an exception in the try code block. The syntax is :"
   ]
  },
  {
   "cell_type": "markdown",
   "id": "152a9f3f",
   "metadata": {},
   "source": [
    "try:\n",
    "    \n",
    "    code block here...\n",
    "    \n",
    "    due to any exception, this code may be skipped! \n",
    "    \n",
    "finally:\n",
    "    \n",
    "    This code block would always be executed.\n",
    "    \n",
    "for example:\n"
   ]
  },
  {
   "cell_type": "code",
   "execution_count": 42,
   "id": "d045cf6b",
   "metadata": {},
   "outputs": [
    {
     "name": "stdout",
     "output_type": "stream",
     "text": [
      "Excute try statements\n",
      "Always execute finally code block\n"
     ]
    }
   ],
   "source": [
    "try:\n",
    "    print(\"Excute try statements\")\n",
    "finally:\n",
    "    print(\"Always execute finally code block\")"
   ]
  },
  {
   "cell_type": "code",
   "execution_count": null,
   "id": "63b7c59a",
   "metadata": {},
   "outputs": [],
   "source": []
  }
 ],
 "metadata": {
  "kernelspec": {
   "display_name": "Python 3 (ipykernel)",
   "language": "python",
   "name": "python3"
  },
  "language_info": {
   "codemirror_mode": {
    "name": "ipython",
    "version": 3
   },
   "file_extension": ".py",
   "mimetype": "text/x-python",
   "name": "python",
   "nbconvert_exporter": "python",
   "pygments_lexer": "ipython3",
   "version": "3.11.3"
  }
 },
 "nbformat": 4,
 "nbformat_minor": 5
}
