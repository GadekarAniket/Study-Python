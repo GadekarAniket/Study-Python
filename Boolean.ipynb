{
 "cells": [
  {
   "cell_type": "markdown",
   "id": "c74b1d6a",
   "metadata": {},
   "source": [
    "# BOOLEAN VARIABLES"
   ]
  },
  {
   "cell_type": "markdown",
   "id": "6d45a7c8",
   "metadata": {},
   "source": [
    "A boolean variable only takes two values either True or False. it is used for comparisons"
   ]
  },
  {
   "cell_type": "markdown",
   "id": "c26b6707",
   "metadata": {},
   "source": [
    "# Comparison operators"
   ]
  },
  {
   "cell_type": "markdown",
   "id": "520e4737",
   "metadata": {},
   "source": [
    "These operators will allow us to compare variables and output a boolean value(True or false).\n",
    "If you have any sort of background in Math, these operators should be very straight forward. First we'll presnt a table of the comparison operaters and then work\n",
    "through some examples:In the table below, a=3 and b=4."
   ]
  },
  {
   "cell_type": "markdown",
   "id": "f61bbd8f",
   "metadata": {},
   "source": [
    "== equals to \n",
    "\n",
    "If the values of two operands are equal, then the condition becomes true.\n",
    "\n",
    "(a ==b) is not true."
   ]
  },
  {
   "cell_type": "markdown",
   "id": "129c6aa1",
   "metadata": {},
   "source": [
    "! = not equal\n",
    "\n",
    "If the value of two operands are not equal, then condition becomes true.\n",
    "\n",
    "(a!=b) is true"
   ]
  },
  {
   "cell_type": "markdown",
   "id": "81242038",
   "metadata": {},
   "source": [
    ".> greater than\n",
    "\n",
    "If the value of left operand is greater than the value of right value of right operand, then condition become false.\n",
    "\n",
    "(a>b) is not true"
   ]
  },
  {
   "cell_type": "markdown",
   "id": "652a2f13",
   "metadata": {},
   "source": [
    "< less than\n",
    "\n",
    "If the value of left operand is less than the value of right value of right operand, then condition become ture.\n",
    "\n",
    "(a<b) is true\n",
    "\n",
    "\n"
   ]
  },
  {
   "cell_type": "markdown",
   "id": "00776533",
   "metadata": {},
   "source": [
    ".>= greater than or equal to\n",
    "\n",
    "If the value of left operand is greater than or equal to the value of right operand, then condition becomes false.\n",
    "\n",
    "(a>=b) is not true"
   ]
  },
  {
   "cell_type": "markdown",
   "id": "c626ec21",
   "metadata": {},
   "source": [
    "<= less than or equal to \n",
    "\n",
    "if the value of left operand is less than or equal to the value of right operand, then condition becomes ture.\n",
    "\n",
    "(a<=b) is true."
   ]
  },
  {
   "cell_type": "markdown",
   "id": "0d3e3b89",
   "metadata": {},
   "source": [
    "Python  comes with booleans (With predefined True and false display that are basically just the integers 1 and 0). It also has a\n",
    "placeholder object called None. Let's walk through a few quick examples of booleans (We will dive deeper into them later in this course.)"
   ]
  },
  {
   "cell_type": "code",
   "execution_count": 4,
   "id": "ff225c4b",
   "metadata": {},
   "outputs": [
    {
     "data": {
      "text/plain": [
       "bool"
      ]
     },
     "execution_count": 4,
     "metadata": {},
     "output_type": "execute_result"
    }
   ],
   "source": [
    "#Set object to be a boolean\n",
    "boolean_variable = False\n",
    "type(boolean_variable)"
   ]
  },
  {
   "cell_type": "code",
   "execution_count": 7,
   "id": "ea1bdd4c",
   "metadata": {},
   "outputs": [],
   "source": [
    "#consider \n",
    "a = 3  \n",
    "b = 4"
   ]
  },
  {
   "cell_type": "markdown",
   "id": "7e3a1444",
   "metadata": {},
   "source": [
    "# == Equal to"
   ]
  },
  {
   "cell_type": "code",
   "execution_count": 1,
   "id": "0d200fec",
   "metadata": {},
   "outputs": [
    {
     "data": {
      "text/plain": [
       "False"
      ]
     },
     "execution_count": 1,
     "metadata": {},
     "output_type": "execute_result"
    }
   ],
   "source": [
    "a=100\n",
    "b=80\n",
    "a==b"
   ]
  },
  {
   "cell_type": "code",
   "execution_count": 2,
   "id": "8c432bb9",
   "metadata": {},
   "outputs": [
    {
     "data": {
      "text/plain": [
       "True"
      ]
     },
     "execution_count": 2,
     "metadata": {},
     "output_type": "execute_result"
    }
   ],
   "source": [
    "a=80\n",
    "b=80\n",
    "a==b"
   ]
  },
  {
   "cell_type": "markdown",
   "id": "817d42a1",
   "metadata": {},
   "source": [
    "# != not equal to"
   ]
  },
  {
   "cell_type": "code",
   "execution_count": 3,
   "id": "8acfc673",
   "metadata": {},
   "outputs": [
    {
     "data": {
      "text/plain": [
       "False"
      ]
     },
     "execution_count": 3,
     "metadata": {},
     "output_type": "execute_result"
    }
   ],
   "source": [
    "a=50\n",
    "b=50\n",
    "a!=b"
   ]
  },
  {
   "cell_type": "code",
   "execution_count": 4,
   "id": "2ceeb24d",
   "metadata": {},
   "outputs": [
    {
     "data": {
      "text/plain": [
       "True"
      ]
     },
     "execution_count": 4,
     "metadata": {},
     "output_type": "execute_result"
    }
   ],
   "source": [
    "a=80\n",
    "b=70\n",
    "a!=b"
   ]
  },
  {
   "cell_type": "markdown",
   "id": "4d6b1be5",
   "metadata": {},
   "source": [
    "# > greater than"
   ]
  },
  {
   "cell_type": "code",
   "execution_count": 5,
   "id": "b3486b45",
   "metadata": {},
   "outputs": [
    {
     "data": {
      "text/plain": [
       "False"
      ]
     },
     "execution_count": 5,
     "metadata": {},
     "output_type": "execute_result"
    }
   ],
   "source": [
    "a=100\n",
    "b=200\n",
    "a>b"
   ]
  },
  {
   "cell_type": "code",
   "execution_count": 6,
   "id": "5bc96904",
   "metadata": {},
   "outputs": [
    {
     "data": {
      "text/plain": [
       "True"
      ]
     },
     "execution_count": 6,
     "metadata": {},
     "output_type": "execute_result"
    }
   ],
   "source": [
    "a=150\n",
    "b=100\n",
    "a>b"
   ]
  },
  {
   "cell_type": "markdown",
   "id": "7f0160a3",
   "metadata": {},
   "source": [
    "# < less than"
   ]
  },
  {
   "cell_type": "code",
   "execution_count": 7,
   "id": "e8e1f649",
   "metadata": {},
   "outputs": [
    {
     "data": {
      "text/plain": [
       "False"
      ]
     },
     "execution_count": 7,
     "metadata": {},
     "output_type": "execute_result"
    }
   ],
   "source": [
    "a=600\n",
    "b=500\n",
    "a<b"
   ]
  },
  {
   "cell_type": "code",
   "execution_count": 8,
   "id": "7b13b757",
   "metadata": {},
   "outputs": [
    {
     "data": {
      "text/plain": [
       "True"
      ]
     },
     "execution_count": 8,
     "metadata": {},
     "output_type": "execute_result"
    }
   ],
   "source": [
    "a=500\n",
    "b=1000\n",
    "a<b"
   ]
  },
  {
   "cell_type": "markdown",
   "id": "9aa90081",
   "metadata": {},
   "source": [
    "# >= Greater than or equal to "
   ]
  },
  {
   "cell_type": "code",
   "execution_count": 9,
   "id": "3e8f9a62",
   "metadata": {},
   "outputs": [
    {
     "data": {
      "text/plain": [
       "True"
      ]
     },
     "execution_count": 9,
     "metadata": {},
     "output_type": "execute_result"
    }
   ],
   "source": [
    "a=500\n",
    "b=500\n",
    "a>=b"
   ]
  },
  {
   "cell_type": "code",
   "execution_count": 10,
   "id": "abf2d931",
   "metadata": {},
   "outputs": [
    {
     "data": {
      "text/plain": [
       "True"
      ]
     },
     "execution_count": 10,
     "metadata": {},
     "output_type": "execute_result"
    }
   ],
   "source": [
    "a=600\n",
    "b=500\n",
    "a>=b"
   ]
  },
  {
   "cell_type": "code",
   "execution_count": 11,
   "id": "04f965cc",
   "metadata": {},
   "outputs": [
    {
     "data": {
      "text/plain": [
       "False"
      ]
     },
     "execution_count": 11,
     "metadata": {},
     "output_type": "execute_result"
    }
   ],
   "source": [
    "a=150\n",
    "b=200\n",
    "a>=b"
   ]
  },
  {
   "cell_type": "markdown",
   "id": "6e8e4fa0",
   "metadata": {},
   "source": [
    "# <= less than or equal to "
   ]
  },
  {
   "cell_type": "code",
   "execution_count": 12,
   "id": "e202addc",
   "metadata": {},
   "outputs": [
    {
     "data": {
      "text/plain": [
       "False"
      ]
     },
     "execution_count": 12,
     "metadata": {},
     "output_type": "execute_result"
    }
   ],
   "source": [
    "a=85\n",
    "b=65\n",
    "a<=b"
   ]
  },
  {
   "cell_type": "code",
   "execution_count": 13,
   "id": "3e27250d",
   "metadata": {},
   "outputs": [
    {
     "data": {
      "text/plain": [
       "True"
      ]
     },
     "execution_count": 13,
     "metadata": {},
     "output_type": "execute_result"
    }
   ],
   "source": [
    "a=600\n",
    "b=800\n",
    "a<=b"
   ]
  },
  {
   "cell_type": "code",
   "execution_count": 14,
   "id": "34d52bcb",
   "metadata": {},
   "outputs": [
    {
     "data": {
      "text/plain": [
       "True"
      ]
     },
     "execution_count": 14,
     "metadata": {},
     "output_type": "execute_result"
    }
   ],
   "source": [
    "a=50\n",
    "b=50\n",
    "a<=b"
   ]
  },
  {
   "cell_type": "code",
   "execution_count": 15,
   "id": "7ff7b1b2",
   "metadata": {},
   "outputs": [
    {
     "name": "stdout",
     "output_type": "stream",
     "text": [
      "True\n",
      "<class 'bool'>\n"
     ]
    }
   ],
   "source": [
    "a=5.6\n",
    "b=10.6\n",
    "c= (a<b)\n",
    "print(c)\n",
    "print(type(c))"
   ]
  },
  {
   "cell_type": "code",
   "execution_count": 16,
   "id": "1b2308aa",
   "metadata": {},
   "outputs": [
    {
     "name": "stdout",
     "output_type": "stream",
     "text": [
      "False\n",
      "<class 'bool'>\n"
     ]
    }
   ],
   "source": [
    "Aniket = 50\n",
    "Pranit = 100\n",
    "total = (Aniket==Pranit)\n",
    "print(total)\n",
    "print(type(total))"
   ]
  },
  {
   "cell_type": "code",
   "execution_count": 17,
   "id": "6dd83840",
   "metadata": {},
   "outputs": [
    {
     "name": "stdout",
     "output_type": "stream",
     "text": [
      "False\n"
     ]
    }
   ],
   "source": [
    "Aniket=82\n",
    "pranit=92\n",
    "shraddha=100\n",
    "percentage = (Aniket==Pranit)\n",
    "print(percentage)"
   ]
  },
  {
   "cell_type": "code",
   "execution_count": 18,
   "id": "326d183e",
   "metadata": {},
   "outputs": [
    {
     "name": "stdout",
     "output_type": "stream",
     "text": [
      "True\n"
     ]
    }
   ],
   "source": [
    "percentage = (shraddha>Aniket)\n",
    "print(percentage)"
   ]
  },
  {
   "cell_type": "code",
   "execution_count": 19,
   "id": "6de9b143",
   "metadata": {},
   "outputs": [
    {
     "name": "stdout",
     "output_type": "stream",
     "text": [
      "True\n"
     ]
    }
   ],
   "source": [
    "percentage = (pranit>=Aniket)\n",
    "print(percentage)"
   ]
  },
  {
   "cell_type": "code",
   "execution_count": 20,
   "id": "b142fef8",
   "metadata": {},
   "outputs": [
    {
     "name": "stdout",
     "output_type": "stream",
     "text": [
      "True\n"
     ]
    }
   ],
   "source": [
    "percentage = (Aniket!=pranit)\n",
    "print(percentage)"
   ]
  },
  {
   "cell_type": "code",
   "execution_count": 21,
   "id": "2a0597ee",
   "metadata": {},
   "outputs": [
    {
     "name": "stdout",
     "output_type": "stream",
     "text": [
      "True\n"
     ]
    }
   ],
   "source": [
    "percentage = (Aniket<shraddha)\n",
    "print(percentage)"
   ]
  },
  {
   "cell_type": "code",
   "execution_count": null,
   "id": "07d2134d",
   "metadata": {},
   "outputs": [],
   "source": []
  }
 ],
 "metadata": {
  "kernelspec": {
   "display_name": "Python 3 (ipykernel)",
   "language": "python",
   "name": "python3"
  },
  "language_info": {
   "codemirror_mode": {
    "name": "ipython",
    "version": 3
   },
   "file_extension": ".py",
   "mimetype": "text/x-python",
   "name": "python",
   "nbconvert_exporter": "python",
   "pygments_lexer": "ipython3",
   "version": "3.11.3"
  }
 },
 "nbformat": 4,
 "nbformat_minor": 5
}
