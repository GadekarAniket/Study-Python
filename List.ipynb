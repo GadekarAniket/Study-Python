{
 "cells": [
  {
   "cell_type": "markdown",
   "id": "48b16d95",
   "metadata": {},
   "source": [
    "# What is List?"
   ]
  },
  {
   "cell_type": "markdown",
   "id": "5c2ca46b",
   "metadata": {},
   "source": [
    "List are the concept of the use to store multipul item in asingle variable. \n",
    "list is always use in Square braket [].\n",
    "List are mutable in python (it can be change).\n",
    "List are one of built in data types in other thr set and dictionary all with different uses.\n",
    "\n",
    "\n",
    "\n"
   ]
  },
  {
   "cell_type": "code",
   "execution_count": 3,
   "id": "89429d1a",
   "metadata": {},
   "outputs": [
    {
     "name": "stdout",
     "output_type": "stream",
     "text": [
      "[12, 825, 86.26, 'aniket', 'gadekar', (569+9j), 95, 869, 256.96, 55]\n",
      "<class 'list'>\n"
     ]
    },
    {
     "data": {
      "text/plain": [
       "10"
      ]
     },
     "execution_count": 3,
     "metadata": {},
     "output_type": "execute_result"
    }
   ],
   "source": [
    "List_1=[12,825,86.26,'aniket','gadekar',569+9j,95,869,256.96,46+9]\n",
    "print(List_1)\n",
    "print(type(List_1))\n",
    "len(List_1)"
   ]
  },
  {
   "cell_type": "code",
   "execution_count": 6,
   "id": "339f8600",
   "metadata": {},
   "outputs": [
    {
     "name": "stdout",
     "output_type": "stream",
     "text": [
      "[1, 2, 3, 4, 5, 6, 7, 8, 9, 10, 11, 12, 13, 14, 15, 16, 17, 18, 19, 20, 21, 22, 23, 24, 25, 26, 27, 28, 29, 30]\n"
     ]
    }
   ],
   "source": [
    "#List consist integer value.\n",
    "List_2=[1,2,3,4,5,6,7,8,9,10,11,12,13,14,15,16,17,18,19,20,21,22,23,24,25,26,27,28,29,30]\n",
    "print(List_2)"
   ]
  },
  {
   "cell_type": "code",
   "execution_count": 7,
   "id": "28fc5ba7",
   "metadata": {},
   "outputs": [
    {
     "data": {
      "text/plain": [
       "list"
      ]
     },
     "execution_count": 7,
     "metadata": {},
     "output_type": "execute_result"
    }
   ],
   "source": [
    "type(List_2)"
   ]
  },
  {
   "cell_type": "code",
   "execution_count": 8,
   "id": "928f217f",
   "metadata": {},
   "outputs": [
    {
     "data": {
      "text/plain": [
       "30"
      ]
     },
     "execution_count": 8,
     "metadata": {},
     "output_type": "execute_result"
    }
   ],
   "source": [
    "len(List_2)"
   ]
  },
  {
   "cell_type": "code",
   "execution_count": 9,
   "id": "59367324",
   "metadata": {},
   "outputs": [
    {
     "name": "stdout",
     "output_type": "stream",
     "text": [
      "['Aniket', 'prasad', 'Ajay', 'gaurav', 'gitesh', 'nehal', 'yash', 'saqlain', 'amit', 'shushat']\n",
      "<class 'list'>\n"
     ]
    },
    {
     "data": {
      "text/plain": [
       "10"
      ]
     },
     "execution_count": 9,
     "metadata": {},
     "output_type": "execute_result"
    }
   ],
   "source": [
    "#List consist student's name\n",
    "List_3=['Aniket','prasad','Ajay','gaurav','gitesh','nehal','yash','saqlain','amit','shushat']\n",
    "print(List_3)\n",
    "print(type(List_3))\n",
    "len(List_3)"
   ]
  },
  {
   "cell_type": "code",
   "execution_count": 10,
   "id": "dbf02b8f",
   "metadata": {},
   "outputs": [
    {
     "name": "stdout",
     "output_type": "stream",
     "text": [
      "[1.2, 2.3, 3.4, 4.5, 5.6, 6.7, 7.8, 8.9, 9.1, 10.11, 11.12, 12.13, 13.14, 14.15, 15.16, 16.17, 17.18, 18.19, 19.2]\n",
      "<class 'list'>\n"
     ]
    },
    {
     "data": {
      "text/plain": [
       "19"
      ]
     },
     "execution_count": 10,
     "metadata": {},
     "output_type": "execute_result"
    }
   ],
   "source": [
    "#List consist float value.\n",
    "List_4=[1.2,2.3,3.4,4.5,5.6,6.7,7.8,8.9,9.10,10.11,11.12,12.13,13.14,14.15,15.16,16.17,17.18,18.19,19.20]\n",
    "print(List_4)\n",
    "print(type(List_4))\n",
    "len(List_4)"
   ]
  },
  {
   "cell_type": "markdown",
   "id": "70fc586d",
   "metadata": {},
   "source": [
    "# LIST INDEXING METHOD"
   ]
  },
  {
   "cell_type": "markdown",
   "id": "21402c67",
   "metadata": {},
   "source": [
    "What is indexing?\n",
    "- Indexing are the two type \n",
    " 1. forword(it will be start from 0)\n",
    " 2. backword(it will be start -1 (backword))"
   ]
  },
  {
   "cell_type": "code",
   "execution_count": 1,
   "id": "b8c5bb93",
   "metadata": {},
   "outputs": [
    {
     "name": "stdout",
     "output_type": "stream",
     "text": [
      "[1, 2, 3, 4, 5, 6, 7]\n"
     ]
    }
   ],
   "source": [
    "list_4 = [1,2,3,4,5,6,7]\n",
    "print(list_4)"
   ]
  },
  {
   "cell_type": "code",
   "execution_count": null,
   "id": "d7a8ac8a",
   "metadata": {},
   "outputs": [],
   "source": [
    "            0     1      2       3     4      5             forword     \n",
    "\n",
    "list_5 = ['one','two','three','four','five','six']\n",
    "\n",
    "           -6    -5     -4      -3    -2     -1            backword                           "
   ]
  },
  {
   "cell_type": "code",
   "execution_count": 2,
   "id": "6f034704",
   "metadata": {},
   "outputs": [
    {
     "name": "stdout",
     "output_type": "stream",
     "text": [
      "['one', 'two', 'three', 'four', 'five', 'six']\n"
     ]
    }
   ],
   "source": [
    "list_5 = ['one','two','three','four','five','six']\n",
    "print(list_5)"
   ]
  },
  {
   "cell_type": "markdown",
   "id": "03d919f6",
   "metadata": {},
   "source": [
    "# Forward indexing"
   ]
  },
  {
   "cell_type": "code",
   "execution_count": 3,
   "id": "dde077f1",
   "metadata": {},
   "outputs": [
    {
     "name": "stdout",
     "output_type": "stream",
     "text": [
      "one\n"
     ]
    }
   ],
   "source": [
    "# grab the element at index 1, which is fourth element.\n",
    "print(list_5[0])"
   ]
  },
  {
   "cell_type": "code",
   "execution_count": 4,
   "id": "5786761a",
   "metadata": {},
   "outputs": [
    {
     "name": "stdout",
     "output_type": "stream",
     "text": [
      "four\n"
     ]
    }
   ],
   "source": [
    "print(list_5[3])"
   ]
  },
  {
   "cell_type": "markdown",
   "id": "bbc98c9d",
   "metadata": {},
   "source": [
    "# Backword indexing"
   ]
  },
  {
   "cell_type": "code",
   "execution_count": 5,
   "id": "c2ce7950",
   "metadata": {},
   "outputs": [
    {
     "name": "stdout",
     "output_type": "stream",
     "text": [
      "six\n"
     ]
    }
   ],
   "source": [
    "# grab the element at index -1, which is fourth element.\n",
    "print(list_5[-1])"
   ]
  },
  {
   "cell_type": "code",
   "execution_count": 6,
   "id": "603d7e77",
   "metadata": {},
   "outputs": [
    {
     "name": "stdout",
     "output_type": "stream",
     "text": [
      "one\n"
     ]
    }
   ],
   "source": [
    "print(list_5[-6])"
   ]
  },
  {
   "cell_type": "code",
   "execution_count": 7,
   "id": "0ab6c6bd",
   "metadata": {},
   "outputs": [
    {
     "ename": "IndexError",
     "evalue": "list index out of range",
     "output_type": "error",
     "traceback": [
      "\u001b[1;31m---------------------------------------------------------------------------\u001b[0m",
      "\u001b[1;31mIndexError\u001b[0m                                Traceback (most recent call last)",
      "Cell \u001b[1;32mIn[7], line 1\u001b[0m\n\u001b[1;32m----> 1\u001b[0m \u001b[38;5;28mprint\u001b[39m(list_5[\u001b[38;5;241m10\u001b[39m])\n",
      "\u001b[1;31mIndexError\u001b[0m: list index out of range"
     ]
    }
   ],
   "source": [
    "print(list_5[10])"
   ]
  },
  {
   "cell_type": "code",
   "execution_count": null,
   "id": "04e2c7d8",
   "metadata": {},
   "outputs": [],
   "source": [
    " 0    1     2      3     4    5\n",
    "one, two, three, four, five, six\n",
    " -6   -5    -4    -3    -2    -1"
   ]
  },
  {
   "cell_type": "code",
   "execution_count": 1,
   "id": "b58f039a",
   "metadata": {},
   "outputs": [
    {
     "name": "stdout",
     "output_type": "stream",
     "text": [
      "['ram', 'preeti', 15, 12.69, 26, 58, 6295, 'raj']\n"
     ]
    },
    {
     "data": {
      "text/plain": [
       "8"
      ]
     },
     "execution_count": 1,
     "metadata": {},
     "output_type": "execute_result"
    }
   ],
   "source": [
    "#found the elements of these list\n",
    "list1 = ['ram','preeti',15,12.69,26,58,6295,'raj']\n",
    "print(list1)\n",
    "len(list1)"
   ]
  },
  {
   "cell_type": "code",
   "execution_count": 2,
   "id": "695cbbac",
   "metadata": {},
   "outputs": [
    {
     "name": "stdout",
     "output_type": "stream",
     "text": [
      "58\n"
     ]
    }
   ],
   "source": [
    "#grab the element at index 3, which is the Fourth element\n",
    "print(list1[5])"
   ]
  },
  {
   "cell_type": "code",
   "execution_count": 3,
   "id": "8d311acb",
   "metadata": {},
   "outputs": [
    {
     "name": "stdout",
     "output_type": "stream",
     "text": [
      "15\n"
     ]
    }
   ],
   "source": [
    "#grab the element at index 3, which is the Fourth element\n",
    "print(list1[-6])"
   ]
  },
  {
   "cell_type": "markdown",
   "id": "d10850ba",
   "metadata": {},
   "source": [
    "# List slicing"
   ]
  },
  {
   "cell_type": "code",
   "execution_count": 4,
   "id": "487d64d6",
   "metadata": {},
   "outputs": [
    {
     "name": "stdout",
     "output_type": "stream",
     "text": [
      "['one', 'two', 'three', 'four', 'five', 'six', 'seven', 'eight', 'nine', 'ten']\n"
     ]
    }
   ],
   "source": [
    "Number = ['one','two','three','four','five', 'six', 'seven','eight','nine','ten']\n",
    "#print the list\n",
    "print(Number)"
   ]
  },
  {
   "cell_type": "code",
   "execution_count": 6,
   "id": "5f107d33",
   "metadata": {},
   "outputs": [
    {
     "data": {
      "text/plain": [
       "['one', 'two', 'three', 'four', 'five', 'six', 'seven']"
      ]
     },
     "execution_count": 6,
     "metadata": {},
     "output_type": "execute_result"
    }
   ],
   "source": [
    "#grab the index 1 and everything pass it.\n",
    "Number[:7]"
   ]
  },
  {
   "cell_type": "code",
   "execution_count": 8,
   "id": "f8ec8fea",
   "metadata": {},
   "outputs": [
    {
     "data": {
      "text/plain": [
       "['one', 'two', 'three']"
      ]
     },
     "execution_count": 8,
     "metadata": {},
     "output_type": "execute_result"
    }
   ],
   "source": [
    "Number[:3]"
   ]
  },
  {
   "cell_type": "code",
   "execution_count": 9,
   "id": "bdf6a04b",
   "metadata": {},
   "outputs": [
    {
     "data": {
      "text/plain": [
       "['one', 'two', 'three', 'four', 'five', 'six', 'seven']"
      ]
     },
     "execution_count": 9,
     "metadata": {},
     "output_type": "execute_result"
    }
   ],
   "source": [
    "Number[:-3]"
   ]
  },
  {
   "cell_type": "code",
   "execution_count": 14,
   "id": "50e91c51",
   "metadata": {},
   "outputs": [
    {
     "data": {
      "text/plain": [
       "['six', 'seven', 'eight', 'nine']"
      ]
     },
     "execution_count": 14,
     "metadata": {},
     "output_type": "execute_result"
    }
   ],
   "source": [
    "Number[5:9]"
   ]
  },
  {
   "cell_type": "code",
   "execution_count": 15,
   "id": "19b39952",
   "metadata": {},
   "outputs": [
    {
     "data": {
      "text/plain": [
       "['three', 'four', 'five', 'six', 'seven', 'eight']"
      ]
     },
     "execution_count": 15,
     "metadata": {},
     "output_type": "execute_result"
    }
   ],
   "source": [
    "Number[-8:-2]"
   ]
  },
  {
   "cell_type": "markdown",
   "id": "38fcba94",
   "metadata": {},
   "source": [
    "# Remove function"
   ]
  },
  {
   "cell_type": "markdown",
   "id": "21d9b93f",
   "metadata": {},
   "source": [
    "This method is used to delete an object/value from the given list. note that it removes/deletes the firest occurence of the list"
   ]
  },
  {
   "cell_type": "code",
   "execution_count": null,
   "id": "6ce38b18",
   "metadata": {},
   "outputs": [],
   "source": [
    "Syntax : list.remove(object)"
   ]
  },
  {
   "cell_type": "code",
   "execution_count": 1,
   "id": "a42a925d",
   "metadata": {},
   "outputs": [
    {
     "name": "stdout",
     "output_type": "stream",
     "text": [
      "[1, 2, 3, 4, 10, 4, 'Append me', 2.73, [1, 2, 3], [10, [19, 20], 30], 'integer']\n"
     ]
    }
   ],
   "source": [
    "my_list = [1,2,3,4,10,4,'Append me',2.73,[1,2,3],[10,[19,20],30],'integer']\n",
    "#print the list\n",
    "print(my_list)"
   ]
  },
  {
   "cell_type": "code",
   "execution_count": 2,
   "id": "0b514cfc",
   "metadata": {},
   "outputs": [
    {
     "name": "stdout",
     "output_type": "stream",
     "text": [
      "[1, 2, 3, 4, 10, 4, 'Append me', [1, 2, 3], [10, [19, 20], 30], 'integer']\n"
     ]
    }
   ],
   "source": [
    "my_list.remove(2.73)\n",
    "print(my_list)"
   ]
  },
  {
   "cell_type": "code",
   "execution_count": 7,
   "id": "22ad24a6",
   "metadata": {},
   "outputs": [
    {
     "name": "stdout",
     "output_type": "stream",
     "text": [
      "[1, 2, 3, 4, 10, 4, 'Append me', 2.73, [1, 2, 3], [10, [19, 20], 30], 'integer']\n"
     ]
    }
   ],
   "source": [
    "my_list = [1,2,3,4,10,4,'Append me',2.73,[1,2,3],[10,[19,20],30],'integer']\n",
    "#print the list\n",
    "print(my_list)"
   ]
  },
  {
   "cell_type": "markdown",
   "id": "abc2b50a",
   "metadata": {},
   "source": [
    "my_list.remove(1)\n",
    "print(my_list)"
   ]
  },
  {
   "cell_type": "code",
   "execution_count": 10,
   "id": "11103529",
   "metadata": {},
   "outputs": [
    {
     "name": "stdout",
     "output_type": "stream",
     "text": [
      "[23, 234, 2, 3, 1, 32, 24]\n",
      "[234, 2, 3, 1, 32, 24]\n"
     ]
    }
   ],
   "source": [
    "my_list1 = [23,234,2,3,1,32,24]\n",
    "print(my_list1)\n",
    "my_list1.remove(23)\n",
    "print(my_list1)"
   ]
  },
  {
   "cell_type": "markdown",
   "id": "cf7bbf6f",
   "metadata": {},
   "source": [
    "# List Functions"
   ]
  },
  {
   "cell_type": "code",
   "execution_count": 11,
   "id": "6abaa03c",
   "metadata": {},
   "outputs": [
    {
     "name": "stdout",
     "output_type": "stream",
     "text": [
      "['One', 'Two', 'Three', 'Four', 'Five', 'Six', 'Seven', 'Eight', 'Nine', 'Ten', 'Eleven']\n"
     ]
    }
   ],
   "source": [
    "# Consider a list of string\n",
    "N = ['One', 'Two', 'Three','Four', 'Five', 'Six', 'Seven', 'Eight', 'Nine', 'Ten', 'Eleven']\n",
    "print(N)"
   ]
  },
  {
   "cell_type": "code",
   "execution_count": 12,
   "id": "0fb75013",
   "metadata": {},
   "outputs": [
    {
     "data": {
      "text/plain": [
       "11"
      ]
     },
     "execution_count": 12,
     "metadata": {},
     "output_type": "execute_result"
    }
   ],
   "source": [
    "len(N)"
   ]
  },
  {
   "cell_type": "markdown",
   "id": "07a53589",
   "metadata": {},
   "source": [
    "# Print(Number)"
   ]
  },
  {
   "cell_type": "markdown",
   "id": "7ee62b5a",
   "metadata": {},
   "source": [
    "It is print the output for last number in list"
   ]
  },
  {
   "cell_type": "code",
   "execution_count": 13,
   "id": "0d3dfb10",
   "metadata": {},
   "outputs": [
    {
     "data": {
      "text/plain": [
       "'Shape'"
      ]
     },
     "execution_count": 13,
     "metadata": {},
     "output_type": "execute_result"
    }
   ],
   "source": [
    "new_list = ['Aruge','Burglar','Parent','Liner','Shape']\n",
    "max(new_list)"
   ]
  },
  {
   "cell_type": "code",
   "execution_count": 16,
   "id": "760dbd26",
   "metadata": {},
   "outputs": [
    {
     "name": "stdout",
     "output_type": "stream",
     "text": [
      "['Sanket', 'Mahesh', 'Rohit']\n"
     ]
    },
    {
     "data": {
      "text/plain": [
       "'Sanket'"
      ]
     },
     "execution_count": 16,
     "metadata": {},
     "output_type": "execute_result"
    }
   ],
   "source": [
    "b =['Sanket','Mahesh', 'Rohit']\n",
    "print(b)\n",
    "max(b)"
   ]
  },
  {
   "cell_type": "code",
   "execution_count": 17,
   "id": "861f9c6a",
   "metadata": {},
   "outputs": [
    {
     "data": {
      "text/plain": [
       "'d'"
      ]
     },
     "execution_count": 17,
     "metadata": {},
     "output_type": "execute_result"
    }
   ],
   "source": [
    "new_list = ['a', 'b', 'c', 'd']\n",
    "max(new_list)"
   ]
  },
  {
   "cell_type": "code",
   "execution_count": 25,
   "id": "d28da625",
   "metadata": {},
   "outputs": [
    {
     "data": {
      "text/plain": [
       "666"
      ]
     },
     "execution_count": 25,
     "metadata": {},
     "output_type": "execute_result"
    }
   ],
   "source": [
    "new_list = [112,532,555,666]\n",
    "max(new_list)"
   ]
  },
  {
   "cell_type": "markdown",
   "id": "a3082536",
   "metadata": {},
   "source": [
    "# Swapping variable"
   ]
  },
  {
   "cell_type": "markdown",
   "id": "4499b7d2",
   "metadata": {},
   "source": [
    "Its change the place in thr objects."
   ]
  },
  {
   "cell_type": "code",
   "execution_count": 19,
   "id": "84eef8e2",
   "metadata": {},
   "outputs": [
    {
     "name": "stdout",
     "output_type": "stream",
     "text": [
      "20\n",
      "10\n"
     ]
    }
   ],
   "source": [
    "a=10\n",
    "b=20\n",
    "a,b =b,a\n",
    "print(a)\n",
    "print(b)"
   ]
  },
  {
   "cell_type": "code",
   "execution_count": 20,
   "id": "ad45313f",
   "metadata": {},
   "outputs": [
    {
     "name": "stdout",
     "output_type": "stream",
     "text": [
      "30 40 50 32\n"
     ]
    }
   ],
   "source": [
    "a=30\n",
    "b=32\n",
    "c=50\n",
    "d=40\n",
    "a,b,c,d = a,d,c,b\n",
    "print(a,b,c,d)"
   ]
  },
  {
   "cell_type": "markdown",
   "id": "4ca739db",
   "metadata": {},
   "source": [
    "# Nested List"
   ]
  },
  {
   "cell_type": "markdown",
   "id": "6e82e007",
   "metadata": {},
   "source": [
    "list in list"
   ]
  },
  {
   "cell_type": "code",
   "execution_count": 21,
   "id": "d2fb2c19",
   "metadata": {},
   "outputs": [
    {
     "name": "stdout",
     "output_type": "stream",
     "text": [
      "['Ravi', 'Akshay', 'Ram', 'sita']\n"
     ]
    }
   ],
   "source": [
    "stud = [\"Ravi\",\"Akshay\",\"Ram\",\"sita\"]\n",
    "print(stud)"
   ]
  },
  {
   "cell_type": "code",
   "execution_count": 22,
   "id": "9566e766",
   "metadata": {},
   "outputs": [
    {
     "name": "stdout",
     "output_type": "stream",
     "text": [
      "[['A', 'B', 'C'], [11, 12, 13], [2, 3, 4]]\n"
     ]
    }
   ],
   "source": [
    "list_1 = ['A', 'B', 'C']\n",
    "list_2 = [11,12,13]\n",
    "list_3 = [2,3,4]\n",
    "#make a list of list to frame a matrix.\n",
    "list_of_lists = [list_1,list_2,list_3]\n",
    "print(list_of_lists)"
   ]
  },
  {
   "cell_type": "code",
   "execution_count": 23,
   "id": "92365db6",
   "metadata": {},
   "outputs": [
    {
     "name": "stdout",
     "output_type": "stream",
     "text": [
      "[[23, 234, 243, 13], [3, <built-in function abs>, 'S', 'M', 'G', '2'], ['prasad', 'madhuri', 'ram', 'seeta'], [213, 324, 123, 13, 4, 2, 132, 13, 132, 445, 5, 4900234, 24040, 458965, 695, 6595602], ['lapis', 'digital', 'hdfhj', '324', '3243', 'wqe', 'ower']]\n"
     ]
    }
   ],
   "source": [
    "list_3 = [23,234,243,13]\n",
    "list_4 = [3,abs,'S','M','G', '2']\n",
    "list_5 = ['prasad','madhuri','ram', 'seeta']\n",
    "list_6 = [213,324,123,13,4,2,132,13,132,445,5,4900234,24040,458965,695,6595602]\n",
    "list_7 = ['lapis', 'digital','hdfhj','324','3243','wqe','ower']\n",
    "list_of_lists = [list_3,list_4,list_5,list_6,list_7]\n",
    "print(list_of_lists)"
   ]
  },
  {
   "cell_type": "code",
   "execution_count": null,
   "id": "7fd0dc8c",
   "metadata": {},
   "outputs": [],
   "source": []
  }
 ],
 "metadata": {
  "kernelspec": {
   "display_name": "Python 3 (ipykernel)",
   "language": "python",
   "name": "python3"
  },
  "language_info": {
   "codemirror_mode": {
    "name": "ipython",
    "version": 3
   },
   "file_extension": ".py",
   "mimetype": "text/x-python",
   "name": "python",
   "nbconvert_exporter": "python",
   "pygments_lexer": "ipython3",
   "version": "3.11.3"
  }
 },
 "nbformat": 4,
 "nbformat_minor": 5
}
