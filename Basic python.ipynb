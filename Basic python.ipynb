{
 "cells": [
  {
   "cell_type": "code",
   "execution_count": 1,
   "id": "ee8244bb",
   "metadata": {},
   "outputs": [
    {
     "name": "stdout",
     "output_type": "stream",
     "text": [
      "Hello\n"
     ]
    }
   ],
   "source": [
    "print(\"Hello\")"
   ]
  },
  {
   "cell_type": "markdown",
   "id": "2782b40e",
   "metadata": {},
   "source": [
    "# Basic of python"
   ]
  },
  {
   "cell_type": "markdown",
   "id": "ae8ff6d7",
   "metadata": {},
   "source": [
    "# What is python?\n",
    "Python is a general purpose, dynamically types (a compiler or an ) interpreter assigns a type to all the variables at run- time), high level language developed by \"guido van rossum\" in the 1991 at netherland.\n",
    "\n",
    "\n",
    "Python is high level interpreted language, using python we can write line of code which can perform given task. python is Object oriented, Portable use in any system,open source.\n"
   ]
  },
  {
   "cell_type": "markdown",
   "id": "b7d00641",
   "metadata": {},
   "source": [
    "syntax = print(\"hello\");"
   ]
  },
  {
   "cell_type": "code",
   "execution_count": 4,
   "id": "f1a447e4",
   "metadata": {},
   "outputs": [
    {
     "name": "stdout",
     "output_type": "stream",
     "text": [
      "Hello\n",
      "ram\n",
      "ram\n"
     ]
    }
   ],
   "source": [
    "print('Hello')\n",
    "print('ram')\n",
    "print(\"\"\"ram\"\"\")"
   ]
  },
  {
   "cell_type": "markdown",
   "id": "1329cb93",
   "metadata": {},
   "source": [
    "Python is a programming language with objects Modules, threads, exceptions and automatic memory management, The benefits of python are that it is simple and easy, portable, extensible, build-in data \n",
    "structure and it is an open source."
   ]
  },
  {
   "cell_type": "markdown",
   "id": "e2576b7f",
   "metadata": {},
   "source": [
    "# 2. How python is interprted?\n",
    "Python language is an interprter language. Python program runs directly from the source code (text file).\n",
    "It converts the source code that is written by the programmers into an intermediate language, which\n",
    "is again translated into machine langauge that has to be executed."
   ]
  },
  {
   "cell_type": "markdown",
   "id": "9eb0c4b1",
   "metadata": {},
   "source": [
    "# Advantages of python"
   ]
  },
  {
   "cell_type": "markdown",
   "id": "087ceb1b",
   "metadata": {},
   "source": [
    "- Simple and easy to learn. (it is a simple language in programming and the programming world it then easy to learn langauge)\n",
    "- Freeware open source(it is a free of cost implimentaion then we are changes to our change)\n",
    "- platform  independent. (we are run python program in any system)\n",
    "- Portable. (use in any system)\n",
    "- Extensible. (if we are run the code in python and we are use these code also in java)\n",
    "- Interpretend. (it mean when we are run the code then the one line code are run then the output is the next line)\n",
    "- Object oriented.\n",
    "- built in data stucture."
   ]
  },
  {
   "cell_type": "markdown",
   "id": "f4d1bf81",
   "metadata": {},
   "source": [
    "# Application of python"
   ]
  },
  {
   "cell_type": "markdown",
   "id": "ec00ae1d",
   "metadata": {},
   "source": [
    "- web development.\n",
    "- Game development.\n",
    "- IOT Programming.\n",
    "- Machine learing.\n",
    "- AI.\n",
    "- Db programming.\n",
    "- network programming."
   ]
  },
  {
   "cell_type": "markdown",
   "id": "acbc1ecd",
   "metadata": {},
   "source": [
    "# What is python?"
   ]
  },
  {
   "cell_type": "markdown",
   "id": "7520f735",
   "metadata": {},
   "source": [
    "# What is interpreated langauge?\n"
   ]
  },
  {
   "cell_type": "markdown",
   "id": "ae2aa9ff",
   "metadata": {},
   "source": [
    "# Advantage of python?\n"
   ]
  },
  {
   "cell_type": "markdown",
   "id": "35104e10",
   "metadata": {},
   "source": [
    "# disadvantage of python?"
   ]
  },
  {
   "cell_type": "markdown",
   "id": "989248c8",
   "metadata": {},
   "source": [
    "# DATABASE"
   ]
  },
  {
   "cell_type": "markdown",
   "id": "d102aaf8",
   "metadata": {},
   "source": [
    "# What is data type?\n",
    "Database represents the different type of values that we stored on the variable.\n",
    "Types.\n",
    "It returns the data type of the given value.\n",
    "Variables.\n",
    "It is the name of memory location where we can store different types of value.\n",
    "a= 10\n",
    "a  = Variable.\n",
    "\n",
    "\n",
    "\n",
    "it specifies what kind of value a variable will hold."
   ]
  },
  {
   "cell_type": "code",
   "execution_count": null,
   "id": "d6b2cdfb",
   "metadata": {},
   "outputs": [],
   "source": [
    "a = 10"
   ]
  },
  {
   "cell_type": "markdown",
   "id": "f6c71368",
   "metadata": {},
   "source": [
    "# DATATYPES"
   ]
  },
  {
   "cell_type": "markdown",
   "id": "e46f55f7",
   "metadata": {},
   "source": [
    "- Integer (1,2,3,4,5,6,7,...........)numbers\n",
    "- Float (1.2,2.3,4.5,6.7........)Pointer value\n",
    "- Complex (1+2j)2j= imaginary value\n",
    "- string\n",
    "- Dictionary \n",
    "- List \n",
    "- Tuple\n",
    "- Boolen"
   ]
  },
  {
   "cell_type": "markdown",
   "id": "996b27a7",
   "metadata": {},
   "source": [
    "Numeric data type (number data type)\n",
    "\n",
    "- Python built in data types include numeric types, boolean type, sequence type, etc Python numbers are the once with Numberoic types.\n",
    "- Variable stores data of different types, and what operations can be performed on the data is represented by the data type.\n",
    "- To store number types such as integer, floats, python numbers includes data types, like the int, float, long and complex data types.\n",
    "- Let us see some examples before going through each data type."
   ]
  },
  {
   "cell_type": "markdown",
   "id": "04f10baf",
   "metadata": {},
   "source": [
    "What is integers?\n",
    "\n",
    "It is the only store the numbers.\n",
    "(1,2,63635,629595,78,1,23,659,89,789,98)"
   ]
  },
  {
   "cell_type": "markdown",
   "id": "be4f8a9b",
   "metadata": {},
   "source": [
    "# Addition"
   ]
  },
  {
   "cell_type": "code",
   "execution_count": 1,
   "id": "25c5ae86",
   "metadata": {},
   "outputs": [
    {
     "name": "stdout",
     "output_type": "stream",
     "text": [
      "3\n"
     ]
    }
   ],
   "source": [
    "#a=variable, 1=store value\n",
    "a=1\n",
    "b=2\n",
    "print(a+b)"
   ]
  },
  {
   "cell_type": "code",
   "execution_count": 2,
   "id": "c905bf1b",
   "metadata": {},
   "outputs": [
    {
     "data": {
      "text/plain": [
       "3"
      ]
     },
     "execution_count": 2,
     "metadata": {},
     "output_type": "execute_result"
    }
   ],
   "source": [
    "#addition\n",
    "1+2"
   ]
  },
  {
   "cell_type": "code",
   "execution_count": 3,
   "id": "e97a8061",
   "metadata": {},
   "outputs": [
    {
     "data": {
      "text/plain": [
       "3"
      ]
     },
     "execution_count": 3,
     "metadata": {},
     "output_type": "execute_result"
    }
   ],
   "source": [
    "1+2"
   ]
  },
  {
   "cell_type": "markdown",
   "id": "6ec06ef6",
   "metadata": {},
   "source": [
    "# Subtraction"
   ]
  },
  {
   "cell_type": "code",
   "execution_count": 4,
   "id": "fc463e9f",
   "metadata": {},
   "outputs": [
    {
     "name": "stdout",
     "output_type": "stream",
     "text": [
      "-5\n"
     ]
    }
   ],
   "source": [
    "a=5\n",
    "b=10\n",
    "print(a-b)"
   ]
  },
  {
   "cell_type": "code",
   "execution_count": 5,
   "id": "412f07e0",
   "metadata": {},
   "outputs": [
    {
     "data": {
      "text/plain": [
       "5"
      ]
     },
     "execution_count": 5,
     "metadata": {},
     "output_type": "execute_result"
    }
   ],
   "source": [
    "#subtraction\n",
    "10-5"
   ]
  },
  {
   "cell_type": "code",
   "execution_count": 6,
   "id": "0d5eeff4",
   "metadata": {},
   "outputs": [
    {
     "data": {
      "text/plain": [
       "5"
      ]
     },
     "execution_count": 6,
     "metadata": {},
     "output_type": "execute_result"
    }
   ],
   "source": [
    "10-5"
   ]
  },
  {
   "cell_type": "markdown",
   "id": "e990278b",
   "metadata": {},
   "source": [
    "# Multiply"
   ]
  },
  {
   "cell_type": "code",
   "execution_count": 7,
   "id": "8913df06",
   "metadata": {},
   "outputs": [
    {
     "name": "stdout",
     "output_type": "stream",
     "text": [
      "18\n"
     ]
    }
   ],
   "source": [
    "a=3\n",
    "b=6\n",
    "print(a*b)"
   ]
  },
  {
   "cell_type": "code",
   "execution_count": 8,
   "id": "5eec7584",
   "metadata": {},
   "outputs": [
    {
     "data": {
      "text/plain": [
       "54"
      ]
     },
     "execution_count": 8,
     "metadata": {},
     "output_type": "execute_result"
    }
   ],
   "source": [
    "#multiply\n",
    "6*9"
   ]
  },
  {
   "cell_type": "code",
   "execution_count": 9,
   "id": "6bf0c24a",
   "metadata": {},
   "outputs": [
    {
     "data": {
      "text/plain": [
       "54"
      ]
     },
     "execution_count": 9,
     "metadata": {},
     "output_type": "execute_result"
    }
   ],
   "source": [
    "6*9"
   ]
  },
  {
   "cell_type": "markdown",
   "id": "20d67aed",
   "metadata": {},
   "source": [
    "# Float"
   ]
  },
  {
   "cell_type": "code",
   "execution_count": 10,
   "id": "ec19052f",
   "metadata": {},
   "outputs": [
    {
     "name": "stdout",
     "output_type": "stream",
     "text": [
      "3.5\n"
     ]
    }
   ],
   "source": [
    "a=1.2\n",
    "b=2.3\n",
    "print(a+b)"
   ]
  },
  {
   "cell_type": "code",
   "execution_count": 11,
   "id": "5ba0799a",
   "metadata": {},
   "outputs": [
    {
     "data": {
      "text/plain": [
       "3.5"
      ]
     },
     "execution_count": 11,
     "metadata": {},
     "output_type": "execute_result"
    }
   ],
   "source": [
    "#addition\n",
    "1.2+2.3"
   ]
  },
  {
   "cell_type": "code",
   "execution_count": 12,
   "id": "7903a9c2",
   "metadata": {},
   "outputs": [
    {
     "data": {
      "text/plain": [
       "3.5"
      ]
     },
     "execution_count": 12,
     "metadata": {},
     "output_type": "execute_result"
    }
   ],
   "source": [
    "1.2+2.3"
   ]
  },
  {
   "cell_type": "markdown",
   "id": "f4883f35",
   "metadata": {},
   "source": [
    "# Complex"
   ]
  },
  {
   "cell_type": "code",
   "execution_count": 13,
   "id": "e511bec5",
   "metadata": {},
   "outputs": [
    {
     "name": "stdout",
     "output_type": "stream",
     "text": [
      "(2+4j)\n"
     ]
    }
   ],
   "source": [
    "a=1+2j\n",
    "b=1+2j\n",
    "print(a+b)"
   ]
  },
  {
   "cell_type": "code",
   "execution_count": 14,
   "id": "2552015e",
   "metadata": {},
   "outputs": [
    {
     "name": "stdout",
     "output_type": "stream",
     "text": [
      "(3+8j)\n"
     ]
    }
   ],
   "source": [
    "d=1+3j\n",
    "c=2+5j\n",
    "print(d+c)"
   ]
  },
  {
   "cell_type": "code",
   "execution_count": 15,
   "id": "3322743b",
   "metadata": {},
   "outputs": [
    {
     "name": "stdout",
     "output_type": "stream",
     "text": [
      "(-1+2j)\n"
     ]
    }
   ],
   "source": [
    "f=4-5J\n",
    "b=5-7j\n",
    "print(f-b)"
   ]
  },
  {
   "cell_type": "code",
   "execution_count": 16,
   "id": "cb9419b1",
   "metadata": {},
   "outputs": [
    {
     "data": {
      "text/plain": [
       "(-1+2j)"
      ]
     },
     "execution_count": 16,
     "metadata": {},
     "output_type": "execute_result"
    }
   ],
   "source": [
    "(4-5j)-(5-7j)"
   ]
  },
  {
   "cell_type": "markdown",
   "id": "12be5595",
   "metadata": {},
   "source": [
    "# Strings"
   ]
  },
  {
   "cell_type": "code",
   "execution_count": 17,
   "id": "f98b6c09",
   "metadata": {},
   "outputs": [],
   "source": [
    "a=\"\",'',\"\"\" \"\"\""
   ]
  },
  {
   "cell_type": "markdown",
   "id": "1e28edb5",
   "metadata": {},
   "source": [
    "What is the string?\n",
    "It cannot be change the name."
   ]
  },
  {
   "cell_type": "markdown",
   "id": "01ff76bf",
   "metadata": {},
   "source": [
    "' '     = Single code\n",
    "\"\"      = double code\n",
    "\"\"\" \"\"\" = triple code"
   ]
  },
  {
   "cell_type": "code",
   "execution_count": 20,
   "id": "2a8def1e",
   "metadata": {},
   "outputs": [
    {
     "name": "stdout",
     "output_type": "stream",
     "text": [
      "ram\n"
     ]
    }
   ],
   "source": [
    "a = ('ram')\n",
    "print(a)"
   ]
  },
  {
   "cell_type": "code",
   "execution_count": 21,
   "id": "e2f935c2",
   "metadata": {},
   "outputs": [
    {
     "data": {
      "text/plain": [
       "str"
      ]
     },
     "execution_count": 21,
     "metadata": {},
     "output_type": "execute_result"
    }
   ],
   "source": [
    "type(a)"
   ]
  },
  {
   "cell_type": "code",
   "execution_count": 22,
   "id": "f7fd9d2c",
   "metadata": {},
   "outputs": [
    {
     "name": "stdout",
     "output_type": "stream",
     "text": [
      "ram\n"
     ]
    }
   ],
   "source": [
    "b= (\"ram\")\n",
    "print(b)"
   ]
  },
  {
   "cell_type": "code",
   "execution_count": 23,
   "id": "27dd4fa5",
   "metadata": {},
   "outputs": [
    {
     "data": {
      "text/plain": [
       "str"
      ]
     },
     "execution_count": 23,
     "metadata": {},
     "output_type": "execute_result"
    }
   ],
   "source": [
    "type(b)"
   ]
  },
  {
   "cell_type": "code",
   "execution_count": 1,
   "id": "ca9ad538",
   "metadata": {},
   "outputs": [
    {
     "name": "stdout",
     "output_type": "stream",
     "text": [
      "Hello\n"
     ]
    },
    {
     "data": {
      "text/plain": [
       "str"
      ]
     },
     "execution_count": 1,
     "metadata": {},
     "output_type": "execute_result"
    }
   ],
   "source": [
    "print('Hello')\n",
    "type('Hello')"
   ]
  },
  {
   "cell_type": "code",
   "execution_count": null,
   "id": "53053a5d",
   "metadata": {},
   "outputs": [
    {
     "name": "stdout",
     "output_type": "stream",
     "text": [
      "Enter a number: 1587623\n"
     ]
    }
   ],
   "source": [
    "x = int(input(\"Enter a number: \"))\n",
    "odd_numbers = 0 \n",
    "while (x >0):\n",
    "    if x % 2  == 1:\n",
    "        odd_numbers = odd_numbers + x % 10\n",
    "        x = x//10\n",
    "print(odd_numbers)"
   ]
  },
  {
   "cell_type": "code",
   "execution_count": null,
   "id": "15a3fd78",
   "metadata": {},
   "outputs": [],
   "source": []
  }
 ],
 "metadata": {
  "kernelspec": {
   "display_name": "Python 3 (ipykernel)",
   "language": "python",
   "name": "python3"
  },
  "language_info": {
   "codemirror_mode": {
    "name": "ipython",
    "version": 3
   },
   "file_extension": ".py",
   "mimetype": "text/x-python",
   "name": "python",
   "nbconvert_exporter": "python",
   "pygments_lexer": "ipython3",
   "version": "3.11.3"
  }
 },
 "nbformat": 4,
 "nbformat_minor": 5
}
