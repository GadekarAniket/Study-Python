{
 "cells": [
  {
   "cell_type": "markdown",
   "id": "7a33daae",
   "metadata": {},
   "source": [
    "# Homework#1"
   ]
  },
  {
   "cell_type": "markdown",
   "id": "a98c864a",
   "metadata": {},
   "source": [
    "-Addition, subtraction,Multiplication and division of Integers, float, complex number. \n",
    "-strings"
   ]
  },
  {
   "cell_type": "markdown",
   "id": "da5e9e78",
   "metadata": {},
   "source": [
    "# Addition"
   ]
  },
  {
   "cell_type": "code",
   "execution_count": 1,
   "id": "0cb58e5f",
   "metadata": {},
   "outputs": [
    {
     "name": "stdout",
     "output_type": "stream",
     "text": [
      "75\n"
     ]
    }
   ],
   "source": [
    "a=25\n",
    "b=50\n",
    "print(a+b)  "
   ]
  },
  {
   "cell_type": "code",
   "execution_count": 2,
   "id": "17f6f5b7",
   "metadata": {},
   "outputs": [
    {
     "data": {
      "text/plain": [
       "75"
      ]
     },
     "execution_count": 2,
     "metadata": {},
     "output_type": "execute_result"
    }
   ],
   "source": [
    "#addition\n",
    "25+50"
   ]
  },
  {
   "cell_type": "markdown",
   "id": "2aad6a41",
   "metadata": {},
   "source": [
    "# Subtraction"
   ]
  },
  {
   "cell_type": "code",
   "execution_count": 3,
   "id": "c76c5681",
   "metadata": {},
   "outputs": [
    {
     "name": "stdout",
     "output_type": "stream",
     "text": [
      "15\n"
     ]
    }
   ],
   "source": [
    "a=50\n",
    "b=35\n",
    "print(a-b)"
   ]
  },
  {
   "cell_type": "code",
   "execution_count": 4,
   "id": "9aa61432",
   "metadata": {},
   "outputs": [
    {
     "data": {
      "text/plain": [
       "15"
      ]
     },
     "execution_count": 4,
     "metadata": {},
     "output_type": "execute_result"
    }
   ],
   "source": [
    "#Subtraction\n",
    "50-35"
   ]
  },
  {
   "cell_type": "markdown",
   "id": "68b8e2b3",
   "metadata": {},
   "source": [
    "# Multiplication"
   ]
  },
  {
   "cell_type": "code",
   "execution_count": 5,
   "id": "03c7f528",
   "metadata": {},
   "outputs": [
    {
     "name": "stdout",
     "output_type": "stream",
     "text": [
      "5568\n"
     ]
    }
   ],
   "source": [
    "a=87\n",
    "b=64\n",
    "print(a*b)"
   ]
  },
  {
   "cell_type": "code",
   "execution_count": 6,
   "id": "46001e2b",
   "metadata": {},
   "outputs": [
    {
     "data": {
      "text/plain": [
       "5568"
      ]
     },
     "execution_count": 6,
     "metadata": {},
     "output_type": "execute_result"
    }
   ],
   "source": [
    "87*64"
   ]
  },
  {
   "cell_type": "markdown",
   "id": "110e9dec",
   "metadata": {},
   "source": [
    "# Division"
   ]
  },
  {
   "cell_type": "code",
   "execution_count": 7,
   "id": "632be4c6",
   "metadata": {},
   "outputs": [
    {
     "name": "stdout",
     "output_type": "stream",
     "text": [
      "8.0\n"
     ]
    }
   ],
   "source": [
    "a=64\n",
    "b=8\n",
    "print(a/b)"
   ]
  },
  {
   "cell_type": "code",
   "execution_count": 8,
   "id": "b6f3757b",
   "metadata": {},
   "outputs": [
    {
     "data": {
      "text/plain": [
       "8.0"
      ]
     },
     "execution_count": 8,
     "metadata": {},
     "output_type": "execute_result"
    }
   ],
   "source": [
    "a/b"
   ]
  },
  {
   "cell_type": "markdown",
   "id": "5731fa49",
   "metadata": {},
   "source": [
    "# Float"
   ]
  },
  {
   "cell_type": "code",
   "execution_count": 9,
   "id": "f0d68df2",
   "metadata": {},
   "outputs": [
    {
     "name": "stdout",
     "output_type": "stream",
     "text": [
      "14.2\n"
     ]
    }
   ],
   "source": [
    "#addtion\n",
    "a=5.6\n",
    "b=8.6\n",
    "print(a+b)"
   ]
  },
  {
   "cell_type": "code",
   "execution_count": 10,
   "id": "734f25aa",
   "metadata": {},
   "outputs": [
    {
     "data": {
      "text/plain": [
       "14.2"
      ]
     },
     "execution_count": 10,
     "metadata": {},
     "output_type": "execute_result"
    }
   ],
   "source": [
    "5.6+8.6"
   ]
  },
  {
   "cell_type": "code",
   "execution_count": 11,
   "id": "5fcd7eaf",
   "metadata": {},
   "outputs": [
    {
     "name": "stdout",
     "output_type": "stream",
     "text": [
      "0.1999999999999993\n"
     ]
    }
   ],
   "source": [
    "#Subtraction\n",
    "a=10.0\n",
    "b=9.80\n",
    "print(a-b)"
   ]
  },
  {
   "cell_type": "code",
   "execution_count": 12,
   "id": "7bd40fb6",
   "metadata": {},
   "outputs": [
    {
     "data": {
      "text/plain": [
       "0.1999999999999993"
      ]
     },
     "execution_count": 12,
     "metadata": {},
     "output_type": "execute_result"
    }
   ],
   "source": [
    "10.00-9.80"
   ]
  },
  {
   "cell_type": "code",
   "execution_count": 13,
   "id": "716ac147",
   "metadata": {},
   "outputs": [
    {
     "name": "stdout",
     "output_type": "stream",
     "text": [
      "50.226600000000005\n"
     ]
    }
   ],
   "source": [
    "#multiplication\n",
    "a=8.63\n",
    "b=5.82\n",
    "print(a*b)"
   ]
  },
  {
   "cell_type": "code",
   "execution_count": 14,
   "id": "76b09946",
   "metadata": {},
   "outputs": [
    {
     "data": {
      "text/plain": [
       "50.226600000000005"
      ]
     },
     "execution_count": 14,
     "metadata": {},
     "output_type": "execute_result"
    }
   ],
   "source": [
    "8.63*5.82"
   ]
  },
  {
   "cell_type": "code",
   "execution_count": 15,
   "id": "de0a8879",
   "metadata": {},
   "outputs": [
    {
     "name": "stdout",
     "output_type": "stream",
     "text": [
      "100.0\n"
     ]
    }
   ],
   "source": [
    "#Division\n",
    "a=25.0\n",
    "b=0.25\n",
    "print(a/b)"
   ]
  },
  {
   "cell_type": "code",
   "execution_count": 16,
   "id": "ef7da1a8",
   "metadata": {},
   "outputs": [
    {
     "data": {
      "text/plain": [
       "100.0"
      ]
     },
     "execution_count": 16,
     "metadata": {},
     "output_type": "execute_result"
    }
   ],
   "source": [
    "25.0/0.25"
   ]
  },
  {
   "cell_type": "markdown",
   "id": "6d0b40de",
   "metadata": {},
   "source": [
    "# complex"
   ]
  },
  {
   "cell_type": "code",
   "execution_count": 17,
   "id": "1a162d17",
   "metadata": {},
   "outputs": [
    {
     "name": "stdout",
     "output_type": "stream",
     "text": [
      "(2-3j)\n"
     ]
    }
   ],
   "source": [
    "#addition\n",
    "a=1+5j\n",
    "b=1-8j\n",
    "print(a+b)"
   ]
  },
  {
   "cell_type": "code",
   "execution_count": 18,
   "id": "49ed0cc3",
   "metadata": {},
   "outputs": [
    {
     "data": {
      "text/plain": [
       "(2-3j)"
      ]
     },
     "execution_count": 18,
     "metadata": {},
     "output_type": "execute_result"
    }
   ],
   "source": [
    "(1+5j)+(1-8j)"
   ]
  },
  {
   "cell_type": "code",
   "execution_count": 19,
   "id": "d558d5fb",
   "metadata": {},
   "outputs": [
    {
     "name": "stdout",
     "output_type": "stream",
     "text": [
      "(3+9j)\n"
     ]
    }
   ],
   "source": [
    "#Subtraction\n",
    "a=5+6j\n",
    "b=2-3j\n",
    "print(a-b)"
   ]
  },
  {
   "cell_type": "code",
   "execution_count": 20,
   "id": "78c58ff3",
   "metadata": {},
   "outputs": [
    {
     "data": {
      "text/plain": [
       "(3+9j)"
      ]
     },
     "execution_count": 20,
     "metadata": {},
     "output_type": "execute_result"
    }
   ],
   "source": [
    "(5+6j)-(2-3j)"
   ]
  },
  {
   "cell_type": "code",
   "execution_count": 21,
   "id": "314e89a3",
   "metadata": {},
   "outputs": [
    {
     "name": "stdout",
     "output_type": "stream",
     "text": [
      "(32-7j)\n"
     ]
    }
   ],
   "source": [
    "#multiplication\n",
    "a=2+5j\n",
    "b=1-6j\n",
    "print(a*b)"
   ]
  },
  {
   "cell_type": "code",
   "execution_count": 22,
   "id": "d8de2831",
   "metadata": {},
   "outputs": [
    {
     "data": {
      "text/plain": [
       "(32-7j)"
      ]
     },
     "execution_count": 22,
     "metadata": {},
     "output_type": "execute_result"
    }
   ],
   "source": [
    "(2+5j)*(1-6j)"
   ]
  },
  {
   "cell_type": "code",
   "execution_count": 24,
   "id": "68c02c9f",
   "metadata": {},
   "outputs": [
    {
     "name": "stdout",
     "output_type": "stream",
     "text": [
      "(5+0j)\n"
     ]
    }
   ],
   "source": [
    "#Division\n",
    "a=5+25j\n",
    "b=1+5j\n",
    "print(a/b)"
   ]
  },
  {
   "cell_type": "code",
   "execution_count": 25,
   "id": "bb0cae59",
   "metadata": {},
   "outputs": [
    {
     "data": {
      "text/plain": [
       "(5+0j)"
      ]
     },
     "execution_count": 25,
     "metadata": {},
     "output_type": "execute_result"
    }
   ],
   "source": [
    "(5+25j)/(1+5j)"
   ]
  },
  {
   "cell_type": "markdown",
   "id": "4e085388",
   "metadata": {},
   "source": [
    "# Strings"
   ]
  },
  {
   "cell_type": "markdown",
   "id": "1f1c88db",
   "metadata": {},
   "source": [
    "abc= (\"Homework\")\n",
    "print(abc)\n",
    "type(abc)"
   ]
  },
  {
   "cell_type": "code",
   "execution_count": 29,
   "id": "fe4241ef",
   "metadata": {},
   "outputs": [
    {
     "name": "stdout",
     "output_type": "stream",
     "text": [
      "Homework2\n"
     ]
    },
    {
     "data": {
      "text/plain": [
       "str"
      ]
     },
     "execution_count": 29,
     "metadata": {},
     "output_type": "execute_result"
    }
   ],
   "source": [
    "mno= ('Homework2')\n",
    "print(mno)\n",
    "type(mno)"
   ]
  },
  {
   "cell_type": "code",
   "execution_count": 30,
   "id": "e1d4032a",
   "metadata": {},
   "outputs": [
    {
     "name": "stdout",
     "output_type": "stream",
     "text": [
      "Homework3\n"
     ]
    },
    {
     "data": {
      "text/plain": [
       "str"
      ]
     },
     "execution_count": 30,
     "metadata": {},
     "output_type": "execute_result"
    }
   ],
   "source": [
    "xyz=(\"\"\"Homework3\"\"\")\n",
    "print(xyz)\n",
    "type(xyz)"
   ]
  },
  {
   "cell_type": "markdown",
   "id": "cff671ac",
   "metadata": {},
   "source": [
    "# Homework#2"
   ]
  },
  {
   "cell_type": "markdown",
   "id": "5e491152",
   "metadata": {},
   "source": [
    "Create 10 list and print that list, find its data type and length of that list."
   ]
  },
  {
   "cell_type": "code",
   "execution_count": 2,
   "id": "c51204d3",
   "metadata": {},
   "outputs": [
    {
     "name": "stdout",
     "output_type": "stream",
     "text": [
      "[11, 12, 15, 26, 85, 96, 26, 27, 58, 29, 62, 25, 26, 24, 58, 45, 16, 58, 16, 61, 95, 84, 18, 21, 54, 56, 57, 58, 56, 15, 15, 48, 59, 84, 80, 90, 100]\n",
      "<class 'list'>\n"
     ]
    },
    {
     "data": {
      "text/plain": [
       "37"
      ]
     },
     "execution_count": 2,
     "metadata": {},
     "output_type": "execute_result"
    }
   ],
   "source": [
    "#List_1 having integer values.\n",
    "\n",
    "integers=[11,12,15,26,85,96,26,27,58,29,62,25,26,24,58,45,16,58,16,61,95,84,18,21,54,56,57,58,56,15,15,48,59,84,80,90,100]\n",
    "print(integers)\n",
    "print(type(integers))\n",
    "len(integers)"
   ]
  },
  {
   "cell_type": "code",
   "execution_count": 3,
   "id": "7af8ca7d",
   "metadata": {},
   "outputs": [
    {
     "name": "stdout",
     "output_type": "stream",
     "text": [
      "[15.1, 18.6, 89.6, 48.63, 68.91, 64.82, 61.97, 63.87, 64.98, 74.5, 32.5, 98.56, 48.63, 69.62, 19.63]\n",
      "<class 'list'>\n"
     ]
    },
    {
     "data": {
      "text/plain": [
       "15"
      ]
     },
     "execution_count": 3,
     "metadata": {},
     "output_type": "execute_result"
    }
   ],
   "source": [
    "#List_2 having float values.\n",
    "\n",
    "Float=[15.10,18.60,89.60,48.63,68.91,64.82,61.97,63.87,64.98,74.50,32.50,98.56,48.63,69.62,19.63]\n",
    "print(Float)\n",
    "print(type(Float))\n",
    "len(Float)"
   ]
  },
  {
   "cell_type": "code",
   "execution_count": 5,
   "id": "2ce88653",
   "metadata": {},
   "outputs": [
    {
     "name": "stdout",
     "output_type": "stream",
     "text": [
      "['ram', 'shayam', 'krishna', 'raj', 'ganesh']\n",
      "<class 'list'>\n"
     ]
    },
    {
     "data": {
      "text/plain": [
       "5"
      ]
     },
     "execution_count": 5,
     "metadata": {},
     "output_type": "execute_result"
    }
   ],
   "source": [
    "#List_3 having Strings values.\n",
    "\n",
    "Strings=['ram','shayam','krishna','raj','ganesh']\n",
    "print(Strings)\n",
    "print(type(Strings))\n",
    "len(Strings)"
   ]
  },
  {
   "cell_type": "code",
   "execution_count": 6,
   "id": "fcc0c127",
   "metadata": {},
   "outputs": [
    {
     "name": "stdout",
     "output_type": "stream",
     "text": [
      "[(1+5j), (15-2j), (9+1j), (69+96j), (3-9j), (8-8j), (79+9j), (89+5j), (3-5j), (29-69j)]\n",
      "<class 'list'>\n"
     ]
    },
    {
     "data": {
      "text/plain": [
       "10"
      ]
     },
     "execution_count": 6,
     "metadata": {},
     "output_type": "execute_result"
    }
   ],
   "source": [
    "#list_4 having Complex number values.\n",
    "Complex=[1+5j,15-2j,9+1j,69+96j,3-9j,8-8j,79+9j,89+5j,3-5j,29-69j]\n",
    "print(Complex)\n",
    "print(type(Complex))\n",
    "len(Complex)"
   ]
  },
  {
   "cell_type": "code",
   "execution_count": 7,
   "id": "9274f9e1",
   "metadata": {},
   "outputs": [
    {
     "name": "stdout",
     "output_type": "stream",
     "text": [
      "[4, 9, 6, (5+6j), (69-9j), 'aniket', 5, 6, 965, 487, 'gadekar', 5.6, 59.6, 95.5, 945.56, 56, 948, 'alex', (4+6j)]\n",
      "<class 'list'>\n"
     ]
    },
    {
     "data": {
      "text/plain": [
       "19"
      ]
     },
     "execution_count": 7,
     "metadata": {},
     "output_type": "execute_result"
    }
   ],
   "source": [
    "#List_5 having integer, Float, strings and complex number value.\n",
    "Mixed_datatype=[4,9,6,5+6j,69-9j,'aniket',5,6,965,487,'gadekar',5.6,59.6,95.5,945.56,56,948,'alex',4+6j]\n",
    "print(Mixed_datatype)\n",
    "print(type(Mixed_datatype))\n",
    "len(Mixed_datatype)"
   ]
  },
  {
   "cell_type": "code",
   "execution_count": 8,
   "id": "0f63de63",
   "metadata": {},
   "outputs": [
    {
     "name": "stdout",
     "output_type": "stream",
     "text": [
      "['apple', 'Mango', 'grapes', 'watermelon', 'orange', 'banana']\n",
      "<class 'list'>\n"
     ]
    },
    {
     "data": {
      "text/plain": [
       "6"
      ]
     },
     "execution_count": 8,
     "metadata": {},
     "output_type": "execute_result"
    }
   ],
   "source": [
    "#List_6 having fruits \n",
    "Fruits=['apple', 'Mango','grapes','watermelon','orange','banana']\n",
    "print(Fruits)\n",
    "print(type(Fruits))\n",
    "len(Fruits)"
   ]
  },
  {
   "cell_type": "code",
   "execution_count": 9,
   "id": "baba2f20",
   "metadata": {},
   "outputs": [
    {
     "name": "stdout",
     "output_type": "stream",
     "text": [
      "['orange', 'Red', 'yellow', 'black', 'white', 'green', 'pink', 'blue', 'Brown', 'purple', 'grey', 'voilet']\n",
      "<class 'list'>\n"
     ]
    },
    {
     "data": {
      "text/plain": [
       "12"
      ]
     },
     "execution_count": 9,
     "metadata": {},
     "output_type": "execute_result"
    }
   ],
   "source": [
    "#List_7 having colours\n",
    "Colours=['orange','Red','yellow','black','white','green','pink','blue', 'Brown', 'purple', 'grey', 'voilet']\n",
    "print(Colours)\n",
    "print(type(Colours))\n",
    "len(Colours)"
   ]
  },
  {
   "cell_type": "code",
   "execution_count": 10,
   "id": "9ed06849",
   "metadata": {},
   "outputs": [
    {
     "name": "stdout",
     "output_type": "stream",
     "text": [
      "['Aniket', 'prasad', 'Ajay', 'gaurav', 'gitesh', 'nehal', 'yash', 'saqlain', 'amit', 'shushat']\n",
      "<class 'list'>\n"
     ]
    },
    {
     "data": {
      "text/plain": [
       "10"
      ]
     },
     "execution_count": 10,
     "metadata": {},
     "output_type": "execute_result"
    }
   ],
   "source": [
    "#List_8 having students name\n",
    "Students=['Aniket','prasad','Ajay','gaurav','gitesh','nehal','yash','saqlain','amit','shushat']\n",
    "print(Students)\n",
    "print(type(Students))\n",
    "len(Students)"
   ]
  },
  {
   "cell_type": "code",
   "execution_count": 11,
   "id": "3fd375aa",
   "metadata": {},
   "outputs": [
    {
     "name": "stdout",
     "output_type": "stream",
     "text": [
      "['marigold', 'sunflower', 'lily', 'rose', 'lotus']\n",
      "<class 'list'>\n"
     ]
    },
    {
     "data": {
      "text/plain": [
       "5"
      ]
     },
     "execution_count": 11,
     "metadata": {},
     "output_type": "execute_result"
    }
   ],
   "source": [
    "#List_9 having flowers\n",
    "Flowers=['marigold','sunflower','lily','rose','lotus']\n",
    "print(Flowers)\n",
    "print(type(Flowers))\n",
    "len(Flowers)"
   ]
  },
  {
   "cell_type": "code",
   "execution_count": 12,
   "id": "9bf85049",
   "metadata": {},
   "outputs": [
    {
     "name": "stdout",
     "output_type": "stream",
     "text": [
      "['Mumbai', 'Pune', 'delhi', 'Kolkata', 'hydrabad', 'bangaluru', 'chennei', 'shrinagar', 'kanyakumari']\n",
      "<class 'list'>\n"
     ]
    },
    {
     "data": {
      "text/plain": [
       "9"
      ]
     },
     "execution_count": 12,
     "metadata": {},
     "output_type": "execute_result"
    }
   ],
   "source": [
    "#List_10 having cities\n",
    "Cities=['Mumbai','Pune','delhi','Kolkata','hydrabad','bangaluru','chennei','shrinagar','kanyakumari']\n",
    "print(Cities)\n",
    "print(type(Cities))\n",
    "len(Cities)"
   ]
  },
  {
   "cell_type": "markdown",
   "id": "81d34fe8",
   "metadata": {},
   "source": [
    "# Homework#3"
   ]
  },
  {
   "cell_type": "markdown",
   "id": "f6b5bdf6",
   "metadata": {},
   "source": [
    "Practice indexing and slicing method in list"
   ]
  },
  {
   "cell_type": "code",
   "execution_count": 3,
   "id": "17e00fba",
   "metadata": {},
   "outputs": [
    {
     "name": "stdout",
     "output_type": "stream",
     "text": [
      "['Maharashtra', 'Goa', 'Odisa', 'uttar pradesh', 'Madhya pradesh', 'Rajasthan', 'Gujrat', 'Andrapradesh', 'haryana', 'Punjab', 'jammu & kashmir', 'Arunachal pradesh', 'assam', 'manipur', 'mizoram', 'tripura', 'kerla', 'west bengal', 'sikkim', 'jharkhand', 'uttarakhand', 'delhi', 'nagaland', 'chattisgard', 'bihar', 'tamil nadu', 'telengana', 'karnataka', 'meghalaya']\n"
     ]
    }
   ],
   "source": [
    "States = ['Maharashtra', 'Goa','Odisa', 'uttar pradesh', 'Madhya pradesh', 'Rajasthan', 'Gujrat', 'Andrapradesh', 'haryana','Punjab', 'jammu & kashmir', 'Arunachal pradesh', 'assam','manipur','mizoram','tripura', 'kerla', 'west bengal', 'sikkim', 'jharkhand','uttarakhand','delhi', 'nagaland','chattisgard','bihar', 'tamil nadu','telengana' ,'karnataka', 'meghalaya']\n",
    "print(States)"
   ]
  },
  {
   "cell_type": "code",
   "execution_count": 4,
   "id": "2fe393b4",
   "metadata": {},
   "outputs": [
    {
     "data": {
      "text/plain": [
       "29"
      ]
     },
     "execution_count": 4,
     "metadata": {},
     "output_type": "execute_result"
    }
   ],
   "source": [
    "len(States)"
   ]
  },
  {
   "cell_type": "code",
   "execution_count": 5,
   "id": "47d672f9",
   "metadata": {},
   "outputs": [
    {
     "name": "stdout",
     "output_type": "stream",
     "text": [
      "<class 'list'>\n"
     ]
    }
   ],
   "source": [
    "print(type(States))"
   ]
  },
  {
   "cell_type": "code",
   "execution_count": 6,
   "id": "da2ab9f1",
   "metadata": {},
   "outputs": [
    {
     "name": "stdout",
     "output_type": "stream",
     "text": [
      "Rajasthan\n"
     ]
    }
   ],
   "source": [
    "print(States[5])"
   ]
  },
  {
   "cell_type": "code",
   "execution_count": 7,
   "id": "15e39eeb",
   "metadata": {},
   "outputs": [
    {
     "name": "stdout",
     "output_type": "stream",
     "text": [
      "uttarakhand\n"
     ]
    }
   ],
   "source": [
    "print(States[-9])"
   ]
  },
  {
   "cell_type": "code",
   "execution_count": 8,
   "id": "76aa683e",
   "metadata": {},
   "outputs": [
    {
     "name": "stdout",
     "output_type": "stream",
     "text": [
      "kerla\n"
     ]
    }
   ],
   "source": [
    "print(States[16])"
   ]
  },
  {
   "cell_type": "code",
   "execution_count": 11,
   "id": "fe1a6523",
   "metadata": {},
   "outputs": [
    {
     "name": "stdout",
     "output_type": "stream",
     "text": [
      "haryana\n"
     ]
    }
   ],
   "source": [
    "print(States[-21])"
   ]
  },
  {
   "cell_type": "code",
   "execution_count": 12,
   "id": "74aa0d32",
   "metadata": {},
   "outputs": [
    {
     "data": {
      "text/plain": [
       "['Maharashtra',\n",
       " 'Goa',\n",
       " 'Odisa',\n",
       " 'uttar pradesh',\n",
       " 'Madhya pradesh',\n",
       " 'Rajasthan',\n",
       " 'Gujrat',\n",
       " 'Andrapradesh',\n",
       " 'haryana',\n",
       " 'Punjab',\n",
       " 'jammu & kashmir',\n",
       " 'Arunachal pradesh',\n",
       " 'assam',\n",
       " 'manipur',\n",
       " 'mizoram',\n",
       " 'tripura',\n",
       " 'kerla',\n",
       " 'west bengal',\n",
       " 'sikkim',\n",
       " 'jharkhand',\n",
       " 'uttarakhand',\n",
       " 'delhi',\n",
       " 'nagaland',\n",
       " 'chattisgard',\n",
       " 'bihar',\n",
       " 'tamil nadu',\n",
       " 'telengana',\n",
       " 'karnataka',\n",
       " 'meghalaya']"
      ]
     },
     "execution_count": 12,
     "metadata": {},
     "output_type": "execute_result"
    }
   ],
   "source": [
    "#Slicing\n",
    "States[0:30]"
   ]
  },
  {
   "cell_type": "code",
   "execution_count": 13,
   "id": "7a459dda",
   "metadata": {},
   "outputs": [
    {
     "data": {
      "text/plain": [
       "['tripura', 'kerla', 'west bengal', 'sikkim', 'jharkhand', 'uttarakhand']"
      ]
     },
     "execution_count": 13,
     "metadata": {},
     "output_type": "execute_result"
    }
   ],
   "source": [
    "States[15:21]"
   ]
  },
  {
   "cell_type": "code",
   "execution_count": 15,
   "id": "e3a49e12",
   "metadata": {},
   "outputs": [
    {
     "data": {
      "text/plain": [
       "['uttarakhand',\n",
       " 'delhi',\n",
       " 'nagaland',\n",
       " 'chattisgard',\n",
       " 'bihar',\n",
       " 'tamil nadu',\n",
       " 'telengana',\n",
       " 'karnataka']"
      ]
     },
     "execution_count": 15,
     "metadata": {},
     "output_type": "execute_result"
    }
   ],
   "source": [
    "States[-9:-1]"
   ]
  },
  {
   "cell_type": "code",
   "execution_count": 16,
   "id": "b6ebaad1",
   "metadata": {},
   "outputs": [
    {
     "data": {
      "text/plain": [
       "['Arunachal pradesh',\n",
       " 'assam',\n",
       " 'manipur',\n",
       " 'mizoram',\n",
       " 'tripura',\n",
       " 'kerla',\n",
       " 'west bengal']"
      ]
     },
     "execution_count": 16,
     "metadata": {},
     "output_type": "execute_result"
    }
   ],
   "source": [
    "States [-18:-11]"
   ]
  },
  {
   "cell_type": "code",
   "execution_count": 17,
   "id": "91e8629b",
   "metadata": {},
   "outputs": [
    {
     "data": {
      "text/plain": [
       "['delhi',\n",
       " 'nagaland',\n",
       " 'chattisgard',\n",
       " 'bihar',\n",
       " 'tamil nadu',\n",
       " 'telengana',\n",
       " 'karnataka']"
      ]
     },
     "execution_count": 17,
     "metadata": {},
     "output_type": "execute_result"
    }
   ],
   "source": [
    "States [21:28]"
   ]
  },
  {
   "cell_type": "code",
   "execution_count": 18,
   "id": "c5ebc2ca",
   "metadata": {},
   "outputs": [
    {
     "data": {
      "text/plain": [
       "['Goa',\n",
       " 'Odisa',\n",
       " 'uttar pradesh',\n",
       " 'Madhya pradesh',\n",
       " 'Rajasthan',\n",
       " 'Gujrat',\n",
       " 'Andrapradesh',\n",
       " 'haryana',\n",
       " 'Punjab']"
      ]
     },
     "execution_count": 18,
     "metadata": {},
     "output_type": "execute_result"
    }
   ],
   "source": [
    "States [1:10]"
   ]
  },
  {
   "cell_type": "code",
   "execution_count": 19,
   "id": "437f22e8",
   "metadata": {},
   "outputs": [
    {
     "data": {
      "text/plain": [
       "['Arunachal pradesh',\n",
       " 'assam',\n",
       " 'manipur',\n",
       " 'mizoram',\n",
       " 'tripura',\n",
       " 'kerla',\n",
       " 'west bengal',\n",
       " 'sikkim',\n",
       " 'jharkhand']"
      ]
     },
     "execution_count": 19,
     "metadata": {},
     "output_type": "execute_result"
    }
   ],
   "source": [
    "States[11:20]"
   ]
  },
  {
   "cell_type": "markdown",
   "id": "7376d7cc",
   "metadata": {},
   "source": [
    "# Homework#4"
   ]
  },
  {
   "cell_type": "markdown",
   "id": "c7a057a3",
   "metadata": {},
   "source": [
    "Practice on Remove function, list function, print(number)max/min, swapping variable, Nested list."
   ]
  },
  {
   "cell_type": "code",
   "execution_count": 1,
   "id": "b99b6e3c",
   "metadata": {},
   "outputs": [
    {
     "name": "stdout",
     "output_type": "stream",
     "text": [
      "['cycle', 'bike', 'auto-rikshaw', 'bus', 'car', 'train', 'truck', 'aeroplane']\n"
     ]
    }
   ],
   "source": [
    "#Remove function (vairable.remove(_))\n",
    "vehicle = ['cycle','bike','auto-rikshaw','bus','car','train','truck','aeroplane']\n",
    "print(vehicle)\n"
   ]
  },
  {
   "cell_type": "code",
   "execution_count": 5,
   "id": "ec320e1e",
   "metadata": {},
   "outputs": [
    {
     "name": "stdout",
     "output_type": "stream",
     "text": [
      "['cycle', 'auto-rikshaw', 'bus', 'car', 'train', 'truck', 'aeroplane']\n"
     ]
    }
   ],
   "source": [
    "vehicle.remove('bike')\n",
    "print(vehicle)"
   ]
  },
  {
   "cell_type": "code",
   "execution_count": 6,
   "id": "105f951c",
   "metadata": {},
   "outputs": [
    {
     "name": "stdout",
     "output_type": "stream",
     "text": [
      "['cycle', 'auto-rikshaw', 'bus', 'train', 'truck', 'aeroplane']\n"
     ]
    }
   ],
   "source": [
    "vehicle.remove('car')\n",
    "print(vehicle)"
   ]
  },
  {
   "cell_type": "code",
   "execution_count": 7,
   "id": "7be15fe4",
   "metadata": {},
   "outputs": [
    {
     "name": "stdout",
     "output_type": "stream",
     "text": [
      "['veleparle', 'malad', 'virar', 'marin line', 'mahim', 'dadar']\n"
     ]
    }
   ],
   "source": [
    "Mumbai = [\"veleparle\",\"malad\",\"virar\",\"marin line\",\"mahim\",\"dadar\"]\n",
    "print(Mumbai)"
   ]
  },
  {
   "cell_type": "code",
   "execution_count": 8,
   "id": "c6670d9c",
   "metadata": {},
   "outputs": [
    {
     "name": "stdout",
     "output_type": "stream",
     "text": [
      "['veleparle', 'virar', 'marin line', 'mahim', 'dadar']\n"
     ]
    }
   ],
   "source": [
    "Mumbai.remove(\"malad\")\n",
    "print(Mumbai)"
   ]
  },
  {
   "cell_type": "code",
   "execution_count": 10,
   "id": "361b6ad4",
   "metadata": {},
   "outputs": [
    {
     "data": {
      "text/plain": [
       "5"
      ]
     },
     "execution_count": 10,
     "metadata": {},
     "output_type": "execute_result"
    }
   ],
   "source": [
    "#Leanth function\n",
    "\n",
    "len(Mumbai)"
   ]
  },
  {
   "cell_type": "code",
   "execution_count": 11,
   "id": "22a08ebb",
   "metadata": {},
   "outputs": [
    {
     "data": {
      "text/plain": [
       "6"
      ]
     },
     "execution_count": 11,
     "metadata": {},
     "output_type": "execute_result"
    }
   ],
   "source": [
    "len(vehicle)"
   ]
  },
  {
   "cell_type": "code",
   "execution_count": 12,
   "id": "db232e30",
   "metadata": {},
   "outputs": [
    {
     "data": {
      "text/plain": [
       "'virar'"
      ]
     },
     "execution_count": 12,
     "metadata": {},
     "output_type": "execute_result"
    }
   ],
   "source": [
    "#print number(Max/Min)\n",
    "max(Mumbai)"
   ]
  },
  {
   "cell_type": "code",
   "execution_count": 13,
   "id": "7b6e6cd0",
   "metadata": {},
   "outputs": [
    {
     "data": {
      "text/plain": [
       "'truck'"
      ]
     },
     "execution_count": 13,
     "metadata": {},
     "output_type": "execute_result"
    }
   ],
   "source": [
    "max(vehicle)"
   ]
  },
  {
   "cell_type": "code",
   "execution_count": 14,
   "id": "f0ae1105",
   "metadata": {},
   "outputs": [
    {
     "data": {
      "text/plain": [
       "'dadar'"
      ]
     },
     "execution_count": 14,
     "metadata": {},
     "output_type": "execute_result"
    }
   ],
   "source": [
    "min(Mumbai)"
   ]
  },
  {
   "cell_type": "code",
   "execution_count": 15,
   "id": "a0808c2d",
   "metadata": {},
   "outputs": [
    {
     "data": {
      "text/plain": [
       "'aeroplane'"
      ]
     },
     "execution_count": 15,
     "metadata": {},
     "output_type": "execute_result"
    }
   ],
   "source": [
    "min(vehicle)"
   ]
  },
  {
   "cell_type": "code",
   "execution_count": 18,
   "id": "b089fd1d",
   "metadata": {},
   "outputs": [
    {
     "name": "stdout",
     "output_type": "stream",
     "text": [
      "80000 50000 150000 120000\n"
     ]
    }
   ],
   "source": [
    "#swapping variables\n",
    "Aniket = 120000\n",
    "Diksha = 50000\n",
    "Nehal = 80000\n",
    "Ajay = 150000\n",
    "Aniket,Diksha,Nehal,Ajay = Nehal,Diksha,Ajay,Aniket\n",
    "print(Aniket,Diksha,Nehal,Ajay)"
   ]
  },
  {
   "cell_type": "code",
   "execution_count": 27,
   "id": "9c6337a2",
   "metadata": {},
   "outputs": [
    {
     "name": "stdout",
     "output_type": "stream",
     "text": [
      "Washing machine AC TV\n"
     ]
    }
   ],
   "source": [
    "product_1 = 'AC'\n",
    "product_2 = 'TV'\n",
    "product_3 = 'Washing machine'\n",
    "product_1,product_2,product_3 = product_3,product_1,product_2\n",
    "print(product_1, product_2, product_3)"
   ]
  },
  {
   "cell_type": "code",
   "execution_count": 28,
   "id": "b33f687a",
   "metadata": {},
   "outputs": [
    {
     "name": "stdout",
     "output_type": "stream",
     "text": [
      "[['pramod', 'Anjali', 'Abhishek'], [12, 58, 96, 34, 71], [(25+5j), (89-6j), (9+6j)], [235.6, 896.98, 56.98, 71.85, 19.63]]\n"
     ]
    }
   ],
   "source": [
    "#Nested list (lists in list)\n",
    "list_101 = ['pramod','Anjali','Abhishek']\n",
    "list_102 = [12,58,96,34,71]\n",
    "list_103 = [25+5j,89-6j,9+6j]\n",
    "list_104 = [235.6,896.98,56.98,71.85,19.63]\n",
    "lists_in_list = [list_101,list_102,list_103,list_104]\n",
    "print(lists_in_list )"
   ]
  },
  {
   "cell_type": "code",
   "execution_count": 30,
   "id": "5072007f",
   "metadata": {},
   "outputs": [
    {
     "name": "stdout",
     "output_type": "stream",
     "text": [
      "[['python', 'SQL', 'powerBI', 'Tablue', 'excel'], [1.0, 1.1, 1.2, 1.3, 1.4, 1.5, 1.6, 1.7, 1.8, 1.9, 2.0], ['sony', 'colours', 'SubTV', 'DDnational', 'CN'], [123, 456, 789, 147, 258, 369, 741, 852, 963, 321, 654, 987], ['A', 'B', 'C', 'D', 'E', 'F']]\n"
     ]
    }
   ],
   "source": [
    "topic_1 = ['python','SQL','powerBI','Tablue','excel']\n",
    "topic_2 = [1.0,1.1,1.2,1.3,1.4,1.5,1.6,1.7,1.8,1.9,2.0]\n",
    "topic_3 = [\"sony\",\"colours\",\"SubTV\",\"DDnational\",\"CN\"]\n",
    "topic_4 = [123,456,789,147,258,369,741,852,963,321,654,987]\n",
    "topic_5 = ['A','B','C','D','E','F']\n",
    "Addition_of_list = [topic_1,topic_2,topic_3,topic_4,topic_5]\n",
    "print(Addition_of_list)"
   ]
  },
  {
   "cell_type": "markdown",
   "id": "f33b356d",
   "metadata": {},
   "source": [
    "# Homework#5"
   ]
  },
  {
   "cell_type": "markdown",
   "id": "288c2387",
   "metadata": {},
   "source": [
    "practice on items(), get(), update() method."
   ]
  },
  {
   "cell_type": "code",
   "execution_count": 1,
   "id": "0873e6e7",
   "metadata": {},
   "outputs": [
    {
     "name": "stdout",
     "output_type": "stream",
     "text": [
      "{'Maharashtra': '75', 'Goa': '50', 'Odisa': '49', 'uttar pradesh': '48', 'Madhya pradesh': '47', 'Rajasthan': '45', 'Gujrat': '43', 'Andrapradesh': '41', 'haryana': '39', 'Punjab': '40', 'jammu & kashmir': '1', 'Arunachal pradesh': '31', 'assam': '27', 'manipur': '21', 'mizoram': '22', 'tripura': '23', 'kerla': '2', 'west bengal': '5', 'sikkim': '7', 'jharkhand': '8', 'uttarakhand': '14', 'delhi': '12', 'nagaland': '10', 'chattisgard': '13', 'bihar': '25', 'tamil nadu': '15', 'telengana': '19', 'karnataka': '16', 'meghalaya': '15'}\n"
     ]
    }
   ],
   "source": [
    "#create dictionary example_1\n",
    "India = {'Maharashtra':'75', 'Goa':'50','Odisa':'49', 'uttar pradesh':'48', 'Madhya pradesh':'47', 'Rajasthan':'45', 'Gujrat':'43', 'Andrapradesh':'41', 'haryana':'39','Punjab':'40', 'jammu & kashmir':'1', 'Arunachal pradesh':'31', 'assam':'27','manipur':'21','mizoram':'22','tripura':'23', 'kerla':'2', 'west bengal':'5', 'sikkim':'7', 'jharkhand':'8','uttarakhand':'14','delhi':'12', 'nagaland':'10','chattisgard':'13','bihar':'25', 'tamil nadu':'15','telengana':'19' ,'karnataka':'16', 'meghalaya':'15'}\n",
    "print(India)"
   ]
  },
  {
   "cell_type": "code",
   "execution_count": 2,
   "id": "8d14479a",
   "metadata": {},
   "outputs": [
    {
     "data": {
      "text/plain": [
       "dict"
      ]
     },
     "execution_count": 2,
     "metadata": {},
     "output_type": "execute_result"
    }
   ],
   "source": [
    "type(India)"
   ]
  },
  {
   "cell_type": "code",
   "execution_count": 3,
   "id": "9976f98a",
   "metadata": {},
   "outputs": [
    {
     "data": {
      "text/plain": [
       "29"
      ]
     },
     "execution_count": 3,
     "metadata": {},
     "output_type": "execute_result"
    }
   ],
   "source": [
    "len(India)"
   ]
  },
  {
   "cell_type": "code",
   "execution_count": 7,
   "id": "a8f39863",
   "metadata": {},
   "outputs": [
    {
     "name": "stdout",
     "output_type": "stream",
     "text": [
      "dict_items([('Maharashtra', '75'), ('Goa', '50'), ('Odisa', '49'), ('uttar pradesh', '48'), ('Madhya pradesh', '47'), ('Rajasthan', '45'), ('Gujrat', '43'), ('Andrapradesh', '41'), ('haryana', '39'), ('Punjab', '40'), ('jammu & kashmir', '1'), ('Arunachal pradesh', '31'), ('assam', '27'), ('manipur', '21'), ('mizoram', '22'), ('tripura', '23'), ('kerla', '2'), ('west bengal', '5'), ('sikkim', '7'), ('jharkhand', '8'), ('uttarakhand', '14'), ('delhi', '12'), ('nagaland', '10'), ('chattisgard', '13'), ('bihar', '25'), ('tamil nadu', '15'), ('telengana', '19'), ('karnataka', '16'), ('meghalaya', '15')])\n"
     ]
    }
   ],
   "source": [
    "#Items method\n",
    "\n",
    "A = India.items()\n",
    "print(A)"
   ]
  },
  {
   "cell_type": "code",
   "execution_count": 8,
   "id": "e967cf2f",
   "metadata": {},
   "outputs": [
    {
     "data": {
      "text/plain": [
       "[('Maharashtra', '75'),\n",
       " ('Goa', '50'),\n",
       " ('Odisa', '49'),\n",
       " ('uttar pradesh', '48'),\n",
       " ('Madhya pradesh', '47'),\n",
       " ('Rajasthan', '45'),\n",
       " ('Gujrat', '43'),\n",
       " ('Andrapradesh', '41'),\n",
       " ('haryana', '39'),\n",
       " ('Punjab', '40'),\n",
       " ('jammu & kashmir', '1'),\n",
       " ('Arunachal pradesh', '31'),\n",
       " ('assam', '27'),\n",
       " ('manipur', '21'),\n",
       " ('mizoram', '22'),\n",
       " ('tripura', '23'),\n",
       " ('kerla', '2'),\n",
       " ('west bengal', '5'),\n",
       " ('sikkim', '7'),\n",
       " ('jharkhand', '8'),\n",
       " ('uttarakhand', '14'),\n",
       " ('delhi', '12'),\n",
       " ('nagaland', '10'),\n",
       " ('chattisgard', '13'),\n",
       " ('bihar', '25'),\n",
       " ('tamil nadu', '15'),\n",
       " ('telengana', '19'),\n",
       " ('karnataka', '16'),\n",
       " ('meghalaya', '15')]"
      ]
     },
     "execution_count": 8,
     "metadata": {},
     "output_type": "execute_result"
    }
   ],
   "source": [
    "list(India.items())"
   ]
  },
  {
   "cell_type": "code",
   "execution_count": 9,
   "id": "a2fdc529",
   "metadata": {},
   "outputs": [
    {
     "data": {
      "text/plain": [
       "'50'"
      ]
     },
     "execution_count": 9,
     "metadata": {},
     "output_type": "execute_result"
    }
   ],
   "source": [
    "#Get method\n",
    "\n",
    "India.get('Goa')"
   ]
  },
  {
   "cell_type": "code",
   "execution_count": 11,
   "id": "c981ceeb",
   "metadata": {},
   "outputs": [
    {
     "data": {
      "text/plain": [
       "'16'"
      ]
     },
     "execution_count": 11,
     "metadata": {},
     "output_type": "execute_result"
    }
   ],
   "source": [
    "India.get('karnataka')"
   ]
  },
  {
   "cell_type": "code",
   "execution_count": 12,
   "id": "db6a6cd7",
   "metadata": {},
   "outputs": [
    {
     "data": {
      "text/plain": [
       "'27'"
      ]
     },
     "execution_count": 12,
     "metadata": {},
     "output_type": "execute_result"
    }
   ],
   "source": [
    "India.get('assam')"
   ]
  },
  {
   "cell_type": "code",
   "execution_count": 13,
   "id": "90a0a87a",
   "metadata": {},
   "outputs": [
    {
     "data": {
      "text/plain": [
       "'75'"
      ]
     },
     "execution_count": 13,
     "metadata": {},
     "output_type": "execute_result"
    }
   ],
   "source": [
    "India.get('Maharashtra')"
   ]
  },
  {
   "cell_type": "code",
   "execution_count": 14,
   "id": "dd95377d",
   "metadata": {},
   "outputs": [
    {
     "name": "stdout",
     "output_type": "stream",
     "text": [
      "{'Maharashtra': '75', 'Goa': '50', 'Odisa': '49', 'uttar pradesh': '48', 'Madhya pradesh': '47', 'Rajasthan': '45', 'Gujrat': '43', 'Andrapradesh': '41', 'haryana': '39', 'Punjab': '40', 'jammu & kashmir': '1', 'Arunachal pradesh': '31', 'assam': '27', 'manipur': '21', 'mizoram': '22', 'tripura': '23', 'kerla': '2', 'west bengal': '5', 'sikkim': '7', 'jharkhand': '8', 'uttarakhand': '14', 'delhi': '12', 'nagaland': '10', 'chattisgard': '13', 'bihar': '25', 'tamil nadu': '15', 'telengana': '19', 'karnataka': '16', 'meghalaya': '15', 'pondicherry': '3'}\n"
     ]
    }
   ],
   "source": [
    "#update method\n",
    "\n",
    "India.update({'pondicherry':'3'})\n",
    "print(India)"
   ]
  },
  {
   "cell_type": "code",
   "execution_count": 15,
   "id": "f69a5480",
   "metadata": {},
   "outputs": [
    {
     "name": "stdout",
     "output_type": "stream",
     "text": [
      "{'Maharashtra': '75', 'Goa': '50', 'Odisa': '49', 'uttar pradesh': '48', 'Madhya pradesh': '47', 'Rajasthan': '45', 'Gujrat': '43', 'Andrapradesh': '41', 'haryana': '39', 'Punjab': '40', 'jammu & kashmir': '1', 'Arunachal pradesh': '31', 'assam': '27', 'manipur': '21', 'mizoram': '22', 'tripura': '23', 'kerla': '2', 'west bengal': '5', 'sikkim': '7', 'jharkhand': '8', 'uttarakhand': '14', 'delhi': '12', 'nagaland': '10', 'chattisgard': '13', 'bihar': '25', 'tamil nadu': '15', 'telengana': '19', 'karnataka': '16', 'meghalaya': '15', 'pondicherry': '3', 'Andaman and Nicobar': '2'}\n"
     ]
    }
   ],
   "source": [
    "India.update({'Andaman and Nicobar':'2'})\n",
    "print(India)"
   ]
  },
  {
   "cell_type": "code",
   "execution_count": 16,
   "id": "5fc694bd",
   "metadata": {},
   "outputs": [
    {
     "name": "stdout",
     "output_type": "stream",
     "text": [
      "{'cycle': '1', 'bike': '2', 'auto-rikshaw': ['3', '4'], 'bus': ['20', '25', '30'], 'car': '4', 'train': ['500', '525', '550', '600'], 'truck': '10', 'aeroplane': '100'}\n"
     ]
    }
   ],
   "source": [
    "#create dictionary example_2\n",
    "passenger = {'cycle':'1','bike':'2','auto-rikshaw':['3','4'] ,'bus':['20','25','30'] ,'car':'4','train':['500','525','550','600'],'truck':'10','aeroplane':'100'}\n",
    "print(passenger)"
   ]
  },
  {
   "cell_type": "code",
   "execution_count": 18,
   "id": "28088778",
   "metadata": {},
   "outputs": [
    {
     "name": "stdout",
     "output_type": "stream",
     "text": [
      "<class 'dict'>\n"
     ]
    },
    {
     "data": {
      "text/plain": [
       "8"
      ]
     },
     "execution_count": 18,
     "metadata": {},
     "output_type": "execute_result"
    }
   ],
   "source": [
    "print(type(passenger))\n",
    "len(passenger)"
   ]
  },
  {
   "cell_type": "code",
   "execution_count": 19,
   "id": "e356d944",
   "metadata": {},
   "outputs": [
    {
     "name": "stdout",
     "output_type": "stream",
     "text": [
      "dict_items([('cycle', '1'), ('bike', '2'), ('auto-rikshaw', ['3', '4']), ('bus', ['20', '25', '30']), ('car', '4'), ('train', ['500', '525', '550', '600']), ('truck', '10'), ('aeroplane', '100')])\n"
     ]
    }
   ],
   "source": [
    "#items method\n",
    "ABCD = passenger.items()\n",
    "print(ABCD)"
   ]
  },
  {
   "cell_type": "code",
   "execution_count": 20,
   "id": "74fc29d1",
   "metadata": {},
   "outputs": [
    {
     "data": {
      "text/plain": [
       "[('cycle', '1'),\n",
       " ('bike', '2'),\n",
       " ('auto-rikshaw', ['3', '4']),\n",
       " ('bus', ['20', '25', '30']),\n",
       " ('car', '4'),\n",
       " ('train', ['500', '525', '550', '600']),\n",
       " ('truck', '10'),\n",
       " ('aeroplane', '100')]"
      ]
     },
     "execution_count": 20,
     "metadata": {},
     "output_type": "execute_result"
    }
   ],
   "source": [
    "list(passenger.items())"
   ]
  },
  {
   "cell_type": "code",
   "execution_count": 21,
   "id": "f7a0f7c3",
   "metadata": {},
   "outputs": [
    {
     "data": {
      "text/plain": [
       "'4'"
      ]
     },
     "execution_count": 21,
     "metadata": {},
     "output_type": "execute_result"
    }
   ],
   "source": [
    "#get method\n",
    "passenger.get('car')"
   ]
  },
  {
   "cell_type": "code",
   "execution_count": 22,
   "id": "9910134f",
   "metadata": {},
   "outputs": [
    {
     "data": {
      "text/plain": [
       "['3', '4']"
      ]
     },
     "execution_count": 22,
     "metadata": {},
     "output_type": "execute_result"
    }
   ],
   "source": [
    "passenger.get('auto-rikshaw')"
   ]
  },
  {
   "cell_type": "code",
   "execution_count": 23,
   "id": "458a501c",
   "metadata": {},
   "outputs": [
    {
     "data": {
      "text/plain": [
       "['500', '525', '550', '600']"
      ]
     },
     "execution_count": 23,
     "metadata": {},
     "output_type": "execute_result"
    }
   ],
   "source": [
    "passenger.get('train')"
   ]
  },
  {
   "cell_type": "code",
   "execution_count": 25,
   "id": "91e8908c",
   "metadata": {},
   "outputs": [
    {
     "name": "stdout",
     "output_type": "stream",
     "text": [
      "{'cycle': '1', 'bike': '2', 'auto-rikshaw': ['3', '4'], 'bus': ['20', '25', '30'], 'car': '4', 'train': ['500', '525', '550', '600'], 'truck': '10', 'aeroplane': '100', 'rocket': '5'}\n"
     ]
    }
   ],
   "source": [
    "#update method\n",
    "passenger.update({'rocket':'5'})\n",
    "print(passenger)"
   ]
  },
  {
   "cell_type": "code",
   "execution_count": 26,
   "id": "580088cb",
   "metadata": {},
   "outputs": [
    {
     "name": "stdout",
     "output_type": "stream",
     "text": [
      "{'cycle': '1', 'bike': '2', 'auto-rikshaw': ['3', '4'], 'bus': ['20', '25', '30'], 'car': '4', 'train': ['500', '525', '550', '600'], 'truck': '10', 'aeroplane': '100', 'rocket': '5', 'ship': ['100', '200', '300', '400', '500', '600', '700', '800', '900', '1000']}\n"
     ]
    }
   ],
   "source": [
    "passenger.update({'ship':['100','200','300','400','500','600','700','800','900','1000']})\n",
    "print(passenger)"
   ]
  },
  {
   "cell_type": "markdown",
   "id": "b573d2c5",
   "metadata": {},
   "source": [
    "# Homework#6"
   ]
  },
  {
   "cell_type": "markdown",
   "id": "63588c46",
   "metadata": {},
   "source": [
    "Practice on Dict and pop() method."
   ]
  },
  {
   "cell_type": "code",
   "execution_count": 7,
   "id": "d67997d5",
   "metadata": {},
   "outputs": [
    {
     "name": "stdout",
     "output_type": "stream",
     "text": [
      "Mercury = 1\n",
      "Venus = 2\n",
      "Earth = 3\n",
      "Mars = 4\n",
      "Jupiter = 5\n",
      "saturn = 6\n",
      "uranus = 7\n",
      "neptune = 8\n",
      "pluto = 9\n"
     ]
    }
   ],
   "source": [
    "solar_system = {'Mercury':'1', 'Venus':'2', 'Earth':'3', 'Mars':'4','Jupiter':'5', 'saturn':'6','uranus':'7','neptune':'8','pluto':'9'}\n",
    "for s in solar_system:\n",
    "    print(s,'=',solar_system[s])"
   ]
  },
  {
   "cell_type": "code",
   "execution_count": 8,
   "id": "02872839",
   "metadata": {},
   "outputs": [
    {
     "name": "stdout",
     "output_type": "stream",
     "text": [
      "Before changes: {'Mercury': '1', 'Venus': '2', 'Earth': '3', 'Mars': '4', 'Jupiter': '5', 'saturn': '6', 'uranus': '7', 'neptune': '8', 'pluto': '9'}\n",
      "After changes: {'Mercury': '1', 'Venus': '2', 'Earth': '3', 'Mars': '4', 'Jupiter': '5', 'saturn': '6', 'uranus': '7', 'neptune': '8'}\n",
      "Deleted planet: 9\n"
     ]
    }
   ],
   "source": [
    "print('Before changes:',solar_system)\n",
    "not_a_planet = solar_system.pop('pluto')\n",
    "print('After changes:',solar_system)\n",
    "print('Deleted planet:', not_a_planet)"
   ]
  },
  {
   "cell_type": "code",
   "execution_count": 10,
   "id": "5a7caee6",
   "metadata": {},
   "outputs": [
    {
     "name": "stdout",
     "output_type": "stream",
     "text": [
      "Aniket ----- Superstar\n",
      "Prasad ----- Artist\n",
      "Ajay ----- Rich\n",
      "Shwetank ----- baklol\n",
      "Amit ----- Goba\n",
      "Gaurav ----- Father\n",
      "panchal ----- Hacker\n",
      "Mohit ----- Helper\n",
      "Saqlain ----- Player\n"
     ]
    }
   ],
   "source": [
    "chetna_boyz = {'Aniket':'Superstar','Prasad':'Artist','Ajay':'Rich','Shwetank':'baklol','Amit':'Goba','Gaurav':'Father','panchal':'Hacker','Mohit':'Helper','Saqlain':'Player'}\n",
    "for a in chetna_boyz:\n",
    "    print(a,'-----',chetna_boyz[a])"
   ]
  },
  {
   "cell_type": "code",
   "execution_count": 29,
   "id": "6f6036d3",
   "metadata": {},
   "outputs": [
    {
     "name": "stdout",
     "output_type": "stream",
     "text": [
      "Before changes: {'Aniket': 'Superstar', 'Prasad': 'Artist', 'Ajay': 'Rich', 'Shwetank': 'baklol', 'Amit': 'Goba', 'Gaurav': 'Father', 'panchal': 'Hacker', 'Mohit': 'Helper', 'Saqlain': 'Player'}\n",
      "After changes: {'Aniket': 'Superstar', 'Prasad': 'Artist', 'Ajay': 'Rich', 'Amit': 'Goba', 'Gaurav': 'Father', 'panchal': 'Hacker', 'Mohit': 'Helper', 'Saqlain': 'Player'}\n",
      "Not in chetna boyz: baklol\n"
     ]
    }
   ],
   "source": [
    "print('Before changes:',chetna_boyz)\n",
    "not_in_group = chetna_boyz.pop('Shwetank')\n",
    "print('After changes:',chetna_boyz)\n",
    "print('Not in chetna boyz:', not_in_group)"
   ]
  },
  {
   "cell_type": "code",
   "execution_count": null,
   "id": "5930ffd8",
   "metadata": {},
   "outputs": [],
   "source": []
  },
  {
   "cell_type": "code",
   "execution_count": 7,
   "id": "6773baf1",
   "metadata": {},
   "outputs": [
    {
     "name": "stdout",
     "output_type": "stream",
     "text": [
      "15\n",
      "12\n",
      "9\n",
      "6\n",
      "3\n"
     ]
    }
   ],
   "source": [
    "a = range(15,1,-3)\n",
    "for i in a:\n",
    "    print(i)"
   ]
  },
  {
   "cell_type": "code",
   "execution_count": 8,
   "id": "3f1f1626",
   "metadata": {},
   "outputs": [
    {
     "name": "stdout",
     "output_type": "stream",
     "text": [
      "0 --- A\n",
      "1 --- n\n",
      "2 --- i\n",
      "3 --- k\n",
      "4 --- e\n",
      "5 --- t\n"
     ]
    }
   ],
   "source": [
    "Name=\"Aniket\"\n",
    "n= len(Name)\n",
    "for p in range(n):\n",
    "    print(p,\"---\",Name[p])"
   ]
  },
  {
   "cell_type": "markdown",
   "id": "1ca65637",
   "metadata": {},
   "source": [
    "# Homework#7"
   ]
  },
  {
   "cell_type": "markdown",
   "id": "3020185a",
   "metadata": {},
   "source": [
    "Practice on Sets and (empty_set, non_empty_set, ADD, REMOVE, UNION, INTERSECTION) Method"
   ]
  },
  {
   "cell_type": "code",
   "execution_count": 7,
   "id": "e5715cb7",
   "metadata": {},
   "outputs": [
    {
     "data": {
      "text/plain": [
       "{'pen'}"
      ]
     },
     "execution_count": 7,
     "metadata": {},
     "output_type": "execute_result"
    }
   ],
   "source": [
    "#create an empty set and add / remove the value in that empty set.\n",
    "New_set = set()\n",
    "New_set.add('pen')\n",
    "#show\n",
    "New_set\n"
   ]
  },
  {
   "cell_type": "code",
   "execution_count": 12,
   "id": "543329c7",
   "metadata": {},
   "outputs": [
    {
     "data": {
      "text/plain": [
       "{'druva', 'pranit', 'raj', 'satyam'}"
      ]
     },
     "execution_count": 12,
     "metadata": {},
     "output_type": "execute_result"
    }
   ],
   "source": [
    "my_set6 = set()\n",
    "my_set6.add('raj')\n",
    "#show \n",
    "my_set6\n",
    "my_set6.add('satyam')\n",
    "my_set6\n",
    "my_set6.add('pranit')\n",
    "my_set6\n",
    "my_set6.add('druva')\n",
    "my_set6"
   ]
  },
  {
   "cell_type": "code",
   "execution_count": 16,
   "id": "763d0421",
   "metadata": {},
   "outputs": [
    {
     "name": "stdout",
     "output_type": "stream",
     "text": [
      "{'satyam', 'druva', 'raj', 'pranit'}\n",
      "{'satyam', 'druva', 'pranit'}\n"
     ]
    }
   ],
   "source": [
    "my_Set = {'druva', 'pranit', 'raj', 'satyam'}\n",
    "print(my_Set)\n",
    "my_Set.remove('raj')\n",
    "print(my_Set)"
   ]
  },
  {
   "cell_type": "code",
   "execution_count": 17,
   "id": "ea3239fa",
   "metadata": {},
   "outputs": [
    {
     "name": "stdout",
     "output_type": "stream",
     "text": [
      "{'satyam', 'druva'}\n"
     ]
    }
   ],
   "source": [
    "my_Set.remove('pranit')\n",
    "print(my_Set)"
   ]
  },
  {
   "cell_type": "code",
   "execution_count": 19,
   "id": "92fd08ae",
   "metadata": {},
   "outputs": [
    {
     "data": {
      "text/plain": [
       "{1, 2, 3, 4, 5, 6, 7, 8, 9, 10, 11, 12, 13, 14, 15, 16, 17, 18, 19, 20, 21}"
      ]
     },
     "execution_count": 19,
     "metadata": {},
     "output_type": "execute_result"
    }
   ],
   "source": [
    "#intersection and union \n",
    "A ={1,3,5,7,9,11,13,15,17,19,21}\n",
    "B = {2,4,6,8,10,12,14,16,18,20}\n",
    "C = {1,5,9,21,25,26,28,27}\n",
    "D = {19,63,89,87,85,15,64}\n",
    "A|B"
   ]
  },
  {
   "cell_type": "code",
   "execution_count": 24,
   "id": "e531a8bf",
   "metadata": {},
   "outputs": [
    {
     "data": {
      "text/plain": [
       "{1, 2, 3, 4, 5, 6, 7, 8, 9, 10, 11, 12, 13, 14, 15, 16, 17, 18, 19, 20, 21}"
      ]
     },
     "execution_count": 24,
     "metadata": {},
     "output_type": "execute_result"
    }
   ],
   "source": [
    "B|A"
   ]
  },
  {
   "cell_type": "code",
   "execution_count": 26,
   "id": "180e681f",
   "metadata": {},
   "outputs": [
    {
     "data": {
      "text/plain": [
       "{1, 2, 4, 5, 6, 8, 9, 10, 12, 14, 16, 18, 20, 21, 25, 26, 27, 28}"
      ]
     },
     "execution_count": 26,
     "metadata": {},
     "output_type": "execute_result"
    }
   ],
   "source": [
    "B = {2,4,6,8,10,12,14,16,18,20}\n",
    "C = {1,5,9,21,25,26,28,27}\n",
    "B|C"
   ]
  },
  {
   "cell_type": "code",
   "execution_count": 27,
   "id": "7ac0ea16",
   "metadata": {},
   "outputs": [
    {
     "data": {
      "text/plain": [
       "set()"
      ]
     },
     "execution_count": 27,
     "metadata": {},
     "output_type": "execute_result"
    }
   ],
   "source": [
    "B&C"
   ]
  },
  {
   "cell_type": "code",
   "execution_count": 28,
   "id": "edd40e73",
   "metadata": {},
   "outputs": [
    {
     "data": {
      "text/plain": [
       "set()"
      ]
     },
     "execution_count": 28,
     "metadata": {},
     "output_type": "execute_result"
    }
   ],
   "source": [
    "A&B"
   ]
  },
  {
   "cell_type": "code",
   "execution_count": 29,
   "id": "d7faa37e",
   "metadata": {},
   "outputs": [
    {
     "data": {
      "text/plain": [
       "{1, 5, 9, 21}"
      ]
     },
     "execution_count": 29,
     "metadata": {},
     "output_type": "execute_result"
    }
   ],
   "source": [
    "A&C"
   ]
  },
  {
   "cell_type": "code",
   "execution_count": 30,
   "id": "1630f229",
   "metadata": {},
   "outputs": [
    {
     "data": {
      "text/plain": [
       "{15, 19}"
      ]
     },
     "execution_count": 30,
     "metadata": {},
     "output_type": "execute_result"
    }
   ],
   "source": [
    "A&D"
   ]
  },
  {
   "cell_type": "code",
   "execution_count": 31,
   "id": "a29c6777",
   "metadata": {},
   "outputs": [
    {
     "data": {
      "text/plain": [
       "set()"
      ]
     },
     "execution_count": 31,
     "metadata": {},
     "output_type": "execute_result"
    }
   ],
   "source": [
    "D&C"
   ]
  },
  {
   "cell_type": "markdown",
   "id": "0b58459f",
   "metadata": {},
   "source": [
    "# Homework#8"
   ]
  },
  {
   "cell_type": "markdown",
   "id": "1afb0135",
   "metadata": {},
   "source": [
    "Practice on Tuple indexing, slicing and (Index, count, Immutability)"
   ]
  },
  {
   "cell_type": "code",
   "execution_count": 32,
   "id": "4b528999",
   "metadata": {},
   "outputs": [
    {
     "name": "stdout",
     "output_type": "stream",
     "text": [
      "(15, 98, 63.5, 'aniket', 'pranit', 69, 95.06)\n"
     ]
    }
   ],
   "source": [
    "my_tuple = (15,98,63.5,'aniket','pranit',69,95.06)\n",
    "print(my_tuple)"
   ]
  },
  {
   "cell_type": "code",
   "execution_count": 33,
   "id": "a85eca28",
   "metadata": {},
   "outputs": [
    {
     "data": {
      "text/plain": [
       "tuple"
      ]
     },
     "execution_count": 33,
     "metadata": {},
     "output_type": "execute_result"
    }
   ],
   "source": [
    "type(my_tuple)"
   ]
  },
  {
   "cell_type": "code",
   "execution_count": 34,
   "id": "6d7a756d",
   "metadata": {},
   "outputs": [
    {
     "data": {
      "text/plain": [
       "7"
      ]
     },
     "execution_count": 34,
     "metadata": {},
     "output_type": "execute_result"
    }
   ],
   "source": [
    "len(my_tuple)"
   ]
  },
  {
   "cell_type": "code",
   "execution_count": 35,
   "id": "c4d9b3da",
   "metadata": {},
   "outputs": [
    {
     "data": {
      "text/plain": [
       "63.5"
      ]
     },
     "execution_count": 35,
     "metadata": {},
     "output_type": "execute_result"
    }
   ],
   "source": [
    "#indexing the elements in tuple\n",
    "my_tuple[2]"
   ]
  },
  {
   "cell_type": "code",
   "execution_count": 36,
   "id": "10d615e6",
   "metadata": {},
   "outputs": [
    {
     "data": {
      "text/plain": [
       "63.5"
      ]
     },
     "execution_count": 36,
     "metadata": {},
     "output_type": "execute_result"
    }
   ],
   "source": [
    "my_tuple[-5]"
   ]
  },
  {
   "cell_type": "code",
   "execution_count": 37,
   "id": "def45d38",
   "metadata": {},
   "outputs": [
    {
     "data": {
      "text/plain": [
       "(98, 63.5)"
      ]
     },
     "execution_count": 37,
     "metadata": {},
     "output_type": "execute_result"
    }
   ],
   "source": [
    "#tuple slicing \n",
    "my_tuple[1:3]"
   ]
  },
  {
   "cell_type": "code",
   "execution_count": 38,
   "id": "b6873b90",
   "metadata": {},
   "outputs": [
    {
     "data": {
      "text/plain": [
       "('aniket', 'pranit', 69)"
      ]
     },
     "execution_count": 38,
     "metadata": {},
     "output_type": "execute_result"
    }
   ],
   "source": [
    "my_tuple[3:6]"
   ]
  },
  {
   "cell_type": "code",
   "execution_count": 39,
   "id": "95ce463b",
   "metadata": {},
   "outputs": [
    {
     "data": {
      "text/plain": [
       "(15, 98, 63.5, 'aniket', 'pranit', 69)"
      ]
     },
     "execution_count": 39,
     "metadata": {},
     "output_type": "execute_result"
    }
   ],
   "source": [
    "my_tuple[:6]"
   ]
  },
  {
   "cell_type": "code",
   "execution_count": 40,
   "id": "5625b3b6",
   "metadata": {},
   "outputs": [
    {
     "data": {
      "text/plain": [
       "(15, 98, 63.5, 'aniket', 'pranit', 69, 95.06)"
      ]
     },
     "execution_count": 40,
     "metadata": {},
     "output_type": "execute_result"
    }
   ],
   "source": [
    "my_tuple[0:]"
   ]
  },
  {
   "cell_type": "code",
   "execution_count": 41,
   "id": "804bf46f",
   "metadata": {},
   "outputs": [
    {
     "data": {
      "text/plain": [
       "(15, 98, 63.5, 'aniket')"
      ]
     },
     "execution_count": 41,
     "metadata": {},
     "output_type": "execute_result"
    }
   ],
   "source": [
    "my_tuple[-7:-3]"
   ]
  },
  {
   "cell_type": "code",
   "execution_count": 55,
   "id": "179bedb3",
   "metadata": {},
   "outputs": [
    {
     "name": "stdout",
     "output_type": "stream",
     "text": [
      "('MI', 'CSK', 'RR', 'RCB', 'SRH', 'KXIP', 'DD', 'GT', 'RR')\n"
     ]
    }
   ],
   "source": [
    "#Index, count, Immutability method\n",
    "IPL_PL = ('MI','CSK','RR','RCB','SRH','KXIP','DD','GT','RR')\n",
    "print(IPL_PL)"
   ]
  },
  {
   "cell_type": "code",
   "execution_count": 46,
   "id": "60548bcf",
   "metadata": {},
   "outputs": [
    {
     "data": {
      "text/plain": [
       "tuple"
      ]
     },
     "execution_count": 46,
     "metadata": {},
     "output_type": "execute_result"
    }
   ],
   "source": [
    "type(IPL_PL)"
   ]
  },
  {
   "cell_type": "code",
   "execution_count": 56,
   "id": "18b56465",
   "metadata": {},
   "outputs": [
    {
     "data": {
      "text/plain": [
       "9"
      ]
     },
     "execution_count": 56,
     "metadata": {},
     "output_type": "execute_result"
    }
   ],
   "source": [
    "len(IPL_PL)"
   ]
  },
  {
   "cell_type": "code",
   "execution_count": 50,
   "id": "170bbb39",
   "metadata": {},
   "outputs": [
    {
     "data": {
      "text/plain": [
       "2"
      ]
     },
     "execution_count": 50,
     "metadata": {},
     "output_type": "execute_result"
    }
   ],
   "source": [
    "#INDEX\n",
    "IPL_PL.index('RR')"
   ]
  },
  {
   "cell_type": "code",
   "execution_count": 51,
   "id": "d5085634",
   "metadata": {},
   "outputs": [
    {
     "data": {
      "text/plain": [
       "6"
      ]
     },
     "execution_count": 51,
     "metadata": {},
     "output_type": "execute_result"
    }
   ],
   "source": [
    "IPL_PL.index('DD')"
   ]
  },
  {
   "cell_type": "code",
   "execution_count": 59,
   "id": "0ff31599",
   "metadata": {},
   "outputs": [
    {
     "name": "stdout",
     "output_type": "stream",
     "text": [
      "(2, 65, 98, 62, 6, 2, 62, 69, 64, 94, 78, 78, 69, 65, 215)\n"
     ]
    },
    {
     "data": {
      "text/plain": [
       "2"
      ]
     },
     "execution_count": 59,
     "metadata": {},
     "output_type": "execute_result"
    }
   ],
   "source": [
    "data_IPL = (2,65,98,62,6,2,62,69,64,94,78,78,69,65,215)\n",
    "print(data_IPL)\n",
    "#COUNT\n",
    "data_IPL.count(62)\n"
   ]
  },
  {
   "cell_type": "code",
   "execution_count": 60,
   "id": "d73681e8",
   "metadata": {},
   "outputs": [
    {
     "data": {
      "text/plain": [
       "2"
      ]
     },
     "execution_count": 60,
     "metadata": {},
     "output_type": "execute_result"
    }
   ],
   "source": [
    "data_IPL.count(78)"
   ]
  },
  {
   "cell_type": "code",
   "execution_count": 61,
   "id": "c28134f8",
   "metadata": {},
   "outputs": [
    {
     "data": {
      "text/plain": [
       "2"
      ]
     },
     "execution_count": 61,
     "metadata": {},
     "output_type": "execute_result"
    }
   ],
   "source": [
    "data_IPL.count(69)"
   ]
  },
  {
   "cell_type": "code",
   "execution_count": 62,
   "id": "bd9ad844",
   "metadata": {},
   "outputs": [
    {
     "name": "stdout",
     "output_type": "stream",
     "text": [
      "[2, 65, 98, 62, 6, 2, 62, 69, 64, 94, 78, 78, 69, 65, 215]\n"
     ]
    }
   ],
   "source": [
    "#immutability in list\n",
    "\n",
    "my_list = [2, 65, 98, 62, 6, 2, 62, 69, 64, 94, 78, 78, 69, 65, 215]\n",
    "print(my_list)"
   ]
  },
  {
   "cell_type": "code",
   "execution_count": 63,
   "id": "d3b4bfc9",
   "metadata": {},
   "outputs": [
    {
     "data": {
      "text/plain": [
       "[2, 65, 98, 62, 6, 2, 'Aniket', 69, 64, 94, 78, 78, 69, 65, 215]"
      ]
     },
     "execution_count": 63,
     "metadata": {},
     "output_type": "execute_result"
    }
   ],
   "source": [
    "my_list[6] = \"Aniket\"\n",
    "my_list"
   ]
  },
  {
   "cell_type": "code",
   "execution_count": 64,
   "id": "159cb9c5",
   "metadata": {},
   "outputs": [],
   "source": [
    "my_list[-4] = \"Superstar\""
   ]
  },
  {
   "cell_type": "code",
   "execution_count": 65,
   "id": "8c37c5fb",
   "metadata": {},
   "outputs": [
    {
     "data": {
      "text/plain": [
       "[2, 65, 98, 62, 6, 2, 'Aniket', 69, 64, 94, 78, 'Superstar', 69, 65, 215]"
      ]
     },
     "execution_count": 65,
     "metadata": {},
     "output_type": "execute_result"
    }
   ],
   "source": [
    "my_list"
   ]
  },
  {
   "cell_type": "markdown",
   "id": "0077ab81",
   "metadata": {},
   "source": [
    "# Homework#9"
   ]
  },
  {
   "cell_type": "markdown",
   "id": "4413a30c",
   "metadata": {},
   "source": [
    "Practice on boolean "
   ]
  },
  {
   "cell_type": "code",
   "execution_count": 7,
   "id": "9e4aa5fc",
   "metadata": {},
   "outputs": [],
   "source": [
    "Aniket = 85\n",
    "Pranit = 89\n",
    "Abhishek = 70\n",
    "Raj = 80\n",
    "Prajwal = 55\n",
    "Karan = 70\n",
    "Shraddha = 85"
   ]
  },
  {
   "cell_type": "code",
   "execution_count": 8,
   "id": "c44f9cb2",
   "metadata": {},
   "outputs": [
    {
     "name": "stdout",
     "output_type": "stream",
     "text": [
      "True\n"
     ]
    }
   ],
   "source": [
    "plan = (Aniket == Shraddha)\n",
    "print(plan)"
   ]
  },
  {
   "cell_type": "code",
   "execution_count": 10,
   "id": "9d9395ff",
   "metadata": {},
   "outputs": [
    {
     "name": "stdout",
     "output_type": "stream",
     "text": [
      "True\n"
     ]
    }
   ],
   "source": [
    "plan = (Pranit>=Raj)\n",
    "print(plan)"
   ]
  },
  {
   "cell_type": "code",
   "execution_count": 11,
   "id": "596bc64f",
   "metadata": {},
   "outputs": [
    {
     "name": "stdout",
     "output_type": "stream",
     "text": [
      "True\n"
     ]
    }
   ],
   "source": [
    "plan = (Aniket!=Karan)\n",
    "print(plan)"
   ]
  },
  {
   "cell_type": "code",
   "execution_count": 12,
   "id": "dab4cd58",
   "metadata": {},
   "outputs": [
    {
     "name": "stdout",
     "output_type": "stream",
     "text": [
      "True\n"
     ]
    }
   ],
   "source": [
    "plan = (Prajwal<Abhishek)\n",
    "print(plan)"
   ]
  },
  {
   "cell_type": "code",
   "execution_count": 13,
   "id": "96b2eba9",
   "metadata": {},
   "outputs": [
    {
     "name": "stdout",
     "output_type": "stream",
     "text": [
      "False\n"
     ]
    }
   ],
   "source": [
    "plan = (Shraddha<=Karan)\n",
    "print(plan)"
   ]
  },
  {
   "cell_type": "code",
   "execution_count": 15,
   "id": "1bd41805",
   "metadata": {},
   "outputs": [
    {
     "name": "stdout",
     "output_type": "stream",
     "text": [
      "False\n"
     ]
    }
   ],
   "source": [
    "plan = (Raj>Aniket)\n",
    "print(plan)"
   ]
  },
  {
   "cell_type": "code",
   "execution_count": null,
   "id": "cff6a4f0",
   "metadata": {},
   "outputs": [],
   "source": []
  }
 ],
 "metadata": {
  "kernelspec": {
   "display_name": "Python 3 (ipykernel)",
   "language": "python",
   "name": "python3"
  },
  "language_info": {
   "codemirror_mode": {
    "name": "ipython",
    "version": 3
   },
   "file_extension": ".py",
   "mimetype": "text/x-python",
   "name": "python",
   "nbconvert_exporter": "python",
   "pygments_lexer": "ipython3",
   "version": "3.11.3"
  }
 },
 "nbformat": 4,
 "nbformat_minor": 5
}
